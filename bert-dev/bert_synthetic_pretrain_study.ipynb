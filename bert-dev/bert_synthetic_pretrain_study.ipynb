{
 "cells": [
  {
   "cell_type": "markdown",
   "metadata": {},
   "source": [
    "# 1. Create Synthetic data"
   ]
  },
  {
   "cell_type": "code",
   "execution_count": 1,
   "metadata": {},
   "outputs": [],
   "source": [
    "import os\n",
    "\n",
    "import numpy as np\n",
    "import pandas as pd\n",
    "\n",
    "import torch\n",
    "import torch.nn.functional as F\n",
    "from torch.distributions.normal import Normal\n",
    "from torch.distributions.categorical import Categorical"
   ]
  },
  {
   "cell_type": "code",
   "execution_count": 8,
   "metadata": {},
   "outputs": [],
   "source": [
    "DATA_PATH = '/nfs/turbo/lsa-regier/emr-data'\n",
    "\n",
    "VOCAB_PATH = os.path.join(DATA_PATH, 'vocabs')\n",
    "\n",
    "data_type = 'merged'"
   ]
  },
  {
   "cell_type": "code",
   "execution_count": 17,
   "metadata": {},
   "outputs": [],
   "source": [
    "lines = []\n",
    "for file in os.listdir(DATA_PATH):\n",
    "    if data_type == 'merged':\n",
    "        if data_type not in file:\n",
    "            continue\n",
    "        else:\n",
    "            file = os.path.join(DATA_PATH, file)\n",
    "            with open(file, encoding='utf-8') as f:\n",
    "                lines += [line.split(',')[1] for line in f.read().splitlines() if (len(line) > 0 and not line.isspace())][1:]\n"
   ]
  },
  {
   "cell_type": "code",
   "execution_count": 18,
   "metadata": {},
   "outputs": [
    {
     "data": {
      "text/plain": [
       "'icd:9_diag:36721 icd:9_diag:36731 icd:9_diag:36803 icd:9_diag:36721 icd:9_diag:36731 icd:9_diag:36803 [SEP] icd:9_diag:36721 icd:9_diag:36803 [SEP] icd:9_diag:3671 icd:9_diag:36720 icd:9_diag:36800 [SEP] icd:9_diag:27800 icd:9_diag:7061 icd:9_diag:V4989 icd:9_diag:V7791 icd:9_diag:27800 icd:9_diag:7061 icd:9_diag:V4989 icd:9_diag:V7791 icd:9_diag:27800 icd:9_diag:7061 icd:9_diag:V4989 icd:9_diag:V7791 icd:9_diag:27800 icd:9_diag:7061 icd:9_diag:V700 icd:9_diag:V745 icd:9_diag:V7791 icd:9_diag:27800 icd:9_diag:7061 icd:9_diag:V700 icd:9_diag:V745 icd:9_diag:V7791  LEVONORGESTREL-ETHIN_ESTRADIOL [SEP] LEVONORGESTREL-ETHIN_ESTRADIOL [SEP] LEVONORGESTREL-ETHIN_ESTRADIOL [SEP] LEVONORGESTREL-ETHIN_ESTRADIOL [SEP] icd:10_diag:N926 icd:10_diag:N944 icd:10_diag:Z0000 icd:10_diag:Z124 icd:10_diag:Z124 [SEP] icd:10_diag:Z23 icd:10_diag:Z7189 icd:10_diag:Z23 icd:10_diag:Z7189 icd:10_diag:Z23 icd:10_diag:Z7189 icd:10_diag:Z23 icd:10_diag:Z7189'"
      ]
     },
     "execution_count": 18,
     "metadata": {},
     "output_type": "execute_result"
    }
   ],
   "source": [
    "lines[0]"
   ]
  },
  {
   "cell_type": "code",
   "execution_count": 21,
   "metadata": {},
   "outputs": [
    {
     "name": "stdout",
     "output_type": "stream",
     "text": [
      "18019648\n",
      "2002170\n"
     ]
    }
   ],
   "source": [
    "import sys \n",
    "\n",
    "print(sys.getsizeof(lines))\n",
    "print(len(lines))"
   ]
  },
  {
   "cell_type": "code",
   "execution_count": 2,
   "metadata": {},
   "outputs": [],
   "source": [
    "# model hyperparameters\n",
    "alpha = 0.9\n",
    "\n",
    "def sample_xt(zt):\n",
    "    xt_mode = (zt + xdim / 2).clamp(0, xdim - 1).floor().long()\n",
    "    xt_params = F.one_hot(xt_mode, num_classes=xdim) * alpha + (1 - alpha) / xdim\n",
    "    xt_rv = Categorical(xt_params)\n",
    "    xt_sample = xt_rv.sample()\n",
    "    xt_onehot_sample = F.one_hot(xt_sample, num_classes = xdim)\n",
    "    xt_ll = xt_rv.log_prob(xt_sample)\n",
    "    \n",
    "    return xt_sample, xt_onehot_sample, xt_ll\n"
   ]
  },
  {
   "cell_type": "code",
   "execution_count": 3,
   "metadata": {},
   "outputs": [],
   "source": [
    "xdim = 50  # number of billing codes\n",
    "T = 5  # total time steps\n",
    "token_len = 110\n",
    "\n",
    "special_X = False\n",
    "\n",
    "pretrain_size = 1_000\n",
    "train_size = 51_200 * 2\n",
    "eval_size = 100_000\n",
    "\n",
    "add_special_tokens = True\n",
    "\n",
    "epoch = 4"
   ]
  },
  {
   "cell_type": "code",
   "execution_count": 4,
   "metadata": {},
   "outputs": [],
   "source": [
    "def is_in(z, a=1, b=2):\n",
    "    return (z >= a ) * (z <= b)\n",
    "\n",
    "is_consecutive = is_in"
   ]
  },
  {
   "cell_type": "code",
   "execution_count": 5,
   "metadata": {},
   "outputs": [],
   "source": [
    "N = pretrain_size\n",
    "\n",
    "Y = torch.zeros((N,1))\n",
    "\n",
    "# random variables\n",
    "Omega = torch.tensor((1., 50.1))\n",
    "Z_true = torch.zeros((N, T)) # latent \n",
    "X = torch.zeros((N, T)) # observed\n",
    "X_onehot = torch.zeros((N, T, xdim))\n",
    "\n",
    "for t in range(0,T):\n",
    "    # Zit | Zi,t-1, Yi\n",
    "    meanz = (0.9 * Z_true[:, t - 1]) if t != 0 else torch.zeros((N,))\n",
    "    Zt = Normal(meanz, 1)\n",
    "    Z_true[:, t] = Zt.sample()\n",
    "    \n",
    "    # Xit | Zit\n",
    "    X[:,t], X_onehot[:, t], x_ll  = sample_xt(Z_true[:, t])\n",
    "\n",
    "for t in range(T-2):\n",
    "    Y[:,0] += is_consecutive(Z_true[:,t]) * is_consecutive(Z_true[:,t+1]) * is_consecutive(Z_true[:,t+2])\n",
    "    \n",
    "# truncate the Y values which are greater than 1.\n",
    "Y = torch.cat((Y, torch.ones((N,1))), 1).min(dim = 1).values\n",
    "\n",
    "# Save data to txt file, separate with whitespace ' '.\n",
    "X_ = X.cpu().data.numpy().astype(int)\n",
    "Y_ = Y.cpu().data.numpy().astype(int)\n",
    "\n",
    "if special_X:\n",
    "    # If X[t] == 64, then X[t+2] == 65\n",
    "    for t in range(T-2):\n",
    "        X_special_loc = (X_[:, t] == 64)\n",
    "        X_[X_special_loc, t+2] = 65\n",
    "    \n",
    "np.savetxt('synthetic_pretrain_X.txt', X_, delimiter=' ', fmt='%s')"
   ]
  },
  {
   "cell_type": "markdown",
   "metadata": {},
   "source": [
    "# 2 Create customized Tokenizer.\n",
    "\n",
    "This task is separated into three substeps:\n",
    "\n",
    "*NOTE: Maybe I didn't do it completely correct in this version. Now it just can work.*\n",
    "\n",
    "1. Create a word-level vocabulary based on `Tokenizer` library. See [Issue 232](https://github.com/huggingface/tokenizers/issues/232), [Issue 243](https://github.com/huggingface/tokenizers/issues/243#issuecomment-617860020) for codes.\n",
    "\n",
    "2. Create our own `WordLevelTokenizer` based on `Tokenizer` library. \n",
    "See [whitespace/word level](https://github.com/huggingface/tokenizers/issues/244) for codes.\n",
    "\n",
    "3. Create our own `WordLevelBertTokenizer` that can be used to train Transformers(Bert/Roberta) by wrapping the class from last step based on `Transformer` library. See [Why doesn't this library share the same tokenizer api as the transformers library?](https://github.com/huggingface/tokenizers/issues/259) for tutorial to do this."
   ]
  },
  {
   "cell_type": "markdown",
   "metadata": {},
   "source": [
    "## 2.1 Create a word-level vocabulary\n",
    "\n",
    "UPDATE: No need to do this, vocab can be directly created by hardcode, see `eda_diag_2010.ipynb` for example.\n"
   ]
  },
  {
   "cell_type": "code",
   "execution_count": 6,
   "metadata": {},
   "outputs": [],
   "source": [
    "vocab = {}\n",
    "\n",
    "for i, v in enumerate(set(X.unique())):\n",
    "    vocab[str(int(v.item()))] = i\n",
    "\n",
    "for j, v in enumerate(['[UNK]', '[SEP]', '[CLS]']):\n",
    "    vocab[v] = i + j"
   ]
  },
  {
   "cell_type": "code",
   "execution_count": 7,
   "metadata": {},
   "outputs": [],
   "source": [
    "import json\n",
    "\n",
    "with open('./Synthetic/vocab.json', 'w') as outfile:\n",
    "    json.dump(vocab, outfile)"
   ]
  },
  {
   "cell_type": "markdown",
   "metadata": {},
   "source": [
    "## 2.2 Create WordLevelTokenizer"
   ]
  },
  {
   "cell_type": "code",
   "execution_count": 8,
   "metadata": {},
   "outputs": [],
   "source": [
    "from typing import Optional, Union\n",
    "\n",
    "import tokenizers\n",
    "from tokenizers.models import WordLevel, TokenizedSequence, TokenizedSequenceWithOffsets\n",
    "from tokenizers import Tokenizer, Encoding, AddedToken\n",
    "from tokenizers.normalizers import Lowercase, Sequence, unicode_normalizer_from_str\n",
    "\n",
    "from tokenizers import Tokenizer\n",
    "from tokenizers.models import BPE\n",
    "from tokenizers.normalizers import Lowercase\n",
    "from tokenizers.pre_tokenizers import CharDelimiterSplit, WhitespaceSplit\n",
    "from tokenizers.implementations import BaseTokenizer \n",
    "\n",
    "\n",
    "class WordLevelTokenizer(BaseTokenizer):\n",
    "    \"\"\" WordLevelBertTokenizer\n",
    "    Represents a simple word level tokenization for BERT.\n",
    "    \"\"\"\n",
    "\n",
    "    def __init__(\n",
    "        self,\n",
    "        vocab_file: Optional[str] = None,\n",
    "        unk_token: Union[str, AddedToken] = \"[UNK]\",\n",
    "        sep_token: Union[str, AddedToken] = \"[SEP]\",\n",
    "        cls_token: Union[str, AddedToken] = \"[CLS]\",\n",
    "        pad_token: Union[str, AddedToken] = \"[PAD]\",\n",
    "        mask_token: Union[str, AddedToken] = \"[MASK]\",\n",
    "        \n",
    "        \n",
    "        lowercase: bool = False,\n",
    "        unicode_normalizer: Optional[str] = None,\n",
    "    ):\n",
    "        if vocab_file is not None:\n",
    "            tokenizer = Tokenizer(WordLevel(vocab_file, unk_token='[UNK]'))\n",
    "        else:\n",
    "            tokenizer = Tokenizer(WordLevel())\n",
    "\n",
    "        # Let the tokenizer know about special tokens if they are part of the vocab\n",
    "        if tokenizer.token_to_id(str(unk_token)) is not None:\n",
    "            tokenizer.add_special_tokens([str(unk_token)])\n",
    "        if tokenizer.token_to_id(str(sep_token)) is not None:\n",
    "            tokenizer.add_special_tokens([str(sep_token)])\n",
    "        if tokenizer.token_to_id(str(cls_token)) is not None:\n",
    "            tokenizer.add_special_tokens([str(cls_token)])\n",
    "        if tokenizer.token_to_id(str(pad_token)) is not None:\n",
    "            tokenizer.add_special_tokens([str(pad_token)])\n",
    "        if tokenizer.token_to_id(str(mask_token)) is not None:\n",
    "            tokenizer.add_special_tokens([str(mask_token)])\n",
    "\n",
    "        # Check for Unicode normalization first (before everything else)\n",
    "        normalizers = []\n",
    "\n",
    "        if unicode_normalizer:\n",
    "            normalizers += [unicode_normalizer_from_str(unicode_normalizer)]\n",
    "\n",
    "        if lowercase:\n",
    "            normalizers += [Lowercase()]\n",
    "\n",
    "        # Create the normalizer structure\n",
    "        if len(normalizers) > 0:\n",
    "            if len(normalizers) > 1:\n",
    "                tokenizer.normalizer = Sequence(normalizers)\n",
    "            else:\n",
    "                tokenizer.normalizer = normalizers[0]\n",
    "\n",
    "        tokenizer.pre_tokenizer = WhitespaceSplit()\n",
    "#         tokenizer.pre_tokenizer = CharDelimiterSplit(',')\n",
    "\n",
    "        if vocab_file is not None:\n",
    "            cls_token_id = tokenizer.token_to_id(str(cls_token))\n",
    "            if cls_token_id is None:\n",
    "                raise TypeError(\"cls_token not found in the vocabulary\")\n",
    "                \n",
    "            sep_token_id = tokenizer.token_to_id(str(sep_token))\n",
    "            if sep_token_id is None:\n",
    "                raise TypeError(\"sep_token not found in the vocabulary\")\n",
    "\n",
    "\n",
    "            tokenizer.post_processor = tokenizers.processors.BertProcessing(\n",
    "                (str(sep_token), sep_token_id), (str(cls_token), cls_token_id)\n",
    "            )\n",
    "\n",
    "        parameters = {\n",
    "            \"model\": \"WordLevel\",\n",
    "            \"unk_token\": unk_token,\n",
    "            \"sep_token\": sep_token,\n",
    "            \"cls_token\": cls_token,\n",
    "            \"pad_token\": pad_token,\n",
    "            \"mask_token\": mask_token,\n",
    "            \"lowercase\": lowercase,\n",
    "            \"unicode_normalizer\": unicode_normalizer,\n",
    "        }\n",
    "\n",
    "        super().__init__(tokenizer, parameters)"
   ]
  },
  {
   "cell_type": "markdown",
   "metadata": {},
   "source": [
    "## 2.3 Create WordLevelBertTokenizer"
   ]
  },
  {
   "cell_type": "code",
   "execution_count": 9,
   "metadata": {},
   "outputs": [],
   "source": [
    "from transformers import PreTrainedTokenizerFast\n",
    "from typing import List, Optional, Union\n",
    "\n",
    "class WordLevelBertTokenizer(PreTrainedTokenizerFast):\n",
    "\n",
    "    def __init__(\n",
    "        self,\n",
    "        tokenizer,\n",
    "        bos_token=\"[CLS]\",\n",
    "        eos_token=\"[SEP]\",\n",
    "        sep_token=\"[SEP]\",\n",
    "        cls_token=\"[CLS]\",\n",
    "        unk_token=\"[UNK]\",\n",
    "        pad_token=\"[PAD]\",\n",
    "        mask_token=\"[MASK]\",\n",
    "        **kwargs\n",
    "    ):\n",
    "        super().__init__(\n",
    "            tokenizer,\n",
    "            bos_token=bos_token,\n",
    "            eos_token=eos_token,\n",
    "            unk_token=unk_token,\n",
    "            sep_token=sep_token,\n",
    "            cls_token=cls_token,\n",
    "            pad_token=pad_token,\n",
    "            mask_token=mask_token,\n",
    "            **kwargs,\n",
    "        )\n",
    "        \n",
    "    # Copied from [BertTokenizer]\n",
    "    def get_special_tokens_mask(\n",
    "        self, token_ids_0: List[int], token_ids_1: Optional[List[int]] = None, already_has_special_tokens: bool = False\n",
    "    ) -> List[int]:\n",
    "        \"\"\"\n",
    "        Retrieves sequence ids from a token list that has no special tokens added. This method is called when adding\n",
    "        special tokens using the tokenizer ``prepare_for_model`` or ``encode_plus`` methods.\n",
    "\n",
    "        Args:\n",
    "            token_ids_0 (:obj:`List[int]`):\n",
    "                List of ids.\n",
    "            token_ids_1 (:obj:`List[int]`, `optional`, defaults to :obj:`None`):\n",
    "                Optional second list of IDs for sequence pairs.\n",
    "            already_has_special_tokens (:obj:`bool`, `optional`, defaults to :obj:`False`):\n",
    "                Set to True if the token list is already formatted with special tokens for the model\n",
    "\n",
    "        Returns:\n",
    "            :obj:`List[int]`: A list of integers in the range [0, 1]: 1 for a special token, 0 for a sequence token.\n",
    "        \"\"\"\n",
    "\n",
    "        if already_has_special_tokens:\n",
    "            if token_ids_1 is not None:\n",
    "                raise ValueError(\n",
    "                    \"You should not supply a second sequence if the provided sequence of \"\n",
    "                    \"ids is already formated with special tokens for the model.\"\n",
    "                )\n",
    "            return list(map(lambda x: 1 if x in [self.sep_token_id, self.cls_token_id] else 0, token_ids_0))\n",
    "\n",
    "        if token_ids_1 is not None:\n",
    "            return [1] + ([0] * len(token_ids_0)) + [1] + ([0] * len(token_ids_1)) + [1]\n",
    "        return [1] + ([0] * len(token_ids_0)) + [1]\n",
    "    \n",
    "    # Copied from [BertTokenizer]\n",
    "    def build_inputs_with_special_tokens(\n",
    "        self, token_ids_0: List[int], token_ids_1: Optional[List[int]] = None\n",
    "    ) -> List[int]:\n",
    "        \"\"\"\n",
    "        Build model inputs from a sequence or a pair of sequence for sequence classification tasks\n",
    "        by concatenating and adding special tokens.\n",
    "        A BERT sequence has the following format:\n",
    "\n",
    "        - single sequence: ``[CLS] X [SEP]``\n",
    "        - pair of sequences: ``[CLS] A [SEP] B [SEP]``\n",
    "\n",
    "        Args:\n",
    "            token_ids_0 (:obj:`List[int]`):\n",
    "                List of IDs to which the special tokens will be added\n",
    "            token_ids_1 (:obj:`List[int]`, `optional`, defaults to :obj:`None`):\n",
    "                Optional second list of IDs for sequence pairs.\n",
    "\n",
    "        Returns:\n",
    "            :obj:`List[int]`: list of `input IDs <../glossary.html#input-ids>`__ with the appropriate special tokens.\n",
    "        \"\"\"\n",
    "        if token_ids_1 is None:\n",
    "            return [self.cls_token_id] + token_ids_0 + [self.sep_token_id]\n",
    "        cls = [self.cls_token_id]\n",
    "        sep = [self.sep_token_id]\n",
    "        return cls + token_ids_0 + sep + token_ids_1 + sep\n"
   ]
  },
  {
   "cell_type": "markdown",
   "metadata": {},
   "source": [
    "## 2.4 Instantize Tokenizes we have. "
   ]
  },
  {
   "cell_type": "code",
   "execution_count": 10,
   "metadata": {},
   "outputs": [
    {
     "data": {
      "text/plain": [
       "55"
      ]
     },
     "execution_count": 10,
     "metadata": {},
     "output_type": "execute_result"
    }
   ],
   "source": [
    "tokenizer = WordLevelTokenizer('./Synthetic/vocab.json')\n",
    "BertTokenizer = WordLevelBertTokenizer(tokenizer = tokenizer)\n",
    "\n",
    "len(BertTokenizer)"
   ]
  },
  {
   "cell_type": "markdown",
   "metadata": {},
   "source": [
    "# 3 Instantize Bert, Dataset, Data_collator, Trainer."
   ]
  },
  {
   "cell_type": "code",
   "execution_count": 11,
   "metadata": {},
   "outputs": [],
   "source": [
    "from torch.utils.data import Dataset\n",
    "from transformers import PreTrainedTokenizer\n",
    "\n",
    "class LineByLineTextDataset(Dataset):\n",
    "    \"\"\"\n",
    "    This will be superseded by a framework-agnostic approach\n",
    "    soon.\n",
    "    \"\"\"\n",
    "\n",
    "    def __init__(self, tokenizer: PreTrainedTokenizer, file_path: str, block_size: int):\n",
    "        assert os.path.isfile(file_path)\n",
    "        # Here, we do not cache the features, operating under the assumption\n",
    "        # that we will soon use fast multithreaded tokenizers from the\n",
    "        # `tokenizers` repo everywhere =)\n",
    "#         logger.info(\"Creating features from dataset file at %s\", file_path)\n",
    "\n",
    "        with open(file_path, encoding=\"utf-8\") as f:\n",
    "            lines = [line for line in f.read().splitlines() if (len(line) > 0 and not line.isspace())]\n",
    "        \n",
    "        self.lines = lines\n",
    "        batch_encoding = tokenizer.batch_encode_plus(lines, add_special_tokens=add_special_tokens, max_length=block_size, truncation=True)\n",
    "        self.examples = batch_encoding[\"input_ids\"]\n",
    "\n",
    "    def __len__(self):\n",
    "        return len(self.examples)\n",
    "\n",
    "    def __getitem__(self, i) -> torch.Tensor:\n",
    "        return torch.tensor(self.examples[i], dtype=torch.long)\n"
   ]
  },
  {
   "cell_type": "code",
   "execution_count": 12,
   "metadata": {},
   "outputs": [
    {
     "name": "stdout",
     "output_type": "stream",
     "text": [
      "CPU times: user 904 ms, sys: 100 ms, total: 1 s\n",
      "Wall time: 29.7 ms\n"
     ]
    }
   ],
   "source": [
    "%%time\n",
    "# from transformers import LineByLineTextDataset\n",
    "\n",
    "# Define a dataset.\n",
    "# Each output is the encoded row.\n",
    "dataset = LineByLineTextDataset(\n",
    "    tokenizer=BertTokenizer,\n",
    "    file_path=\"./synthetic_pretrain_X.txt\",\n",
    "    block_size=token_len,\n",
    ")\n",
    "\n",
    "# Define a data-collator. \n",
    "from transformers import DataCollatorForLanguageModeling\n",
    "\n",
    "data_collator = DataCollatorForLanguageModeling(\n",
    "    tokenizer=BertTokenizer, mlm=True, mlm_probability=0.15,\n",
    ")"
   ]
  },
  {
   "cell_type": "code",
   "execution_count": 25,
   "metadata": {},
   "outputs": [],
   "source": [
    "DataLoader(dataset, batch_size, collate_fn)"
   ]
  },
  {
   "cell_type": "code",
   "execution_count": 13,
   "metadata": {},
   "outputs": [
    {
     "name": "stdout",
     "output_type": "stream",
     "text": [
      "49\n",
      "50\n",
      "51\n"
     ]
    }
   ],
   "source": [
    "print(vocab['[UNK]'])\n",
    "print(vocab['[SEP]'])\n",
    "print(vocab['[CLS]'])"
   ]
  },
  {
   "cell_type": "code",
   "execution_count": 21,
   "metadata": {},
   "outputs": [
    {
     "name": "stdout",
     "output_type": "stream",
     "text": [
      "tensor([51, 27, 44, 43, 27, 43, 50])\n"
     ]
    }
   ],
   "source": [
    "# print(dataset.lines[0])\n",
    "\n",
    "# BertTokenizer.batch_encode_plus(dataset.lines[:1])\n",
    "print(dataset[0])"
   ]
  },
  {
   "cell_type": "code",
   "execution_count": 20,
   "metadata": {},
   "outputs": [
    {
     "data": {
      "text/plain": [
       "{'input_ids': tensor([[51, 54, 44, 43, 27, 43, 50]]),\n",
       " 'labels': tensor([[-100,   27, -100, -100, -100, -100, -100]])}"
      ]
     },
     "execution_count": 20,
     "metadata": {},
     "output_type": "execute_result"
    }
   ],
   "source": [
    "inputs = [dataset[0]]\n",
    "data_collator.mask_tokens(inputs)"
   ]
  },
  {
   "cell_type": "code",
   "execution_count": 16,
   "metadata": {},
   "outputs": [
    {
     "name": "stdout",
     "output_type": "stream",
     "text": [
      "tensor([[0.1500, 0.1500, 0.1500, 0.1500, 0.1500, 0.1500, 0.1500]])\n",
      "tensor([[0.0000, 0.1500, 0.1500, 0.1500, 0.1500, 0.1500, 0.0000]])\n"
     ]
    }
   ],
   "source": [
    "inputs = dataset[0].unsqueeze(0)\n",
    "labels = inputs.clone()\n",
    "# We sample a few tokens in each sequence for masked-LM training (with probability args.mlm_probability defaults to 0.15 in Bert/RoBERTa)\n",
    "probability_matrix = torch.full(labels.shape, data_collator.mlm_probability)\n",
    "print(probability_matrix)\n",
    "special_tokens_mask = [\n",
    "    data_collator.tokenizer.get_special_tokens_mask(val, already_has_special_tokens=True) for val in labels.tolist()\n",
    "]\n",
    "probability_matrix.masked_fill_(torch.tensor(special_tokens_mask, dtype=torch.bool), value=0.0)\n",
    "\n",
    "if data_collator.tokenizer._pad_token is not None:\n",
    "    padding_mask = labels.eq(data_collator.tokenizer.pad_token_id)\n",
    "    probability_matrix.masked_fill_(padding_mask, value=0.0)\n",
    "\n",
    "masked_indices = torch.bernoulli(probability_matrix).bool()\n",
    "labels[~masked_indices] = -100  # We only compute loss on masked tokens\n",
    "\n",
    "print(probability_matrix)"
   ]
  },
  {
   "cell_type": "code",
   "execution_count": 21,
   "metadata": {},
   "outputs": [
    {
     "data": {
      "text/plain": [
       "tensor([[False,  True, False, False, False, False, False]])"
      ]
     },
     "execution_count": 21,
     "metadata": {},
     "output_type": "execute_result"
    }
   ],
   "source": [
    "masked_indices"
   ]
  },
  {
   "cell_type": "code",
   "execution_count": 18,
   "metadata": {},
   "outputs": [],
   "source": [
    "# 80% of the time, we replace masked input tokens with tokenizer.mask_token ([MASK])\n",
    "indices_replaced = torch.bernoulli(torch.full(labels.shape, 0.8)).bool() & masked_indices\n",
    "inputs[indices_replaced] = data_collator.tokenizer.convert_tokens_to_ids(data_collator.tokenizer.mask_token)\n",
    "\n",
    "# 10% of the time, we replace masked input tokens with random word\n",
    "indices_random = torch.bernoulli(torch.full(labels.shape, 0.5)).bool() & masked_indices & ~indices_replaced\n",
    "random_words = torch.randint(len(data_collator.tokenizer), labels.shape, dtype=torch.long)\n",
    "inputs[indices_random] = random_words[indices_random]"
   ]
  },
  {
   "cell_type": "code",
   "execution_count": 19,
   "metadata": {},
   "outputs": [
    {
     "data": {
      "text/plain": [
       "tensor([[51, 27, 44, 43, 27, 43, 50]])"
      ]
     },
     "execution_count": 19,
     "metadata": {},
     "output_type": "execute_result"
    }
   ],
   "source": [
    "inputs"
   ]
  },
  {
   "cell_type": "code",
   "execution_count": 15,
   "metadata": {},
   "outputs": [
    {
     "name": "stdout",
     "output_type": "stream",
     "text": [
      "The Bert model contains 845751 parameters.\n"
     ]
    }
   ],
   "source": [
    "# !pip install -U numpy\n",
    "import torch\n",
    "from transformers import BertForMaskedLM\n",
    "import os\n",
    "\n",
    "# Specify visible CUDA for the script, try to avoid encounder out of memory issue.\n",
    "os.environ[\"CUDA_DEVICE_ORDER\"]=\"PCI_BUS_ID\"   # see issue #152\n",
    "os.environ[\"CUDA_VISIBLE_DEVICES\"]=\"6\"\n",
    "device = torch.device('cuda' if torch.cuda.is_available() else 'cpu')  \n",
    "\n",
    "TRAIN_NEW_MODEL = True\n",
    "\n",
    "if TRAIN_NEW_MODEL:\n",
    "    \n",
    "    from transformers import BertConfig\n",
    "    \n",
    "    config = BertConfig(\n",
    "        vocab_size=len(BertTokenizer),\n",
    "        max_position_embeddings=token_len,\n",
    "        num_attention_heads=4,\n",
    "        num_hidden_layers=2,\n",
    "        hidden_size=64,\n",
    "        type_vocab_size=1,\n",
    "\n",
    "    )\n",
    "\n",
    "else:\n",
    "    \n",
    "    # load a pre-trained model.\n",
    "    from transformers import AutoConfig\n",
    "    \n",
    "    config = AutoConfig.from_pretrained(pretrained_model_name_or_path)\n",
    "    \n",
    "model = BertForMaskedLM(config=config)\n",
    "\n",
    "print(f'The Bert model contains {model.num_parameters()} parameters.')"
   ]
  },
  {
   "cell_type": "code",
   "execution_count": 16,
   "metadata": {},
   "outputs": [],
   "source": [
    "from transformers import Trainer, TrainingArguments\n",
    "\n",
    "training_args = TrainingArguments(\n",
    "    output_dir=\"./Synthetic/finetune_v6\",\n",
    "    overwrite_output_dir=True,\n",
    "    num_train_epochs=2,\n",
    "    per_device_train_batch_size=32,\n",
    "    save_steps=10_000,\n",
    ")\n",
    "\n",
    "trainer = Trainer(\n",
    "    model=model,\n",
    "    args=training_args,\n",
    "    data_collator=data_collator,\n",
    "    train_dataset=dataset,\n",
    "    prediction_loss_only=True,\n",
    ")"
   ]
  },
  {
   "cell_type": "code",
   "execution_count": 17,
   "metadata": {},
   "outputs": [
    {
     "data": {
      "application/vnd.jupyter.widget-view+json": {
       "model_id": "453b4bf1f726481bab8cbfa79e88e835",
       "version_major": 2,
       "version_minor": 0
      },
      "text/plain": [
       "HBox(children=(FloatProgress(value=0.0, description='Epoch', max=2.0, style=ProgressStyle(description_width='i…"
      ]
     },
     "metadata": {},
     "output_type": "display_data"
    },
    {
     "data": {
      "application/vnd.jupyter.widget-view+json": {
       "model_id": "5e115fe3541643269ccf04f681528bdd",
       "version_major": 2,
       "version_minor": 0
      },
      "text/plain": [
       "HBox(children=(FloatProgress(value=0.0, description='Iteration', max=31250.0, style=ProgressStyle(description_…"
      ]
     },
     "metadata": {},
     "output_type": "display_data"
    },
    {
     "name": "stderr",
     "output_type": "stream",
     "text": [
      "/home/liutianc/.local/lib/python3.7/site-packages/torch/optim/lr_scheduler.py:200: UserWarning: Please also save or load the state of the optimzer when saving or loading the scheduler.\n",
      "  warnings.warn(SAVE_STATE_WARNING, UserWarning)\n"
     ]
    },
    {
     "name": "stdout",
     "output_type": "stream",
     "text": [
      "\n"
     ]
    },
    {
     "data": {
      "application/vnd.jupyter.widget-view+json": {
       "model_id": "5a5dc9aad5e949119ab7fe37ac786739",
       "version_major": 2,
       "version_minor": 0
      },
      "text/plain": [
       "HBox(children=(FloatProgress(value=0.0, description='Iteration', max=31250.0, style=ProgressStyle(description_…"
      ]
     },
     "metadata": {},
     "output_type": "display_data"
    },
    {
     "name": "stdout",
     "output_type": "stream",
     "text": [
      "\n",
      "\n",
      "CPU times: user 34min 9s, sys: 35 s, total: 34min 44s\n",
      "Wall time: 34min 33s\n"
     ]
    },
    {
     "data": {
      "text/plain": [
       "TrainOutput(global_step=62500, training_loss=2.050658670085907)"
      ]
     },
     "execution_count": 17,
     "metadata": {},
     "output_type": "execute_result"
    }
   ],
   "source": [
    "%%time\n",
    "trainer.train()"
   ]
  },
  {
   "cell_type": "code",
   "execution_count": 18,
   "metadata": {},
   "outputs": [],
   "source": [
    "trainer.save_model(\"./Synthetic\")"
   ]
  },
  {
   "cell_type": "code",
   "execution_count": null,
   "metadata": {},
   "outputs": [],
   "source": [
    "import os\n",
    "\n",
    "os.isem ./Synthetic"
   ]
  },
  {
   "cell_type": "code",
   "execution_count": 19,
   "metadata": {},
   "outputs": [
    {
     "name": "stderr",
     "output_type": "stream",
     "text": [
      "/home/liutianc/.local/lib/python3.7/site-packages/transformers/modeling_auto.py:792: FutureWarning: The class `AutoModelWithLMHead` is deprecated and will be removed in a future version. Please use `AutoModelForCausalLM` for causal language models, `AutoModelForMaskedLM` for masked language models and `AutoModelForSeq2SeqLM` for encoder-decoder models.\n",
      "  FutureWarning,\n"
     ]
    }
   ],
   "source": [
    "from transformers import pipeline\n",
    "\n",
    "fill_mask = pipeline(\n",
    "    \"fill-mask\",\n",
    "    model=\"./Synthetic\",\n",
    "    tokenizer=BertTokenizer\n",
    ")"
   ]
  },
  {
   "cell_type": "code",
   "execution_count": 20,
   "metadata": {},
   "outputs": [
    {
     "data": {
      "text/plain": [
       "[{'sequence': '[CLS] 1 [UNK] 0 21 21 [SEP]',\n",
       "  'score': 0.36262738704681396,\n",
       "  'token': 29,\n",
       "  'token_str': '21'},\n",
       " {'sequence': '[CLS] 1 [UNK] 0 22 21 [SEP]',\n",
       "  'score': 0.32084888219833374,\n",
       "  'token': 46,\n",
       "  'token_str': '22'},\n",
       " {'sequence': '[CLS] 1 [UNK] 0 20 21 [SEP]',\n",
       "  'score': 0.10624463111162186,\n",
       "  'token': 17,\n",
       "  'token_str': '20'},\n",
       " {'sequence': '[CLS] 1 [UNK] 0 23 21 [SEP]',\n",
       "  'score': 0.09191332757472992,\n",
       "  'token': 12,\n",
       "  'token_str': '23'},\n",
       " {'sequence': '[CLS] 1 [UNK] 0 19 21 [SEP]',\n",
       "  'score': 0.020529314875602722,\n",
       "  'token': 11,\n",
       "  'token_str': '19'}]"
      ]
     },
     "execution_count": 20,
     "metadata": {},
     "output_type": "execute_result"
    }
   ],
   "source": [
    "# We can see that the Bert can fill the mask at least.\n",
    "fill_mask(\"1 64 0 [MASK] 21\")"
   ]
  },
  {
   "cell_type": "markdown",
   "metadata": {},
   "source": [
    "# 4 See training logs.\n",
    "run `tensorboard dev upload --logdir runs` just outside of the `runs` fold."
   ]
  },
  {
   "cell_type": "markdown",
   "metadata": {},
   "source": [
    "# 5 Sequence Classification."
   ]
  },
  {
   "cell_type": "markdown",
   "metadata": {},
   "source": [
    "## 5.1 New Dataset\n",
    "\n",
    "This dataset allows us to load the label as well."
   ]
  },
  {
   "cell_type": "code",
   "execution_count": 21,
   "metadata": {},
   "outputs": [],
   "source": [
    "from torch.utils.data import Dataset\n",
    "from transformers import PreTrainedTokenizer\n",
    "\n",
    "class ClsLineByLineTextDataset(Dataset):\n",
    "    \"\"\"\n",
    "    This will be superseded by a framework-agnostic approach\n",
    "    soon.\n",
    "    \"\"\"\n",
    "\n",
    "    def __init__(self, tokenizer: PreTrainedTokenizer, sequence_file_path: str, label_file_path: str, block_size: int):\n",
    "        assert os.path.isfile(sequence_file_path) and os.path.isfile(label_file_path)\n",
    "        # Here, we do not cache the features, operating under the assumption\n",
    "        # that we will soon use fast multithreaded tokenizers from the\n",
    "        # `tokenizers` repo everywhere =)\n",
    "\n",
    "        with open(sequence_file_path, encoding=\"utf-8\") as f:\n",
    "            seqs = [seq for seq in f.read().splitlines() if (len(seq) > 0 and not seq.isspace())]\n",
    "        batch_encoding = tokenizer.batch_encode_plus(seqs, add_special_tokens=add_special_tokens, max_length=block_size, truncation=True)\n",
    "        self.input_ids = batch_encoding[\"input_ids\"]\n",
    "        self.attention_mask = batch_encoding[\"attention_mask\"]\n",
    "        self.token_type_ids = batch_encoding['token_type_ids']\n",
    "        \n",
    "        with open(label_file_path, encoding=\"utf-8\") as f:\n",
    "            labels = [int(label) for label in f.read().splitlines() if (len(label) > 0 and not label.isspace())]\n",
    "        self.labels = labels\n",
    "        assert len(self.labels) == len(self.input_ids)\n",
    "        \n",
    "    def __len__(self):\n",
    "        return len(self.input_ids)\n",
    "\n",
    "    def __getitem__(self, i) -> torch.Tensor:\n",
    "        return torch.tensor(self.input_ids[i], dtype=torch.long), torch.tensor(self.labels[i]).unsqueeze(0)\n"
   ]
  },
  {
   "cell_type": "code",
   "execution_count": 22,
   "metadata": {},
   "outputs": [],
   "source": [
    "from torch.utils.data import DataLoader\n",
    "\n",
    "dataset = ClsLineByLineTextDataset(\n",
    "    tokenizer=BertTokenizer,\n",
    "    sequence_file_path=\"./synthetic_train_X.txt\", label_file_path=\"./synthetic_train_Y.txt\",\n",
    "    block_size=token_len,\n",
    ")\n",
    "\n",
    "dataloader = DataLoader(dataset, batch_size=64, drop_last=True)"
   ]
  },
  {
   "cell_type": "code",
   "execution_count": 23,
   "metadata": {},
   "outputs": [
    {
     "name": "stdout",
     "output_type": "stream",
     "text": [
      "The Bert model contains 841538 parameters.\n"
     ]
    }
   ],
   "source": [
    "from transformers import BertForSequenceClassification\n",
    "from transformers import AdamW\n",
    "from torch.optim import Adam\n",
    "\n",
    "model = BertForSequenceClassification.from_pretrained('./Synthetic/')\n",
    "print(f'The Bert model contains {model.num_parameters()} parameters.')\n",
    "\n",
    "optimizer = AdamW(model.parameters(), lr=5e-5)"
   ]
  },
  {
   "cell_type": "code",
   "execution_count": 24,
   "metadata": {},
   "outputs": [],
   "source": [
    "# for input_ids, labels in dataloader:\n",
    "#     print(input_ids)\n",
    "#     print(labels)\n",
    "#     break"
   ]
  },
  {
   "cell_type": "markdown",
   "metadata": {},
   "source": [
    "## 5.2 Train and evaluate the result."
   ]
  },
  {
   "cell_type": "code",
   "execution_count": 25,
   "metadata": {},
   "outputs": [
    {
     "name": "stdout",
     "output_type": "stream",
     "text": [
      "----------------------------------------Start epoch: 1/10----------------------------------------\n",
      "Time cost: 43.6964 sec(s), iter: 100, average loss: 0.6410323566198349.\n",
      "Time cost: 42.2426 sec(s), iter: 200, average loss: 0.6002287822961807.\n",
      "Time cost: 42.4656 sec(s), iter: 300, average loss: 0.5681023386120796.\n",
      "Time cost: 41.8838 sec(s), iter: 400, average loss: 0.5360725685954094.\n",
      "Time cost: 42.1435 sec(s), iter: 500, average loss: 0.503916047513485.\n",
      "Time cost: 41.6599 sec(s), iter: 600, average loss: 0.5030739104747772.\n",
      "Time cost: 41.4281 sec(s), iter: 700, average loss: 0.4720225247740746.\n",
      "Time cost: 41.4749 sec(s), iter: 800, average loss: 0.4687757068872452.\n",
      "Time cost: 41.6858 sec(s), iter: 900, average loss: 0.4614909392595291.\n",
      "Time cost: 41.582 sec(s), iter: 1000, average loss: 0.45947849899530413.\n",
      "Time cost: 41.9514 sec(s), iter: 1100, average loss: 0.4582170790433884.\n",
      "Time cost: 42.3558 sec(s), iter: 1200, average loss: 0.4469007340073585.\n",
      "Time cost: 41.888 sec(s), iter: 1300, average loss: 0.4675773495435715.\n",
      "Time cost: 42.1953 sec(s), iter: 1400, average loss: 0.44779945760965345.\n",
      "Time cost: 41.7798 sec(s), iter: 1500, average loss: 0.45173838317394255.\n",
      "Time cost: 41.9358 sec(s), iter: 1600, average loss: 0.451155763566494.\n",
      "----------------------------------------Start epoch: 2/10----------------------------------------\n",
      "Time cost: 41.7594 sec(s), iter: 1700, average loss: 0.45921660840511325.\n",
      "Time cost: 42.1855 sec(s), iter: 1800, average loss: 0.44891147315502167.\n",
      "Time cost: 41.254 sec(s), iter: 1900, average loss: 0.44121023833751677.\n",
      "Time cost: 42.2812 sec(s), iter: 2000, average loss: 0.4573300901055336.\n",
      "Time cost: 42.0123 sec(s), iter: 2100, average loss: 0.45319002866744995.\n",
      "Time cost: 42.3492 sec(s), iter: 2200, average loss: 0.46007195055484773.\n",
      "Time cost: 41.9317 sec(s), iter: 2300, average loss: 0.43801125049591066.\n",
      "Time cost: 42.044 sec(s), iter: 2400, average loss: 0.4495710614323616.\n",
      "Time cost: 42.1276 sec(s), iter: 2500, average loss: 0.44702808409929273.\n",
      "Time cost: 41.6272 sec(s), iter: 2600, average loss: 0.44048788517713544.\n",
      "Time cost: 42.1412 sec(s), iter: 2700, average loss: 0.4467123684287071.\n",
      "Time cost: 41.4236 sec(s), iter: 2800, average loss: 0.439723311662674.\n",
      "Time cost: 41.9282 sec(s), iter: 2900, average loss: 0.46003343164920807.\n",
      "Time cost: 41.9578 sec(s), iter: 3000, average loss: 0.44093698263168335.\n",
      "Time cost: 41.8627 sec(s), iter: 3100, average loss: 0.44463478356599806.\n",
      "Time cost: 41.7869 sec(s), iter: 3200, average loss: 0.44407575845718383.\n",
      "----------------------------------------Start epoch: 3/10----------------------------------------\n",
      "Time cost: 42.1322 sec(s), iter: 3300, average loss: 0.4534402605891228.\n",
      "Time cost: 41.7825 sec(s), iter: 3400, average loss: 0.44502090603113176.\n",
      "Time cost: 42.0798 sec(s), iter: 3500, average loss: 0.4362571528553963.\n",
      "Time cost: 41.9837 sec(s), iter: 3600, average loss: 0.45270466059446335.\n",
      "Time cost: 41.9276 sec(s), iter: 3700, average loss: 0.44922270089387895.\n",
      "Time cost: 42.2997 sec(s), iter: 3800, average loss: 0.4561051562428474.\n",
      "Time cost: 41.8377 sec(s), iter: 3900, average loss: 0.4344375467300415.\n",
      "Time cost: 42.2295 sec(s), iter: 4000, average loss: 0.44555951952934264.\n",
      "Time cost: 42.188 sec(s), iter: 4100, average loss: 0.4452879473567009.\n",
      "Time cost: 41.8463 sec(s), iter: 4200, average loss: 0.4375256118178368.\n",
      "Time cost: 42.236 sec(s), iter: 4300, average loss: 0.4426932170987129.\n",
      "Time cost: 41.6109 sec(s), iter: 4400, average loss: 0.4363802143931389.\n",
      "Time cost: 41.7518 sec(s), iter: 4500, average loss: 0.45885985255241396.\n",
      "Time cost: 41.7237 sec(s), iter: 4600, average loss: 0.4368259987235069.\n",
      "Time cost: 41.4156 sec(s), iter: 4700, average loss: 0.44172946602106095.\n",
      "Time cost: 41.5601 sec(s), iter: 4800, average loss: 0.44110590845346453.\n",
      "----------------------------------------Start epoch: 4/10----------------------------------------\n",
      "Time cost: 41.7672 sec(s), iter: 4900, average loss: 0.45168884336948395.\n",
      "Time cost: 41.7388 sec(s), iter: 5000, average loss: 0.44252015709877013.\n",
      "Time cost: 41.6292 sec(s), iter: 5100, average loss: 0.4328887727856636.\n",
      "Time cost: 42.304 sec(s), iter: 5200, average loss: 0.4499427604675293.\n",
      "Time cost: 41.4251 sec(s), iter: 5300, average loss: 0.4446530956029892.\n",
      "Time cost: 41.8997 sec(s), iter: 5400, average loss: 0.4513797837495804.\n",
      "Time cost: 42.3399 sec(s), iter: 5500, average loss: 0.4323477762937546.\n",
      "Time cost: 41.8956 sec(s), iter: 5600, average loss: 0.44401850253343583.\n",
      "Time cost: 41.5571 sec(s), iter: 5700, average loss: 0.44206789404153823.\n",
      "Time cost: 42.0944 sec(s), iter: 5800, average loss: 0.43452916115522383.\n",
      "Time cost: 41.4927 sec(s), iter: 5900, average loss: 0.43851631730794904.\n",
      "Time cost: 41.7424 sec(s), iter: 6000, average loss: 0.43352819353342054.\n",
      "Time cost: 41.483 sec(s), iter: 6100, average loss: 0.4556643807888031.\n",
      "Time cost: 41.7432 sec(s), iter: 6200, average loss: 0.43271603658795355.\n",
      "Time cost: 41.439 sec(s), iter: 6300, average loss: 0.43625573098659515.\n",
      "Time cost: 41.5634 sec(s), iter: 6400, average loss: 0.4389530676603317.\n",
      "----------------------------------------Start epoch: 5/10----------------------------------------\n",
      "Time cost: 41.7921 sec(s), iter: 6500, average loss: 0.4464958369731903.\n",
      "Time cost: 41.6741 sec(s), iter: 6600, average loss: 0.4360462695360184.\n",
      "Time cost: 41.9644 sec(s), iter: 6700, average loss: 0.4289157970249653.\n",
      "Time cost: 41.8769 sec(s), iter: 6800, average loss: 0.4452419191598892.\n",
      "Time cost: 42.0818 sec(s), iter: 6900, average loss: 0.43983554989099505.\n",
      "Time cost: 41.9102 sec(s), iter: 7000, average loss: 0.4431545948982239.\n",
      "Time cost: 42.2514 sec(s), iter: 7100, average loss: 0.4256130674481392.\n",
      "Time cost: 49.5798 sec(s), iter: 7200, average loss: 0.43871021807193755.\n",
      "Time cost: 82.1584 sec(s), iter: 7300, average loss: 0.4386307117342949.\n",
      "Time cost: 44.309 sec(s), iter: 7400, average loss: 0.42898166716098785.\n",
      "Time cost: 44.5402 sec(s), iter: 7500, average loss: 0.4330572855472565.\n",
      "Time cost: 44.5541 sec(s), iter: 7600, average loss: 0.4290601137280464.\n",
      "Time cost: 44.6012 sec(s), iter: 7700, average loss: 0.44983246743679045.\n",
      "Time cost: 44.5186 sec(s), iter: 7800, average loss: 0.4276498427987099.\n",
      "Time cost: 44.1272 sec(s), iter: 7900, average loss: 0.4312150129675865.\n",
      "Time cost: 47.8949 sec(s), iter: 8000, average loss: 0.43516399651765825.\n",
      "----------------------------------------Start epoch: 6/10----------------------------------------\n",
      "Time cost: 56.6115 sec(s), iter: 8100, average loss: 0.4415298384428024.\n",
      "Time cost: 54.3239 sec(s), iter: 8200, average loss: 0.4305109551548958.\n",
      "Time cost: 53.4474 sec(s), iter: 8300, average loss: 0.42412292525172235.\n",
      "Time cost: 53.8605 sec(s), iter: 8400, average loss: 0.4389032816886902.\n",
      "Time cost: 40.2467 sec(s), iter: 8500, average loss: 0.43467581510543823.\n",
      "Time cost: 40.8396 sec(s), iter: 8600, average loss: 0.43710002809762954.\n",
      "Time cost: 40.5079 sec(s), iter: 8700, average loss: 0.4216871470212936.\n",
      "Time cost: 40.2529 sec(s), iter: 8800, average loss: 0.43373761773109437.\n",
      "Time cost: 40.0055 sec(s), iter: 8900, average loss: 0.43277903586626054.\n",
      "Time cost: 40.3335 sec(s), iter: 9000, average loss: 0.42350164234638216.\n",
      "Time cost: 40.6538 sec(s), iter: 9100, average loss: 0.42590109676122667.\n",
      "Time cost: 40.3392 sec(s), iter: 9200, average loss: 0.42312883168458937.\n",
      "Time cost: 40.2396 sec(s), iter: 9300, average loss: 0.44363229393959047.\n",
      "Time cost: 40.4645 sec(s), iter: 9400, average loss: 0.42347308605909345.\n",
      "Time cost: 40.2558 sec(s), iter: 9500, average loss: 0.42568933755159377.\n",
      "Time cost: 40.7754 sec(s), iter: 9600, average loss: 0.4296791371703148.\n",
      "----------------------------------------Start epoch: 7/10----------------------------------------\n",
      "Time cost: 40.6722 sec(s), iter: 9700, average loss: 0.43553664594888686.\n",
      "Time cost: 40.3926 sec(s), iter: 9800, average loss: 0.42300829112529753.\n",
      "Time cost: 40.7121 sec(s), iter: 9900, average loss: 0.4160138614475727.\n",
      "Time cost: 40.5877 sec(s), iter: 10000, average loss: 0.4332324495911598.\n",
      "Time cost: 40.3911 sec(s), iter: 10100, average loss: 0.4277725911140442.\n",
      "Time cost: 40.1234 sec(s), iter: 10200, average loss: 0.42992806553840635.\n",
      "Time cost: 40.6866 sec(s), iter: 10300, average loss: 0.41607513666152957.\n",
      "Time cost: 40.6726 sec(s), iter: 10400, average loss: 0.42641409039497374.\n",
      "Time cost: 40.1438 sec(s), iter: 10500, average loss: 0.4251188287138939.\n",
      "Time cost: 40.3355 sec(s), iter: 10600, average loss: 0.4162886744737625.\n",
      "Time cost: 40.5636 sec(s), iter: 10700, average loss: 0.4163080787658691.\n",
      "Time cost: 40.4757 sec(s), iter: 10800, average loss: 0.41652852326631545.\n",
      "Time cost: 40.4482 sec(s), iter: 10900, average loss: 0.4359118160605431.\n",
      "Time cost: 40.3622 sec(s), iter: 11000, average loss: 0.41835985258221625.\n",
      "Time cost: 40.3531 sec(s), iter: 11100, average loss: 0.41742189347743985.\n",
      "Time cost: 40.3382 sec(s), iter: 11200, average loss: 0.42270519644021987.\n",
      "----------------------------------------Start epoch: 8/10----------------------------------------\n",
      "Time cost: 40.5521 sec(s), iter: 11300, average loss: 0.4281064674258232.\n",
      "Time cost: 40.5389 sec(s), iter: 11400, average loss: 0.41364686727523803.\n",
      "Time cost: 40.6754 sec(s), iter: 11500, average loss: 0.4080348952114582.\n",
      "Time cost: 40.4735 sec(s), iter: 11600, average loss: 0.42520794928073885.\n",
      "Time cost: 40.6033 sec(s), iter: 11700, average loss: 0.41930184215307237.\n",
      "Time cost: 42.0198 sec(s), iter: 11800, average loss: 0.4225247812271118.\n",
      "Time cost: 41.9016 sec(s), iter: 11900, average loss: 0.40938608795404435.\n",
      "Time cost: 41.5635 sec(s), iter: 12000, average loss: 0.41514140188694.\n",
      "Time cost: 41.6323 sec(s), iter: 12100, average loss: 0.41623019605875017.\n",
      "Time cost: 41.7271 sec(s), iter: 12200, average loss: 0.40685671448707583.\n",
      "Time cost: 41.5835 sec(s), iter: 12300, average loss: 0.4075166140496731.\n",
      "Time cost: 41.9592 sec(s), iter: 12400, average loss: 0.408132880628109.\n",
      "Time cost: 41.6336 sec(s), iter: 12500, average loss: 0.4263362595438957.\n",
      "Time cost: 41.583 sec(s), iter: 12600, average loss: 0.4113424138724804.\n",
      "Time cost: 41.6534 sec(s), iter: 12700, average loss: 0.4076832428574562.\n",
      "Time cost: 42.2883 sec(s), iter: 12800, average loss: 0.41487764537334443.\n",
      "----------------------------------------Start epoch: 9/10----------------------------------------\n",
      "Time cost: 41.6673 sec(s), iter: 12900, average loss: 0.4183191341161728.\n",
      "Time cost: 41.6138 sec(s), iter: 13000, average loss: 0.4041163268685341.\n",
      "Time cost: 41.9333 sec(s), iter: 13100, average loss: 0.39969948306679726.\n",
      "Time cost: 41.5556 sec(s), iter: 13200, average loss: 0.4145730146765709.\n",
      "Time cost: 41.3501 sec(s), iter: 13300, average loss: 0.408206487596035.\n",
      "Time cost: 41.6292 sec(s), iter: 13400, average loss: 0.41365921676158907.\n",
      "Time cost: 41.7432 sec(s), iter: 13500, average loss: 0.4007480689883232.\n",
      "Time cost: 41.8156 sec(s), iter: 13600, average loss: 0.40519430190324784.\n",
      "Time cost: 41.6899 sec(s), iter: 13700, average loss: 0.4059199884533882.\n",
      "Time cost: 41.6882 sec(s), iter: 13800, average loss: 0.397375316619873.\n",
      "Time cost: 42.0867 sec(s), iter: 13900, average loss: 0.39852382317185403.\n",
      "Time cost: 41.5889 sec(s), iter: 14000, average loss: 0.3966189894080162.\n",
      "Time cost: 42.1781 sec(s), iter: 14100, average loss: 0.4144825118780136.\n",
      "Time cost: 41.6358 sec(s), iter: 14200, average loss: 0.4009356744587421.\n",
      "Time cost: 41.5955 sec(s), iter: 14300, average loss: 0.3956019778549671.\n",
      "Time cost: 41.776 sec(s), iter: 14400, average loss: 0.4055519787967205.\n",
      "----------------------------------------Start epoch: 10/10----------------------------------------\n",
      "Time cost: 41.5942 sec(s), iter: 14500, average loss: 0.4065339693427086.\n",
      "Time cost: 41.9583 sec(s), iter: 14600, average loss: 0.39329725205898286.\n",
      "Time cost: 41.5849 sec(s), iter: 14700, average loss: 0.3898563492298126.\n",
      "Time cost: 41.6003 sec(s), iter: 14800, average loss: 0.4013557684421539.\n",
      "Time cost: 41.679 sec(s), iter: 14900, average loss: 0.3945712676644325.\n",
      "Time cost: 42.0129 sec(s), iter: 15000, average loss: 0.402683952152729.\n",
      "Time cost: 41.318 sec(s), iter: 15100, average loss: 0.3894982388615608.\n",
      "Time cost: 41.623 sec(s), iter: 15200, average loss: 0.39363357827067375.\n",
      "Time cost: 41.7698 sec(s), iter: 15300, average loss: 0.39334026351571083.\n",
      "Time cost: 41.5888 sec(s), iter: 15400, average loss: 0.38707314521074293.\n",
      "Time cost: 41.4367 sec(s), iter: 15500, average loss: 0.38726190000772476.\n",
      "Time cost: 41.5917 sec(s), iter: 15600, average loss: 0.3834440377354622.\n",
      "Time cost: 41.8439 sec(s), iter: 15700, average loss: 0.4019358858466148.\n",
      "Time cost: 41.8515 sec(s), iter: 15800, average loss: 0.3887039366364479.\n",
      "Time cost: 41.507 sec(s), iter: 15900, average loss: 0.38181895062327387.\n",
      "Time cost: 42.1878 sec(s), iter: 16000, average loss: 0.3937093454599381.\n",
      "Finish all.\n"
     ]
    }
   ],
   "source": [
    "import time\n",
    "\n",
    "epoch = 10\n",
    "\n",
    "iters = 0\n",
    "iter_loss = 0.\n",
    "\n",
    "start = time.time()\n",
    "for e in range(epoch):\n",
    "    print('-' * 40 + f'Start epoch: {e + 1}/{epoch}' + '-' * 40)\n",
    "    iter_loss = 0.\n",
    "    for input_ids, labels in dataloader:\n",
    "        loss, logits = model(input_ids, labels=labels)\n",
    "        \n",
    "        optimizer.zero_grad()\n",
    "        loss.backward()\n",
    "        optimizer.step()\n",
    "        \n",
    "        iters += 1\n",
    "        iter_loss += loss.item()\n",
    "        if not iters % 100:\n",
    "            print(f'Time cost: {round(time.time() - start, 4)} sec(s), iter: {iters}, average loss: {iter_loss / 100}.')\n",
    "            iter_loss = 0.\n",
    "            start = time.time()\n",
    "\n",
    "print('Finish all.')\n",
    "\n",
    "torch.save(model.to('cpu'), './Synthetic/bert_v6.pth')"
   ]
  },
  {
   "cell_type": "code",
   "execution_count": 33,
   "metadata": {},
   "outputs": [],
   "source": [
    "torch.save(model.to('cpu'), './Synthetic/bert_v6.pth')"
   ]
  },
  {
   "cell_type": "markdown",
   "metadata": {},
   "source": [
    "## 5.3 Evaluation."
   ]
  },
  {
   "cell_type": "code",
   "execution_count": 34,
   "metadata": {},
   "outputs": [],
   "source": [
    "from sklearn.metrics import confusion_matrix, accuracy_score,roc_auc_score, roc_curve, auc\n",
    "from matplotlib.pylab import plt\n",
    "\n",
    "def ROC(y_test, y_prob):\n",
    "\n",
    "    false_positive_rate, true_positive_rate, threshold = roc_curve(y_test, y_prob)\n",
    "    roc_auc = auc(false_positive_rate, true_positive_rate)\n",
    "    \n",
    "    plt.figure(figsize = (10,10))\n",
    "    plt.title('Receiver Operating Characteristic')\n",
    "    plt.plot(false_positive_rate, true_positive_rate, color = 'red', label = 'AUC = %0.2f' % roc_auc)\n",
    "    plt.legend(loc = 'lower right')\n",
    "    plt.plot([0, 1], [0, 1], linestyle = '--')\n",
    "    plt.axis('tight')\n",
    "    plt.ylabel('True Positive Rate')\n",
    "    plt.xlabel('False Positive Rate')\n"
   ]
  },
  {
   "cell_type": "markdown",
   "metadata": {},
   "source": [
    "### 5.3.1 Training set"
   ]
  },
  {
   "cell_type": "code",
   "execution_count": 35,
   "metadata": {},
   "outputs": [],
   "source": [
    "pred_prob = []\n",
    "labels = []\n",
    "\n",
    "with torch.no_grad():\n",
    "    for input_id, label in dataloader:\n",
    "        # True labels\n",
    "        labels.append(label.squeeze())\n",
    "        # Predict probability\n",
    "        logits = model(input_id)[0]\n",
    "        pred_prob.append(F.softmax(logits, dim=1)[:,1])\n",
    "        \n",
    "labels = torch.cat(labels)\n",
    "pred_prob = torch.cat(pred_prob)\n",
    "pred_labels = 1 * (pred_prob > 0.5)"
   ]
  },
  {
   "cell_type": "code",
   "execution_count": 36,
   "metadata": {},
   "outputs": [
    {
     "name": "stdout",
     "output_type": "stream",
     "text": [
      "Training accuracy: 0.817646484375.\n"
     ]
    },
    {
     "data": {
      "text/plain": [
       "array([[22113,  9727],\n",
       "       [ 8946, 61614]])"
      ]
     },
     "execution_count": 36,
     "metadata": {},
     "output_type": "execute_result"
    }
   ],
   "source": [
    "print(f'Training accuracy: {accuracy_score(labels, pred_labels)}.')\n",
    "\n",
    "confusion_matrix(labels, pred_labels)"
   ]
  },
  {
   "cell_type": "code",
   "execution_count": 37,
   "metadata": {},
   "outputs": [
    {
     "data": {
      "image/png": "[encoded data removed]",
      "text/plain": [
       "<Figure size 720x720 with 1 Axes>"
      ]
     },
     "metadata": {
      "needs_background": "light"
     },
     "output_type": "display_data"
    }
   ],
   "source": [
    "ROC(labels, pred_prob)"
   ]
  },
  {
   "cell_type": "markdown",
   "metadata": {},
   "source": [
    "### 5.3.2 Testing set"
   ]
  },
  {
   "cell_type": "code",
   "execution_count": 38,
   "metadata": {},
   "outputs": [],
   "source": [
    "evalset = ClsLineByLineTextDataset(\n",
    "    tokenizer=BertTokenizer,\n",
    "    sequence_file_path=\"./synthetic_eval_X.txt\", label_file_path=\"./synthetic_eval_Y.txt\",\n",
    "    block_size=128,\n",
    ")\n",
    "\n",
    "evalloader = DataLoader(evalset, batch_size=200)\n",
    "\n",
    "pred_prob = []\n",
    "labels = []\n",
    "\n",
    "with torch.no_grad():\n",
    "    for input_id, label in evalloader:\n",
    "        # True labels\n",
    "        labels.append(label.squeeze())\n",
    "        # Predict probability\n",
    "        logits = model(input_id)[0]\n",
    "        pred_prob.append(F.softmax(logits, dim=1)[:,1])\n",
    "        \n",
    "labels = torch.cat(labels)\n",
    "pred_prob = torch.cat(pred_prob)\n",
    "pred_labels = 1 * (pred_prob > 0.5)"
   ]
  },
  {
   "cell_type": "code",
   "execution_count": 39,
   "metadata": {},
   "outputs": [
    {
     "name": "stdout",
     "output_type": "stream",
     "text": [
      "Testing accuracy: 0.81607.\n"
     ]
    },
    {
     "data": {
      "text/plain": [
       "array([[21395,  9443],\n",
       "       [ 8950, 60212]])"
      ]
     },
     "execution_count": 39,
     "metadata": {},
     "output_type": "execute_result"
    }
   ],
   "source": [
    "print(f'Testing accuracy: {accuracy_score(labels, pred_labels)}.')\n",
    "\n",
    "confusion_matrix(labels, pred_labels)"
   ]
  },
  {
   "cell_type": "code",
   "execution_count": 40,
   "metadata": {},
   "outputs": [
    {
     "data": {
      "image/png": "[encoded data removed]",
      "text/plain": [
       "<Figure size 720x720 with 1 Axes>"
      ]
     },
     "metadata": {
      "needs_background": "light"
     },
     "output_type": "display_data"
    }
   ],
   "source": [
    "ROC(labels, pred_prob)"
   ]
  },
  {
   "cell_type": "code",
   "execution_count": null,
   "metadata": {},
   "outputs": [],
   "source": []
  }
 ],
 "metadata": {
  "kernelspec": {
   "display_name": "Python 3",
   "language": "python",
   "name": "python3"
  },
  "language_info": {
   "codemirror_mode": {
    "name": "ipython",
    "version": 3
   },
   "file_extension": ".py",
   "mimetype": "text/x-python",
   "name": "python",
   "nbconvert_exporter": "python",
   "pygments_lexer": "ipython3",
   "version": "3.7.7"
  }
 },
 "nbformat": 4,
 "nbformat_minor": 4
}
