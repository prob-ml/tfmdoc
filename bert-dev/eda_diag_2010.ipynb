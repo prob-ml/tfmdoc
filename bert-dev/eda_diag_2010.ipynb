{
 "cells": [
  {
   "cell_type": "code",
   "execution_count": 3,
   "metadata": {},
   "outputs": [],
   "source": [
    "import pandas as pd\n",
    "import numpy as np\n",
    "from pathlib import Path"
   ]
  },
  {
   "cell_type": "code",
   "execution_count": 4,
   "metadata": {},
   "outputs": [],
   "source": [
    "files = [str(x) for x in Path(\"./data\").glob(\"**/diag_201*_new.csv\")]"
   ]
  },
  {
   "cell_type": "code",
   "execution_count": 5,
   "metadata": {},
   "outputs": [],
   "source": [
    "dg = []\n",
    "for file in files:\n",
    "    dg.append(pd.read_csv(file))\n",
    "\n",
    "dg = pd.concat(dg, axis=0, ignore_index=True)"
   ]
  },
  {
   "cell_type": "markdown",
   "metadata": {},
   "source": [
    "# Pre-processing.\n",
    "\n",
    "1. In 2010, most Diag follow ICD-9, whereas in 2018, most Diag follow ICD-10. Due to the difference, we add a prefix to indicate which ICD is used.\n",
    "\n",
    "2. A *mysterious* column named 'Fst_Dt' can draw repetive record based on (Patid, Pat_Planid, Clmid, Diag), which makes no sense, so we need to remove them."
   ]
  },
  {
   "cell_type": "code",
   "execution_count": 42,
   "metadata": {},
   "outputs": [],
   "source": [
    "dg_sub = dg[['Patid', 'Pat_Planid', 'Clmid', 'Icd_Flag', 'Diag', 'Diag_Position']]\n",
    "dg_sub = dg_sub.assign(DiagId = 'ICD_' + dg['Icd_Flag'].astype(str) + '_' + dg['Diag'])\n",
    "dg_sub.drop_duplicates(inplace=True)"
   ]
  },
  {
   "cell_type": "code",
   "execution_count": 77,
   "metadata": {},
   "outputs": [
    {
     "data": {
      "text/html": [
       "<div>\n",
       "<style scoped>\n",
       "    .dataframe tbody tr th:only-of-type {\n",
       "        vertical-align: middle;\n",
       "    }\n",
       "\n",
       "    .dataframe tbody tr th {\n",
       "        vertical-align: top;\n",
       "    }\n",
       "\n",
       "    .dataframe thead th {\n",
       "        text-align: right;\n",
       "    }\n",
       "</style>\n",
       "<table border=\"1\" class=\"dataframe\">\n",
       "  <thead>\n",
       "    <tr style=\"text-align: right;\">\n",
       "      <th></th>\n",
       "      <th>Patid</th>\n",
       "      <th>Pat_Planid</th>\n",
       "      <th>Clmid</th>\n",
       "      <th>Icd_Flag</th>\n",
       "      <th>Diag</th>\n",
       "      <th>Diag_Position</th>\n",
       "      <th>DiagId</th>\n",
       "    </tr>\n",
       "  </thead>\n",
       "  <tbody>\n",
       "    <tr>\n",
       "      <th>0</th>\n",
       "      <td>560499200782112</td>\n",
       "      <td>140519822553544</td>\n",
       "      <td>JF39FJO39F</td>\n",
       "      <td>9</td>\n",
       "      <td>72252</td>\n",
       "      <td>1.0</td>\n",
       "      <td>ICD_9_72252</td>\n",
       "    </tr>\n",
       "    <tr>\n",
       "      <th>1</th>\n",
       "      <td>560499200782112</td>\n",
       "      <td>140519822553544</td>\n",
       "      <td>JF39FJO39F</td>\n",
       "      <td>9</td>\n",
       "      <td>7292</td>\n",
       "      <td>2.0</td>\n",
       "      <td>ICD_9_7292</td>\n",
       "    </tr>\n",
       "    <tr>\n",
       "      <th>2</th>\n",
       "      <td>560499200782112</td>\n",
       "      <td>140519822553544</td>\n",
       "      <td>JFN3FRR9LJ</td>\n",
       "      <td>9</td>\n",
       "      <td>72252</td>\n",
       "      <td>1.0</td>\n",
       "      <td>ICD_9_72252</td>\n",
       "    </tr>\n",
       "    <tr>\n",
       "      <th>3</th>\n",
       "      <td>560499200782112</td>\n",
       "      <td>140519822553544</td>\n",
       "      <td>JFN3FRR9LJ</td>\n",
       "      <td>9</td>\n",
       "      <td>7292</td>\n",
       "      <td>2.0</td>\n",
       "      <td>ICD_9_7292</td>\n",
       "    </tr>\n",
       "    <tr>\n",
       "      <th>4</th>\n",
       "      <td>560499200782112</td>\n",
       "      <td>140519822553544</td>\n",
       "      <td>JFO89NL3NR</td>\n",
       "      <td>9</td>\n",
       "      <td>2572</td>\n",
       "      <td>1.0</td>\n",
       "      <td>ICD_9_2572</td>\n",
       "    </tr>\n",
       "  </tbody>\n",
       "</table>\n",
       "</div>"
      ],
      "text/plain": [
       "             Patid       Pat_Planid       Clmid  Icd_Flag   Diag  \\\n",
       "0  560499200782112  140519822553544  JF39FJO39F         9  72252   \n",
       "1  560499200782112  140519822553544  JF39FJO39F         9   7292   \n",
       "2  560499200782112  140519822553544  JFN3FRR9LJ         9  72252   \n",
       "3  560499200782112  140519822553544  JFN3FRR9LJ         9   7292   \n",
       "4  560499200782112  140519822553544  JFO89NL3NR         9   2572   \n",
       "\n",
       "   Diag_Position       DiagId  \n",
       "0            1.0  ICD_9_72252  \n",
       "1            2.0   ICD_9_7292  \n",
       "2            1.0  ICD_9_72252  \n",
       "3            2.0   ICD_9_7292  \n",
       "4            1.0   ICD_9_2572  "
      ]
     },
     "execution_count": 77,
     "metadata": {},
     "output_type": "execute_result"
    }
   ],
   "source": [
    "dg_sub.head()"
   ]
  },
  {
   "cell_type": "markdown",
   "metadata": {},
   "source": [
    "## Combine Diag within one Clmid together\n",
    "\n",
    "Each row is a Claim (visit)."
   ]
  },
  {
   "cell_type": "code",
   "execution_count": 74,
   "metadata": {},
   "outputs": [],
   "source": [
    "# Diag Unique: 16843 in 2010.\n",
    "PatDetail = dg_sub.groupby(['Patid', 'Pat_Planid', 'Clmid'])['DiagId'].apply(lambda x: ' '.join(x))"
   ]
  },
  {
   "cell_type": "code",
   "execution_count": 79,
   "metadata": {},
   "outputs": [],
   "source": [
    "PatDetailDF = PatDetail.to_frame()\n",
    "PatDetailDF = PatDetailDF.reset_index()"
   ]
  },
  {
   "cell_type": "code",
   "execution_count": 126,
   "metadata": {},
   "outputs": [
    {
     "data": {
      "text/html": [
       "<div>\n",
       "<style scoped>\n",
       "    .dataframe tbody tr th:only-of-type {\n",
       "        vertical-align: middle;\n",
       "    }\n",
       "\n",
       "    .dataframe tbody tr th {\n",
       "        vertical-align: top;\n",
       "    }\n",
       "\n",
       "    .dataframe thead th {\n",
       "        text-align: right;\n",
       "    }\n",
       "</style>\n",
       "<table border=\"1\" class=\"dataframe\">\n",
       "  <thead>\n",
       "    <tr style=\"text-align: right;\">\n",
       "      <th></th>\n",
       "      <th>Patid</th>\n",
       "      <th>Pat_Planid</th>\n",
       "      <th>Clmid</th>\n",
       "      <th>DiagId</th>\n",
       "    </tr>\n",
       "  </thead>\n",
       "  <tbody>\n",
       "    <tr>\n",
       "      <th>0</th>\n",
       "      <td>560499200782112</td>\n",
       "      <td>140519822553544</td>\n",
       "      <td>JF39FJO39F</td>\n",
       "      <td>ICD_9_72252 ICD_9_7292</td>\n",
       "    </tr>\n",
       "    <tr>\n",
       "      <th>1</th>\n",
       "      <td>560499200782112</td>\n",
       "      <td>140519822553544</td>\n",
       "      <td>JFN3FRR9LJ</td>\n",
       "      <td>ICD_9_72252 ICD_9_7292</td>\n",
       "    </tr>\n",
       "    <tr>\n",
       "      <th>2</th>\n",
       "      <td>560499200782112</td>\n",
       "      <td>140519822553544</td>\n",
       "      <td>JFO89NL3NR</td>\n",
       "      <td>ICD_9_2572</td>\n",
       "    </tr>\n",
       "    <tr>\n",
       "      <th>3</th>\n",
       "      <td>560499200782112</td>\n",
       "      <td>140519822553544</td>\n",
       "      <td>JFOR9NFRF3</td>\n",
       "      <td>ICD_9_2572</td>\n",
       "    </tr>\n",
       "    <tr>\n",
       "      <th>4</th>\n",
       "      <td>560499200782112</td>\n",
       "      <td>140519822553544</td>\n",
       "      <td>OV9RN3RJJV</td>\n",
       "      <td>ICD_9_7242 ICD_9_7292 ICD_9_7197 ICD_9_72252</td>\n",
       "    </tr>\n",
       "  </tbody>\n",
       "</table>\n",
       "</div>"
      ],
      "text/plain": [
       "             Patid       Pat_Planid       Clmid  \\\n",
       "0  560499200782112  140519822553544  JF39FJO39F   \n",
       "1  560499200782112  140519822553544  JFN3FRR9LJ   \n",
       "2  560499200782112  140519822553544  JFO89NL3NR   \n",
       "3  560499200782112  140519822553544  JFOR9NFRF3   \n",
       "4  560499200782112  140519822553544  OV9RN3RJJV   \n",
       "\n",
       "                                         DiagId  \n",
       "0                        ICD_9_72252 ICD_9_7292  \n",
       "1                        ICD_9_72252 ICD_9_7292  \n",
       "2                                    ICD_9_2572  \n",
       "3                                    ICD_9_2572  \n",
       "4  ICD_9_7242 ICD_9_7292 ICD_9_7197 ICD_9_72252  "
      ]
     },
     "execution_count": 126,
     "metadata": {},
     "output_type": "execute_result"
    }
   ],
   "source": [
    "PatDetailDF.head()"
   ]
  },
  {
   "cell_type": "markdown",
   "metadata": {},
   "source": [
    "## Combine Clmid within one Patid_Planid together\n",
    "\n",
    "Each row is a Patid_Planid and his/her visiting history."
   ]
  },
  {
   "cell_type": "code",
   "execution_count": 96,
   "metadata": {},
   "outputs": [],
   "source": [
    "PatRecord = PatDetailDF.groupby(['Patid', 'Pat_Planid'])['DiagId'].apply(lambda x: ' [SEP] '.join(x))"
   ]
  },
  {
   "cell_type": "code",
   "execution_count": 98,
   "metadata": {},
   "outputs": [],
   "source": [
    "PatRecordDF = PatRecord.to_frame()\n",
    "PatRecordDF.reset_index(inplace=True)"
   ]
  },
  {
   "cell_type": "code",
   "execution_count": 125,
   "metadata": {},
   "outputs": [
    {
     "data": {
      "text/html": [
       "<div>\n",
       "<style scoped>\n",
       "    .dataframe tbody tr th:only-of-type {\n",
       "        vertical-align: middle;\n",
       "    }\n",
       "\n",
       "    .dataframe tbody tr th {\n",
       "        vertical-align: top;\n",
       "    }\n",
       "\n",
       "    .dataframe thead th {\n",
       "        text-align: right;\n",
       "    }\n",
       "</style>\n",
       "<table border=\"1\" class=\"dataframe\">\n",
       "  <thead>\n",
       "    <tr style=\"text-align: right;\">\n",
       "      <th></th>\n",
       "      <th>Patid</th>\n",
       "      <th>Pat_Planid</th>\n",
       "      <th>DiagId</th>\n",
       "    </tr>\n",
       "  </thead>\n",
       "  <tbody>\n",
       "    <tr>\n",
       "      <th>0</th>\n",
       "      <td>560499200782112</td>\n",
       "      <td>140519822553544</td>\n",
       "      <td>ICD_9_72252 ICD_9_7292 [SEP] ICD_9_72252 ICD_9...</td>\n",
       "    </tr>\n",
       "    <tr>\n",
       "      <th>1</th>\n",
       "      <td>560499201057366</td>\n",
       "      <td>140519815234940</td>\n",
       "      <td>ICD_9_8409</td>\n",
       "    </tr>\n",
       "    <tr>\n",
       "      <th>2</th>\n",
       "      <td>560499201124163</td>\n",
       "      <td>140519842268447</td>\n",
       "      <td>ICD_9_6929 [SEP] ICD_9_6929 [SEP] ICD_9_V7231 ...</td>\n",
       "    </tr>\n",
       "    <tr>\n",
       "      <th>3</th>\n",
       "      <td>560499201299620</td>\n",
       "      <td>140519842338011</td>\n",
       "      <td>ICD_9_V700 [SEP] ICD_9_V700 [SEP] ICD_9_V700</td>\n",
       "    </tr>\n",
       "    <tr>\n",
       "      <th>4</th>\n",
       "      <td>560499201462177</td>\n",
       "      <td>140519811854342</td>\n",
       "      <td>ICD_9_36803 ICD_9_36721 ICD_9_36731 [SEP] ICD_...</td>\n",
       "    </tr>\n",
       "  </tbody>\n",
       "</table>\n",
       "</div>"
      ],
      "text/plain": [
       "             Patid       Pat_Planid  \\\n",
       "0  560499200782112  140519822553544   \n",
       "1  560499201057366  140519815234940   \n",
       "2  560499201124163  140519842268447   \n",
       "3  560499201299620  140519842338011   \n",
       "4  560499201462177  140519811854342   \n",
       "\n",
       "                                              DiagId  \n",
       "0  ICD_9_72252 ICD_9_7292 [SEP] ICD_9_72252 ICD_9...  \n",
       "1                                         ICD_9_8409  \n",
       "2  ICD_9_6929 [SEP] ICD_9_6929 [SEP] ICD_9_V7231 ...  \n",
       "3       ICD_9_V700 [SEP] ICD_9_V700 [SEP] ICD_9_V700  \n",
       "4  ICD_9_36803 ICD_9_36721 ICD_9_36731 [SEP] ICD_...  "
      ]
     },
     "execution_count": 125,
     "metadata": {},
     "output_type": "execute_result"
    }
   ],
   "source": [
    "PatRecordDF.head()"
   ]
  },
  {
   "cell_type": "code",
   "execution_count": 105,
   "metadata": {},
   "outputs": [],
   "source": [
    "claim2010 = PatRecordDF.DiagId.to_numpy()\n",
    "\n",
    "np.savetxt('data/claim2010.txt', claim2010, delimiter='\\t', fmt='%s')"
   ]
  },
  {
   "cell_type": "code",
   "execution_count": 101,
   "metadata": {},
   "outputs": [],
   "source": [
    "PatRecord.to_csv('data/claimRecord_2010.csv')"
   ]
  },
  {
   "cell_type": "markdown",
   "metadata": {},
   "source": [
    "# Hardcode a vocab for Bert.\n",
    "\n",
    "See [01-training-tokenizers.ipynb](https://colab.research.google.com/github/huggingface/transformers/blob/master/notebooks/01-training-tokenizers.ipynb#scrollTo=2ed-CMFze9vc) for details."
   ]
  },
  {
   "cell_type": "code",
   "execution_count": 119,
   "metadata": {},
   "outputs": [],
   "source": [
    "vocab = {}\n",
    "\n",
    "for i, v in enumerate(set(dg_sub.DiagId.unique())):\n",
    "    vocab[v] = i\n",
    "\n",
    "for j, v in enumerate(['[UNK]', '[SEP]', '[CLS]']):\n",
    "    vocab[v] = i + j"
   ]
  },
  {
   "cell_type": "code",
   "execution_count": 120,
   "metadata": {},
   "outputs": [],
   "source": [
    "import json\n",
    "with open('./Real/vocab.json', 'w') as outfile:\n",
    "    json.dump(vocab, outfile)"
   ]
  },
  {
   "cell_type": "code",
   "execution_count": null,
   "metadata": {},
   "outputs": [],
   "source": []
  }
 ],
 "metadata": {
  "kernelspec": {
   "display_name": "Python 3",
   "language": "python",
   "name": "python3"
  },
  "language_info": {
   "codemirror_mode": {
    "name": "ipython",
    "version": 3
   },
   "file_extension": ".py",
   "mimetype": "text/x-python",
   "name": "python",
   "nbconvert_exporter": "python",
   "pygments_lexer": "ipython3",
   "version": "3.7.7"
  }
 },
 "nbformat": 4,
 "nbformat_minor": 4
}
