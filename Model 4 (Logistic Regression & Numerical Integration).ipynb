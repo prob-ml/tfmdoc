{
 "cells": [
  {
   "cell_type": "code",
   "execution_count": 1,
   "metadata": {},
   "outputs": [],
   "source": [
    "import numpy as np\n",
    "import torch \n",
    "import scipy.stats\n",
    "import math\n",
    "from scipy.stats import multivariate_normal\n",
    "from torch import distributions\n",
    "from matplotlib.pylab import plt\n",
    "import pymc3 as pm\n",
    "import random\n",
    "import seaborn as sns\n",
    "import sklearn\n",
    "from sklearn.model_selection import train_test_split\n",
    "from sklearn.linear_model import LogisticRegression\n",
    "from sklearn.ensemble import RandomForestClassifier\n",
    "from sklearn.metrics import accuracy_score,roc_auc_score, roc_curve, auc\n",
    "from torch.distributions.multivariate_normal import MultivariateNormal\n",
    "from torch.distributions.normal import Normal\n",
    "from torch.distributions.categorical import Categorical\n",
    "import torch.nn.functional as F"
   ]
  },
  {
   "cell_type": "code",
   "execution_count": 2,
   "metadata": {},
   "outputs": [],
   "source": [
    "def ROC(y_test, y_prob):\n",
    "    \n",
    "    false_positive_rate, true_positive_rate, threshold = roc_curve(y_test, y_prob)\n",
    "    roc_auc = auc(false_positive_rate, true_positive_rate)\n",
    "    \n",
    "    plt.figure(figsize = (10,10))\n",
    "    plt.title('Receiver Operating Characteristic')\n",
    "    plt.plot(false_positive_rate, true_positive_rate, color = 'red', label = 'AUC = %0.2f' % roc_auc)\n",
    "    plt.legend(loc = 'lower right')\n",
    "    plt.plot([0, 1], [0, 1], linestyle = '--')\n",
    "    plt.axis('tight')\n",
    "    plt.ylabel('True Positive Rate')\n",
    "    plt.xlabel('False Positive Rate')"
   ]
  },
  {
   "cell_type": "markdown",
   "metadata": {},
   "source": [
    "# Model 4\n",
    "\n",
    "$\\ Y_i $ ~ $Bernoulli(1/5)$\\\n",
    "$\\ Z_{it}|Z_{i,t-1}, Y_i$ ~ $\\ N$($0.9 Z_{i,t-1}$,$5.1^{Y_i}$)\\\n",
    "$\\ X_{it}|Z_{i,t}$ ~ $\\ Categorical$($\\sigma(\\Psi Z_{i,t}$))\\\n",
    "\n",
    "\n"
   ]
  },
  {
   "cell_type": "code",
   "execution_count": 3,
   "metadata": {},
   "outputs": [],
   "source": [
    "zdim = 1\n",
    "xdim = 100\n",
    "N = 200 # patients\n",
    "T = 10 # time steps\n",
    "\n",
    "Z_true = torch.zeros((N, T, zdim)) # latent \n",
    "logPZ_true = torch.zeros((N, T)) \n",
    "X = torch.zeros((N, T)) # observed\n",
    "PX = torch.zeros((N, T, xdim)) \n",
    "logPX = torch.zeros((N, T, xdim))\n",
    "X_onehot = torch.zeros((N,T,xdim))\n",
    "Psi = torch.arange(0,xdim*0.01,0.01).reshape(xdim,zdim) # should be full rank , xdim > zdim\n",
    "Y = torch.zeros(N)\n",
    "\n",
    "\n",
    "success_prob = 0.5\n",
    "\n",
    "Y = torch.distributions.Bernoulli(success_prob).sample((N,))\n",
    "cov_diag = torch.pow(50.1, Y)\n",
    "cov = torch.diag(cov_diag)\n",
    "\n",
    "# t = 0\n",
    "mean = torch.zeros((N,))\n",
    "Zt = MultivariateNormal(mean, cov) # change to normal to avoid covariance\n",
    "Z_true[:,0] = Zt.sample().unsqueeze(1)\n",
    "logPZ_true[:,0] = Zt.log_prob(Z_true[:,0].squeeze(1))\n",
    "\n",
    "Psi_z = torch.matmul(Z_true[:,0], Psi.t())\n",
    "PX[:,0] = F.softmax(Psi_z, dim = 1)\n",
    "Xt = Categorical(PX[:,0])\n",
    "Xit = Xt.sample()\n",
    "X[:,0] = Xit\n",
    "X_onehot[:,0] = F.one_hot(Xit)\n",
    "\n",
    "\n",
    "for t in range(1,T):\n",
    "    # Zit|Zi,t-1, Yi\n",
    "    meanz = (0.9*Z_true[:,t-1]).squeeze(1)\n",
    "    Zt = MultivariateNormal(meanz, cov)\n",
    "    Z_true[:,t] = Zt.sample().unsqueeze(1)\n",
    "    logPZ_true[:,t] = Zt.log_prob(Z_true[:,t].squeeze(1))\n",
    "\n",
    "    #Xit|Zit\n",
    "    Psi_z = torch.matmul(Z_true[:,t], Psi.t())\n",
    "    PX[:,t] = F.softmax(Psi_z, dim = 1)\n",
    "    Xt = Categorical(PX[:,t])\n",
    "    Xit = Xt.sample()\n",
    "    X[:,t] = Xit\n",
    "    X_onehot[:,t] = F.one_hot(Xit, num_classes = xdim)\n"
   ]
  },
  {
   "cell_type": "code",
   "execution_count": 4,
   "metadata": {},
   "outputs": [],
   "source": [
    "idx = torch.randperm(N)\n",
    "train_idx = idx[:math.floor(0.8*N)]\n",
    "test_idx = idx[math.floor(0.8*N):]\n",
    "X_train = X_onehot[train_idx,:,:]\n",
    "X_test = X_onehot[test_idx,:,:]\n",
    "xd1, xd2, xd3 = X_train.shape\n",
    "X_train_lr = X_train.view(xd1, xd2*xd3)\n",
    "xd1, xd2, xd3 = X_test.shape\n",
    "X_test_lr = X_test.view(xd1, xd2*xd3)"
   ]
  },
  {
   "cell_type": "code",
   "execution_count": 5,
   "metadata": {},
   "outputs": [],
   "source": [
    "y_train = Y[train_idx]\n",
    "y_test = Y[test_idx]"
   ]
  },
  {
   "cell_type": "code",
   "execution_count": 6,
   "metadata": {},
   "outputs": [],
   "source": [
    "lr_accuracy = torch.zeros(T)\n",
    "\n",
    "clf = LogisticRegression().fit(X_train_lr, y_train)\n",
    "y_pred_lr = clf.predict(X_test_lr)\n",
    "y_prob_lr = clf.predict_proba(X_test_lr)[:,1]\n",
    "\n",
    "lr_accuracy = accuracy_score(y_test,y_pred_lr)"
   ]
  },
  {
   "cell_type": "code",
   "execution_count": 7,
   "metadata": {},
   "outputs": [
    {
     "name": "stdout",
     "output_type": "stream",
     "text": [
      "Logistic regression accuracy in test: 0.725\n"
     ]
    }
   ],
   "source": [
    "print(\"Logistic regression accuracy in test:\", lr_accuracy)"
   ]
  },
  {
   "cell_type": "code",
   "execution_count": 8,
   "metadata": {},
   "outputs": [
    {
     "data": {
      "image/png": "[encoded data removed]",
      "text/plain": [
       "<Figure size 720x720 with 1 Axes>"
      ]
     },
     "metadata": {
      "needs_background": "light"
     },
     "output_type": "display_data"
    }
   ],
   "source": [
    "ROC(y_test, y_prob_lr)"
   ]
  },
  {
   "cell_type": "markdown",
   "metadata": {},
   "source": [
    "## Numerical integration approach\n",
    "\n",
    "$\\ Z_{it}^{(k)}|Z_{i,t-1}^{(k)}, Y_i$ ~ $\\ N$($0.9 Z_{i,t-1}^{(k)}$,$5.1^{Y_i}$)\\\n",
    "$\\ X_{it}|Z_{i,t}$ ~ $\\ Categorical$($\\sigma(\\Psi Z_{i,t}$))\n",
    "\n",
    "$P(X|Y = 1) = E_{P(Z|Y = 1)} [P(X|Z)] \\approx \\frac{1}{K} \\sum_{k=1}^{K} P(X|Z^{(k)}),  Z^{(k)} \\sim P(Z^{(k)}|Y = 1)$\\\n",
    "$P(X|Y = 0) = E_{P(Z|Y = 0)} [P(X|Z)] \\approx \\frac{1}{K} \\sum_{k=1}^{K} P(X|Z^{(k)}),  Z^{(k)} \\sim P(Z^{(k)}|Y = 0)$\n",
    "\n",
    "$P(Y = 1 |X) = \\frac{P(X|Y = 1)P(Y=1)}{P(X|Y = 1)P(Y=1) + P(X|Y = 0)P(Y=0)}$"
   ]
  },
  {
   "cell_type": "code",
   "execution_count": null,
   "metadata": {},
   "outputs": [],
   "source": [
    "K = 1000 # 1000 simulations\n",
    "\n",
    "Z = torch.zeros((K, N, T,zdim)) \n",
    "logPX_y = torch.zeros((2, K, N, T))\n",
    "Psi = torch.arange(0,xdim*0.01,0.01).reshape(xdim,zdim) \n",
    "\n",
    "# intitialize time step 0\n",
    "meanz_t0 = torch.zeros((K,))\n",
    "cov_y1 = torch.diag(meanz_t0+50.1)\n",
    "cov_y0 = torch.diag(torch.ones((K,)))  \n",
    "cov_y = torch.stack((cov_y0, cov_y1))\n",
    "\n",
    "for i in range(N):\n",
    "    for t in range(0,T):\n",
    "        for y in range(2):\n",
    "            meanz = 0.9*Z[:,i,t-1].squeeze(1) if t!= 0 else torch.zeros((K,))\n",
    "            Zt = MultivariateNormal(meanz, cov_y[y]) # normal\n",
    "            Z[:,i,t,0] = Zt.sample()\n",
    "\n",
    "            Psi_z = torch.matmul(Z[:,i,t,], Psi.t()) # unsqueeze Psi\n",
    "            logPX  = F.log_softmax(Psi_z, dim = 1)\n",
    "            Xt = Categorical(logPX.exp())\n",
    "            logPX_y[y,:,i,t] = Xt.log_prob(X[i,t].unsqueeze(0))"
   ]
  },
  {
   "cell_type": "code",
   "execution_count": null,
   "metadata": {},
   "outputs": [],
   "source": [
    "ElogPX_1k = torch.logsumexp(logPX_y[1], dim = 0) - np.log(K)\n",
    "ElogPX_1 = torch.sum(ElogPX_1k,dim = 1)\n",
    "\n",
    "ElogPX_0k = torch.logsumexp(logPX_y[0], dim = 0) - np.log(K)\n",
    "ElogPX_0 = torch.sum(ElogPX_0k,dim = 1)\n"
   ]
  },
  {
   "cell_type": "code",
   "execution_count": null,
   "metadata": {},
   "outputs": [],
   "source": [
    "logPX_Y1 = ElogPX_1 + np.log(success_prob)\n",
    "logPX_Y0 = ElogPX_0 + np.log(1-success_prob)\n",
    "logPY1_X = logPX_Y1 - (logPX_Y1.exp() + logPX_Y0.exp()).log()\n",
    "logPY1_X.exp()\n",
    "Y_pred = 1*(logPY1_X.exp() > 0.5)"
   ]
  },
  {
   "cell_type": "code",
   "execution_count": null,
   "metadata": {},
   "outputs": [],
   "source": [
    "print(\"Numerical integration classification accuracy in testing:\",torch.mean((Y_pred[test_idx] == y_test).float()).item())"
   ]
  },
  {
   "cell_type": "code",
   "execution_count": null,
   "metadata": {},
   "outputs": [],
   "source": [
    "ROC(y_test, logPY1_X.exp()[[test_idx]])"
   ]
  },
  {
   "cell_type": "code",
   "execution_count": null,
   "metadata": {},
   "outputs": [],
   "source": []
  },
  {
   "cell_type": "code",
   "execution_count": null,
   "metadata": {},
   "outputs": [],
   "source": []
  },
  {
   "cell_type": "code",
   "execution_count": null,
   "metadata": {},
   "outputs": [],
   "source": []
  }
 ],
 "metadata": {
  "kernelspec": {
   "display_name": "Python 3",
   "language": "python",
   "name": "python3"
  },
  "language_info": {
   "codemirror_mode": {
    "name": "ipython",
    "version": 3
   },
   "file_extension": ".py",
   "mimetype": "text/x-python",
   "name": "python",
   "nbconvert_exporter": "python",
   "pygments_lexer": "ipython3",
   "version": "3.7.3"
  }
 },
 "nbformat": 4,
 "nbformat_minor": 2
}
