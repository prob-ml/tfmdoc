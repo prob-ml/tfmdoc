{
 "cells": [
  {
   "cell_type": "code",
   "execution_count": 2,
   "metadata": {},
   "outputs": [],
   "source": [
    "#pip install pymc3"
   ]
  },
  {
   "cell_type": "code",
   "execution_count": 2,
   "metadata": {},
   "outputs": [
    {
     "name": "stderr",
     "output_type": "stream",
     "text": [
      "WARNING (theano.configdefaults): We are not able to detect the number of CPU cores. We disable openmp by default. To remove this warning, set the environment variable OMP_NUM_THREADS to the number of threads you want theano to use.\n"
     ]
    }
   ],
   "source": [
    "import numpy as np\n",
    "import torch \n",
    "import scipy.stats\n",
    "import math\n",
    "from scipy.stats import multivariate_normal\n",
    "from torch import distributions\n",
    "import pymc3 as pm\n",
    "import random\n",
    "import seaborn as sns"
   ]
  },
  {
   "cell_type": "markdown",
   "metadata": {},
   "source": [
    "$\\ Z_{it}|Z_{i,t-1}$ ~ $\\ N$($\\Omega Z_{i,t-1}$, $\\ I$\\)\\\n",
    "$\\ X_{it}|Z_{i,t}$ ~ $\\ N$($\\ Z_{i,t}$, $\\ I$\\)\n",
    "\n",
    "Theoretical derivation gives:\\\n",
    "$\\ Z_{it}|X_{i,t}$ ~ $\\ N$($(1/2)*(\\Omega Z_{i,t-1} + \\ X_{i,t})$, $\\ I/2$\\)\n"
   ]
  },
  {
   "cell_type": "code",
   "execution_count": 3,
   "metadata": {},
   "outputs": [],
   "source": [
    "N = 500 # num patients\n",
    "T = 10 # num of hospital visits for each patients\n",
    "random.seed(53)\n",
    "zdim = 2\n",
    "xdim = zdim\n",
    "\n",
    "Z = torch.zeros((N, T, zdim)) # latent\n",
    "logPZ = torch.zeros((N, T)) \n",
    "X = torch.zeros((N, T, xdim)) # observed\n",
    "PX = torch.zeros((N, T, xdim)) \n",
    "logPX = torch.zeros((N, T))\n",
    "d = torch.ones(zdim,requires_grad = True) \n",
    "omega = torch.diag(d) \n",
    "#Psi = torch.randn((xdim,zdim),requires_grad = True)\n",
    "\n",
    "\n",
    "\n",
    "#mean = torch.zeros((zdim))\n",
    "#cov = torch.eye(zdim)\n",
    "#Zi0 = torch.distributions.multivariate_normal.MultivariateNormal(mean,cov)\n",
    "#Z[0,0] = Zi0.sample()\n",
    "\n",
    "for t in range(1,T):\n",
    "    # Zit|Zi,t-1\n",
    "    meanz = torch.matmul(Z[:,t-1], omega)\n",
    "    cov = torch.eye(zdim)\n",
    "    Zt = torch.distributions.multivariate_normal.MultivariateNormal(meanz, cov)\n",
    "    Z[:,t] = Zt.sample()\n",
    "    logPZ[:,t] = Zt.log_prob(Z[:,t])\n",
    "\n",
    "\n",
    "    #Xit|Zit\n",
    "    meanx = Z[:,t] \n",
    "    cov = torch.eye(xdim) \n",
    "    Xt = torch.distributions.multivariate_normal.MultivariateNormal(meanx, cov)\n",
    "    X[:,t] = Xt.sample()\n",
    "    logPX[:,t] = Xt.log_prob(X[:,t])\n",
    "\n",
    "\n",
    "        \n",
    "        \n",
    "def posterior_i(x,omega):\n",
    "    n,t,xdim = x.size()\n",
    "    zdim = xdim\n",
    "    z = torch.zeros((n,t,zdim))\n",
    "    logpz = torch.zeros((n, t)) \n",
    "\n",
    "    for j in range(1,t):     \n",
    "        mean = 1/2*(torch.matmul(Z[:,j-1], omega) + x[:,j])\n",
    "        cov = torch.eye(zdim)*(1/2)\n",
    "        zt = torch.distributions.multivariate_normal.MultivariateNormal(mean, cov)\n",
    "        z[:,j] = zt.sample()\n",
    "        logpz[:,j] = zt.log_prob(z[:,j])     \n",
    "    return z, logpz\n",
    "        \n",
    "\n",
    "    \n",
    "Z_posterior = torch.zeros((N, T, zdim))\n",
    "Z_posterior,log_posterior = posterior_i(X,omega)"
   ]
  },
  {
   "cell_type": "code",
   "execution_count": 4,
   "metadata": {},
   "outputs": [
    {
     "data": {
      "text/plain": [
       "tensor(0.8961)"
      ]
     },
     "execution_count": 4,
     "metadata": {},
     "output_type": "execute_result"
    }
   ],
   "source": [
    "torch.mean((Z-Z_posterior)**2)"
   ]
  },
  {
   "cell_type": "code",
   "execution_count": 5,
   "metadata": {},
   "outputs": [
    {
     "data": {
      "text/plain": [
       "tensor([[[ 0.0000e+00,  0.0000e+00],\n",
       "         [-1.7798e-01,  1.8810e+00],\n",
       "         [ 5.3781e-02,  3.7040e-02],\n",
       "         ...,\n",
       "         [-4.4548e-01,  2.6676e+00],\n",
       "         [ 1.2291e+00,  1.4103e+00],\n",
       "         [ 4.9175e-01,  5.9679e-01]],\n",
       "\n",
       "        [[ 0.0000e+00,  0.0000e+00],\n",
       "         [ 3.8345e-01, -4.1703e-03],\n",
       "         [ 1.4259e+00,  1.3981e-01],\n",
       "         ...,\n",
       "         [ 2.4969e+00, -3.7381e+00],\n",
       "         [ 7.5783e-01, -5.5789e+00],\n",
       "         [ 3.0916e+00, -5.8369e+00]],\n",
       "\n",
       "        [[ 0.0000e+00,  0.0000e+00],\n",
       "         [-8.2840e-02, -9.3748e-03],\n",
       "         [ 5.8908e-01, -1.2804e+00],\n",
       "         ...,\n",
       "         [-1.2019e+00,  3.6194e+00],\n",
       "         [ 6.3056e-01,  3.5899e+00],\n",
       "         [-2.9003e+00,  4.2952e+00]],\n",
       "\n",
       "        ...,\n",
       "\n",
       "        [[ 0.0000e+00,  0.0000e+00],\n",
       "         [-4.3188e-02, -9.8304e-01],\n",
       "         [ 6.1278e-01, -1.4190e+00],\n",
       "         ...,\n",
       "         [ 1.8112e-01,  1.9335e+00],\n",
       "         [-1.0638e+00, -2.1785e-01],\n",
       "         [ 1.5986e-01,  3.3148e-01]],\n",
       "\n",
       "        [[ 0.0000e+00,  0.0000e+00],\n",
       "         [ 1.7241e+00,  1.6373e-01],\n",
       "         [ 1.1073e+00,  1.7057e+00],\n",
       "         ...,\n",
       "         [ 1.3895e+00,  2.7999e+00],\n",
       "         [ 5.3331e-01,  1.2955e+00],\n",
       "         [ 1.1751e+00,  9.7925e-01]],\n",
       "\n",
       "        [[ 0.0000e+00,  0.0000e+00],\n",
       "         [ 1.2070e-01, -1.5594e+00],\n",
       "         [ 8.4956e-03,  2.0559e+00],\n",
       "         ...,\n",
       "         [ 1.0238e+00,  1.1775e-01],\n",
       "         [ 1.5566e+00,  8.0646e-01],\n",
       "         [ 2.2465e+00,  6.4221e-01]]])"
      ]
     },
     "execution_count": 5,
     "metadata": {},
     "output_type": "execute_result"
    }
   ],
   "source": [
    "Z_posterior"
   ]
  },
  {
   "cell_type": "code",
   "execution_count": 6,
   "metadata": {},
   "outputs": [
    {
     "data": {
      "text/plain": [
       "tensor([[[ 0.0000,  0.0000],\n",
       "         [-1.1254,  0.1623],\n",
       "         [ 0.3141, -1.0375],\n",
       "         ...,\n",
       "         [ 1.2489,  1.0395],\n",
       "         [ 0.0444,  1.0417],\n",
       "         [ 0.4390,  0.1707]],\n",
       "\n",
       "        [[ 0.0000,  0.0000],\n",
       "         [ 0.3458, -0.3084],\n",
       "         [ 1.0967, -1.2672],\n",
       "         ...,\n",
       "         [ 1.7955, -4.6554],\n",
       "         [ 1.8791, -5.5217],\n",
       "         [ 3.1513, -5.8138]],\n",
       "\n",
       "        [[ 0.0000,  0.0000],\n",
       "         [-0.1426,  0.0354],\n",
       "         [-0.8688,  0.7505],\n",
       "         ...,\n",
       "         [-0.0373,  3.9404],\n",
       "         [-1.1010,  4.5625],\n",
       "         [-1.7324,  4.0058]],\n",
       "\n",
       "        ...,\n",
       "\n",
       "        [[ 0.0000,  0.0000],\n",
       "         [ 0.6092, -1.4228],\n",
       "         [ 0.6943, -0.1799],\n",
       "         ...,\n",
       "         [-2.1987,  0.7683],\n",
       "         [ 0.2545, -0.2085],\n",
       "         [ 1.0958,  0.3610]],\n",
       "\n",
       "        [[ 0.0000,  0.0000],\n",
       "         [ 1.4173,  0.4078],\n",
       "         [ 2.7967,  0.8755],\n",
       "         ...,\n",
       "         [ 1.4952,  2.6349],\n",
       "         [ 1.7544,  1.5022],\n",
       "         [ 1.1315,  1.1198]],\n",
       "\n",
       "        [[ 0.0000,  0.0000],\n",
       "         [ 1.2381,  0.8946],\n",
       "         [-0.5227,  1.6181],\n",
       "         ...,\n",
       "         [ 1.8653,  1.8423],\n",
       "         [ 2.0642,  1.3666],\n",
       "         [ 0.8604,  1.8441]]])"
      ]
     },
     "execution_count": 6,
     "metadata": {},
     "output_type": "execute_result"
    }
   ],
   "source": [
    "Z"
   ]
  },
  {
   "cell_type": "code",
   "execution_count": null,
   "metadata": {},
   "outputs": [],
   "source": []
  }
 ],
 "metadata": {
  "kernelspec": {
   "display_name": "Python 3",
   "language": "python",
   "name": "python3"
  },
  "language_info": {
   "codemirror_mode": {
    "name": "ipython",
    "version": 3
   },
   "file_extension": ".py",
   "mimetype": "text/x-python",
   "name": "python",
   "nbconvert_exporter": "python",
   "pygments_lexer": "ipython3",
   "version": "3.7.3"
  }
 },
 "nbformat": 4,
 "nbformat_minor": 2
}
