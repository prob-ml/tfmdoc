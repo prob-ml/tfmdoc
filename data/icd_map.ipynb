{
 "cells": [
  {
   "cell_type": "code",
   "execution_count": 23,
   "metadata": {},
   "outputs": [],
   "source": [
    "import os\n",
    "import csv\n",
    "import sys\n",
    "import argparse\n",
    "import json\n",
    "\n",
    "import pandas as pd\n",
    "import numpy as np\n",
    "\n",
    "import torch\n",
    "from transformers import DataCollatorForLanguageModeling, BertForMaskedLM\n",
    "from transformers import Trainer, TrainingArguments\n"
   ]
  },
  {
   "cell_type": "markdown",
   "metadata": {},
   "source": [
    "# Convert Diag code"
   ]
  },
  {
   "cell_type": "code",
   "execution_count": 3,
   "metadata": {},
   "outputs": [],
   "source": [
    "diagmap_path = os.path.join('/home/liutianc/emr/data/', 'diag_9to10.csv')\n",
    "icd_csv = csv.reader(open(diagmap_path), delimiter='|')"
   ]
  },
  {
   "cell_type": "code",
   "execution_count": 4,
   "metadata": {},
   "outputs": [
    {
     "data": {
      "text/plain": [
       "(13516, 2)"
      ]
     },
     "execution_count": 4,
     "metadata": {},
     "output_type": "execute_result"
    }
   ],
   "source": [
    "icd_map = []\n",
    "for code in open(diagmap_path).readlines():\n",
    "    code=code.strip()\n",
    "    if code.split(\"|\")[1] == 'Flags':\n",
    "        header = code.split(\"|\")\n",
    "        print(code)\n",
    "    else:\n",
    "        icd_map.append(code.split(\"|\"))\n",
    "        \n",
    "icd_map_df = pd.DataFrame(icd_map).loc[:,:1]\n",
    "icd_map_df.columns = ['icd9', 'icd10']\n",
    "\n",
    "# Drop some outlier characters.\n",
    "icd_map_df['icd9'] = icd_map_df['icd9'].str.replace(\"'\", \"\", regex=False)\n",
    "icd_map_df['icd10'] = icd_map_df['icd10'].str.replace(\"'\", \"\", regex=False)\n",
    "\n",
    "# Only keep rows with defined mapping relationships: coverage rate is 14,660 / 15,086 = 95.85%\n",
    "icd_map_df = icd_map_df.loc[icd_map_df['icd10'] != '']\n",
    "\n",
    "# Only keep rows with UNIQUE mapping relationships: coverage rate is 13,516 / 14,660 = 92.20%\n",
    "icd9_mapnum = icd_map_df.groupby('icd9').count().reset_index()\n",
    "icd9_unimap = set(list(icd9_mapnum.loc[icd9_mapnum['icd10'] == 1, 'icd9']))\n",
    "icd_map_df = icd_map_df.loc[icd_map_df['icd9'].apply(lambda x: x in icd9_unimap)]\n",
    "\n",
    "# Cast icd10 encode to our data version: coverage rate is 9261 / 9802 = 94.48%\n",
    "icd_map_df['icd10'] = icd_map_df['icd10'].str.replace('.', '', regex=False).str.upper()\n",
    "\n",
    "icd_map_df.shape"
   ]
  },
  {
   "cell_type": "code",
   "execution_count": 5,
   "metadata": {},
   "outputs": [],
   "source": [
    "icd_map_df = icd_map_df.set_index('icd9')\n",
    "icd_map_raw = icd_map_df.to_dict(orient='index')"
   ]
  },
  {
   "cell_type": "code",
   "execution_count": 7,
   "metadata": {},
   "outputs": [],
   "source": [
    "icd_map = {}\n",
    "for idx, icd9 in enumerate(icd_map_raw):\n",
    "    value = icd_map_raw[icd9]['icd10']\n",
    "    \n",
    "    _icd9 = icd9.replace('.', '')\n",
    "    keys = [_icd9]\n",
    "    # Add zero: We only add 0 to the end.\n",
    "    keys += [_icd9 + '0']\n",
    "    # If the last two chars are not 00, then we will add double 00 to the end.\n",
    "    if _icd9[-2:] != '00':\n",
    "        keys += [_icd9 + '00']\n",
    "\n",
    "    # Strip ALL 0.\n",
    "    keys += [_icd9.strip('0')]\n",
    "\n",
    "    for key in set(keys):\n",
    "        if key in icd_map:\n",
    "            icd_map[key] = None\n",
    "        else:\n",
    "            icd_map[key] = [value, icd9]\n"
   ]
  },
  {
   "cell_type": "code",
   "execution_count": 12,
   "metadata": {},
   "outputs": [],
   "source": [
    "DATA_PATH = '/nfs/turbo/lsa-regier/emr-data'\n",
    "\n",
    "vocab_path = os.path.join(DATA_PATH, 'vocabs', 'vocab_merged.json')\n",
    "\n",
    "with open(vocab_path, 'r') as file:\n",
    "    vocabs = json.load(file)\n",
    "        \n",
    "diag_icd9, diag_icd10 = [], []\n",
    "proc_icd9, proc_icd10 = [], []\n",
    "for token in vocabs:\n",
    "    if 'diag' in token:\n",
    "        if 'icd:9_' in token:\n",
    "            token = token.split('_')[1]\n",
    "            token = token.split(':')[1]\n",
    "            diag_icd9.append(token)\n",
    "        elif 'icd:10_' in token:\n",
    "            token = token.split('_')[1]\n",
    "            token = token.split(':')[1]\n",
    "            diag_icd10.append(token)   \n",
    "    elif 'proc' in token:\n",
    "        if 'icd:9_' in token:\n",
    "            token = token.split('_')[1]\n",
    "            token = token.split(':')[1]\n",
    "            proc_icd9.append(token)\n",
    "        elif 'icd:10_' in token:\n",
    "            token = token.split('_')[1]\n",
    "            token = token.split(':')[1]\n",
    "            proc_icd10.append(token)   \n",
    "            \n",
    "diag_icd9 = [token.replace('-', '') for token in diag_icd9]\n",
    "diag_icd10 = [token.replace('-', '') for token in diag_icd10]"
   ]
  },
  {
   "cell_type": "code",
   "execution_count": 35,
   "metadata": {},
   "outputs": [
    {
     "name": "stdout",
     "output_type": "stream",
     "text": [
      "\n",
      "Total icd9 diag we have: 26963,\n",
      "Caught by valid mapping: 15234,\n",
      "Caught by invalid mapping: 962,\n",
      "Not caught: 10767\n",
      "Actually ICD10: 3778\n",
      "\n"
     ]
    }
   ],
   "source": [
    "icd9 = set(diag_icd9)\n",
    "icd10 = set(diag_icd10)\n",
    "\n",
    "vc = [k for k in icd_map if icd_map[k] is not None]\n",
    "ivc = [k for k in icd_map if icd_map[k] is None]\n",
    "\n",
    "fail, success = [], []\n",
    "for t in icd9:\n",
    "    t_raw = t\n",
    "    is_succ = 0\n",
    "    if t_raw in vc:\n",
    "        success.append(t_raw)\n",
    "        is_succ = 1\n",
    "    \n",
    "    # Since we didn't add 0 to the beginning, removing possible extra 0 is done here.\n",
    "    while t[0] == '0':\n",
    "        t = t[1:]\n",
    "        if t in vc:\n",
    "            success.append(t_raw)\n",
    "            is_succ = 1\n",
    "            continue\n",
    "    \n",
    "    if is_succ == 0:\n",
    "        fail.append(t_raw)\n",
    "\n",
    "fail = set(fail)\n",
    "success = set(success)\n",
    "print(f'''\n",
    "Total icd9 diag we have: {len(icd9)},\n",
    "Caught by valid mapping: {len(success)},\n",
    "Caught by invalid mapping: {len(fail.intersection(ivc))},\n",
    "Not caught: {len(fail.difference(set(icd_map)))}\n",
    "Actually ICD10: {len(fail.intersection(icd10))}\n",
    "''')"
   ]
  },
  {
   "cell_type": "code",
   "execution_count": 44,
   "metadata": {},
   "outputs": [
    {
     "data": {
      "text/plain": [
       "True"
      ]
     },
     "execution_count": 44,
     "metadata": {},
     "output_type": "execute_result"
    }
   ],
   "source": [
    "'icd:9_diag:26080'"
   ]
  },
  {
   "cell_type": "code",
   "execution_count": 21,
   "metadata": {},
   "outputs": [],
   "source": [
    "icd_10 = {}\n",
    "for icd in icd10:\n",
    "    icd_10[icd] = [icd]"
   ]
  },
  {
   "cell_type": "code",
   "execution_count": 22,
   "metadata": {},
   "outputs": [],
   "source": [
    "import json\n",
    "icd_10_file = '/nfs/turbo/lsa-regier/emr-data/icd_10.json'\n",
    "icd_map_file = '/nfs/turbo/lsa-regier/emr-data/icd_map.json'\n",
    "\n",
    "with open(icd_10_file, 'w') as file:\n",
    "            json.dump(icd_10, file)\n",
    "        \n",
    "with open(icd_map_file, 'w') as file:\n",
    "            json.dump(icd_map, file)"
   ]
  },
  {
   "cell_type": "code",
   "execution_count": null,
   "metadata": {},
   "outputs": [],
   "source": []
  },
  {
   "cell_type": "code",
   "execution_count": null,
   "metadata": {},
   "outputs": [],
   "source": []
  }
 ],
 "metadata": {
  "kernelspec": {
   "display_name": "Python 3",
   "language": "python",
   "name": "python3"
  },
  "language_info": {
   "codemirror_mode": {
    "name": "ipython",
    "version": 3
   },
   "file_extension": ".py",
   "mimetype": "text/x-python",
   "name": "python",
   "nbconvert_exporter": "python",
   "pygments_lexer": "ipython3",
   "version": "3.7.7"
  }
 },
 "nbformat": 4,
 "nbformat_minor": 4
}
