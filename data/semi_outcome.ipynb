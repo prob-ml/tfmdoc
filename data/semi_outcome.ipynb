{
 "cells": [
  {
   "cell_type": "code",
   "execution_count": 1,
   "metadata": {},
   "outputs": [],
   "source": [
    "import pandas as pd\n",
    "import torch\n",
    "import random\n",
    "import os\n",
    "from torch.distributions.binomial import Binomial\n",
    "from torch.distributions.bernoulli import Bernoulli\n",
    "import torch.nn as nn\n",
    "\n"
   ]
  },
  {
   "cell_type": "code",
   "execution_count": 58,
   "metadata": {},
   "outputs": [
    {
     "name": "stderr",
     "output_type": "stream",
     "text": [
      "/home/jingoy/miniconda3/lib/python3.7/site-packages/ipykernel_launcher.py:36: UserWarning: Implicit dimension choice for softmax has been deprecated. Change the call to include dim=X as an argument.\n"
     ]
    }
   ],
   "source": [
    "def treat_portion(x):\n",
    "    x = x.replace(' [SEP] ', '').strip()\n",
    "    token_list = x.split(' ')\n",
    "    treat_cnt = 0\n",
    "    if len(token_list) > 0:\n",
    "        for token in token_list:\n",
    "            if 'diag' not in token:\n",
    "                treat_cnt += 1\n",
    "    \n",
    "    score = (treat_cnt + 1e-8)/ (len(token_list) + 1e-8)\n",
    "    score = max(score, 0.001)\n",
    "    score = min(score, 0.999)\n",
    "\n",
    "    return score\n",
    "\n",
    "DATA_PATH = '/nfs/turbo/lsa-regier/emr-data/'\n",
    "groups = [str(i) for i in range(10)]\n",
    "beta_1 = torch.tensor([1.0, 10.0, 100.0])\n",
    "\n",
    "for group in groups:\n",
    "    data_path = os.path.join(DATA_PATH, f'group_{group}_merged.csv')\n",
    "    data = pd.read_csv(data_path, sep=',')\n",
    "    \n",
    "    ### calculate propensity score pi(z)\n",
    "    data = data.assign(base_propensity_score = data['document'].apply(lambda x: treat_portion(x)))\n",
    "    \n",
    "    ### simulate treatment based on propensity score\n",
    "    all_treatments = Binomial(1, torch.tensor(data[\"base_propensity_score\"].values))\n",
    "    data = data.assign(treatment = all_treatments.sample())\n",
    "    \n",
    "    ### simulate response from treatment and propensity score\n",
    "    treatment_propensity = 0.25 * data['treatment'] + beta_1[0] * (data['base_propensity_score'] - 0.2)\n",
    "    softmax_fn = torch.nn.Softmax()\n",
    "    input = torch.tensor(treatment_propensity.values)\n",
    "    reponse_prob = softmax_fn(input)\n",
    "    all_response = torch.bernoulli(reponse_prob)\n",
    "    data = data.assign(response = all_response)\n",
    "    break"
   ]
  },
  {
   "cell_type": "code",
   "execution_count": 59,
   "metadata": {},
   "outputs": [
    {
     "data": {
      "text/plain": [
       "0.0"
      ]
     },
     "execution_count": 59,
     "metadata": {},
     "output_type": "execute_result"
    }
   ],
   "source": [
    "data[\"response\"].sum()"
   ]
  },
  {
   "cell_type": "code",
   "execution_count": 60,
   "metadata": {},
   "outputs": [
    {
     "data": {
      "text/plain": [
       "22476.0"
      ]
     },
     "execution_count": 60,
     "metadata": {},
     "output_type": "execute_result"
    }
   ],
   "source": [
    "data[\"treatment\"].sum()"
   ]
  },
  {
   "cell_type": "code",
   "execution_count": 61,
   "metadata": {},
   "outputs": [
    {
     "data": {
      "text/html": [
       "<div>\n",
       "<style scoped>\n",
       "    .dataframe tbody tr th:only-of-type {\n",
       "        vertical-align: middle;\n",
       "    }\n",
       "\n",
       "    .dataframe tbody tr th {\n",
       "        vertical-align: top;\n",
       "    }\n",
       "\n",
       "    .dataframe thead th {\n",
       "        text-align: right;\n",
       "    }\n",
       "</style>\n",
       "<table border=\"1\" class=\"dataframe\">\n",
       "  <thead>\n",
       "    <tr style=\"text-align: right;\">\n",
       "      <th></th>\n",
       "      <th>patid</th>\n",
       "      <th>document</th>\n",
       "      <th>base_propensity_score</th>\n",
       "      <th>treatment</th>\n",
       "      <th>response</th>\n",
       "    </tr>\n",
       "  </thead>\n",
       "  <tbody>\n",
       "    <tr>\n",
       "      <th>0</th>\n",
       "      <td>560499201141940</td>\n",
       "      <td>SIMVASTATIN METOPROLOL_SUCCINATE LISINOPRIL ES...</td>\n",
       "      <td>0.725971</td>\n",
       "      <td>1.0</td>\n",
       "      <td>0.0</td>\n",
       "    </tr>\n",
       "    <tr>\n",
       "      <th>1</th>\n",
       "      <td>560499201299620</td>\n",
       "      <td>icd:9_diag:7822 [SEP] icd:9_diag:V700 icd:9_di...</td>\n",
       "      <td>0.001000</td>\n",
       "      <td>0.0</td>\n",
       "      <td>0.0</td>\n",
       "    </tr>\n",
       "    <tr>\n",
       "      <th>2</th>\n",
       "      <td>560499202033650</td>\n",
       "      <td>icd:10_diag:M7051 icd:10_diag:M7052</td>\n",
       "      <td>0.001000</td>\n",
       "      <td>0.0</td>\n",
       "      <td>0.0</td>\n",
       "    </tr>\n",
       "    <tr>\n",
       "      <th>3</th>\n",
       "      <td>560499202033740</td>\n",
       "      <td>icd:9_diag:V7612 icd:9_diag:V7612 [SEP] icd:9_...</td>\n",
       "      <td>0.076923</td>\n",
       "      <td>0.0</td>\n",
       "      <td>0.0</td>\n",
       "    </tr>\n",
       "    <tr>\n",
       "      <th>4</th>\n",
       "      <td>560499202037510</td>\n",
       "      <td>icd:9_diag:5246 icd:9_diag:83901 [SEP] icd:9_d...</td>\n",
       "      <td>0.164063</td>\n",
       "      <td>0.0</td>\n",
       "      <td>0.0</td>\n",
       "    </tr>\n",
       "    <tr>\n",
       "      <th>...</th>\n",
       "      <td>...</td>\n",
       "      <td>...</td>\n",
       "      <td>...</td>\n",
       "      <td>...</td>\n",
       "      <td>...</td>\n",
       "    </tr>\n",
       "    <tr>\n",
       "      <th>200526</th>\n",
       "      <td>560499899998870</td>\n",
       "      <td>icd:9_diag:8472 CYCLOBENZAPRINE_HCL [SEP] icd:...</td>\n",
       "      <td>0.001000</td>\n",
       "      <td>0.0</td>\n",
       "      <td>0.0</td>\n",
       "    </tr>\n",
       "    <tr>\n",
       "      <th>200527</th>\n",
       "      <td>560499899999040</td>\n",
       "      <td>icd:9_diag:41401 icd:9_diag:71536 icd:9_diag:7...</td>\n",
       "      <td>0.063712</td>\n",
       "      <td>0.0</td>\n",
       "      <td>0.0</td>\n",
       "    </tr>\n",
       "    <tr>\n",
       "      <th>200528</th>\n",
       "      <td>560499899999220</td>\n",
       "      <td>icd:9_diag:V202 [SEP] icd:9_diag:38870 NEOMY_S...</td>\n",
       "      <td>0.001000</td>\n",
       "      <td>0.0</td>\n",
       "      <td>0.0</td>\n",
       "    </tr>\n",
       "    <tr>\n",
       "      <th>200529</th>\n",
       "      <td>560499899999970</td>\n",
       "      <td>AMOX_TR/POTASSIUM_CLAVULANATE GUAIFENESIN/CODE...</td>\n",
       "      <td>0.205128</td>\n",
       "      <td>1.0</td>\n",
       "      <td>0.0</td>\n",
       "    </tr>\n",
       "    <tr>\n",
       "      <th>200530</th>\n",
       "      <td>560499899999980</td>\n",
       "      <td>icd:9_diag:V7389 icd:9_diag:71590 icd:9_diag:4...</td>\n",
       "      <td>0.034483</td>\n",
       "      <td>0.0</td>\n",
       "      <td>0.0</td>\n",
       "    </tr>\n",
       "  </tbody>\n",
       "</table>\n",
       "<p>200531 rows × 5 columns</p>\n",
       "</div>"
      ],
      "text/plain": [
       "                  patid                                           document  \\\n",
       "0       560499201141940  SIMVASTATIN METOPROLOL_SUCCINATE LISINOPRIL ES...   \n",
       "1       560499201299620  icd:9_diag:7822 [SEP] icd:9_diag:V700 icd:9_di...   \n",
       "2       560499202033650                icd:10_diag:M7051 icd:10_diag:M7052   \n",
       "3       560499202033740  icd:9_diag:V7612 icd:9_diag:V7612 [SEP] icd:9_...   \n",
       "4       560499202037510  icd:9_diag:5246 icd:9_diag:83901 [SEP] icd:9_d...   \n",
       "...                 ...                                                ...   \n",
       "200526  560499899998870  icd:9_diag:8472 CYCLOBENZAPRINE_HCL [SEP] icd:...   \n",
       "200527  560499899999040  icd:9_diag:41401 icd:9_diag:71536 icd:9_diag:7...   \n",
       "200528  560499899999220  icd:9_diag:V202 [SEP] icd:9_diag:38870 NEOMY_S...   \n",
       "200529  560499899999970  AMOX_TR/POTASSIUM_CLAVULANATE GUAIFENESIN/CODE...   \n",
       "200530  560499899999980  icd:9_diag:V7389 icd:9_diag:71590 icd:9_diag:4...   \n",
       "\n",
       "        base_propensity_score  treatment  response  \n",
       "0                    0.725971        1.0       0.0  \n",
       "1                    0.001000        0.0       0.0  \n",
       "2                    0.001000        0.0       0.0  \n",
       "3                    0.076923        0.0       0.0  \n",
       "4                    0.164063        0.0       0.0  \n",
       "...                       ...        ...       ...  \n",
       "200526               0.001000        0.0       0.0  \n",
       "200527               0.063712        0.0       0.0  \n",
       "200528               0.001000        0.0       0.0  \n",
       "200529               0.205128        1.0       0.0  \n",
       "200530               0.034483        0.0       0.0  \n",
       "\n",
       "[200531 rows x 5 columns]"
      ]
     },
     "execution_count": 61,
     "metadata": {},
     "output_type": "execute_result"
    }
   ],
   "source": [
    "data\n"
   ]
  },
  {
   "cell_type": "code",
   "execution_count": 24,
   "metadata": {},
   "outputs": [],
   "source": [
    "testdata = data[0:9]"
   ]
  },
  {
   "cell_type": "code",
   "execution_count": 36,
   "metadata": {},
   "outputs": [
    {
     "name": "stderr",
     "output_type": "stream",
     "text": [
      "/home/jingoy/miniconda3/lib/python3.7/site-packages/ipykernel_launcher.py:4: UserWarning: Implicit dimension choice for softmax has been deprecated. Change the call to include dim=X as an argument.\n",
      "  after removing the cwd from sys.path.\n"
     ]
    },
    {
     "data": {
      "text/plain": [
       "tensor([0., 0., 0., 0., 0., 0., 0., 0., 0.], dtype=torch.float64)"
      ]
     },
     "execution_count": 36,
     "metadata": {},
     "output_type": "execute_result"
    }
   ],
   "source": [
    "treatment_propensity = 0.25 * testdata['treatment'] + beta_1 *(testdata['base_propensity_score'] - 0.2)\n",
    "softmax_fn = torch.nn.Softmax()\n",
    "input = torch.tensor(treatment_propensity.values)\n",
    "reponse_prob = softmax_fn(input)\n",
    "all_response = torch.bernoulli(reponse_prob)\n",
    "all_response"
   ]
  }
 ],
 "metadata": {
  "kernelspec": {
   "display_name": "Python 3",
   "language": "python",
   "name": "python3"
  },
  "language_info": {
   "codemirror_mode": {
    "name": "ipython",
    "version": 3
   },
   "file_extension": ".py",
   "mimetype": "text/x-python",
   "name": "python",
   "nbconvert_exporter": "python",
   "pygments_lexer": "ipython3",
   "version": "3.7.6"
  }
 },
 "nbformat": 4,
 "nbformat_minor": 4
}
