{
 "cells": [
  {
   "cell_type": "code",
   "execution_count": 3,
   "metadata": {},
   "outputs": [],
   "source": [
    "import pandas as pd\n",
    "import torch\n",
    "import random\n",
    "import os\n",
    "from torch.distributions.binomial import Binomial\n",
    "from torch.distributions.bernoulli import Bernoulli\n",
    "import torch.nn as nn"
   ]
  },
  {
   "cell_type": "code",
   "execution_count": null,
   "metadata": {},
   "outputs": [
    {
     "name": "stdout",
     "output_type": "stream",
     "text": [
      "0\n",
      "1\n",
      "2\n",
      "3\n",
      "4\n",
      "5\n",
      "6\n",
      "7\n"
     ]
    }
   ],
   "source": [
    "def treat_portion(x):\n",
    "    x = x.replace(' [SEP] ', '').strip()\n",
    "    token_list = x.split(' ')\n",
    "    treat_cnt = 0\n",
    "    if len(token_list) > 0:\n",
    "        for token in token_list:\n",
    "            if 'diag' not in token:\n",
    "                treat_cnt += 1\n",
    "    \n",
    "    score = (treat_cnt + 1e-8)/ (len(token_list) + 1e-8)\n",
    "    score = max(score, 0.1)\n",
    "    score = min(score, 0.9)\n",
    "\n",
    "    return score\n",
    "\n",
    "DATA_PATH = '/nfs/turbo/lsa-regier/emr-data/'\n",
    "groups = [str(i) for i in range(10)]\n",
    "beta_1 = torch.tensor([1.0, 10.0, 100.0])\n",
    "\n",
    "\n",
    "for group in groups:\n",
    "    print(group)\n",
    "    data_path = os.path.join(DATA_PATH, f'group_{group}_merged.csv')\n",
    "    data_temp = pd.read_csv(data_path, sep=',')\n",
    "    \n",
    "    ### calculate propensity score pi(z)\n",
    "    data_temp = data_temp.assign(base_propensity_score = data_temp['document'].apply(lambda x: treat_portion(x)))\n",
    "    \n",
    "    ### simulate treatment based on propensity score\n",
    "    all_treatments = Binomial(1, torch.tensor(data_temp[\"base_propensity_score\"].values))\n",
    "    data_temp = data_temp.assign(treatment = all_treatments.sample())\n",
    "    \n",
    "    ### simulate response from treatment and propensity score\n",
    "    treatment_propensity = 0.25 * data_temp['treatment'] + beta_1[0] * (data_temp['base_propensity_score'] - 0.2)\n",
    "    sigmoid_fn = torch.nn.Sigmoid()\n",
    "    input = torch.tensor(treatment_propensity.values)\n",
    "    reponse_prob = sigmoid_fn(input)\n",
    "    all_response = torch.bernoulli(reponse_prob)\n",
    "    data_temp = data_temp.assign(response = all_response)\n",
    "    data = pd.concat([data, data_temp]) if group != '0' else data_temp"
   ]
  },
  {
   "cell_type": "code",
   "execution_count": null,
   "metadata": {},
   "outputs": [],
   "source": [
    "data[\"response\"].sum()"
   ]
  },
  {
   "cell_type": "code",
   "execution_count": null,
   "metadata": {},
   "outputs": [],
   "source": [
    "data[\"treatment\"].sum()"
   ]
  },
  {
   "cell_type": "code",
   "execution_count": null,
   "metadata": {},
   "outputs": [],
   "source": [
    "data\n"
   ]
  },
  {
   "cell_type": "code",
   "execution_count": null,
   "metadata": {},
   "outputs": [],
   "source": []
  },
  {
   "cell_type": "code",
   "execution_count": null,
   "metadata": {},
   "outputs": [],
   "source": []
  }
 ],
 "metadata": {
  "kernelspec": {
   "display_name": "Python 3",
   "language": "python",
   "name": "python3"
  },
  "language_info": {
   "codemirror_mode": {
    "name": "ipython",
    "version": 3
   },
   "file_extension": ".py",
   "mimetype": "text/x-python",
   "name": "python",
   "nbconvert_exporter": "python",
   "pygments_lexer": "ipython3",
   "version": "3.7.6"
  }
 },
 "nbformat": 4,
 "nbformat_minor": 4
}
