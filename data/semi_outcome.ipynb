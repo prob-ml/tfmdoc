{
 "cells": [
  {
   "cell_type": "code",
   "execution_count": 1,
   "metadata": {},
   "outputs": [],
   "source": [
    "import pandas as pd\n",
    "import torch\n",
    "import random\n",
    "import os\n",
    "import re\n",
    "from torch.distributions.binomial import Binomial\n",
    "from torch.distributions.bernoulli import Bernoulli\n",
    "import torch.nn as nn"
   ]
  },
  {
   "cell_type": "code",
   "execution_count": 19,
   "metadata": {},
   "outputs": [],
   "source": [
    "def treat_portion(x, pattern):\n",
    "    score = 0.2\n",
    "    if pattern in x:\n",
    "        score = 0.8\n",
    "    return score"
   ]
  },
  {
   "cell_type": "code",
   "execution_count": 21,
   "metadata": {},
   "outputs": [],
   "source": [
    "DATA_PATH = '/nfs/turbo/lsa-regier/emr-data/'\n",
    "groups = [str(i) for i in range(10)]\n",
    "beta_1 = torch.tensor([1.0, 10.0, 100.0])\n",
    "pattern = 'diag:J45' # Asthma\n",
    "\n",
    "\n",
    "for group in groups:\n",
    "    data_path = os.path.join(DATA_PATH, f'group_{group}_merged.csv')\n",
    "    data_temp = pd.read_csv(data_path, sep=',')\n",
    "    \n",
    "    ### calculate propensity score pi(z)\n",
    "    data_temp = data_temp.assign(base_propensity_score = data_temp['document'].apply(lambda x: treat_portion(x, pattern)))\n",
    "    \n",
    "    ### simulate treatment based on propensity score\n",
    "    all_treatments = Binomial(1, torch.tensor(data_temp[\"base_propensity_score\"].values))\n",
    "    data_temp = data_temp.assign(treatment = all_treatments.sample().int())\n",
    "\n",
    "    sigmoid_fn = torch.nn.Sigmoid()\n",
    "    ### simulate response from treatment and propensity score\n",
    "    for i in range(2):\n",
    "        treatment_propensity = 0.25 * i + beta_1[1] * (data_temp['base_propensity_score'] - 0.2)\n",
    "        input = torch.tensor(treatment_propensity.values)\n",
    "        reponse_prob = sigmoid_fn(input)\n",
    "        all_response = torch.bernoulli(reponse_prob)\n",
    "        data_temp[f'response_{str(i)}_'] = all_response\n",
    "        \n",
    "    data_temp['response'] = (data_temp['treatment'] == 0)* data_temp['response_0_'] \\\n",
    "                            + (data_temp['treatment'] == 1)* data_temp['response_1_']\n",
    "    data = pd.concat([data, data_temp]) if group != '0' else data_temp\n",
    "    break\n",
    "    \n",
    "    \n",
    "    "
   ]
  },
  {
   "cell_type": "code",
   "execution_count": 22,
   "metadata": {},
   "outputs": [],
   "source": [
    "data = data.rename(columns={'response_0_': 'potential_response_0', 'response_1_': 'potential_response_1','response_2_': 'response'})"
   ]
  },
  {
   "cell_type": "code",
   "execution_count": 23,
   "metadata": {},
   "outputs": [
    {
     "data": {
      "text/plain": [
       "108361.0"
      ]
     },
     "execution_count": 23,
     "metadata": {},
     "output_type": "execute_result"
    }
   ],
   "source": [
    "data[\"response\"].sum()"
   ]
  },
  {
   "cell_type": "code",
   "execution_count": 24,
   "metadata": {},
   "outputs": [
    {
     "data": {
      "text/plain": [
       "47604"
      ]
     },
     "execution_count": 24,
     "metadata": {},
     "output_type": "execute_result"
    }
   ],
   "source": [
    "data[\"treatment\"].sum()"
   ]
  },
  {
   "cell_type": "code",
   "execution_count": 25,
   "metadata": {},
   "outputs": [
    {
     "data": {
      "text/plain": [
       "0.05901331963636545"
      ]
     },
     "execution_count": 25,
     "metadata": {},
     "output_type": "execute_result"
    }
   ],
   "source": [
    "SATE = (data[\"potential_response_1\"]-data[\"potential_response_0\"]).mean()\n",
    "SATE"
   ]
  },
  {
   "cell_type": "code",
   "execution_count": 26,
   "metadata": {},
   "outputs": [
    {
     "data": {
      "text/plain": [
       "0.5877395514907919"
      ]
     },
     "execution_count": 26,
     "metadata": {},
     "output_type": "execute_result"
    }
   ],
   "source": [
    "data[\"potential_response_1\"].mean()"
   ]
  },
  {
   "cell_type": "code",
   "execution_count": 27,
   "metadata": {},
   "outputs": [
    {
     "data": {
      "text/plain": [
       "0.5287262318544265"
      ]
     },
     "execution_count": 27,
     "metadata": {},
     "output_type": "execute_result"
    }
   ],
   "source": [
    "data[\"potential_response_0\"].mean()"
   ]
  },
  {
   "cell_type": "code",
   "execution_count": 28,
   "metadata": {},
   "outputs": [
    {
     "data": {
      "text/html": [
       "<div>\n",
       "<style scoped>\n",
       "    .dataframe tbody tr th:only-of-type {\n",
       "        vertical-align: middle;\n",
       "    }\n",
       "\n",
       "    .dataframe tbody tr th {\n",
       "        vertical-align: top;\n",
       "    }\n",
       "\n",
       "    .dataframe thead th {\n",
       "        text-align: right;\n",
       "    }\n",
       "</style>\n",
       "<table border=\"1\" class=\"dataframe\">\n",
       "  <thead>\n",
       "    <tr style=\"text-align: right;\">\n",
       "      <th></th>\n",
       "      <th>patid</th>\n",
       "      <th>document</th>\n",
       "      <th>base_propensity_score</th>\n",
       "      <th>treatment</th>\n",
       "      <th>potential_response_0</th>\n",
       "      <th>potential_response_1</th>\n",
       "      <th>response</th>\n",
       "    </tr>\n",
       "  </thead>\n",
       "  <tbody>\n",
       "    <tr>\n",
       "      <th>0</th>\n",
       "      <td>560499201141940</td>\n",
       "      <td>SIMVASTATIN METOPROLOL_SUCCINATE LISINOPRIL ES...</td>\n",
       "      <td>0.2</td>\n",
       "      <td>0</td>\n",
       "      <td>1.0</td>\n",
       "      <td>1.0</td>\n",
       "      <td>1.0</td>\n",
       "    </tr>\n",
       "    <tr>\n",
       "      <th>1</th>\n",
       "      <td>560499201299620</td>\n",
       "      <td>icd:9_diag:7822 [SEP] icd:9_diag:V700 icd:9_di...</td>\n",
       "      <td>0.2</td>\n",
       "      <td>0</td>\n",
       "      <td>1.0</td>\n",
       "      <td>1.0</td>\n",
       "      <td>1.0</td>\n",
       "    </tr>\n",
       "    <tr>\n",
       "      <th>2</th>\n",
       "      <td>560499202033650</td>\n",
       "      <td>icd:10_diag:M7051 icd:10_diag:M7052</td>\n",
       "      <td>0.2</td>\n",
       "      <td>1</td>\n",
       "      <td>1.0</td>\n",
       "      <td>1.0</td>\n",
       "      <td>1.0</td>\n",
       "    </tr>\n",
       "    <tr>\n",
       "      <th>3</th>\n",
       "      <td>560499202033740</td>\n",
       "      <td>icd:9_diag:V7612 icd:9_diag:V7612 [SEP] icd:9_...</td>\n",
       "      <td>0.2</td>\n",
       "      <td>0</td>\n",
       "      <td>0.0</td>\n",
       "      <td>1.0</td>\n",
       "      <td>0.0</td>\n",
       "    </tr>\n",
       "    <tr>\n",
       "      <th>4</th>\n",
       "      <td>560499202037510</td>\n",
       "      <td>icd:9_diag:5246 icd:9_diag:83901 [SEP] icd:9_d...</td>\n",
       "      <td>0.2</td>\n",
       "      <td>1</td>\n",
       "      <td>0.0</td>\n",
       "      <td>0.0</td>\n",
       "      <td>0.0</td>\n",
       "    </tr>\n",
       "    <tr>\n",
       "      <th>...</th>\n",
       "      <td>...</td>\n",
       "      <td>...</td>\n",
       "      <td>...</td>\n",
       "      <td>...</td>\n",
       "      <td>...</td>\n",
       "      <td>...</td>\n",
       "      <td>...</td>\n",
       "    </tr>\n",
       "    <tr>\n",
       "      <th>200526</th>\n",
       "      <td>560499899998870</td>\n",
       "      <td>icd:9_diag:8472 CYCLOBENZAPRINE_HCL [SEP] icd:...</td>\n",
       "      <td>0.2</td>\n",
       "      <td>1</td>\n",
       "      <td>1.0</td>\n",
       "      <td>1.0</td>\n",
       "      <td>1.0</td>\n",
       "    </tr>\n",
       "    <tr>\n",
       "      <th>200527</th>\n",
       "      <td>560499899999040</td>\n",
       "      <td>icd:9_diag:41401 icd:9_diag:71536 icd:9_diag:7...</td>\n",
       "      <td>0.2</td>\n",
       "      <td>0</td>\n",
       "      <td>1.0</td>\n",
       "      <td>0.0</td>\n",
       "      <td>1.0</td>\n",
       "    </tr>\n",
       "    <tr>\n",
       "      <th>200528</th>\n",
       "      <td>560499899999220</td>\n",
       "      <td>icd:9_diag:V202 [SEP] icd:9_diag:38870 NEOMY_S...</td>\n",
       "      <td>0.2</td>\n",
       "      <td>0</td>\n",
       "      <td>0.0</td>\n",
       "      <td>1.0</td>\n",
       "      <td>0.0</td>\n",
       "    </tr>\n",
       "    <tr>\n",
       "      <th>200529</th>\n",
       "      <td>560499899999970</td>\n",
       "      <td>AMOX_TR/POTASSIUM_CLAVULANATE GUAIFENESIN/CODE...</td>\n",
       "      <td>0.2</td>\n",
       "      <td>0</td>\n",
       "      <td>0.0</td>\n",
       "      <td>1.0</td>\n",
       "      <td>0.0</td>\n",
       "    </tr>\n",
       "    <tr>\n",
       "      <th>200530</th>\n",
       "      <td>560499899999980</td>\n",
       "      <td>icd:9_diag:V7389 icd:9_diag:71590 icd:9_diag:4...</td>\n",
       "      <td>0.2</td>\n",
       "      <td>0</td>\n",
       "      <td>1.0</td>\n",
       "      <td>1.0</td>\n",
       "      <td>1.0</td>\n",
       "    </tr>\n",
       "  </tbody>\n",
       "</table>\n",
       "<p>200531 rows × 7 columns</p>\n",
       "</div>"
      ],
      "text/plain": [
       "                  patid                                           document  \\\n",
       "0       560499201141940  SIMVASTATIN METOPROLOL_SUCCINATE LISINOPRIL ES...   \n",
       "1       560499201299620  icd:9_diag:7822 [SEP] icd:9_diag:V700 icd:9_di...   \n",
       "2       560499202033650                icd:10_diag:M7051 icd:10_diag:M7052   \n",
       "3       560499202033740  icd:9_diag:V7612 icd:9_diag:V7612 [SEP] icd:9_...   \n",
       "4       560499202037510  icd:9_diag:5246 icd:9_diag:83901 [SEP] icd:9_d...   \n",
       "...                 ...                                                ...   \n",
       "200526  560499899998870  icd:9_diag:8472 CYCLOBENZAPRINE_HCL [SEP] icd:...   \n",
       "200527  560499899999040  icd:9_diag:41401 icd:9_diag:71536 icd:9_diag:7...   \n",
       "200528  560499899999220  icd:9_diag:V202 [SEP] icd:9_diag:38870 NEOMY_S...   \n",
       "200529  560499899999970  AMOX_TR/POTASSIUM_CLAVULANATE GUAIFENESIN/CODE...   \n",
       "200530  560499899999980  icd:9_diag:V7389 icd:9_diag:71590 icd:9_diag:4...   \n",
       "\n",
       "        base_propensity_score  treatment  potential_response_0  \\\n",
       "0                         0.2          0                   1.0   \n",
       "1                         0.2          0                   1.0   \n",
       "2                         0.2          1                   1.0   \n",
       "3                         0.2          0                   0.0   \n",
       "4                         0.2          1                   0.0   \n",
       "...                       ...        ...                   ...   \n",
       "200526                    0.2          1                   1.0   \n",
       "200527                    0.2          0                   1.0   \n",
       "200528                    0.2          0                   0.0   \n",
       "200529                    0.2          0                   0.0   \n",
       "200530                    0.2          0                   1.0   \n",
       "\n",
       "        potential_response_1  response  \n",
       "0                        1.0       1.0  \n",
       "1                        1.0       1.0  \n",
       "2                        1.0       1.0  \n",
       "3                        1.0       0.0  \n",
       "4                        0.0       0.0  \n",
       "...                      ...       ...  \n",
       "200526                   1.0       1.0  \n",
       "200527                   0.0       1.0  \n",
       "200528                   1.0       0.0  \n",
       "200529                   1.0       0.0  \n",
       "200530                   1.0       1.0  \n",
       "\n",
       "[200531 rows x 7 columns]"
      ]
     },
     "execution_count": 28,
     "metadata": {},
     "output_type": "execute_result"
    }
   ],
   "source": [
    "data"
   ]
  },
  {
   "cell_type": "code",
   "execution_count": 29,
   "metadata": {},
   "outputs": [
    {
     "data": {
      "text/plain": [
       "30908.0"
      ]
     },
     "execution_count": 29,
     "metadata": {},
     "output_type": "execute_result"
    }
   ],
   "source": [
    "((data[\"treatment\"])*data[\"response\"]).sum()"
   ]
  },
  {
   "cell_type": "code",
   "execution_count": 30,
   "metadata": {},
   "outputs": [
    {
     "data": {
      "text/plain": [
       "77453.0"
      ]
     },
     "execution_count": 30,
     "metadata": {},
     "output_type": "execute_result"
    }
   ],
   "source": [
    "((1-data[\"treatment\"])*data[\"response\"]).sum()"
   ]
  },
  {
   "cell_type": "code",
   "execution_count": 31,
   "metadata": {},
   "outputs": [
    {
     "data": {
      "text/plain": [
       "0.8"
      ]
     },
     "execution_count": 31,
     "metadata": {},
     "output_type": "execute_result"
    }
   ],
   "source": [
    "data[\"base_propensity_score\"].max()"
   ]
  },
  {
   "cell_type": "code",
   "execution_count": 32,
   "metadata": {},
   "outputs": [
    {
     "data": {
      "text/plain": [
       "0.8"
      ]
     },
     "execution_count": 32,
     "metadata": {},
     "output_type": "execute_result"
    }
   ],
   "source": [
    "treat_portion(\"diag:J4500\", pattern)"
   ]
  },
  {
   "cell_type": "code",
   "execution_count": 33,
   "metadata": {},
   "outputs": [
    {
     "data": {
      "text/plain": [
       "0         False\n",
       "1         False\n",
       "2         False\n",
       "3         False\n",
       "4         False\n",
       "          ...  \n",
       "200526    False\n",
       "200527    False\n",
       "200528    False\n",
       "200529    False\n",
       "200530    False\n",
       "Name: document, Length: 200531, dtype: bool"
      ]
     },
     "execution_count": 33,
     "metadata": {},
     "output_type": "execute_result"
    }
   ],
   "source": [
    "data_temp['document'].apply(lambda x: \"diag:J45\" in x)"
   ]
  },
  {
   "cell_type": "code",
   "execution_count": null,
   "metadata": {},
   "outputs": [],
   "source": []
  }
 ],
 "metadata": {
  "kernelspec": {
   "display_name": "Python 3",
   "language": "python",
   "name": "python3"
  },
  "language_info": {
   "codemirror_mode": {
    "name": "ipython",
    "version": 3
   },
   "file_extension": ".py",
   "mimetype": "text/x-python",
   "name": "python",
   "nbconvert_exporter": "python",
   "pygments_lexer": "ipython3",
   "version": "3.7.6"
  }
 },
 "nbformat": 4,
 "nbformat_minor": 4
}
