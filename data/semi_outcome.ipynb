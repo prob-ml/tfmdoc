{
 "cells": [
  {
   "cell_type": "code",
   "execution_count": 5,
   "metadata": {},
   "outputs": [],
   "source": [
    "import pandas as pd\n",
    "import torch\n",
    "import random\n",
    "import os\n",
    "import re\n",
    "from torch.distributions.binomial import Binomial\n",
    "from torch.distributions.bernoulli import Bernoulli\n",
    "import torch.nn as nn"
   ]
  },
  {
   "cell_type": "code",
   "execution_count": null,
   "metadata": {},
   "outputs": [],
   "source": [
    "def treat_portion(x, pattern):\n",
    "    score = 0.2\n",
    "    if re.match(pattern, x) is not None:\n",
    "        score = 0.8\n",
    "    return score\n",
    "\n",
    "DATA_PATH = '/nfs/turbo/lsa-regier/emr-data/'\n",
    "groups = [str(i) for i in range(10)]\n",
    "beta_1 = torch.tensor([1.0, 10.0, 100.0])\n",
    "pattern = 'diag:J45(\\d)*,' # Asthma\n",
    "\n",
    "\n",
    "for group in groups:\n",
    "    data_path = os.path.join(DATA_PATH, f'group_{group}_merged.csv')\n",
    "    data_temp = pd.read_csv(data_path, sep=',')\n",
    "    \n",
    "    ### calculate propensity score pi(z)\n",
    "    data_temp = data_temp.assign(base_propensity_score = data_temp['document'].apply(lambda x: treat_portion(x, pattern)))\n",
    "    \n",
    "    ### simulate treatment based on propensity score\n",
    "    all_treatments = Binomial(1, torch.tensor(data_temp[\"base_propensity_score\"].values))\n",
    "    data_temp = data_temp.assign(treatment = all_treatments.sample().int())\n",
    "\n",
    "    sigmoid_fn = torch.nn.Sigmoid()\n",
    "    ### simulate response from treatment and propensity score\n",
    "    for i in range(2):\n",
    "        treatment_propensity = 0.25 * i + beta_1[0] * (data_temp['base_propensity_score'] - 0.2)\n",
    "        input = torch.tensor(treatment_propensity.values)\n",
    "        reponse_prob = sigmoid_fn(input)\n",
    "        all_response = torch.bernoulli(reponse_prob)\n",
    "        data_temp[f'response_{str(i)}_'] = all_response\n",
    "        \n",
    "    data_temp['response'] = (data_temp['treatment'] == 0)* data_temp['response_0_'] + (data_temp['treatment'] == 1)* data_temp['response_1_']\n",
    "    data = pd.concat([data, data_temp]) if group != '0' else data_temp"
   ]
  },
  {
   "cell_type": "code",
   "execution_count": null,
   "metadata": {},
   "outputs": [],
   "source": [
    "data = data.rename(columns={'response_0_': 'potential_response_0', 'response_1_': 'potential_response_1','response_2_': 'response'})"
   ]
  },
  {
   "cell_type": "code",
   "execution_count": null,
   "metadata": {},
   "outputs": [],
   "source": [
    "data[\"response\"].sum()"
   ]
  },
  {
   "cell_type": "code",
   "execution_count": null,
   "metadata": {},
   "outputs": [],
   "source": [
    "data[\"treatment\"].sum()"
   ]
  },
  {
   "cell_type": "code",
   "execution_count": null,
   "metadata": {},
   "outputs": [],
   "source": [
    "SATE = (data[\"potential_response_1\"]-data[\"potential_response_0\"]).mean()\n",
    "SATE"
   ]
  },
  {
   "cell_type": "code",
   "execution_count": null,
   "metadata": {},
   "outputs": [],
   "source": [
    "data[\"potential_response_1\"].mean()"
   ]
  },
  {
   "cell_type": "code",
   "execution_count": null,
   "metadata": {},
   "outputs": [],
   "source": [
    "data[\"potential_response_0\"].mean()"
   ]
  },
  {
   "cell_type": "code",
   "execution_count": null,
   "metadata": {},
   "outputs": [],
   "source": [
    "data"
   ]
  },
  {
   "cell_type": "code",
   "execution_count": null,
   "metadata": {},
   "outputs": [],
   "source": [
    "((data[\"treatment\"])*data[\"response\"]).sum()"
   ]
  },
  {
   "cell_type": "code",
   "execution_count": null,
   "metadata": {},
   "outputs": [],
   "source": [
    "((1-data[\"treatment\"])*data[\"response\"]).sum()"
   ]
  },
  {
   "cell_type": "code",
   "execution_count": null,
   "metadata": {},
   "outputs": [],
   "source": []
  }
 ],
 "metadata": {
  "kernelspec": {
   "display_name": "Python 3",
   "language": "python",
   "name": "python3"
  },
  "language_info": {
   "codemirror_mode": {
    "name": "ipython",
    "version": 3
   },
   "file_extension": ".py",
   "mimetype": "text/x-python",
   "name": "python",
   "nbconvert_exporter": "python",
   "pygments_lexer": "ipython3",
   "version": "3.7.6"
  }
 },
 "nbformat": 4,
 "nbformat_minor": 4
}
