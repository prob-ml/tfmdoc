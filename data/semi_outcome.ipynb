{
 "cells": [
  {
   "cell_type": "code",
   "execution_count": 5,
   "metadata": {},
   "outputs": [],
   "source": [
    "import pandas as pd\n",
    "import os"
   ]
  },
  {
   "cell_type": "code",
   "execution_count": 6,
   "metadata": {},
   "outputs": [],
   "source": [
    "def treat_portion(x):\n",
    "    x = x.replace(' [SEP] ', '').strip()\n",
    "    token_list = x.split(' ')\n",
    "    treat_cnt = 0\n",
    "    if len(token_list) > 0:\n",
    "        for token in token_list:\n",
    "            if 'diag' not in token:\n",
    "                treat_cnt += 1\n",
    "    \n",
    "    score = (treat_cnt + 1e-8)/ (len(token_list) + 1e-8)\n",
    "    score = max(score, 0.001)\n",
    "    score = min(score, 0.999)\n",
    "\n",
    "    return score\n",
    "\n",
    "DATA_PATH = '/nfs/turbo/lsa-regier/emr-data/'\n",
    "\n",
    "groups = [str(i) for i in range(10)]\n",
    "\n",
    "for group in groups:\n",
    "    data_path = os.path.join(DATA_PATH, f'group_{group}_merged.csv')\n",
    "\n",
    "    data = pd.read_csv(data_path, sep=',')\n",
    "    data = data.assign(base_propensity_score = data['document'].apply(lambda x: treat_portion(x)))\n",
    "    \n",
    "    break"
   ]
  }
 ],
 "metadata": {
  "kernelspec": {
   "display_name": "Python 3",
   "language": "python",
   "name": "python3"
  },
  "language_info": {
   "codemirror_mode": {
    "name": "ipython",
    "version": 3
   },
   "file_extension": ".py",
   "mimetype": "text/x-python",
   "name": "python",
   "nbconvert_exporter": "python",
   "pygments_lexer": "ipython3",
   "version": "3.7.7"
  }
 },
 "nbformat": 4,
 "nbformat_minor": 4
}
