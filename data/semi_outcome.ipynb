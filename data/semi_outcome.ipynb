{
 "cells": [
  {
   "cell_type": "code",
   "execution_count": 2,
   "metadata": {},
   "outputs": [],
   "source": [
    "import pandas as pd\n",
    "import torch\n",
    "import random\n",
    "import os\n",
    "from torch.distributions.binomial import Binomial\n",
    "from torch.distributions.bernoulli import Bernoulli\n",
    "import torch.nn as nn"
   ]
  },
  {
   "cell_type": "code",
   "execution_count": 15,
   "metadata": {},
   "outputs": [
    {
     "name": "stdout",
     "output_type": "stream",
     "text": [
      "0\n",
      "1\n",
      "2\n",
      "3\n",
      "4\n",
      "5\n",
      "6\n",
      "7\n",
      "8\n",
      "9\n"
     ]
    }
   ],
   "source": [
    "def treat_portion(x):\n",
    "    x = x.replace(' [SEP] ', '').strip()\n",
    "    token_list = x.split(' ')\n",
    "    treat_cnt = 0\n",
    "    if len(token_list) > 0:\n",
    "        for token in token_list:\n",
    "            if 'diag' not in token:\n",
    "                treat_cnt += 1\n",
    "    \n",
    "    score = (treat_cnt + 1e-8)/ (len(token_list) + 1e-8)\n",
    "    score = max(score, 0.001)\n",
    "    score = min(score, 0.999)\n",
    "\n",
    "    return score\n",
    "\n",
    "DATA_PATH = '/nfs/turbo/lsa-regier/emr-data/'\n",
    "groups = [str(i) for i in range(10)]\n",
    "beta_1 = torch.tensor([1.0, 10.0, 100.0])\n",
    "\n",
    "\n",
    "for group in groups:\n",
    "    print(group)\n",
    "    data_path = os.path.join(DATA_PATH, f'group_{group}_merged.csv')\n",
    "    data_temp = pd.read_csv(data_path, sep=',')\n",
    "    \n",
    "    ### calculate propensity score pi(z)\n",
    "    data_temp = data_temp.assign(base_propensity_score = data_temp['document'].apply(lambda x: treat_portion(x)))\n",
    "    \n",
    "    ### simulate treatment based on propensity score\n",
    "    all_treatments = Binomial(1, torch.tensor(data_temp[\"base_propensity_score\"].values))\n",
    "    data_temp = data_temp.assign(treatment = all_treatments.sample())\n",
    "    \n",
    "    ### simulate response from treatment and propensity score\n",
    "    treatment_propensity = 0.25 * data_temp['treatment'] + beta_1[0] * (data_temp['base_propensity_score'] - 0.2)\n",
    "    sigmoid_fn = torch.nn.Sigmoid()\n",
    "    input = torch.tensor(treatment_propensity.values)\n",
    "    reponse_prob = sigmoid_fn(input)\n",
    "    all_response = torch.bernoulli(reponse_prob)\n",
    "    data_temp = data_temp.assign(response = all_response)\n",
    "    data = pd.concat([data, data_temp]) if group != 0 else data_temp"
   ]
  },
  {
   "cell_type": "code",
   "execution_count": 16,
   "metadata": {},
   "outputs": [
    {
     "data": {
      "text/plain": [
       "1066811.0"
      ]
     },
     "execution_count": 16,
     "metadata": {},
     "output_type": "execute_result"
    }
   ],
   "source": [
    "data[\"response\"].sum()"
   ]
  },
  {
   "cell_type": "code",
   "execution_count": 17,
   "metadata": {},
   "outputs": [
    {
     "data": {
      "text/plain": [
       "247961.0"
      ]
     },
     "execution_count": 17,
     "metadata": {},
     "output_type": "execute_result"
    }
   ],
   "source": [
    "data[\"treatment\"].sum()"
   ]
  },
  {
   "cell_type": "code",
   "execution_count": 18,
   "metadata": {},
   "outputs": [
    {
     "data": {
      "text/html": [
       "<div>\n",
       "<style scoped>\n",
       "    .dataframe tbody tr th:only-of-type {\n",
       "        vertical-align: middle;\n",
       "    }\n",
       "\n",
       "    .dataframe tbody tr th {\n",
       "        vertical-align: top;\n",
       "    }\n",
       "\n",
       "    .dataframe thead th {\n",
       "        text-align: right;\n",
       "    }\n",
       "</style>\n",
       "<table border=\"1\" class=\"dataframe\">\n",
       "  <thead>\n",
       "    <tr style=\"text-align: right;\">\n",
       "      <th></th>\n",
       "      <th>patid</th>\n",
       "      <th>document</th>\n",
       "      <th>base_propensity_score</th>\n",
       "      <th>treatment</th>\n",
       "      <th>response</th>\n",
       "    </tr>\n",
       "  </thead>\n",
       "  <tbody>\n",
       "    <tr>\n",
       "      <th>0</th>\n",
       "      <td>560499201514209</td>\n",
       "      <td>OLMESARTAN_MEDOXOMIL [SEP] icd:9_diag:4011 icd...</td>\n",
       "      <td>0.140187</td>\n",
       "      <td>0.0</td>\n",
       "      <td>1.0</td>\n",
       "    </tr>\n",
       "    <tr>\n",
       "      <th>1</th>\n",
       "      <td>560499201790039</td>\n",
       "      <td>icd:9_diag:7831 [SEP] icd:9_diag:5589 icd:9_di...</td>\n",
       "      <td>0.001000</td>\n",
       "      <td>0.0</td>\n",
       "      <td>0.0</td>\n",
       "    </tr>\n",
       "    <tr>\n",
       "      <th>2</th>\n",
       "      <td>560499202032459</td>\n",
       "      <td>icd:9_diag:79093 [SEP] BLOOD_SUGAR_DIAGNOSTIC ...</td>\n",
       "      <td>0.036364</td>\n",
       "      <td>0.0</td>\n",
       "      <td>1.0</td>\n",
       "    </tr>\n",
       "    <tr>\n",
       "      <th>3</th>\n",
       "      <td>560499202053999</td>\n",
       "      <td>icd:9_diag:3804 icd:9_diag:38870 icd:9_diag:46...</td>\n",
       "      <td>0.021739</td>\n",
       "      <td>0.0</td>\n",
       "      <td>0.0</td>\n",
       "    </tr>\n",
       "    <tr>\n",
       "      <th>4</th>\n",
       "      <td>560499202061489</td>\n",
       "      <td>icd:9_diag:8820 icd:9_diag:8820 icd:9_diag:E84...</td>\n",
       "      <td>0.136364</td>\n",
       "      <td>0.0</td>\n",
       "      <td>0.0</td>\n",
       "    </tr>\n",
       "    <tr>\n",
       "      <th>...</th>\n",
       "      <td>...</td>\n",
       "      <td>...</td>\n",
       "      <td>...</td>\n",
       "      <td>...</td>\n",
       "      <td>...</td>\n",
       "    </tr>\n",
       "    <tr>\n",
       "      <th>199422</th>\n",
       "      <td>560499899999079</td>\n",
       "      <td>icd:9_diag:V700 icd:9_diag:V7644 [SEP] icd:9_d...</td>\n",
       "      <td>0.001000</td>\n",
       "      <td>0.0</td>\n",
       "      <td>1.0</td>\n",
       "    </tr>\n",
       "    <tr>\n",
       "      <th>199423</th>\n",
       "      <td>560499899999569</td>\n",
       "      <td>icd:9_diag:53081 icd:9_diag:78650 [SEP] icd:9_...</td>\n",
       "      <td>0.080000</td>\n",
       "      <td>0.0</td>\n",
       "      <td>0.0</td>\n",
       "    </tr>\n",
       "    <tr>\n",
       "      <th>199424</th>\n",
       "      <td>560499899999659</td>\n",
       "      <td>icd:9_diag:36617 [SEP] icd:9_diag:36617 icd:9_...</td>\n",
       "      <td>0.034483</td>\n",
       "      <td>0.0</td>\n",
       "      <td>0.0</td>\n",
       "    </tr>\n",
       "    <tr>\n",
       "      <th>199425</th>\n",
       "      <td>560499899999879</td>\n",
       "      <td>ATENOLOL FLUOXETINE_HCL [SEP] NAPROXEN_SODIUM ...</td>\n",
       "      <td>0.224215</td>\n",
       "      <td>0.0</td>\n",
       "      <td>1.0</td>\n",
       "    </tr>\n",
       "    <tr>\n",
       "      <th>199426</th>\n",
       "      <td>560499899999929</td>\n",
       "      <td>icd:9_diag:73621 [SEP] icd:9_diag:73621 icd:9_...</td>\n",
       "      <td>0.121951</td>\n",
       "      <td>0.0</td>\n",
       "      <td>0.0</td>\n",
       "    </tr>\n",
       "  </tbody>\n",
       "</table>\n",
       "<p>2201597 rows × 5 columns</p>\n",
       "</div>"
      ],
      "text/plain": [
       "                  patid                                           document  \\\n",
       "0       560499201514209  OLMESARTAN_MEDOXOMIL [SEP] icd:9_diag:4011 icd...   \n",
       "1       560499201790039  icd:9_diag:7831 [SEP] icd:9_diag:5589 icd:9_di...   \n",
       "2       560499202032459  icd:9_diag:79093 [SEP] BLOOD_SUGAR_DIAGNOSTIC ...   \n",
       "3       560499202053999  icd:9_diag:3804 icd:9_diag:38870 icd:9_diag:46...   \n",
       "4       560499202061489  icd:9_diag:8820 icd:9_diag:8820 icd:9_diag:E84...   \n",
       "...                 ...                                                ...   \n",
       "199422  560499899999079  icd:9_diag:V700 icd:9_diag:V7644 [SEP] icd:9_d...   \n",
       "199423  560499899999569  icd:9_diag:53081 icd:9_diag:78650 [SEP] icd:9_...   \n",
       "199424  560499899999659  icd:9_diag:36617 [SEP] icd:9_diag:36617 icd:9_...   \n",
       "199425  560499899999879  ATENOLOL FLUOXETINE_HCL [SEP] NAPROXEN_SODIUM ...   \n",
       "199426  560499899999929  icd:9_diag:73621 [SEP] icd:9_diag:73621 icd:9_...   \n",
       "\n",
       "        base_propensity_score  treatment  response  \n",
       "0                    0.140187        0.0       1.0  \n",
       "1                    0.001000        0.0       0.0  \n",
       "2                    0.036364        0.0       1.0  \n",
       "3                    0.021739        0.0       0.0  \n",
       "4                    0.136364        0.0       0.0  \n",
       "...                       ...        ...       ...  \n",
       "199422               0.001000        0.0       1.0  \n",
       "199423               0.080000        0.0       0.0  \n",
       "199424               0.034483        0.0       0.0  \n",
       "199425               0.224215        0.0       1.0  \n",
       "199426               0.121951        0.0       0.0  \n",
       "\n",
       "[2201597 rows x 5 columns]"
      ]
     },
     "execution_count": 18,
     "metadata": {},
     "output_type": "execute_result"
    }
   ],
   "source": [
    "data\n"
   ]
  }
 ],
 "metadata": {
  "kernelspec": {
   "display_name": "Python 3",
   "language": "python",
   "name": "python3"
  },
  "language_info": {
   "codemirror_mode": {
    "name": "ipython",
    "version": 3
   },
   "file_extension": ".py",
   "mimetype": "text/x-python",
   "name": "python",
   "nbconvert_exporter": "python",
   "pygments_lexer": "ipython3",
   "version": "3.7.6"
  }
 },
 "nbformat": 4,
 "nbformat_minor": 4
}
