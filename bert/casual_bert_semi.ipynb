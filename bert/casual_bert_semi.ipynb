{
 "cells": [
  {
   "cell_type": "code",
   "execution_count": 1,
   "metadata": {},
   "outputs": [],
   "source": [
    "import os\n",
    "import time\n",
    "import re\n",
    "import numpy as np\n",
    "import torch\n",
    "import pandas as pd\n",
    "import random\n",
    "from torch.distributions.binomial import Binomial\n",
    "from torch.distributions.bernoulli import Bernoulli\n",
    "import torch.nn as nn\n",
    "from torch.utils.data import Dataset, DataLoader \n",
    "\n",
    "from transformers import DataCollatorForLanguageModeling, BertForMaskedLM\n",
    "from transformers import Trainer, TrainingArguments\n",
    "\n",
    "from tokens import WordLevelBertTokenizer\n",
    "from vocab import create_vocab\n",
    "from data import CausalBertDataset, MLMDataset\n",
    "from causal_bert import CausalBert"
   ]
  },
  {
   "cell_type": "code",
   "execution_count": 2,
   "metadata": {},
   "outputs": [],
   "source": [
    "os.environ[\"CUDA_DEVICE_ORDER\"] = \"PCI_BUS_ID\"\n",
    "os.environ[\"CUDA_VISIBLE_DEVICES\"] = '3'\n",
    "device = torch.device('cuda' if torch.cuda.is_available() else 'cpu')"
   ]
  },
  {
   "cell_type": "markdown",
   "metadata": {},
   "source": [
    "### Asthma codes\n",
    "\n",
    "J4520   Mild intermittent asthma, uncomplicated\n",
    "\n",
    "J4521   Mild intermittent asthma with (acute) exacerbation\n",
    "\n",
    "J4522   Mild intermittent asthma with status asthmaticus\n",
    "\n",
    "J4530   Mild persistent asthma, uncomplicated\n",
    "\n",
    "J4531   Mild persistent asthma with (acute) exacerbation\n",
    "\n",
    "J4532   Mild persistent asthma with status asthmaticus\n",
    "\n",
    "J4540   Moderate persistent asthma, uncomplicated\n",
    "\n",
    "J4541   Moderate persistent asthma with (acute) exacerbation\n",
    "\n",
    "J4542   Moderate persistent asthma with status asthmaticus\n",
    "\n",
    "J4550   Severe persistent asthma, uncomplicated\n",
    "\n",
    "J4551   Severe persistent asthma with (acute) exacerbation\n",
    "\n",
    "J4552   Severe persistent asthma with status asthmaticus\n",
    "\n",
    "J45901  Unspecified asthma with (acute) exacerbation\n",
    "\n",
    "J45902  Unspecified asthma with status asthmaticus\n",
    "\n",
    "J45909  Unspecified asthma, uncomplicated\n",
    "\n",
    "J45991  Cough variant asthma\n",
    "\n",
    "J45998  Other asthma\n",
    "\n",
    "T486X1A Poisoning by antiasthmatics, accidental (unintentional), initial encounter\n",
    "\n",
    "T486X1D Poisoning by antiasthmatics, accidental (unintentional), subsequent encounter\n",
    "\n",
    "T486X1S Poisoning by antiasthmatics, accidental (unintentional), sequela\n",
    "\n",
    "T486X2A Poisoning by antiasthmatics, intentional self-harm, initial encounter\n",
    "\n",
    "T486X2D Poisoning by antiasthmatics, intentional self-harm, subsequent encounter\n",
    "\n",
    "T486X2S Poisoning by antiasthmatics, intentional self-harm, sequela\n",
    "\n",
    "T486X3A Poisoning by antiasthmatics, assault, initial encounter\n",
    "\n",
    "T486X3D Poisoning by antiasthmatics, assault, subsequent encounter\n",
    "\n",
    "T486X3S Poisoning by antiasthmatics, assault, sequela\n",
    "\n",
    "T486X4A Poisoning by antiasthmatics, undetermined, initial encounter\n",
    "\n",
    "T486X4D Poisoning by antiasthmatics, undetermined, subsequent encounter\n",
    "\n",
    "T486X4S Poisoning by antiasthmatics, undetermined, sequela\n",
    "\n",
    "T486X5A Adverse effect of antiasthmatics, initial encounter\n",
    "\n",
    "T486X5D Adverse effect of antiasthmatics, subsequent encounter\n",
    "\n",
    "T486X5S Adverse effect of antiasthmatics, sequela\n",
    "\n",
    "T486X6A Underdosing of antiasthmatics, initial encounter\n",
    "\n",
    "T486X6D Underdosing of antiasthmatics, subsequent encounter\n",
    "\n",
    "T486X6S Underdosing of antiasthmatics, sequela\n",
    "\n",
    "Z825    Family history of asthma and other chronic lower respiratory diseases\n"
   ]
  },
  {
   "cell_type": "code",
   "execution_count": 3,
   "metadata": {},
   "outputs": [],
   "source": [
    "vocab = create_vocab(merged=True, uni_diag=True)\n",
    "tokenizer = WordLevelBertTokenizer(vocab)"
   ]
  },
  {
   "cell_type": "code",
   "execution_count": 4,
   "metadata": {},
   "outputs": [],
   "source": [
    "dataset = CausalBertDataset(tokenizer=tokenizer, data_type='merged', is_unidiag=True,\n",
    "                            group=[9], max_length=512, min_length=10,\n",
    "                            truncate_method='first', device=device)"
   ]
  },
  {
   "cell_type": "code",
   "execution_count": 5,
   "metadata": {},
   "outputs": [],
   "source": [
    "Q1 = dataset.treatment * dataset.response + (1 - dataset.treatment) * dataset.pseudo_response\n",
    "Q1 = Q1.cpu().data.numpy().squeeze()\n",
    "\n",
    "Q0 = dataset.treatment * dataset.pseudo_response + (1 - dataset.treatment) * dataset.response\n",
    "Q0 = Q0.cpu().data.numpy().squeeze()\n",
    "\n",
    "treatment = dataset.treatment.cpu().data.numpy().squeeze()\n",
    "prop_score = dataset.prop_score.cpu().data.numpy().squeeze()"
   ]
  },
  {
   "cell_type": "code",
   "execution_count": 6,
   "metadata": {},
   "outputs": [],
   "source": [
    "data = pd.DataFrame([prop_score, treatment, Q1, Q0]).T\n",
    "data.columns = ['propensity_scores', 'treatment', 'potential_outcome_1', 'potential_outcome_0']"
   ]
  },
  {
   "cell_type": "code",
   "execution_count": 7,
   "metadata": {},
   "outputs": [
    {
     "data": {
      "text/html": [
       "<div>\n",
       "<style scoped>\n",
       "    .dataframe tbody tr th:only-of-type {\n",
       "        vertical-align: middle;\n",
       "    }\n",
       "\n",
       "    .dataframe tbody tr th {\n",
       "        vertical-align: top;\n",
       "    }\n",
       "\n",
       "    .dataframe thead th {\n",
       "        text-align: right;\n",
       "    }\n",
       "</style>\n",
       "<table border=\"1\" class=\"dataframe\">\n",
       "  <thead>\n",
       "    <tr style=\"text-align: right;\">\n",
       "      <th></th>\n",
       "      <th>propensity_scores</th>\n",
       "      <th>treatment</th>\n",
       "      <th>potential_outcome_1</th>\n",
       "      <th>potential_outcome_0</th>\n",
       "    </tr>\n",
       "  </thead>\n",
       "  <tbody>\n",
       "    <tr>\n",
       "      <th>0</th>\n",
       "      <td>0.2</td>\n",
       "      <td>0.0</td>\n",
       "      <td>1.0</td>\n",
       "      <td>0.0</td>\n",
       "    </tr>\n",
       "    <tr>\n",
       "      <th>1</th>\n",
       "      <td>0.2</td>\n",
       "      <td>0.0</td>\n",
       "      <td>1.0</td>\n",
       "      <td>0.0</td>\n",
       "    </tr>\n",
       "    <tr>\n",
       "      <th>2</th>\n",
       "      <td>0.2</td>\n",
       "      <td>0.0</td>\n",
       "      <td>1.0</td>\n",
       "      <td>0.0</td>\n",
       "    </tr>\n",
       "    <tr>\n",
       "      <th>3</th>\n",
       "      <td>0.2</td>\n",
       "      <td>1.0</td>\n",
       "      <td>1.0</td>\n",
       "      <td>1.0</td>\n",
       "    </tr>\n",
       "    <tr>\n",
       "      <th>4</th>\n",
       "      <td>0.2</td>\n",
       "      <td>1.0</td>\n",
       "      <td>1.0</td>\n",
       "      <td>0.0</td>\n",
       "    </tr>\n",
       "    <tr>\n",
       "      <th>...</th>\n",
       "      <td>...</td>\n",
       "      <td>...</td>\n",
       "      <td>...</td>\n",
       "      <td>...</td>\n",
       "    </tr>\n",
       "    <tr>\n",
       "      <th>191765</th>\n",
       "      <td>0.2</td>\n",
       "      <td>0.0</td>\n",
       "      <td>1.0</td>\n",
       "      <td>0.0</td>\n",
       "    </tr>\n",
       "    <tr>\n",
       "      <th>191766</th>\n",
       "      <td>0.2</td>\n",
       "      <td>0.0</td>\n",
       "      <td>1.0</td>\n",
       "      <td>0.0</td>\n",
       "    </tr>\n",
       "    <tr>\n",
       "      <th>191767</th>\n",
       "      <td>0.2</td>\n",
       "      <td>0.0</td>\n",
       "      <td>1.0</td>\n",
       "      <td>0.0</td>\n",
       "    </tr>\n",
       "    <tr>\n",
       "      <th>191768</th>\n",
       "      <td>0.2</td>\n",
       "      <td>0.0</td>\n",
       "      <td>0.0</td>\n",
       "      <td>1.0</td>\n",
       "    </tr>\n",
       "    <tr>\n",
       "      <th>191769</th>\n",
       "      <td>0.2</td>\n",
       "      <td>0.0</td>\n",
       "      <td>0.0</td>\n",
       "      <td>0.0</td>\n",
       "    </tr>\n",
       "  </tbody>\n",
       "</table>\n",
       "<p>191770 rows × 4 columns</p>\n",
       "</div>"
      ],
      "text/plain": [
       "        propensity_scores  treatment  potential_outcome_1  potential_outcome_0\n",
       "0                     0.2        0.0                  1.0                  0.0\n",
       "1                     0.2        0.0                  1.0                  0.0\n",
       "2                     0.2        0.0                  1.0                  0.0\n",
       "3                     0.2        1.0                  1.0                  1.0\n",
       "4                     0.2        1.0                  1.0                  0.0\n",
       "...                   ...        ...                  ...                  ...\n",
       "191765                0.2        0.0                  1.0                  0.0\n",
       "191766                0.2        0.0                  1.0                  0.0\n",
       "191767                0.2        0.0                  1.0                  0.0\n",
       "191768                0.2        0.0                  0.0                  1.0\n",
       "191769                0.2        0.0                  0.0                  0.0\n",
       "\n",
       "[191770 rows x 4 columns]"
      ]
     },
     "execution_count": 7,
     "metadata": {},
     "output_type": "execute_result"
    }
   ],
   "source": [
    "data"
   ]
  },
  {
   "cell_type": "code",
   "execution_count": 8,
   "metadata": {},
   "outputs": [
    {
     "data": {
      "text/plain": [
       "0.800000011920929"
      ]
     },
     "execution_count": 8,
     "metadata": {},
     "output_type": "execute_result"
    }
   ],
   "source": [
    "data[\"propensity_scores\"].max()"
   ]
  },
  {
   "cell_type": "code",
   "execution_count": 10,
   "metadata": {},
   "outputs": [
    {
     "data": {
      "text/plain": [
       "0.05901340147051155"
      ]
     },
     "execution_count": 10,
     "metadata": {},
     "output_type": "execute_result"
    }
   ],
   "source": [
    "SATE = (data[\"potential_outcome_1\"]-data[\"potential_outcome_0\"]).mean()\n",
    "SATE"
   ]
  },
  {
   "cell_type": "code",
   "execution_count": null,
   "metadata": {},
   "outputs": [],
   "source": []
  }
 ],
 "metadata": {
  "kernelspec": {
   "display_name": "Python 3",
   "language": "python",
   "name": "python3"
  },
  "language_info": {
   "codemirror_mode": {
    "name": "ipython",
    "version": 3
   },
   "file_extension": ".py",
   "mimetype": "text/x-python",
   "name": "python",
   "nbconvert_exporter": "python",
   "pygments_lexer": "ipython3",
   "version": "3.7.6"
  }
 },
 "nbformat": 4,
 "nbformat_minor": 4
}
