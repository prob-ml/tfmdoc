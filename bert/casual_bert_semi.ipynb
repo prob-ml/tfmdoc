{
 "cells": [
  {
   "cell_type": "code",
   "execution_count": 1,
   "metadata": {},
   "outputs": [],
   "source": [
    "import os\n",
    "import time\n",
    "import re\n",
    "import numpy as np\n",
    "import torch\n",
    "import pandas as pd\n",
    "import random\n",
    "from torch.distributions.binomial import Binomial\n",
    "from torch.distributions.bernoulli import Bernoulli\n",
    "import torch.nn as nn\n",
    "from torch.utils.data import Dataset, DataLoader \n",
    "\n",
    "from transformers import DataCollatorForLanguageModeling, BertForMaskedLM\n",
    "from transformers import Trainer, TrainingArguments\n",
    "\n",
    "from tokens import WordLevelBertTokenizer\n",
    "from vocab import create_vocab\n",
    "from data import CausalBertDataset, MLMDataset\n",
    "from causal_bert import CausalBert"
   ]
  },
  {
   "cell_type": "code",
   "execution_count": 2,
   "metadata": {},
   "outputs": [],
   "source": [
    "os.environ[\"CUDA_DEVICE_ORDER\"] = \"PCI_BUS_ID\"\n",
    "os.environ[\"CUDA_VISIBLE_DEVICES\"] = '3'\n",
    "device = torch.device('cuda' if torch.cuda.is_available() else 'cpu')"
   ]
  },
  {
   "cell_type": "markdown",
   "metadata": {},
   "source": [
    "### Asthma codes\n",
    "\n",
    "J4520   Mild intermittent asthma, uncomplicated\n",
    "\n",
    "J4521   Mild intermittent asthma with (acute) exacerbation\n",
    "\n",
    "J4522   Mild intermittent asthma with status asthmaticus\n",
    "\n",
    "J4530   Mild persistent asthma, uncomplicated\n",
    "\n",
    "J4531   Mild persistent asthma with (acute) exacerbation\n",
    "\n",
    "J4532   Mild persistent asthma with status asthmaticus\n",
    "\n",
    "J4540   Moderate persistent asthma, uncomplicated\n",
    "\n",
    "J4541   Moderate persistent asthma with (acute) exacerbation\n",
    "\n",
    "J4542   Moderate persistent asthma with status asthmaticus\n",
    "\n",
    "J4550   Severe persistent asthma, uncomplicated\n",
    "\n",
    "J4551   Severe persistent asthma with (acute) exacerbation\n",
    "\n",
    "J4552   Severe persistent asthma with status asthmaticus\n",
    "\n",
    "J45901  Unspecified asthma with (acute) exacerbation\n",
    "\n",
    "J45902  Unspecified asthma with status asthmaticus\n",
    "\n",
    "J45909  Unspecified asthma, uncomplicated\n",
    "\n",
    "J45991  Cough variant asthma\n",
    "\n",
    "J45998  Other asthma\n",
    "\n",
    "T486X1A Poisoning by antiasthmatics, accidental (unintentional), initial encounter\n",
    "\n",
    "T486X1D Poisoning by antiasthmatics, accidental (unintentional), subsequent encounter\n",
    "\n",
    "T486X1S Poisoning by antiasthmatics, accidental (unintentional), sequela\n",
    "\n",
    "T486X2A Poisoning by antiasthmatics, intentional self-harm, initial encounter\n",
    "\n",
    "T486X2D Poisoning by antiasthmatics, intentional self-harm, subsequent encounter\n",
    "\n",
    "T486X2S Poisoning by antiasthmatics, intentional self-harm, sequela\n",
    "\n",
    "T486X3A Poisoning by antiasthmatics, assault, initial encounter\n",
    "\n",
    "T486X3D Poisoning by antiasthmatics, assault, subsequent encounter\n",
    "\n",
    "T486X3S Poisoning by antiasthmatics, assault, sequela\n",
    "\n",
    "T486X4A Poisoning by antiasthmatics, undetermined, initial encounter\n",
    "\n",
    "T486X4D Poisoning by antiasthmatics, undetermined, subsequent encounter\n",
    "\n",
    "T486X4S Poisoning by antiasthmatics, undetermined, sequela\n",
    "\n",
    "T486X5A Adverse effect of antiasthmatics, initial encounter\n",
    "\n",
    "T486X5D Adverse effect of antiasthmatics, subsequent encounter\n",
    "\n",
    "T486X5S Adverse effect of antiasthmatics, sequela\n",
    "\n",
    "T486X6A Underdosing of antiasthmatics, initial encounter\n",
    "\n",
    "T486X6D Underdosing of antiasthmatics, subsequent encounter\n",
    "\n",
    "T486X6S Underdosing of antiasthmatics, sequela\n",
    "\n",
    "Z825    Family history of asthma and other chronic lower respiratory diseases\n"
   ]
  },
  {
   "cell_type": "code",
   "execution_count": 3,
   "metadata": {},
   "outputs": [],
   "source": [
    "vocab = create_vocab(merged=True, uni_diag=True)\n",
    "tokenizer = WordLevelBertTokenizer(vocab)"
   ]
  },
  {
   "cell_type": "code",
   "execution_count": 4,
   "metadata": {},
   "outputs": [],
   "source": [
    "dataset = CausalBertDataset(tokenizer=tokenizer, data_type='merged', is_unidiag=True,\n",
    "                            group=[9], max_length=512, min_length=10,\n",
    "                            truncate_method='first', device=device, pattern = 'diag:J45(\\d)*,')"
   ]
  },
  {
   "cell_type": "code",
   "execution_count": 8,
   "metadata": {},
   "outputs": [],
   "source": [
    "Q1 = dataset.treatment * dataset.response + (1 - dataset.treatment) * dataset.pseudo_response\n",
    "Q1 = Q1.cpu().data.numpy().squeeze()\n",
    "\n",
    "Q0 = dataset.treatment * dataset.pseudo_response + (1 - dataset.treatment) * dataset.response\n",
    "Q0 = Q0.cpu().data.numpy().squeeze()\n",
    "\n",
    "treatment = dataset.treatment.cpu().data.numpy().squeeze()\n",
    "prop_score = dataset.prop_scores.cpu().data.numpy().squeeze()"
   ]
  },
  {
   "cell_type": "code",
   "execution_count": 14,
   "metadata": {},
   "outputs": [],
   "source": [
    "data = pd.DataFrame([prop_score, treatment, Q1, Q0]).T\n",
    "data.columns = ['propensity_scores', 'treatment', 'potential_outcome_1', 'potential_outcome_0']"
   ]
  },
  {
   "cell_type": "code",
   "execution_count": 24,
   "metadata": {},
   "outputs": [],
   "source": []
  },
  {
   "cell_type": "code",
   "execution_count": 16,
   "metadata": {},
   "outputs": [],
   "source": []
  },
  {
   "cell_type": "code",
   "execution_count": null,
   "metadata": {},
   "outputs": [],
   "source": []
  }
 ],
 "metadata": {
  "kernelspec": {
   "display_name": "Python 3",
   "language": "python",
   "name": "python3"
  },
  "language_info": {
   "codemirror_mode": {
    "name": "ipython",
    "version": 3
   },
   "file_extension": ".py",
   "mimetype": "text/x-python",
   "name": "python",
   "nbconvert_exporter": "python",
   "pygments_lexer": "ipython3",
   "version": "3.7.6"
  }
 },
 "nbformat": 4,
 "nbformat_minor": 4
}
