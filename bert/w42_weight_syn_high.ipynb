{
 "cells": [
  {
   "cell_type": "code",
   "execution_count": 1,
   "metadata": {},
   "outputs": [],
   "source": [
    "import os\n",
    "import time\n",
    "import random\n",
    "import math\n",
    "\n",
    "import numpy as np\n",
    "import torch\n",
    "import pandas as pd\n",
    "import matplotlib.pyplot as plt\n",
    "import seaborn as sns\n",
    "\n",
    "import torch\n",
    "from torch.distributions.binomial import Binomial\n",
    "from torch.distributions.bernoulli import Bernoulli\n",
    "import torch.nn as nn\n",
    "from torch.utils.data import Dataset, DataLoader \n",
    "\n",
    "from transformers import DataCollatorForLanguageModeling, BertForMaskedLM\n",
    "from transformers import Trainer, TrainingArguments\n",
    "from transformers import get_linear_schedule_with_warmup, AdamW\n",
    "\n",
    "from tokens import WordLevelBertTokenizer\n",
    "from vocab import create_vocab\n",
    "from data import CausalBertSynDataset\n",
    "from causal_bert import CausalBOW, CausalBert, load_data, true_casual_effect, est_casual_effect"
   ]
  },
  {
   "cell_type": "code",
   "execution_count": 2,
   "metadata": {},
   "outputs": [],
   "source": [
    "def true_casual_effect(data_loader, effect='ate', estimation='q'):\n",
    "    assert estimation == 'q', f'unallowed estimation: {estimation}'\n",
    "    \n",
    "    dataset = data_loader.dataset\n",
    "    \n",
    "    Q1 = dataset.treatment * dataset.response + (1 - dataset.treatment) * dataset.pseudo_response\n",
    "    Q1 = Q1.cpu().data.numpy().squeeze()\n",
    "\n",
    "    Q0 = dataset.treatment * dataset.pseudo_response + (1 - dataset.treatment) * dataset.response\n",
    "    Q0 = Q0.cpu().data.numpy().squeeze()\n",
    "\n",
    "    treatment = dataset.treatment.cpu().data.numpy().squeeze()\n",
    "    prop_scores = dataset.prop_scores.cpu().data.numpy().squeeze()\n",
    "    \n",
    "    if estimation == 'q':\n",
    "        if effect == 'att':\n",
    "            phi = (treatment * (Q1 - Q0))\n",
    "            return phi.sum() / treatment.sum()\n",
    "        elif effect == 'ate':\n",
    "            return (Q1 - Q0).mean()\n",
    "        \n",
    "    elif estimation == 'plugin':\n",
    "        phi = (prop_scores * (Q1 - Q0)).mean()\n",
    "        if effect == 'att':\n",
    "            return phi / treatment.mean()\n",
    "        elif effect == 'ate': \n",
    "            return phi"
   ]
  },
  {
   "cell_type": "code",
   "execution_count": 3,
   "metadata": {},
   "outputs": [],
   "source": [
    "low = '/nfs/turbo/lsa-regier/bert-results/results/casualmodel/[BEST]_[0,25-1,0]_C-BERT_64_22.pth'\n",
    "med = '/nfs/turbo/lsa-regier/bert-results/results/casualmodel/[BEST]_[0,5-5,0]_C-BERT_64_22.pth'\n",
    "high = '/nfs/turbo/lsa-regier/bert-results/results/casualmodel/[BEST]_[0,75-25,0]_C-BERT_64_22.pth'\n",
    "\n",
    "os.environ[\"CUDA_DEVICE_ORDER\"] = \"PCI_BUS_ID\"\n",
    "os.environ[\"CUDA_VISIBLE_DEVICES\"] = '5'\n",
    "device = torch.device('cuda' if torch.cuda.is_available() else 'cpu')"
   ]
  },
  {
   "cell_type": "code",
   "execution_count": 4,
   "metadata": {},
   "outputs": [],
   "source": [
    "model = torch.load(high).to(device)"
   ]
  },
  {
   "cell_type": "code",
   "execution_count": 5,
   "metadata": {},
   "outputs": [
    {
     "name": "stdout",
     "output_type": "stream",
     "text": [
      "Load training set in 57.42 sec\n",
      "Training set: [treated: 0.2375], [prop scores counts: 0.0626]\n",
      "Load validation set in 55.49 sec\n",
      "Testing set: [treated: 0.2381], [prop scores counts: 0.0635]\n",
      "****************************************************************************************************\n"
     ]
    }
   ],
   "source": [
    "alpha = 0.75\n",
    "beta = 25.\n",
    "offset_t = 0\n",
    "offset_p = 0.2\n",
    "\n",
    "train, test = load_data(alpha, beta, offset_t, offset_p, 16, device=device)"
   ]
  },
  {
   "cell_type": "code",
   "execution_count": 6,
   "metadata": {},
   "outputs": [],
   "source": [
    "prop_scores = []\n",
    "\n",
    "treatments = []\n",
    "responses = []\n",
    "real_prop_scores = []\n",
    "\n",
    "tokens = []\n",
    "model.eval()\n",
    "for idx, (token, treatment, response, real_prop_score) in enumerate(test):\n",
    "    prop_score, _, _ = model(token)\n",
    "    if model.prop_is_logit:\n",
    "        sigmoid = nn.Sigmoid()\n",
    "        prop_score = sigmoid(prop_score)\n",
    "    prop_scores.append(prop_score.cpu().data.numpy().squeeze())\n",
    "    treatments.append(treatment.cpu().data.numpy().squeeze())\n",
    "    responses.append(response.cpu().data.numpy().squeeze())\n",
    "    real_prop_scores.append(real_prop_score.cpu().data.numpy().squeeze())\n",
    "    tokens.append(token.cpu().data.numpy().squeeze())\n",
    "    \n",
    "prop_scores = np.concatenate(prop_scores, axis=0)\n",
    "treatments = np.concatenate(treatments, axis=0)\n",
    "responses = np.concatenate(responses, axis=0)\n",
    "real_prop_scores = np.concatenate(real_prop_scores, axis=0)\n",
    "tokens = np.concatenate(tokens, axis=0)"
   ]
  },
  {
   "cell_type": "code",
   "execution_count": 11,
   "metadata": {},
   "outputs": [
    {
     "data": {
      "image/png": "[encoded data removed]",
      "text/plain": [
       "<Figure size 432x288 with 1 Axes>"
      ]
     },
     "metadata": {
      "needs_background": "light"
     },
     "output_type": "display_data"
    },
    {
     "data": {
      "image/png": "[encoded data removed]",
      "text/plain": [
       "<Figure size 432x288 with 1 Axes>"
      ]
     },
     "metadata": {
      "needs_background": "light"
     },
     "output_type": "display_data"
    }
   ],
   "source": [
    "dat = np.array([real_prop_scores, prop_scores]).T\n",
    "dat = pd.DataFrame(dat, columns=['real_prop_scores', 'pred_prop_scores'])\n",
    "\n",
    "plt.cla()\n",
    "fig = plt.figure()\n",
    "ax = fig.add_subplot(111)\n",
    "_ = sns.boxplot(y='pred_prop_scores', x='real_prop_scores', data=dat, palette=\"colorblind\", )\n",
    "ax.set_xlabel('Real propensity scores')\n",
    "ax.set_ylabel('Predicted propensity scores')\n",
    "plt.savefig('./w42_weight_high.png')"
   ]
  },
  {
   "cell_type": "code",
   "execution_count": 9,
   "metadata": {},
   "outputs": [],
   "source": [
    "def est_effect(responses, treatments, prop_scores, est, outlier=None):\n",
    "    \n",
    "    if outlier:\n",
    "        responses = responses[(prop_scores > outlier) & (prop_scores < 1 - outlier)]\n",
    "        treatments = treatments[(prop_scores > outlier) & (prop_scores < 1 - outlier)]\n",
    "        prop_scores = prop_scores[(prop_scores > outlier) & (prop_scores < 1 - outlier)]\n",
    "\n",
    "    w_ate = treatments / prop_scores + (1 - treatments) / (1 - prop_scores)\n",
    "    w_att = treatments + (1 - treatments) * prop_scores / (1 - prop_scores)\n",
    "\n",
    "    if est == 'ate':\n",
    "        w = w_ate\n",
    "    else:\n",
    "        w = w_att\n",
    "    e1 = (responses * treatments * w).sum() / (treatments * w).sum()\n",
    "    e2 = (responses * (1 - treatments) * w).sum() / ((1 - treatments) * w).sum()\n",
    "    \n",
    "    return e1 - e2"
   ]
  },
  {
   "cell_type": "code",
   "execution_count": 18,
   "metadata": {},
   "outputs": [
    {
     "name": "stdout",
     "output_type": "stream",
     "text": [
      "real ATE: 0.1694\n",
      "Weighted estimated ATE: 0.1600\n",
      "Unadjusted estimated ATE: 0.2360\n"
     ]
    }
   ],
   "source": [
    "print(f'real ATE: {true_casual_effect(test, \"ate\"):.4f}')\n",
    "print(f'Weighted estimated ATE: {est_effect(responses, treatments, prop_scores, \"ate\"):.4f}')\n",
    "print(f'Unadjusted estimated ATE: {(responses[treatments == 1].mean() - responses[treatments == 0].mean()):.4f}')"
   ]
  },
  {
   "cell_type": "code",
   "execution_count": 15,
   "metadata": {},
   "outputs": [
    {
     "name": "stdout",
     "output_type": "stream",
     "text": [
      "Unadjusted estimated ATE: 0.23596805334091187\n"
     ]
    }
   ],
   "source": []
  },
  {
   "cell_type": "code",
   "execution_count": null,
   "metadata": {},
   "outputs": [],
   "source": []
  }
 ],
 "metadata": {
  "kernelspec": {
   "display_name": "Python 3",
   "language": "python",
   "name": "python3"
  },
  "language_info": {
   "codemirror_mode": {
    "name": "ipython",
    "version": 3
   },
   "file_extension": ".py",
   "mimetype": "text/x-python",
   "name": "python",
   "nbconvert_exporter": "python",
   "pygments_lexer": "ipython3",
   "version": "3.7.7"
  }
 },
 "nbformat": 4,
 "nbformat_minor": 4
}
