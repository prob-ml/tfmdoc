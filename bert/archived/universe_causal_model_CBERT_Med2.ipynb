{
 "cells": [
  {
   "cell_type": "code",
   "execution_count": 1,
   "metadata": {},
   "outputs": [],
   "source": [
    "import os\n",
    "import time\n",
    "import random\n",
    "import math\n",
    "\n",
    "import numpy as np\n",
    "import torch\n",
    "import pandas as pd\n",
    "import matplotlib.pyplot as plt\n",
    "\n",
    "from torch.distributions.binomial import Binomial\n",
    "from torch.distributions.bernoulli import Bernoulli\n",
    "import torch.nn as nn\n",
    "from torch.utils.data import Dataset, DataLoader \n",
    "\n",
    "from transformers import DataCollatorForLanguageModeling, BertForMaskedLM\n",
    "from transformers import Trainer, TrainingArguments\n",
    "from transformers import get_linear_schedule_with_warmup, AdamW\n",
    "\n",
    "from causal_bert import load_data, load_model\n",
    "from causal_bert import true_casual_effect, est_casual_effect, show_result"
   ]
  },
  {
   "cell_type": "code",
   "execution_count": 2,
   "metadata": {},
   "outputs": [],
   "source": [
    "os.environ[\"CUDA_DEVICE_ORDER\"] = \"PCI_BUS_ID\"\n",
    "os.environ[\"CUDA_VISIBLE_DEVICES\"] = '5'\n",
    "device = torch.device('cuda' if torch.cuda.is_available() else 'cpu')"
   ]
  },
  {
   "cell_type": "code",
   "execution_count": 3,
   "metadata": {},
   "outputs": [],
   "source": [
    "effect = 'ate'\n",
    "estimation = 'q'\n",
    "\n",
    "effect = effect.lower()\n",
    "estimation = estimation.lower()\n",
    "assert effect in ['att', 'ate'], f'Wrong effect: {effect}...'\n",
    "assert estimation in ['q', 'plugin'], f'Wrong estimation: {estimation}...'"
   ]
  },
  {
   "cell_type": "code",
   "execution_count": 4,
   "metadata": {},
   "outputs": [],
   "source": [
    "bsz = 16\n",
    "epoch = 10\n",
    "hidden_size = 64\n",
    "lr = 5e-6"
   ]
  },
  {
   "cell_type": "code",
   "execution_count": null,
   "metadata": {},
   "outputs": [],
   "source": [
    "alpha = 0.5\n",
    "beta = 5.\n",
    "c = 0.2\n",
    "i = 0.\n",
    "\n",
    "train_loader, test_loader = load_data(alpha, beta, c, i, bsz, device=device)"
   ]
  },
  {
   "cell_type": "code",
   "execution_count": null,
   "metadata": {},
   "outputs": [],
   "source": [
    "real_att_q = true_casual_effect(test_loader)\n",
    "\n",
    "print(f'Real: [effect: ate], [estimation: q], [value: {real_att_q:.5f}]')\n",
    "print(f'Unadjusted: [value: {(test_loader.dataset.response[test_loader.dataset.treatment == 1].mean() - test_loader.dataset.response[test_loader.dataset.treatment == 0].mean()).item():.4f}]')"
   ]
  },
  {
   "cell_type": "code",
   "execution_count": 7,
   "metadata": {},
   "outputs": [],
   "source": [
    "model = load_model(model='bert', hidden_size=hidden_size, device=device)\n",
    "\n",
    "pos_portion = train_loader.dataset.treatment.mean()\n",
    "pos_weight = (1 - pos_portion) / pos_portion\n",
    "\n",
    "epoch_iter = len(train_loader)\n",
    "total_steps = epoch * epoch_iter\n",
    "\n",
    "# optimizer = torch.optim.Adam(model.parameters(), lr=lr)\n",
    "optimizer = AdamW(model.parameters(), lr=lr, eps=1e-8)\n",
    "\n",
    "q_loss = nn.BCELoss()\n",
    "prop_score_loss = nn.BCEWithLogitsLoss(pos_weight=pos_weight)"
   ]
  },
  {
   "cell_type": "code",
   "execution_count": 8,
   "metadata": {},
   "outputs": [
    {
     "name": "stdout",
     "output_type": "stream",
     "text": [
      "epoch: 1 / 10, time cost: 2218.65 sec, \n",
      "          Loss: [Train: p = 0.98961, q = 1.23279], \n",
      "          Loss: [Test: p = 0.97652, q = 1.20542],\n",
      "          Effect: [ate-q], [train: 0.19963], [test: 0.19958]\n",
      "********************************************************************************\n",
      "epoch: 2 / 10, time cost: 2225.76 sec, \n",
      "          Loss: [Train: p = 0.97507, q = 1.20384], \n",
      "          Loss: [Test: p = 0.98130, q = 1.20076],\n",
      "          Effect: [ate-q], [train: 0.18055], [test: 0.18044]\n",
      "********************************************************************************\n",
      "epoch: 3 / 10, time cost: 2220.93 sec, \n",
      "          Loss: [Train: p = 0.97241, q = 1.20128], \n",
      "          Loss: [Test: p = 0.97932, q = 1.20295],\n",
      "          Effect: [ate-q], [train: 0.16519], [test: 0.16518]\n",
      "********************************************************************************\n",
      "epoch: 4 / 10, time cost: 2225.81 sec, \n",
      "          Loss: [Train: p = 0.96468, q = 1.19833], \n",
      "          Loss: [Test: p = 0.98562, q = 1.20612],\n",
      "          Effect: [ate-q], [train: 0.15660], [test: 0.15690]\n",
      "********************************************************************************\n",
      "epoch: 5 / 10, time cost: 2229.62 sec, \n",
      "          Loss: [Train: p = 0.95129, q = 1.19256], \n",
      "          Loss: [Test: p = 0.99873, q = 1.20781],\n",
      "          Effect: [ate-q], [train: 0.16068], [test: 0.16167]\n",
      "********************************************************************************\n",
      "epoch: 6 / 10, time cost: 2219.42 sec, \n",
      "          Loss: [Train: p = 0.93618, q = 1.17995], \n",
      "          Loss: [Test: p = 1.01635, q = 1.22017],\n",
      "          Effect: [ate-q], [train: 0.18248], [test: 0.18434]\n",
      "********************************************************************************\n",
      "epoch: 7 / 10, time cost: 2220.00 sec, \n",
      "          Loss: [Train: p = 0.91962, q = 1.17248], \n",
      "          Loss: [Test: p = 1.05556, q = 1.22791],\n",
      "          Effect: [ate-q], [train: 0.11588], [test: 0.11805]\n",
      "********************************************************************************\n",
      "epoch: 8 / 10, time cost: 2219.29 sec, \n",
      "          Loss: [Train: p = 0.90106, q = 1.15652], \n",
      "          Loss: [Test: p = 1.08030, q = 1.24600],\n",
      "          Effect: [ate-q], [train: 0.12692], [test: 0.13008]\n",
      "********************************************************************************\n",
      "epoch: 9 / 10, time cost: 2218.00 sec, \n",
      "          Loss: [Train: p = 0.88154, q = 1.14264], \n",
      "          Loss: [Test: p = 1.11676, q = 1.25941],\n",
      "          Effect: [ate-q], [train: 0.08921], [test: 0.09290]\n",
      "********************************************************************************\n",
      "epoch: 10 / 10, time cost: 2225.94 sec, \n",
      "          Loss: [Train: p = 0.86231, q = 1.12264], \n",
      "          Loss: [Test: p = 1.14273, q = 1.27307],\n",
      "          Effect: [ate-q], [train: 0.11522], [test: 0.12176]\n",
      "********************************************************************************\n",
      "Finish training...\n"
     ]
    }
   ],
   "source": [
    "train_loss_hist_p, train_loss_hist_q1, train_loss_hist_q0 = [], [], []\n",
    "test_loss_hist_p, test_loss_hist_q1, test_loss_hist_q0 = [], [], []\n",
    "est_effect, prop_score_hist = [], []\n",
    "\n",
    "for e in range(1, epoch + 1):\n",
    "    model.train()\n",
    "    start = time.time()\n",
    "        \n",
    "    p_loss_train, q1_loss_train, q0_loss_train  = [], [], []\n",
    "    for idx, (tokens, treatment, response, _) in enumerate(train_loader):\n",
    "        optimizer.zero_grad()\n",
    "        prop_score, q1, q0 = model(tokens)\n",
    "        \n",
    "        loss_p = prop_score_loss(prop_score, treatment)\n",
    "        loss = loss_p\n",
    "        \n",
    "        p_loss_train.append(loss_p.item())\n",
    "        if len(response[treatment == 1]) > 0:\n",
    "            loss_q1 = q_loss(q1[treatment==1], response[treatment==1])\n",
    "            loss += loss_q1\n",
    "            q1_loss_train.append(loss_q1.item())\n",
    "            \n",
    "        if len(response[treatment == 0]) > 0:\n",
    "            loss_q0 = q_loss(q0[treatment==0], response[treatment==0])\n",
    "            loss += loss_q0\n",
    "            q0_loss_train.append(loss_q0.item())\n",
    "                        \n",
    "        loss.backward()\n",
    "        optimizer.step()\n",
    "\n",
    "    run_idx = idx\n",
    "\n",
    "    # Evaluation.\n",
    "    p_loss_train = np.array(p_loss_train).mean()\n",
    "    q1_loss_train = np.array(q1_loss_train).mean()\n",
    "    q0_loss_train = np.array(q0_loss_train).mean()\n",
    "    \n",
    "    train_effect, _, _, _, _, _, _ = est_casual_effect(train_loader, model, effect, estimation, evaluate=False)\n",
    "    test_effect, p_loss_test, q1_loss_test, q0_loss_test, prop_accu_test, q1_accu_test, q0_accu_test = est_casual_effect(test_loader, model, effect, estimation, evaluate=True, p_loss=prop_score_loss, q_loss=q_loss)\n",
    "    \n",
    "    train_loss_hist_p.append(p_loss_train)\n",
    "    train_loss_hist_q1.append(q1_loss_train)\n",
    "    train_loss_hist_q0.append(q0_loss_train)\n",
    "    \n",
    "    test_loss_hist_p.append(p_loss_test)\n",
    "    test_loss_hist_q1.append(q1_loss_test)\n",
    "    test_loss_hist_q0.append(q0_loss_test)\n",
    "\n",
    "    est_effect.append(test_effect)\n",
    "    \n",
    "    \n",
    "    print(f'''epoch: {e} / {epoch}, time cost: {(time.time() - start):.2f} sec, \n",
    "          Loss: [Train: p = {p_loss_train:.5f}, q = {(q1_loss_train + q0_loss_train):.5f}], \n",
    "          Loss: [Test: p = {p_loss_test:.5f}, q = {(q1_loss_test + q0_loss_test):.5f}],\n",
    "          Effect: [{effect}-{estimation}], [train: {train_effect:.5f}], [test: {test_effect:.5f}]''')\n",
    "    print('*'* 80)\n",
    "    start = time.time()\n",
    "\n",
    "train_loss_hist = dict(p=train_loss_hist_p, q1=train_loss_hist_q1, q0=train_loss_hist_q1)\n",
    "test_loss_hist = dict(p=test_loss_hist_p, q1=test_loss_hist_q1, q0=test_loss_hist_q0)\n",
    "\n",
    "print('Finish training...')\n"
   ]
  },
  {
   "cell_type": "code",
   "execution_count": 9,
   "metadata": {},
   "outputs": [
    {
     "data": {
      "image/png": "[encoded data removed]",
      "text/plain": [
       "<Figure size 432x288 with 2 Axes>"
      ]
     },
     "metadata": {
      "needs_background": "light"
     },
     "output_type": "display_data"
    }
   ],
   "source": [
    "real = true_casual_effect(test_loader)\n",
    "unadjust = (test_loader.dataset.response[test_loader.dataset.treatment == 1].mean() - test_loader.dataset.response[test_loader.dataset.treatment == 0].mean()).item()\n",
    "show_result(train_loss_hist, test_loss_hist, est_effect, real, unadjust, epoch)"
   ]
  },
  {
   "cell_type": "code",
   "execution_count": 10,
   "metadata": {},
   "outputs": [
    {
     "ename": "SyntaxError",
     "evalue": "invalid syntax (<ipython-input-10-4b37ef281455>, line 1)",
     "output_type": "error",
     "traceback": [
      "\u001b[0;36m  File \u001b[0;32m\"<ipython-input-10-4b37ef281455>\"\u001b[0;36m, line \u001b[0;32m1\u001b[0m\n\u001b[0;31m    |\u001b[0m\n\u001b[0m    ^\u001b[0m\n\u001b[0;31mSyntaxError\u001b[0m\u001b[0;31m:\u001b[0m invalid syntax\n"
     ]
    }
   ],
   "source": []
  },
  {
   "cell_type": "code",
   "execution_count": null,
   "metadata": {},
   "outputs": [],
   "source": []
  }
 ],
 "metadata": {
  "kernelspec": {
   "display_name": "Python 3",
   "language": "python",
   "name": "python3"
  },
  "language_info": {
   "codemirror_mode": {
    "name": "ipython",
    "version": 3
   },
   "file_extension": ".py",
   "mimetype": "text/x-python",
   "name": "python",
   "nbconvert_exporter": "python",
   "pygments_lexer": "ipython3",
   "version": "3.7.7"
  }
 },
 "nbformat": 4,
 "nbformat_minor": 4
}
