{
 "cells": [
  {
   "cell_type": "code",
   "execution_count": 1,
   "metadata": {},
   "outputs": [],
   "source": [
    "import os\n",
    "import time\n",
    "\n",
    "import numpy as np\n",
    "import torch\n",
    "import pandas as pd\n",
    "import random\n",
    "from torch.distributions.binomial import Binomial\n",
    "from torch.distributions.bernoulli import Bernoulli\n",
    "import torch.nn as nn\n",
    "from torch.utils.data import Dataset, DataLoader \n",
    "\n",
    "from transformers import DataCollatorForLanguageModeling, BertModel\n",
    "from transformers import Trainer, TrainingArguments\n",
    "\n",
    "from tokens import WordLevelBertTokenizer\n",
    "from vocab import create_vocab\n",
    "from data import CausalBertDataset, MLMDataset\n",
    "from causal_bert import CausalBert"
   ]
  },
  {
   "cell_type": "code",
   "execution_count": 2,
   "metadata": {},
   "outputs": [],
   "source": [
    "os.environ[\"CUDA_DEVICE_ORDER\"] = \"PCI_BUS_ID\"\n",
    "os.environ[\"CUDA_VISIBLE_DEVICES\"] = '7'\n",
    "device = torch.device('cuda' if torch.cuda.is_available() else 'cpu')"
   ]
  },
  {
   "cell_type": "code",
   "execution_count": 3,
   "metadata": {},
   "outputs": [],
   "source": [
    "def true_casual_effect(data_loader, effect='ate', estimation='Q'):\n",
    "    dataset = data_loader.dataset\n",
    "    \n",
    "    Q1 = dataset.treatment * dataset.response + (1 - dataset.treatment) * dataset.pseudo_response\n",
    "    Q1 = Q1.cpu().data.numpy().squeeze()\n",
    "\n",
    "    Q0 = dataset.treatment * dataset.pseudo_response + (1 - dataset.treatment) * dataset.response\n",
    "    Q0 = Q0.cpu().data.numpy().squeeze()\n",
    "\n",
    "    treatment = dataset.treatment.cpu().data.numpy().squeeze()\n",
    "    prop_scores = dataset.prop_score.cpu().data.numpy().squeeze()\n",
    "    \n",
    "    if estimation == 'q':\n",
    "        if effect == 'att':\n",
    "            phi = (treatment * (Q1 - Q0))\n",
    "            return phi.sum() / treatment.sum()\n",
    "        elif effect == 'ate':\n",
    "            return (Q1 - Q0).mean()\n",
    "        \n",
    "    elif estimation == 'plugin':\n",
    "        phi = (prop_scores * (Q1 - Q0)).mean()\n",
    "        if effect == 'att':\n",
    "            return phi / treatment.mean()\n",
    "        elif effect == 'ate': \n",
    "            return phi\n",
    "\n",
    "def est_casual_effect(data_loader, causal_bert, effect='ate', estimation='Q'):\n",
    "    # We use `real_treatment` here to emphasize the estimations use real instead of estimated treatment.\n",
    "    real_response, real_treatment = [], []\n",
    "    prop_scores, Q1, Q0 = [], [], []\n",
    "\n",
    "    causal_bert.eval()\n",
    "    for idx, (tokens, treatment, response) in enumerate(data_loader):\n",
    "        real_response.append(response.cpu().data.numpy().squeeze())\n",
    "        real_treatment.append(treatment.cpu().data.numpy().squeeze())\n",
    "\n",
    "        prop_score, q1, q0 = causal_bert(tokens)\n",
    "\n",
    "        prop_scores.append(prop_score.cpu().data.numpy().squeeze())\n",
    "        Q1.append(q1.cpu().data.numpy().squeeze())\n",
    "        Q0.append(q0.cpu().data.numpy().squeeze())\n",
    "\n",
    "    real_response = np.concatenate(real_response, axis=0)\n",
    "    real_treatment = np.concatenate(real_treatment, axis=0)\n",
    "\n",
    "    Q1 = np.concatenate(Q1, axis=0)\n",
    "    Q0 = np.concatenate(Q0, axis=0)\n",
    "    prop_scores = np.concatenate(prop_scores, axis=0)\n",
    "    \n",
    "    causal_bert.train()\n",
    "    \n",
    "    if estimation == 'q':\n",
    "        if effect == 'att':\n",
    "            phi = (real_treatment * (Q1 - Q0))\n",
    "            return phi.sum() / real_treatment.sum()            \n",
    "        elif effect == 'ate':\n",
    "            return (Q1 - Q0).mean()\n",
    "        \n",
    "    elif estimation == 'plugin':\n",
    "        phi = (prop_scores * (Q1 - Q0)).mean()\n",
    "        if effect == 'att':\n",
    "            return phi / real_treatment.mean()\n",
    "        elif effect == 'ate':\n",
    "            return phi"
   ]
  },
  {
   "cell_type": "markdown",
   "metadata": {},
   "source": [
    "# Prepare data"
   ]
  },
  {
   "cell_type": "code",
   "execution_count": 4,
   "metadata": {},
   "outputs": [],
   "source": [
    "vocab = create_vocab(merged=True, uni_diag=True)\n",
    "\n",
    "tokenizer = WordLevelBertTokenizer(vocab)\n",
    "\n",
    "alpha = 0.75\n",
    "beta = 1.\n",
    "c = 0.5\n",
    "i = 0"
   ]
  },
  {
   "cell_type": "code",
   "execution_count": 5,
   "metadata": {},
   "outputs": [
    {
     "name": "stdout",
     "output_type": "stream",
     "text": [
      "Load training set in 71.30 sec\n"
     ]
    }
   ],
   "source": [
    "start = time.time()\n",
    "trainset = CausalBertDataset(tokenizer=tokenizer, data_type='merged', is_unidiag=True,\n",
    "                             alpha=alpha, beta=beta, c=c, i=i, \n",
    "                             group=list(range(1)), max_length=512, min_length=10,\n",
    "                             truncate_method='first', device=device)\n",
    "\n",
    "print(f'Load training set in {(time.time() - start):.2f} sec')"
   ]
  },
  {
   "cell_type": "code",
   "execution_count": 6,
   "metadata": {},
   "outputs": [
    {
     "name": "stdout",
     "output_type": "stream",
     "text": [
      "Load training set in 67.74 sec\n"
     ]
    }
   ],
   "source": [
    "start = time.time()\n",
    "testset = CausalBertDataset(tokenizer=tokenizer, data_type='merged', is_unidiag=True,\n",
    "                            alpha=alpha, beta=beta, c=c, i=i, \n",
    "                            group=[9], max_length=512, min_length=10,\n",
    "                            truncate_method='first', device=device)\n",
    "\n",
    "print(f'Load training set in {(time.time() - start):.2f} sec')"
   ]
  },
  {
   "cell_type": "code",
   "execution_count": 7,
   "metadata": {},
   "outputs": [],
   "source": [
    "train_loader = DataLoader(trainset, batch_size=16, drop_last=True, shuffle=True)\n",
    "test_loader = DataLoader(testset, batch_size=16, drop_last=True, shuffle=True)"
   ]
  },
  {
   "cell_type": "markdown",
   "metadata": {},
   "source": [
    "# Create and train a Causal-Bert"
   ]
  },
  {
   "cell_type": "code",
   "execution_count": 8,
   "metadata": {},
   "outputs": [],
   "source": [
    "trained_bert = '/nfs/turbo/lsa-regier/bert-results/results/behrt/MLM/merged/unidiag/checkpoint-4574003/'\n",
    "bert = BertModel.from_pretrained(trained_bert).to(device)\n",
    "\n",
    "causal_bert = CausalBert(bert, learnable_docu_embed=False, hidden_size=64).to(device)\n",
    "optimizer = torch.optim.Adam(causal_bert.parameters(), lr=5e-5)\n",
    "\n",
    "q_loss = nn.BCELoss()\n",
    "prop_score_loss = nn.BCELoss()\n",
    "\n",
    "# Please specify the effect and estimation we want to use here.\n",
    "effect = 'ate'\n",
    "estimation = 'Q'\n",
    "\n",
    "effect = effect.lower()\n",
    "estimation = estimation.lower()\n",
    "assert effect in ['att', 'ate'], f'Wrong effect: {effect}...'\n",
    "assert estimation in ['q', 'plugin'], f'Wrong estimation: {estimation}...'"
   ]
  },
  {
   "cell_type": "code",
   "execution_count": 9,
   "metadata": {},
   "outputs": [
    {
     "name": "stdout",
     "output_type": "stream",
     "text": [
      "Real: [effect: ate], [estimation: q], [value: 0.18492]\n",
      "Estimated: [effect: ate], [estimation: q], [value: 0.88089]\n"
     ]
    }
   ],
   "source": [
    "real_att_q = true_casual_effect(test_loader, effect, estimation)\n",
    "est_att_q = est_casual_effect(test_loader, causal_bert, effect, estimation)\n",
    "\n",
    "print(f'Real: [effect: {effect}], [estimation: {estimation}], [value: {real_att_q:.5f}]')\n",
    "print(f'Estimated: [effect: {effect}], [estimation: {estimation}], [value: {est_att_q:.5f}]')"
   ]
  },
  {
   "cell_type": "code",
   "execution_count": 10,
   "metadata": {},
   "outputs": [
    {
     "name": "stdout",
     "output_type": "stream",
     "text": [
      "epoch: 1/4, iteration: 2001/12057, time: 502.61 sec, \n",
      "                  g_loss: 23.46303, q1_loss: 1.54796, q0_loss: 1.40308, \n",
      "                  \n",
      "epoch: 1/4, iteration: 4001/12057, time: 1005.50 sec, \n",
      "                  g_loss: 24.19063, q1_loss: 0.75453, q0_loss: 0.72806, \n",
      "                  \n",
      "epoch: 1/4, iteration: 6001/12057, time: 1508.03 sec, \n",
      "                  g_loss: 24.00937, q1_loss: 0.69466, q0_loss: 0.70420, \n",
      "                  \n",
      "epoch: 1/4, iteration: 8001/12057, time: 2011.51 sec, \n",
      "                  g_loss: 24.09688, q1_loss: 0.69171, q0_loss: 0.69014, \n",
      "                  \n",
      "epoch: 1/4, iteration: 10001/12057, time: 2514.10 sec, \n",
      "                  g_loss: 23.47500, q1_loss: 0.67837, q0_loss: 0.68885, \n",
      "                  \n",
      "epoch: 1/4, iteration: 12001/12057, time: 3016.13 sec, \n",
      "                  g_loss: 23.40625, q1_loss: 0.67852, q0_loss: 0.68889, \n",
      "                  \n",
      "epoch: 1 / 4, \n",
      "          time cost: 3459.15 sec, \n",
      "          Testing set effect: [effect: ate], [estimation: q], [value: 0.25632]\n",
      "epoch: 2/4, iteration: 2001/12057, time: 503.15 sec, \n",
      "                  g_loss: 23.36957, q1_loss: 0.67644, q0_loss: 0.68540, \n",
      "                  \n",
      "epoch: 2/4, iteration: 4001/12057, time: 1006.73 sec, \n",
      "                  g_loss: 24.30000, q1_loss: 0.67007, q0_loss: 0.68363, \n",
      "                  \n",
      "epoch: 2/4, iteration: 6001/12057, time: 1508.96 sec, \n",
      "                  g_loss: 23.48750, q1_loss: 0.66681, q0_loss: 0.68367, \n",
      "                  \n",
      "epoch: 2/4, iteration: 8001/12057, time: 2012.40 sec, \n",
      "                  g_loss: 24.08125, q1_loss: 0.67159, q0_loss: 0.68503, \n",
      "                  \n",
      "epoch: 2/4, iteration: 10001/12057, time: 2515.08 sec, \n",
      "                  g_loss: 24.03125, q1_loss: 0.67401, q0_loss: 0.68433, \n",
      "                  \n",
      "epoch: 2/4, iteration: 12001/12057, time: 3018.86 sec, \n",
      "                  g_loss: 23.38125, q1_loss: 0.64675, q0_loss: 0.68464, \n",
      "                  \n",
      "epoch: 2 / 4, \n",
      "          time cost: 3457.07 sec, \n",
      "          Testing set effect: [effect: ate], [estimation: q], [value: 0.21927]\n",
      "epoch: 3/4, iteration: 2001/12057, time: 503.03 sec, \n",
      "                  g_loss: 23.89743, q1_loss: 0.64957, q0_loss: 0.68449, \n",
      "                  \n",
      "epoch: 3/4, iteration: 4001/12057, time: 1004.67 sec, \n",
      "                  g_loss: 23.60625, q1_loss: 0.65876, q0_loss: 0.68343, \n",
      "                  \n",
      "epoch: 3/4, iteration: 6001/12057, time: 1507.79 sec, \n",
      "                  g_loss: 23.94687, q1_loss: 0.66316, q0_loss: 0.68357, \n",
      "                  \n",
      "epoch: 3/4, iteration: 8001/12057, time: 2009.19 sec, \n",
      "                  g_loss: 23.42813, q1_loss: 0.66802, q0_loss: 0.68454, \n",
      "                  \n",
      "epoch: 3/4, iteration: 10001/12057, time: 2510.26 sec, \n",
      "                  g_loss: 23.84375, q1_loss: 0.65670, q0_loss: 0.68540, \n",
      "                  \n",
      "epoch: 3/4, iteration: 12001/12057, time: 3010.68 sec, \n",
      "                  g_loss: 23.95312, q1_loss: 0.65517, q0_loss: 0.68440, \n",
      "                  \n",
      "epoch: 3 / 4, \n",
      "          time cost: 3448.21 sec, \n",
      "          Testing set effect: [effect: ate], [estimation: q], [value: 0.17274]\n",
      "epoch: 4/4, iteration: 2001/12057, time: 499.94 sec, \n",
      "                  g_loss: 23.70065, q1_loss: 0.65440, q0_loss: 0.68163, \n",
      "                  \n",
      "epoch: 4/4, iteration: 4001/12057, time: 999.24 sec, \n",
      "                  g_loss: 23.95000, q1_loss: 0.65873, q0_loss: 0.68204, \n",
      "                  \n",
      "epoch: 4/4, iteration: 6001/12057, time: 1498.41 sec, \n",
      "                  g_loss: 23.70312, q1_loss: 0.65079, q0_loss: 0.68482, \n",
      "                  \n",
      "epoch: 4/4, iteration: 8001/12057, time: 1998.06 sec, \n",
      "                  g_loss: 24.11250, q1_loss: 0.65260, q0_loss: 0.68265, \n",
      "                  \n",
      "epoch: 4/4, iteration: 10001/12057, time: 2497.40 sec, \n",
      "                  g_loss: 23.77188, q1_loss: 0.64934, q0_loss: 0.68229, \n",
      "                  \n",
      "epoch: 4/4, iteration: 12001/12057, time: 2996.51 sec, \n",
      "                  g_loss: 23.44375, q1_loss: 0.66067, q0_loss: 0.68259, \n",
      "                  \n",
      "epoch: 4 / 4, \n",
      "          time cost: 3437.68 sec, \n",
      "          Testing set effect: [effect: ate], [estimation: q], [value: 0.20582]\n",
      "Finish training...\n"
     ]
    }
   ],
   "source": [
    "epoch = 4\n",
    "total_iter = len(train_loader)\n",
    "\n",
    "for e in range(1, epoch + 1):\n",
    "    causal_bert.train()\n",
    "    start = time.time()\n",
    "    \n",
    "    rg_loss, rq1_loss, rq0_loss = [], [], []\n",
    "    for idx, (tokens, treatment, response) in enumerate(train_loader):\n",
    "        optimizer.zero_grad()\n",
    "        prop_score, q1, q0 = causal_bert(tokens)\n",
    "        \n",
    "        g_loss  = prop_score_loss(prop_score, treatment)\n",
    "        g_loss.backward(retain_graph=True)\n",
    "        rg_loss.append(g_loss.item())\n",
    "        \n",
    "        if len(response[treatment == 1]) > 0:\n",
    "            q1_loss = q_loss(q1[treatment==1], response[treatment==1])\n",
    "            q1_loss.backward(retain_graph=True)\n",
    "            rq1_loss.append(q1_loss.item())\n",
    "\n",
    "        if len(response[treatment == 0]) > 0:\n",
    "            q0_loss = q_loss(q0[treatment==0], response[treatment==0])\n",
    "            q0_loss.backward()\n",
    "            rq0_loss.append(q0_loss.item())\n",
    "            \n",
    "        optimizer.step()\n",
    "        \n",
    "        if not idx % 2000 and idx > 0: \n",
    "            rg_loss = np.array(rg_loss)\n",
    "            rq1_loss = np.array(rq1_loss)\n",
    "            rq0_loss = np.array(rq0_loss)\n",
    "\n",
    "            print(f'''epoch: {e}/{epoch}, iteration: {idx + 1}/{total_iter}, time: {(time.time() - start):.2f} sec, \n",
    "                  g_loss: {(rg_loss.mean()) :.5f}, q1_loss: {(rq1_loss.mean()):.5f}, q0_loss: {(rq0_loss.mean()) :.5f}, \n",
    "                  ''')\n",
    "            rg_loss, rq1_loss, rq0_loss = [], [], []\n",
    "\n",
    "    run_idx = idx\n",
    "    \n",
    "    # Evaluation.\n",
    "#     train_est_att_q = est_casual_effect(train_loader, causal_bert, effect, estimation)\n",
    "    test_est_att_q = est_casual_effect(test_loader, causal_bert, effect, estimation)\n",
    "    \n",
    "    print(f'''epoch: {e} / {epoch}, \n",
    "          time cost: {(time.time() - start):.2f} sec, \n",
    "          Testing set effect: [effect: {effect}], [estimation: {estimation}], [value: {test_est_att_q:.5f}]''')\n",
    "    start = time.time()\n",
    "    rg_loss, rq1_loss, rq0_loss = [], [], []\n",
    "\n",
    "print('Finish training...')\n",
    "\n",
    "# With only 3 groups to train."
   ]
  },
  {
   "cell_type": "code",
   "execution_count": null,
   "metadata": {},
   "outputs": [],
   "source": []
  }
 ],
 "metadata": {
  "kernelspec": {
   "display_name": "Python 3",
   "language": "python",
   "name": "python3"
  },
  "language_info": {
   "codemirror_mode": {
    "name": "ipython",
    "version": 3
   },
   "file_extension": ".py",
   "mimetype": "text/x-python",
   "name": "python",
   "nbconvert_exporter": "python",
   "pygments_lexer": "ipython3",
   "version": "3.7.7"
  }
 },
 "nbformat": 4,
 "nbformat_minor": 4
}
