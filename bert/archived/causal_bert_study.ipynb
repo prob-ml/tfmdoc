{
 "cells": [
  {
   "cell_type": "code",
   "execution_count": 1,
   "metadata": {},
   "outputs": [],
   "source": [
    "import os\n",
    "import time\n",
    "\n",
    "import numpy as np\n",
    "import torch\n",
    "import pandas as pd\n",
    "import random\n",
    "from torch.distributions.binomial import Binomial\n",
    "from torch.distributions.bernoulli import Bernoulli\n",
    "import torch.nn as nn\n",
    "from torch.utils.data import Dataset, DataLoader \n",
    "\n",
    "from transformers import DataCollatorForLanguageModeling, BertModel\n",
    "from transformers import Trainer, TrainingArguments\n",
    "\n",
    "from tokens import WordLevelBertTokenizer\n",
    "from vocab import create_vocab\n",
    "from data import CausalBertDataset, MLMDataset\n",
    "from causal_bert import CausalBert"
   ]
  },
  {
   "cell_type": "code",
   "execution_count": 2,
   "metadata": {},
   "outputs": [],
   "source": [
    "os.environ[\"CUDA_DEVICE_ORDER\"] = \"PCI_BUS_ID\"\n",
    "os.environ[\"CUDA_VISIBLE_DEVICES\"] = '4'\n",
    "device = torch.device('cuda' if torch.cuda.is_available() else 'cpu')"
   ]
  },
  {
   "cell_type": "code",
   "execution_count": 3,
   "metadata": {},
   "outputs": [],
   "source": [
    "def true_casual_effect(data_loader, effect='ate', estimation='Q'):\n",
    "    dataset = data_loader.dataset\n",
    "    \n",
    "    Q1 = dataset.treatment * dataset.response + (1 - dataset.treatment) * dataset.pseudo_response\n",
    "    Q1 = Q1.cpu().data.numpy().squeeze()\n",
    "\n",
    "    Q0 = dataset.treatment * dataset.pseudo_response + (1 - dataset.treatment) * dataset.response\n",
    "    Q0 = Q0.cpu().data.numpy().squeeze()\n",
    "\n",
    "    treatment = dataset.treatment.cpu().data.numpy().squeeze()\n",
    "    prop_scores = dataset.prop_score.cpu().data.numpy().squeeze()\n",
    "    \n",
    "    if estimation == 'q':\n",
    "        if effect == 'att':\n",
    "            phi = (treatment * (Q1 - Q0))\n",
    "            return phi.sum() / treatment.sum()\n",
    "        elif effect == 'ate':\n",
    "            return (Q1 - Q0).mean()\n",
    "        \n",
    "    elif estimation == 'plugin':\n",
    "        phi = (prop_scores * (Q1 - Q0)).mean()\n",
    "        if effect == 'att':\n",
    "            return phi / treatment.mean()\n",
    "        elif effect == 'ate': \n",
    "            return phi\n",
    "\n",
    "def est_casual_effect(data_loader, causal_bert, effect='ate', estimation='Q'):\n",
    "    # We use `real_treatment` here to emphasize the estimations use real instead of estimated treatment.\n",
    "    real_response, real_treatment = [], []\n",
    "    prop_scores, Q1, Q0 = [], [], []\n",
    "\n",
    "    causal_bert.eval()\n",
    "    for idx, (tokens, treatment, response) in enumerate(data_loader):\n",
    "        real_response.append(response.cpu().data.numpy().squeeze())\n",
    "        real_treatment.append(treatment.cpu().data.numpy().squeeze())\n",
    "\n",
    "        prop_score, q1, q0 = causal_bert(tokens)\n",
    "\n",
    "        prop_scores.append(prop_score.cpu().data.numpy().squeeze())\n",
    "        Q1.append(q1.cpu().data.numpy().squeeze())\n",
    "        Q0.append(q0.cpu().data.numpy().squeeze())\n",
    "\n",
    "    real_response = np.concatenate(real_response, axis=0)\n",
    "    real_treatment = np.concatenate(real_treatment, axis=0)\n",
    "\n",
    "    Q1 = np.concatenate(Q1, axis=0)\n",
    "    Q0 = np.concatenate(Q0, axis=0)\n",
    "    prop_scores = np.concatenate(prop_scores, axis=0)\n",
    "    \n",
    "    causal_bert.train()\n",
    "    \n",
    "    if estimation == 'q':\n",
    "        if effect == 'att':\n",
    "            phi = (real_treatment * (Q1 - Q0))\n",
    "            return phi.sum() / real_treatment.sum()            \n",
    "        elif effect == 'ate':\n",
    "            return (Q1 - Q0).mean()\n",
    "        \n",
    "    elif estimation == 'plugin':\n",
    "        phi = (prop_scores * (Q1 - Q0)).mean()\n",
    "        if effect == 'att':\n",
    "            return phi / real_treatment.mean()\n",
    "        elif effect == 'ate':\n",
    "            return phi"
   ]
  },
  {
   "cell_type": "markdown",
   "metadata": {},
   "source": [
    "# Prepare data"
   ]
  },
  {
   "cell_type": "code",
   "execution_count": 4,
   "metadata": {},
   "outputs": [],
   "source": [
    "vocab = create_vocab(merged=True, uni_diag=True)\n",
    "\n",
    "tokenizer = WordLevelBertTokenizer(vocab)\n",
    "\n",
    "alpha = 0.25\n",
    "beta = 1.\n",
    "c = 0.2\n",
    "i = 0"
   ]
  },
  {
   "cell_type": "code",
   "execution_count": 5,
   "metadata": {},
   "outputs": [
    {
     "name": "stdout",
     "output_type": "stream",
     "text": [
      "Load training set in 227.26 sec\n"
     ]
    }
   ],
   "source": [
    "start = time.time()\n",
    "trainset = CausalBertDataset(tokenizer=tokenizer, data_type='merged', is_unidiag=True,\n",
    "                             alpha=alpha, beta=beta, c=c, i=i, \n",
    "                             group=list(range(3)), max_length=512, min_length=10,\n",
    "                             truncate_method='first', device=device)\n",
    "\n",
    "print(f'Load training set in {(time.time() - start):.2f} sec')"
   ]
  },
  {
   "cell_type": "code",
   "execution_count": 6,
   "metadata": {},
   "outputs": [
    {
     "name": "stdout",
     "output_type": "stream",
     "text": [
      "Load training set in 69.11 sec\n"
     ]
    }
   ],
   "source": [
    "start = time.time()\n",
    "testset = CausalBertDataset(tokenizer=tokenizer, data_type='merged', is_unidiag=True,\n",
    "                            alpha=alpha, beta=beta, c=c, i=i, \n",
    "                            group=[9], max_length=512, min_length=10,\n",
    "                            truncate_method='first', device=device)\n",
    "\n",
    "print(f'Load training set in {(time.time() - start):.2f} sec')"
   ]
  },
  {
   "cell_type": "code",
   "execution_count": 7,
   "metadata": {},
   "outputs": [],
   "source": [
    "train_loader = DataLoader(trainset, batch_size=16, drop_last=True, shuffle=True)\n",
    "test_loader = DataLoader(testset, batch_size=16, drop_last=True, shuffle=True)"
   ]
  },
  {
   "cell_type": "markdown",
   "metadata": {},
   "source": [
    "# Create and train a Causal-Bert"
   ]
  },
  {
   "cell_type": "code",
   "execution_count": 8,
   "metadata": {},
   "outputs": [],
   "source": [
    "trained_bert = '/nfs/turbo/lsa-regier/bert-results/results/behrt/MLM/merged/unidiag/checkpoint-4574003/'\n",
    "bert = BertModel.from_pretrained(trained_bert).to(device)\n",
    "\n",
    "causal_bert = CausalBert(bert, learnable_docu_embed=False).to(device)\n",
    "optimizer = torch.optim.Adam(causal_bert.parameters(), lr=5e-5)\n",
    "\n",
    "q_loss = nn.BCELoss()\n",
    "prop_score_loss = nn.BCELoss()\n",
    "\n",
    "# Please specify the effect and estimation we want to use here.\n",
    "effect = 'ate'\n",
    "estimation = 'Q'\n",
    "\n",
    "effect = effect.lower()\n",
    "estimation = estimation.lower()\n",
    "assert effect in ['att', 'ate'], f'Wrong effect: {effect}...'\n",
    "assert estimation in ['q', 'plugin'], f'Wrong estimation: {estimation}...'"
   ]
  },
  {
   "cell_type": "code",
   "execution_count": 9,
   "metadata": {},
   "outputs": [
    {
     "name": "stdout",
     "output_type": "stream",
     "text": [
      "Real: [effect: ate], [estimation: q], [value: 0.06357]\n",
      "Estimated: [effect: ate], [estimation: q], [value: 0.87794]\n"
     ]
    }
   ],
   "source": [
    "real_att_q = true_casual_effect(test_loader, effect, estimation)\n",
    "est_att_q = est_casual_effect(test_loader, causal_bert, effect, estimation)\n",
    "\n",
    "print(f'Real: [effect: {effect}], [estimation: {estimation}], [value: {real_att_q:.5f}]')\n",
    "print(f'Estimated: [effect: {effect}], [estimation: {estimation}], [value: {est_att_q:.5f}]')"
   ]
  },
  {
   "cell_type": "code",
   "execution_count": null,
   "metadata": {},
   "outputs": [
    {
     "name": "stdout",
     "output_type": "stream",
     "text": [
      "epoch: 2/10, iteration: 2001/36073, time: 503.20 sec, \n",
      "                  g_loss: 23.72876, q1_loss: 41.68319, q0_loss: 0.69313, \n",
      "                  \n",
      "epoch: 2/10, iteration: 4001/36073, time: 1006.79 sec, \n",
      "                  g_loss: 23.51875, q1_loss: 41.39696, q0_loss: 0.69315, \n",
      "                  \n",
      "epoch: 2/10, iteration: 6001/36073, time: 1510.47 sec, \n",
      "                  g_loss: 23.66562, q1_loss: 40.65370, q0_loss: 0.69313, \n",
      "                  \n",
      "epoch: 2/10, iteration: 8001/36073, time: 2014.01 sec, \n",
      "                  g_loss: 23.90625, q1_loss: 41.10418, q0_loss: 0.69315, \n",
      "                  \n",
      "epoch: 2/10, iteration: 10001/36073, time: 2517.53 sec, \n",
      "                  g_loss: 23.91250, q1_loss: 41.27147, q0_loss: 0.69311, \n",
      "                  \n",
      "epoch: 2/10, iteration: 12001/36073, time: 3021.30 sec, \n",
      "                  g_loss: 23.88750, q1_loss: 41.43075, q0_loss: 0.69303, \n",
      "                  \n",
      "epoch: 2/10, iteration: 14001/36073, time: 3525.34 sec, \n",
      "                  g_loss: 24.03125, q1_loss: 40.48367, q0_loss: 0.69322, \n",
      "                  \n",
      "epoch: 2/10, iteration: 16001/36073, time: 4029.26 sec, \n",
      "                  g_loss: 23.92188, q1_loss: 39.89218, q0_loss: 0.69318, \n",
      "                  \n",
      "epoch: 2/10, iteration: 18001/36073, time: 4532.58 sec, \n",
      "                  g_loss: 23.33750, q1_loss: 40.84551, q0_loss: 0.69316, \n",
      "                  \n",
      "epoch: 2/10, iteration: 20001/36073, time: 5036.49 sec, \n",
      "                  g_loss: 23.80625, q1_loss: 41.07705, q0_loss: 0.69313, \n",
      "                  \n",
      "epoch: 2/10, iteration: 22001/36073, time: 5540.10 sec, \n",
      "                  g_loss: 23.84688, q1_loss: 40.38945, q0_loss: 0.69319, \n",
      "                  \n",
      "epoch: 2/10, iteration: 24001/36073, time: 6043.41 sec, \n",
      "                  g_loss: 23.77188, q1_loss: 41.39560, q0_loss: 0.69317, \n",
      "                  \n",
      "epoch: 2/10, iteration: 26001/36073, time: 6547.07 sec, \n",
      "                  g_loss: 23.65625, q1_loss: 40.68767, q0_loss: 0.69317, \n",
      "                  \n",
      "epoch: 2/10, iteration: 28001/36073, time: 7050.90 sec, \n",
      "                  g_loss: 23.57187, q1_loss: 40.17105, q0_loss: 0.69313, \n",
      "                  \n",
      "epoch: 2/10, iteration: 30001/36073, time: 7554.45 sec, \n",
      "                  g_loss: 23.80313, q1_loss: 41.55577, q0_loss: 0.69319, \n",
      "                  \n",
      "epoch: 2/10, iteration: 32001/36073, time: 8058.48 sec, \n",
      "                  g_loss: 23.95312, q1_loss: 40.29456, q0_loss: 0.69317, \n",
      "                  \n",
      "epoch: 2/10, iteration: 34001/36073, time: 8562.08 sec, \n",
      "                  g_loss: 24.04062, q1_loss: 40.54248, q0_loss: 0.69315, \n",
      "                  \n",
      "epoch: 2/10, iteration: 36001/36073, time: 9066.21 sec, \n",
      "                  g_loss: 23.72188, q1_loss: 40.48683, q0_loss: 0.69319, \n",
      "                  \n",
      "epoch: 2 / 10, \n",
      "          time cost: 9511.81 sec, \n",
      "          Testing set effect: [effect: ate], [estimation: q], [value: 0.50023]\n",
      "epoch: 3/10, iteration: 2001/36073, time: 504.46 sec, \n",
      "                  g_loss: 24.00675, q1_loss: 42.13253, q0_loss: 0.69317, \n",
      "                  \n",
      "epoch: 3/10, iteration: 4001/36073, time: 1008.17 sec, \n",
      "                  g_loss: 23.63437, q1_loss: 40.78772, q0_loss: 0.69317, \n",
      "                  \n",
      "epoch: 3/10, iteration: 6001/36073, time: 1512.35 sec, \n",
      "                  g_loss: 23.80000, q1_loss: 40.55407, q0_loss: 0.69313, \n",
      "                  \n",
      "epoch: 3/10, iteration: 8001/36073, time: 2016.62 sec, \n",
      "                  g_loss: 24.20625, q1_loss: 39.08442, q0_loss: 0.69316, \n",
      "                  \n",
      "epoch: 3/10, iteration: 10001/36073, time: 2520.58 sec, \n",
      "                  g_loss: 23.56875, q1_loss: 41.47353, q0_loss: 0.69312, \n",
      "                  \n",
      "epoch: 3/10, iteration: 12001/36073, time: 3024.47 sec, \n",
      "                  g_loss: 24.02500, q1_loss: 41.46664, q0_loss: 0.69321, \n",
      "                  \n"
     ]
    }
   ],
   "source": [
    "epoch = 10\n",
    "total_iter = len(train_loader)\n",
    "\n",
    "for e in range(2, epoch + 1):\n",
    "    causal_bert.train()\n",
    "    start = time.time()\n",
    "    \n",
    "    rg_loss, rq1_loss, rq0_loss = [], [], []\n",
    "    for idx, (tokens, treatment, response) in enumerate(train_loader):\n",
    "        optimizer.zero_grad()\n",
    "        prop_score, q1, q0 = causal_bert(tokens)\n",
    "        \n",
    "        g_loss  = prop_score_loss(prop_score, treatment)\n",
    "        g_loss.backward(retain_graph=True)\n",
    "        rg_loss.append(g_loss.item())\n",
    "        \n",
    "        if len(response[treatment == 1]) > 0:\n",
    "            q1_loss = q_loss(q1[treatment==1], response[treatment==1])\n",
    "            q1_loss.backward(retain_graph=True)\n",
    "            rq1_loss.append(q1_loss.item())\n",
    "\n",
    "        if len(response[treatment == 0]) > 0:\n",
    "            q0_loss = q_loss(q0[treatment==0], response[treatment==0])\n",
    "            q0_loss.backward()\n",
    "            rq0_loss.append(q0_loss.item())\n",
    "            \n",
    "        optimizer.step()\n",
    "        \n",
    "        if not idx % 2000 and idx > 0: \n",
    "            rg_loss = np.array(rg_loss)\n",
    "            rq1_loss = np.array(rq1_loss)\n",
    "            rq0_loss = np.array(rq0_loss)\n",
    "\n",
    "            print(f'''epoch: {e}/{epoch}, iteration: {idx + 1}/{total_iter}, time: {(time.time() - start):.2f} sec, \n",
    "                  g_loss: {(rg_loss.mean()) :.5f}, q1_loss: {(rq1_loss.mean()):.5f}, q0_loss: {(rq0_loss.mean()) :.5f}, \n",
    "                  ''')\n",
    "            rg_loss, rq1_loss, rq0_loss = [], [], []\n",
    "\n",
    "    run_idx = idx\n",
    "    \n",
    "    # Evaluation.\n",
    "#     train_est_att_q = est_casual_effect(train_loader, causal_bert, effect, estimation)\n",
    "    test_est_att_q = est_casual_effect(test_loader, causal_bert, effect, estimation)\n",
    "    \n",
    "    print(f'''epoch: {e} / {epoch}, \n",
    "          time cost: {(time.time() - start):.2f} sec, \n",
    "          Real: [effect: {effect}], [estimation: {estimation}], [value: {real_att_q:.5f}]\n",
    "          Testing set effect: [effect: {effect}], [estimation: {estimation}], [value: {test_est_att_q:.5f}]''')\n",
    "    start = time.time()\n",
    "    rg_loss, rq1_loss, rq0_loss = [], [], []\n",
    "\n",
    "print('Finish training...')\n",
    "\n",
    "# With only 3 groups to train."
   ]
  },
  {
   "cell_type": "code",
   "execution_count": 12,
   "metadata": {},
   "outputs": [
    {
     "name": "stdout",
     "output_type": "stream",
     "text": [
      "epoch: 1 / 10, \n",
      "          time cost: 9662.33 sec, \n",
      "          Testing set effect: [effect: ate], [estimation: q], [value: 0.49412]\n"
     ]
    }
   ],
   "source": [
    "print(f'''epoch: {e} / {epoch}, \n",
    "          time cost: {(time.time() - start):.2f} sec, \n",
    "          Real: [effect: {effect}], [estimation: {estimation}], [value: {real_att_q:.5f}]\n",
    "          Testing set effect: [effect: {effect}], [estimation: {estimation}], [value: {test_est_att_q:.5f}]''')"
   ]
  },
  {
   "cell_type": "code",
   "execution_count": null,
   "metadata": {},
   "outputs": [],
   "source": []
  }
 ],
 "metadata": {
  "kernelspec": {
   "display_name": "Python 3",
   "language": "python",
   "name": "python3"
  },
  "language_info": {
   "codemirror_mode": {
    "name": "ipython",
    "version": 3
   },
   "file_extension": ".py",
   "mimetype": "text/x-python",
   "name": "python",
   "nbconvert_exporter": "python",
   "pygments_lexer": "ipython3",
   "version": "3.7.7"
  }
 },
 "nbformat": 4,
 "nbformat_minor": 4
}
