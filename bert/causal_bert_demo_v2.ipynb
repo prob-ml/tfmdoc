{
 "cells": [
  {
   "cell_type": "code",
   "execution_count": 1,
   "metadata": {},
   "outputs": [],
   "source": [
    "import os\n",
    "import time\n",
    "\n",
    "import numpy as np\n",
    "import torch\n",
    "import pandas as pd\n",
    "import random\n",
    "from torch.distributions.binomial import Binomial\n",
    "from torch.distributions.bernoulli import Bernoulli\n",
    "import torch.nn as nn\n",
    "from torch.utils.data import Dataset, DataLoader \n",
    "\n",
    "from transformers import DataCollatorForLanguageModeling, BertForMaskedLM\n",
    "from transformers import Trainer, TrainingArguments\n",
    "\n",
    "from tokens import WordLevelBertTokenizer\n",
    "from vocab import create_vocab\n",
    "from data import CausalBertDataset, MLMDataset\n",
    "from causal_bert import CausalBOW"
   ]
  },
  {
   "cell_type": "code",
   "execution_count": 2,
   "metadata": {},
   "outputs": [],
   "source": [
    "os.environ[\"CUDA_DEVICE_ORDER\"] = \"PCI_BUS_ID\"\n",
    "os.environ[\"CUDA_VISIBLE_DEVICES\"] = '3'\n",
    "device = torch.device('cuda' if torch.cuda.is_available() else 'cpu')"
   ]
  },
  {
   "cell_type": "code",
   "execution_count": 11,
   "metadata": {},
   "outputs": [],
   "source": [
    "def true_casual_effect(data_loader, effect='ate', estimation='Q'):\n",
    "    dataset = data_loader.dataset\n",
    "    \n",
    "    Q1 = dataset.treatment * dataset.response + (1 - dataset.treatment) * dataset.pseudo_response\n",
    "    Q1 = Q1.cpu().data.numpy().squeeze()\n",
    "\n",
    "    Q0 = dataset.treatment * dataset.pseudo_response + (1 - dataset.treatment) * dataset.response\n",
    "    Q0 = Q0.cpu().data.numpy().squeeze()\n",
    "\n",
    "    treatment = dataset.treatment.cpu().data.numpy().squeeze()\n",
    "    prop_scores = dataset.prop_score.cpu().data.numpy().squeeze()\n",
    "    \n",
    "    if estimation == 'q':\n",
    "        if effect == 'att':\n",
    "            phi = (treatment * (Q1 - Q0))\n",
    "            return phi.sum() / treatment.sum()\n",
    "        elif effect == 'ate':\n",
    "            return (Q1 - Q0).mean()\n",
    "        \n",
    "    elif estimation == 'plugin':\n",
    "        phi = (prop_scores * (Q1 - Q0)).mean()\n",
    "        if effect == 'att':\n",
    "            return phi / treatment.mean()\n",
    "        elif effect == 'ate': \n",
    "            return phi\n",
    "\n",
    "def est_casual_effect(data_loader, model, effect='ate', estimation='Q'):\n",
    "    # We use `real_treatment` here to emphasize the estimations use real instead of estimated treatment.\n",
    "    real_response, real_treatment = [], []\n",
    "    prop_scores, Q1, Q0 = [], [], []\n",
    "\n",
    "    model.eval()\n",
    "    for idx, (tokens, treatment, response) in enumerate(data_loader):\n",
    "        real_response.append(response.cpu().data.numpy().squeeze())\n",
    "        real_treatment.append(treatment.cpu().data.numpy().squeeze())\n",
    "\n",
    "        prop_score, q1, q0 = model(tokens)\n",
    "\n",
    "        prop_scores.append(prop_score.cpu().data.numpy().squeeze())\n",
    "        Q1.append(q1.cpu().data.numpy().squeeze())\n",
    "        Q0.append(q0.cpu().data.numpy().squeeze())\n",
    "\n",
    "    real_response = np.concatenate(real_response, axis=0)\n",
    "    real_treatment = np.concatenate(real_treatment, axis=0)\n",
    "\n",
    "    Q1 = np.concatenate(Q1, axis=0)\n",
    "    Q0 = np.concatenate(Q0, axis=0)\n",
    "    prop_scores = np.concatenate(prop_scores, axis=0)\n",
    "    \n",
    "    model.train()\n",
    "    \n",
    "    if estimation == 'q':\n",
    "        if effect == 'att':\n",
    "            phi = (real_treatment * (Q1 - Q0))\n",
    "            return phi.sum() / real_treatment.sum()            \n",
    "        elif effect == 'ate':\n",
    "            return (Q1 - Q0).mean()\n",
    "        \n",
    "    elif estimation == 'plugin':\n",
    "        phi = (prop_scores * (Q1 - Q0)).mean()\n",
    "        if effect == 'att':\n",
    "            return phi / real_treatment.mean()\n",
    "        elif effect == 'ate':\n",
    "            return phi"
   ]
  },
  {
   "cell_type": "markdown",
   "metadata": {},
   "source": [
    "# Prepare data"
   ]
  },
  {
   "cell_type": "code",
   "execution_count": 4,
   "metadata": {},
   "outputs": [],
   "source": [
    "vocab = create_vocab(merged=True, uni_diag=True)\n",
    "\n",
    "tokenizer = WordLevelBertTokenizer(vocab)"
   ]
  },
  {
   "cell_type": "code",
   "execution_count": 5,
   "metadata": {},
   "outputs": [
    {
     "name": "stdout",
     "output_type": "stream",
     "text": [
      "Load training set in 224.74 sec\n"
     ]
    }
   ],
   "source": [
    "start = time.time()\n",
    "trainset = CausalBertDataset(tokenizer=tokenizer, data_type='merged', is_unidiag=True,\n",
    "                             alpha=0.75, beta=1., c=0.5, i=0,\n",
    "                             group=list(range(3)), max_length=512, min_length=10,\n",
    "                             truncate_method='first', device=device)\n",
    "\n",
    "print(f'Load training set in {(time.time() - start):.2f} sec')"
   ]
  },
  {
   "cell_type": "code",
   "execution_count": 6,
   "metadata": {},
   "outputs": [
    {
     "name": "stdout",
     "output_type": "stream",
     "text": [
      "Load training set in 67.24 sec\n"
     ]
    }
   ],
   "source": [
    "start = time.time()\n",
    "testset = CausalBertDataset(tokenizer=tokenizer, data_type='merged', is_unidiag=True,\n",
    "                            alpha=0.75, beta=1., c=0.5, i=0,\n",
    "                            group=[9], max_length=512, min_length=10,\n",
    "                            truncate_method='first', device=device)\n",
    "\n",
    "print(f'Load training set in {(time.time() - start):.2f} sec')"
   ]
  },
  {
   "cell_type": "code",
   "execution_count": 7,
   "metadata": {},
   "outputs": [],
   "source": [
    "train_loader = DataLoader(trainset, batch_size=2048, drop_last=True, shuffle=True)\n",
    "test_loader = DataLoader(testset, batch_size=1024, drop_last=True, shuffle=True)"
   ]
  },
  {
   "cell_type": "markdown",
   "metadata": {},
   "source": [
    "# Create and train a Causal-Bert"
   ]
  },
  {
   "cell_type": "code",
   "execution_count": 17,
   "metadata": {},
   "outputs": [],
   "source": [
    "trained_bert = '/nfs/turbo/lsa-regier/bert-results/results/behrt/MLM/merged/unidiag/checkpoint-4574003/'\n",
    "model = BertForMaskedLM.from_pretrained(trained_bert)\n",
    "token_embed = model.get_input_embeddings()\n",
    "\n",
    "model = CausalBOW(token_embed, learnable_docu_embed=False).to(device)\n",
    "optimizer = torch.optim.Adam(model.parameters(), lr=5e-4)\n",
    "\n",
    "q_loss = nn.BCELoss()\n",
    "prop_score_loss = nn.BCELoss()\n",
    "\n",
    "# Please specify the effect and estimation we want to use here.\n",
    "effect = 'ate'\n",
    "estimation = 'plugin'\n",
    "\n",
    "effect = effect.lower()\n",
    "estimation = estimation.lower()\n",
    "assert effect in ['att', 'ate'], f'Wrong effect: {effect}...'\n",
    "assert estimation in ['q', 'plugin'], f'Wrong estimation: {estimation}...'"
   ]
  },
  {
   "cell_type": "code",
   "execution_count": 18,
   "metadata": {},
   "outputs": [
    {
     "name": "stdout",
     "output_type": "stream",
     "text": [
      "Real: [effect: ate], [estimation: plugin], [value: 0.04320]\n",
      "Estimated: [effect: ate], [estimation: plugin], [value: -0.00000]\n"
     ]
    }
   ],
   "source": [
    "real_att_q = true_casual_effect(test_loader, effect, estimation)\n",
    "est_att_q = est_casual_effect(test_loader, model, effect, estimation)\n",
    "\n",
    "print(f'Real: [effect: {effect}], [estimation: {estimation}], [value: {real_att_q:.5f}]')\n",
    "print(f'Estimated: [effect: {effect}], [estimation: {estimation}], [value: {est_att_q:.5f}]')"
   ]
  },
  {
   "cell_type": "code",
   "execution_count": 19,
   "metadata": {},
   "outputs": [
    {
     "name": "stdout",
     "output_type": "stream",
     "text": [
      "epoch: 1 / 10, time cost: 115.68 sec, \n",
      "          g_loss: 0.64497, q1_loss: 0.73566, q0_loss: 0.74904, \n",
      "          Effect: [effect: ate], [estimation: plugin], [train: 0.05719], [test: 0.05719]\n",
      "epoch: 2 / 10, time cost: 110.38 sec, \n",
      "          g_loss: 0.54324, q1_loss: 0.65676, q0_loss: 0.68449, \n",
      "          Effect: [effect: ate], [estimation: plugin], [train: 0.03996], [test: 0.04003]\n",
      "epoch: 3 / 10, time cost: 115.48 sec, \n",
      "          g_loss: 0.54085, q1_loss: 0.65183, q0_loss: 0.68336, \n",
      "          Effect: [effect: ate], [estimation: plugin], [train: 0.03229], [test: 0.03231]\n",
      "epoch: 4 / 10, time cost: 113.68 sec, \n",
      "          g_loss: 0.53810, q1_loss: 0.64932, q0_loss: 0.68367, \n",
      "          Effect: [effect: ate], [estimation: plugin], [train: 0.04375], [test: 0.04380]\n",
      "epoch: 5 / 10, time cost: 109.98 sec, \n",
      "          g_loss: 0.53352, q1_loss: 0.64667, q0_loss: 0.68150, \n",
      "          Effect: [effect: ate], [estimation: plugin], [train: 0.03877], [test: 0.03885]\n",
      "epoch: 6 / 10, time cost: 114.88 sec, \n",
      "          g_loss: 0.53377, q1_loss: 0.64403, q0_loss: 0.67974, \n",
      "          Effect: [effect: ate], [estimation: plugin], [train: 0.03506], [test: 0.03514]\n",
      "epoch: 7 / 10, time cost: 114.68 sec, \n",
      "          g_loss: 0.52917, q1_loss: 0.63818, q0_loss: 0.67848, \n",
      "          Effect: [effect: ate], [estimation: plugin], [train: 0.04453], [test: 0.04469]\n",
      "epoch: 8 / 10, time cost: 109.34 sec, \n",
      "          g_loss: 0.53106, q1_loss: 0.63277, q0_loss: 0.67752, \n",
      "          Effect: [effect: ate], [estimation: plugin], [train: 0.04142], [test: 0.04152]\n",
      "epoch: 9 / 10, time cost: 114.07 sec, \n",
      "          g_loss: 0.52936, q1_loss: 0.62899, q0_loss: 0.67485, \n",
      "          Effect: [effect: ate], [estimation: plugin], [train: 0.05783], [test: 0.05810]\n",
      "epoch: 10 / 10, time cost: 115.02 sec, \n",
      "          g_loss: 0.52674, q1_loss: 0.62470, q0_loss: 0.67343, \n",
      "          Effect: [effect: ate], [estimation: plugin], [train: 0.03821], [test: 0.03832]\n",
      "Finish training...\n"
     ]
    }
   ],
   "source": [
    "epoch = 10\n",
    "rs_loss, rq1_loss, rq0_loss = [0.] * 3\n",
    "\n",
    "for e in range(1, epoch + 1):\n",
    "    model.train()\n",
    "    start = time.time()\n",
    "    for idx, (tokens, treatment, response) in enumerate(train_loader):\n",
    "        optimizer.zero_grad()\n",
    "        prop_score, q1, q0 = model(tokens)\n",
    "        \n",
    "        s_loss  = prop_score_loss(prop_score, treatment)\n",
    "        q1_loss = q_loss(q1[treatment==1], response[treatment==1])\n",
    "        q0_loss = q_loss(q0[treatment==0], response[treatment==0])\n",
    "        \n",
    "        s_loss.backward(retain_graph=True)\n",
    "        q1_loss.backward(retain_graph=True)\n",
    "        q0_loss.backward()\n",
    "        optimizer.step()\n",
    "        \n",
    "        rs_loss  += s_loss.item()\n",
    "        rq1_loss += q1_loss.item()\n",
    "        rq0_loss += q0_loss.item()\n",
    "        \n",
    "    run_idx = idx\n",
    "\n",
    "    # Evaluation.\n",
    "    train_est_att_q = est_casual_effect(train_loader, model, effect, estimation)\n",
    "    test_est_att_q = est_casual_effect(test_loader, model, effect, estimation)\n",
    "    \n",
    "    print(f'''epoch: {e} / {epoch}, time cost: {(time.time() - start):.2f} sec, \n",
    "          g_loss: {(rs_loss / (run_idx + 1))  :.5f}, q1_loss: {(rq1_loss / (run_idx + 1)):.5f}, q0_loss: {(rq0_loss/ (run_idx + 1)) :.5f}, \n",
    "          Effect: [effect: {effect}], [estimation: {estimation}], [train: {train_est_att_q:.5f}], [test: {test_est_att_q:.5f}]''')\n",
    "    start = time.time()\n",
    "    rs_loss, rq1_loss, rq0_loss = [0.] * 3\n",
    "\n",
    "print('Finish training...')\n",
    "\n",
    "# With only 3 groups to train."
   ]
  },
  {
   "cell_type": "code",
   "execution_count": null,
   "metadata": {},
   "outputs": [],
   "source": []
  }
 ],
 "metadata": {
  "kernelspec": {
   "display_name": "Python 3",
   "language": "python",
   "name": "python3"
  },
  "language_info": {
   "codemirror_mode": {
    "name": "ipython",
    "version": 3
   },
   "file_extension": ".py",
   "mimetype": "text/x-python",
   "name": "python",
   "nbconvert_exporter": "python",
   "pygments_lexer": "ipython3",
   "version": "3.7.7"
  }
 },
 "nbformat": 4,
 "nbformat_minor": 4
}
