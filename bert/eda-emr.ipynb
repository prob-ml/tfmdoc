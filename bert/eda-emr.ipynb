{
 "cells": [
  {
   "cell_type": "code",
   "execution_count": 10,
   "metadata": {},
   "outputs": [],
   "source": [
    "import os\n",
    "import csv\n",
    "import sys\n",
    "import argparse\n",
    "import random\n",
    "\n",
    "import pandas as pd\n",
    "import numpy as np\n",
    "import matplotlib.pyplot as plt\n",
    "import seaborn as sns\n",
    "\n",
    "import torch\n",
    "from transformers import DataCollatorForLanguageModeling, BertForMaskedLM\n",
    "from transformers import Trainer, TrainingArguments\n",
    "\n",
    "from data import LineByLineTextDataset\n",
    "from tokens import WordLevelBertTokenizer\n",
    "from vocab import create_vocab\n",
    "from utils import DATA_PATH, make_dirs"
   ]
  },
  {
   "cell_type": "markdown",
   "metadata": {},
   "source": [
    "# Trend of ICD-9/10"
   ]
  },
  {
   "cell_type": "code",
   "execution_count": 34,
   "metadata": {},
   "outputs": [],
   "source": [
    "result_path = '/home/liutianc/emr-data/'\n",
    "\n",
    "years = [str(i) for i in range(2010, 2019)]\n",
    "\n",
    "diags, procs = {}, {}\n",
    "for i in years:\n",
    "    diags[int(i)] = np.zeros(2)\n",
    "    procs[int(i)] = np.zeros(2)\n",
    "    \n",
    "for year in years:\n",
    "    diag_file = os.path.join(result_path, f'diag_{year}.csv')\n",
    "    proc_file = os.path.join(result_path, f'proc_{year}.csv')\n",
    "    diag = pd.read_csv(diag_file, sep=',', dtype = {'Patid': str, 'Diag': str, 'Icd_Flag': str})\n",
    "    proc = pd.read_csv(proc_file, sep=',', dtype = {'Patid': str, 'Diag': str, 'Icd_Flag': str})\n",
    "    \n",
    "    diag_cnt = diag['Icd_Flag'].value_counts()\n",
    "    proc_cnt = proc['Icd_Flag'].value_counts()\n",
    "    \n",
    "    for idx, code in enumerate(['9', '10']):\n",
    "        if code in diag_cnt:\n",
    "            diags[int(year)][idx] += diag_cnt[code]\n",
    "        if code in proc_cnt:\n",
    "            procs[int(year)][idx] += proc_cnt[code]"
   ]
  },
  {
   "cell_type": "code",
   "execution_count": 39,
   "metadata": {},
   "outputs": [],
   "source": [
    "for i in years:\n",
    "    diags[int(i)] = diags[int(i)].astype(np.int64)\n",
    "    procs[int(i)] = procs[int(i)].astype(np.int64)\n",
    "    \n",
    "diags = pd.DataFrame(diags, index=['icd-9', 'icd-10'])\n",
    "procs = pd.DataFrame(procs, index=['icd-9', 'icd-10'])"
   ]
  },
  {
   "cell_type": "code",
   "execution_count": 61,
   "metadata": {},
   "outputs": [
    {
     "data": {
      "text/html": [
       "<div>\n",
       "<style scoped>\n",
       "    .dataframe tbody tr th:only-of-type {\n",
       "        vertical-align: middle;\n",
       "    }\n",
       "\n",
       "    .dataframe tbody tr th {\n",
       "        vertical-align: top;\n",
       "    }\n",
       "\n",
       "    .dataframe thead th {\n",
       "        text-align: right;\n",
       "    }\n",
       "</style>\n",
       "<table border=\"1\" class=\"dataframe\">\n",
       "  <thead>\n",
       "    <tr style=\"text-align: right;\">\n",
       "      <th></th>\n",
       "      <th></th>\n",
       "      <th>2010</th>\n",
       "      <th>2011</th>\n",
       "      <th>2012</th>\n",
       "      <th>2013</th>\n",
       "      <th>2014</th>\n",
       "      <th>2015</th>\n",
       "      <th>2016</th>\n",
       "      <th>2017</th>\n",
       "      <th>2018</th>\n",
       "    </tr>\n",
       "  </thead>\n",
       "  <tbody>\n",
       "    <tr>\n",
       "      <th rowspan=\"2\" valign=\"top\">diag</th>\n",
       "      <th>icd-9</th>\n",
       "      <td>47766797</td>\n",
       "      <td>50305156</td>\n",
       "      <td>55229457</td>\n",
       "      <td>59886481</td>\n",
       "      <td>58627592</td>\n",
       "      <td>44502656</td>\n",
       "      <td>15928</td>\n",
       "      <td>2029</td>\n",
       "      <td>389</td>\n",
       "    </tr>\n",
       "    <tr>\n",
       "      <th>icd-10</th>\n",
       "      <td>6</td>\n",
       "      <td>1</td>\n",
       "      <td>15</td>\n",
       "      <td>43</td>\n",
       "      <td>298</td>\n",
       "      <td>15561107</td>\n",
       "      <td>61861055</td>\n",
       "      <td>62381408</td>\n",
       "      <td>59856439</td>\n",
       "    </tr>\n",
       "    <tr>\n",
       "      <th rowspan=\"2\" valign=\"top\">proc</th>\n",
       "      <th>icd-9</th>\n",
       "      <td>379078</td>\n",
       "      <td>371710</td>\n",
       "      <td>283033</td>\n",
       "      <td>287582</td>\n",
       "      <td>258778</td>\n",
       "      <td>176906</td>\n",
       "      <td>14</td>\n",
       "      <td>0</td>\n",
       "      <td>0</td>\n",
       "    </tr>\n",
       "    <tr>\n",
       "      <th>icd-10</th>\n",
       "      <td>0</td>\n",
       "      <td>0</td>\n",
       "      <td>0</td>\n",
       "      <td>0</td>\n",
       "      <td>0</td>\n",
       "      <td>66977</td>\n",
       "      <td>247558</td>\n",
       "      <td>237720</td>\n",
       "      <td>212450</td>\n",
       "    </tr>\n",
       "  </tbody>\n",
       "</table>\n",
       "</div>"
      ],
      "text/plain": [
       "                 2010      2011      2012      2013      2014      2015  \\\n",
       "diag icd-9   47766797  50305156  55229457  59886481  58627592  44502656   \n",
       "     icd-10         6         1        15        43       298  15561107   \n",
       "proc icd-9     379078    371710    283033    287582    258778    176906   \n",
       "     icd-10         0         0         0         0         0     66977   \n",
       "\n",
       "                 2016      2017      2018  \n",
       "diag icd-9      15928      2029       389  \n",
       "     icd-10  61861055  62381408  59856439  \n",
       "proc icd-9         14         0         0  \n",
       "     icd-10    247558    237720    212450  "
      ]
     },
     "execution_count": 61,
     "metadata": {},
     "output_type": "execute_result"
    }
   ],
   "source": [
    "result = pd.concat([diags, procs], keys=['diag', 'proc'])\n",
    "result"
   ]
  },
  {
   "cell_type": "markdown",
   "metadata": {},
   "source": [
    "# Record length"
   ]
  },
  {
   "cell_type": "code",
   "execution_count": 62,
   "metadata": {},
   "outputs": [
    {
     "name": "stdout",
     "output_type": "stream",
     "text": [
      "Load: group_7_merged.csv...\n",
      "Load: group_4_merged.csv...\n",
      "Load: group_3_merged.csv...\n",
      "Load: group_2_merged.csv...\n",
      "Load: group_6_merged.csv...\n",
      "Load: group_0_merged.csv...\n",
      "Load: group_9_merged.csv...\n",
      "Load: group_8_merged.csv...\n",
      "Load: group_1_merged.csv...\n",
      "Load: group_5_merged.csv...\n",
      "Finish all...\n"
     ]
    }
   ],
   "source": [
    "daily_lens, token_lens = [], []\n",
    "for file in os.listdir(DATA_PATH):\n",
    "    if 'merged' not in file:\n",
    "        continue\n",
    "    else:\n",
    "        print(f'Load: {file}...')\n",
    "        with open(os.path.join(DATA_PATH, file), encoding='utf-8') as f:\n",
    "            for line in f:\n",
    "\n",
    "                user, hist = line.split(',')\n",
    "                hist = hist.strip()\n",
    "                days = hist.split(' [SEP] ')\n",
    "                daily_lens.append(len(days))\n",
    "                tokens = hist.split(' ')\n",
    "                token_lens.append(len(tokens))\n",
    "    \n",
    "print('Finish all...')"
   ]
  },
  {
   "cell_type": "markdown",
   "metadata": {},
   "source": [
    "### Daily record stat"
   ]
  },
  {
   "cell_type": "code",
   "execution_count": 63,
   "metadata": {},
   "outputs": [
    {
     "name": "stdout",
     "output_type": "stream",
     "text": [
      "Lenght of sequence: 100.0%-0.0% quantiles: 3222.0-1.0\n",
      "Lenght of sequence: 95.0%-5.0% quantiles: 380.0-4.0\n",
      "Lenght of sequence: 90.0%-10.0% quantiles: 281.0-8.0\n",
      "Lenght of sequence: 85.0%-15.0% quantiles: 225.0-13.0\n",
      "Lenght of sequence: 80.0%-20.0% quantiles: 185.0-18.0\n",
      "Lenght of sequence: 75.0%-25.0% quantiles: 155.0-23.0\n",
      "Lenght of sequence: 70.0%-30.0% quantiles: 131.0-30.0\n",
      "Lenght of sequence: 65.0%-35.0% quantiles: 110.0-37.0\n",
      "Lenght of sequence: 60.0%-40.0% quantiles: 93.0-45.0\n",
      "Lenght of sequence: 55.0%-45.0% quantiles: 79.0-55.0\n",
      "Length of sequence: mean: 113.5217822573395, median: 66.0.\n"
     ]
    },
    {
     "data": {
      "image/png": "[encoded data removed]",
      "text/plain": [
       "<Figure size 576x216 with 2 Axes>"
      ]
     },
     "metadata": {
      "needs_background": "light"
     },
     "output_type": "display_data"
    }
   ],
   "source": [
    "len_array = np.array(daily_lens)\n",
    "\n",
    "for alpha in np.arange(0, 0.5, 0.05):\n",
    "    upper, lower = np.round(1. - alpha, 2), np.round(alpha, 2)\n",
    "    print(f'Lenght of sequence: {round(100 * upper)}%-{round(100 * lower)}% quantiles: {np.quantile(len_array, upper)}-{np.quantile(len_array, lower)}')\n",
    "\n",
    "print(f'Length of sequence: mean: {len_array.mean()}, median: {np.quantile(len_array, 0.5)}.')\n",
    "\n",
    "# plt.cla()\n",
    "fig = plt.figure(figsize=(8, 3))\n",
    "\n",
    "ax = fig.add_subplot(121)\n",
    "sns.distplot(len_array, ax=ax)\n",
    "\n",
    "ax = fig.add_subplot(122)\n",
    "sns.distplot(len_array[len_array < 1000,], ax=ax)\n",
    "\n",
    "plt.show()"
   ]
  },
  {
   "cell_type": "markdown",
   "metadata": {},
   "source": [
    "### Token record stat"
   ]
  },
  {
   "cell_type": "code",
   "execution_count": 64,
   "metadata": {},
   "outputs": [
    {
     "name": "stdout",
     "output_type": "stream",
     "text": [
      "Lenght of sequence: 100.0%-0.0% quantiles: 34280.0-1.0\n",
      "Lenght of sequence: 95.0%-5.0% quantiles: 1621.0-14.0\n",
      "Lenght of sequence: 90.0%-10.0% quantiles: 1150.0-30.0\n",
      "Lenght of sequence: 85.0%-15.0% quantiles: 894.0-47.0\n",
      "Lenght of sequence: 80.0%-20.0% quantiles: 722.0-65.0\n",
      "Lenght of sequence: 75.0%-25.0% quantiles: 595.0-86.0\n",
      "Lenght of sequence: 70.0%-30.0% quantiles: 495.0-110.0\n",
      "Lenght of sequence: 65.0%-35.0% quantiles: 414.0-136.0\n",
      "Lenght of sequence: 60.0%-40.0% quantiles: 347.0-167.0\n",
      "Lenght of sequence: 55.0%-45.0% quantiles: 290.0-202.0\n",
      "Length of sequence: mean: 465.3097588628395, median: 243.0.\n"
     ]
    },
    {
     "data": {
      "image/png": "[encoded data removed]",
      "text/plain": [
       "<Figure size 576x216 with 2 Axes>"
      ]
     },
     "metadata": {
      "needs_background": "light"
     },
     "output_type": "display_data"
    }
   ],
   "source": [
    "len_array = np.array(token_lens)\n",
    "\n",
    "for alpha in np.arange(0, 0.5, 0.05):\n",
    "    upper, lower = np.round(1. - alpha, 2), np.round(alpha, 2)\n",
    "    print(f'Lenght of sequence: {round(100 * upper)}%-{round(100 * lower)}% quantiles: {np.quantile(len_array, upper)}-{np.quantile(len_array, lower)}')\n",
    "\n",
    "print(f'Length of sequence: mean: {len_array.mean()}, median: {np.quantile(len_array, 0.5)}.')\n",
    "\n",
    "# plt.cla()\n",
    "fig = plt.figure(figsize=(8, 3))\n",
    "\n",
    "ax = fig.add_subplot(121)\n",
    "sns.distplot(len_array, ax=ax)\n",
    "\n",
    "ax = fig.add_subplot(122)\n",
    "sns.distplot(len_array[len_array < 1000,], ax=ax)\n",
    "\n",
    "plt.show()"
   ]
  },
  {
   "cell_type": "code",
   "execution_count": null,
   "metadata": {},
   "outputs": [],
   "source": []
  }
 ],
 "metadata": {
  "kernelspec": {
   "display_name": "Python 3",
   "language": "python",
   "name": "python3"
  },
  "language_info": {
   "codemirror_mode": {
    "name": "ipython",
    "version": 3
   },
   "file_extension": ".py",
   "mimetype": "text/x-python",
   "name": "python",
   "nbconvert_exporter": "python",
   "pygments_lexer": "ipython3",
   "version": "3.7.7"
  }
 },
 "nbformat": 4,
 "nbformat_minor": 4
}
