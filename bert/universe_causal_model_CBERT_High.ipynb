{
 "cells": [
  {
   "cell_type": "code",
   "execution_count": 1,
   "metadata": {},
   "outputs": [],
   "source": [
    "import os\n",
    "import time\n",
    "import random\n",
    "import math\n",
    "\n",
    "import numpy as np\n",
    "import torch\n",
    "import pandas as pd\n",
    "import matplotlib.pyplot as plt\n",
    "\n",
    "from torch.distributions.binomial import Binomial\n",
    "from torch.distributions.bernoulli import Bernoulli\n",
    "import torch.nn as nn\n",
    "from torch.utils.data import Dataset, DataLoader \n",
    "\n",
    "from transformers import DataCollatorForLanguageModeling, BertForMaskedLM\n",
    "from transformers import Trainer, TrainingArguments\n",
    "from transformers import get_linear_schedule_with_warmup, AdamW\n",
    "\n",
    "from causal_bert import load_data, load_model\n",
    "from causal_bert import true_casual_effect, est_casual_effect, show_result"
   ]
  },
  {
   "cell_type": "code",
   "execution_count": 2,
   "metadata": {},
   "outputs": [],
   "source": [
    "os.environ[\"CUDA_DEVICE_ORDER\"] = \"PCI_BUS_ID\"\n",
    "os.environ[\"CUDA_VISIBLE_DEVICES\"] = '5'\n",
    "device = torch.device('cuda' if torch.cuda.is_available() else 'cpu')"
   ]
  },
  {
   "cell_type": "code",
   "execution_count": 3,
   "metadata": {},
   "outputs": [],
   "source": [
    "effect = 'ate'\n",
    "estimation = 'q'\n",
    "\n",
    "effect = effect.lower()\n",
    "estimation = estimation.lower()\n",
    "assert effect in ['att', 'ate'], f'Wrong effect: {effect}...'\n",
    "assert estimation in ['q', 'plugin'], f'Wrong estimation: {estimation}...'"
   ]
  },
  {
   "cell_type": "code",
   "execution_count": 4,
   "metadata": {},
   "outputs": [],
   "source": [
    "bsz = 16\n",
    "epoch = 10\n",
    "hidden_size = 64\n",
    "lr = 5e-6"
   ]
  },
  {
   "cell_type": "code",
   "execution_count": 5,
   "metadata": {},
   "outputs": [
    {
     "name": "stdout",
     "output_type": "stream",
     "text": [
      "Load training set in 105.99 sec\n",
      "Load validation set in 85.07 sec\n"
     ]
    }
   ],
   "source": [
    "alpha = 0.75\n",
    "beta = 25.\n",
    "c = 0.2\n",
    "i = 0.\n",
    "\n",
    "train_loader, test_loader = load_data(alpha, beta, c, i, bsz, device=device)"
   ]
  },
  {
   "cell_type": "code",
   "execution_count": 6,
   "metadata": {},
   "outputs": [
    {
     "name": "stdout",
     "output_type": "stream",
     "text": [
      "Real: [effect: ate], [estimation: q], [value: 0.16917]\n",
      "Unadjusted: [value: 0.2379]\n"
     ]
    }
   ],
   "source": [
    "real_att_q = true_casual_effect(test_loader)\n",
    "\n",
    "print(f'Real: [effect: ate], [estimation: q], [value: {real_att_q:.5f}]')\n",
    "print(f'Unadjusted: [value: {(test_loader.dataset.response[test_loader.dataset.treatment == 1].mean() - test_loader.dataset.response[test_loader.dataset.treatment == 0].mean()).item():.4f}]')"
   ]
  },
  {
   "cell_type": "code",
   "execution_count": 7,
   "metadata": {},
   "outputs": [],
   "source": [
    "model = load_model(model='bert', hidden_size=hidden_size, device=device)\n",
    "\n",
    "pos_portion = train_loader.dataset.treatment.mean()\n",
    "pos_weight = (1 - pos_portion) / pos_portion\n",
    "\n",
    "epoch_iter = len(train_loader)\n",
    "total_steps = epoch * epoch_iter\n",
    "\n",
    "# optimizer = torch.optim.Adam(model.parameters(), lr=lr)\n",
    "optimizer = AdamW(model.parameters(), lr=lr, eps=1e-8)\n",
    "\n",
    "q_loss = nn.BCELoss()\n",
    "prop_score_loss = nn.BCEWithLogitsLoss(pos_weight=pos_weight)"
   ]
  },
  {
   "cell_type": "code",
   "execution_count": 8,
   "metadata": {},
   "outputs": [
    {
     "name": "stdout",
     "output_type": "stream",
     "text": [
      "epoch: 1 / 10, time cost: 2228.26 sec, \n",
      "          Loss: [Train: p = 0.99295, q = 1.24320], \n",
      "          Loss: [Test: p = 0.98031, q = 1.20764],\n",
      "          Effect: [ate-q], [train: 0.07254], [test: 0.07295]\n",
      "********************************************************************************\n",
      "epoch: 2 / 10, time cost: 2234.95 sec, \n",
      "          Loss: [Train: p = 0.97425, q = 1.20778], \n",
      "          Loss: [Test: p = 0.97856, q = 1.20950],\n",
      "          Effect: [ate-q], [train: 0.06640], [test: 0.06675]\n",
      "********************************************************************************\n",
      "epoch: 3 / 10, time cost: 2220.70 sec, \n",
      "          Loss: [Train: p = 0.97228, q = 1.20638], \n",
      "          Loss: [Test: p = 0.97889, q = 1.20822],\n",
      "          Effect: [ate-q], [train: 0.07076], [test: 0.07106]\n",
      "********************************************************************************\n",
      "epoch: 4 / 10, time cost: 2216.42 sec, \n",
      "          Loss: [Train: p = 0.96693, q = 1.20263], \n",
      "          Loss: [Test: p = 0.98419, q = 1.20107],\n",
      "          Effect: [ate-q], [train: 0.09281], [test: 0.09312]\n",
      "********************************************************************************\n",
      "epoch: 5 / 10, time cost: 2219.89 sec, \n",
      "          Loss: [Train: p = 0.95667, q = 1.19781], \n",
      "          Loss: [Test: p = 0.99219, q = 1.21310],\n",
      "          Effect: [ate-q], [train: 0.06594], [test: 0.06638]\n",
      "********************************************************************************\n",
      "epoch: 6 / 10, time cost: 2219.73 sec, \n",
      "          Loss: [Train: p = 0.94374, q = 1.19135], \n",
      "          Loss: [Test: p = 1.00280, q = 1.21110],\n",
      "          Effect: [ate-q], [train: 0.08083], [test: 0.08124]\n",
      "********************************************************************************\n",
      "epoch: 7 / 10, time cost: 2219.84 sec, \n",
      "          Loss: [Train: p = 0.92731, q = 1.18175], \n",
      "          Loss: [Test: p = 1.03344, q = 1.21643],\n",
      "          Effect: [ate-q], [train: 0.07856], [test: 0.07923]\n",
      "********************************************************************************\n",
      "epoch: 8 / 10, time cost: 2219.34 sec, \n",
      "          Loss: [Train: p = 0.90892, q = 1.17037], \n",
      "          Loss: [Test: p = 1.04969, q = 1.21840],\n",
      "          Effect: [ate-q], [train: 0.08824], [test: 0.08924]\n",
      "********************************************************************************\n",
      "epoch: 9 / 10, time cost: 2221.21 sec, \n",
      "          Loss: [Train: p = 0.88803, q = 1.15574], \n",
      "          Loss: [Test: p = 1.07477, q = 1.22859],\n",
      "          Effect: [ate-q], [train: 0.07492], [test: 0.07593]\n",
      "********************************************************************************\n",
      "epoch: 10 / 10, time cost: 2219.62 sec, \n",
      "          Loss: [Train: p = 0.86863, q = 1.14236], \n",
      "          Loss: [Test: p = 1.10696, q = 1.24194],\n",
      "          Effect: [ate-q], [train: 0.04312], [test: 0.04304]\n",
      "********************************************************************************\n",
      "Finish training...\n"
     ]
    }
   ],
   "source": [
    "train_loss_hist_p, train_loss_hist_q1, train_loss_hist_q0 = [], [], []\n",
    "test_loss_hist_p, test_loss_hist_q1, test_loss_hist_q0 = [], [], []\n",
    "est_effect, prop_score_hist = [], []\n",
    "\n",
    "for e in range(1, epoch + 1):\n",
    "    model.train()\n",
    "    start = time.time()\n",
    "        \n",
    "    p_loss_train, q1_loss_train, q0_loss_train  = [], [], []\n",
    "    for idx, (tokens, treatment, response, _) in enumerate(train_loader):\n",
    "        optimizer.zero_grad()\n",
    "        prop_score, q1, q0 = model(tokens)\n",
    "        \n",
    "        loss_p = prop_score_loss(prop_score, treatment)\n",
    "        loss = loss_p\n",
    "        \n",
    "        p_loss_train.append(loss_p.item())\n",
    "        if len(response[treatment == 1]) > 0:\n",
    "            loss_q1 = q_loss(q1[treatment==1], response[treatment==1])\n",
    "            loss += loss_q1\n",
    "            q1_loss_train.append(loss_q1.item())\n",
    "            \n",
    "        if len(response[treatment == 0]) > 0:\n",
    "            loss_q0 = q_loss(q1[treatment==0], response[treatment==0])\n",
    "            loss += loss_q0\n",
    "            q0_loss_train.append(loss_q0.item())\n",
    "                        \n",
    "        loss.backward()\n",
    "        optimizer.step()\n",
    "\n",
    "    run_idx = idx\n",
    "\n",
    "    # Evaluation.\n",
    "    p_loss_train = np.array(p_loss_train).mean()\n",
    "    q1_loss_train = np.array(q1_loss_train).mean()\n",
    "    q0_loss_train = np.array(q0_loss_train).mean()\n",
    "    \n",
    "    train_effect, _, _, _, _, _, _ = est_casual_effect(train_loader, model, effect, estimation, evaluate=False)\n",
    "    test_effect, p_loss_test, q1_loss_test, q0_loss_test, prop_accu_test, q1_accu_test, q0_accu_test = est_casual_effect(test_loader, model, effect, estimation, evaluate=True, g_loss=prop_score_loss, q_loss=q_loss)\n",
    "    \n",
    "    train_loss_hist_p.append(p_loss_train)\n",
    "    train_loss_hist_q1.append(q1_loss_train)\n",
    "    train_loss_hist_q0.append(q0_loss_train)\n",
    "    \n",
    "    test_loss_hist_p.append(p_loss_test)\n",
    "    test_loss_hist_q1.append(q1_loss_test)\n",
    "    test_loss_hist_q0.append(q0_loss_test)\n",
    "\n",
    "    est_effect.append(test_effect)\n",
    "    \n",
    "    \n",
    "    print(f'''epoch: {e} / {epoch}, time cost: {(time.time() - start):.2f} sec, \n",
    "          Loss: [Train: p = {p_loss_train:.5f}, q = {(q1_loss_train + q0_loss_train):.5f}], \n",
    "          Loss: [Test: p = {p_loss_test:.5f}, q = {(q1_loss_test + q0_loss_test):.5f}],\n",
    "          Effect: [{effect}-{estimation}], [train: {train_effect:.5f}], [test: {test_effect:.5f}]''')\n",
    "    print('*'* 80)\n",
    "    start = time.time()\n",
    "\n",
    "train_loss_hist = dict(p=train_loss_hist_p, q1=train_loss_hist_q1, q0=train_loss_hist_q1)\n",
    "test_loss_hist = dict(p=test_loss_hist_p, q1=test_loss_hist_q1, q0=test_loss_hist_q0)\n",
    "\n",
    "print('Finish training...')\n"
   ]
  },
  {
   "cell_type": "code",
   "execution_count": 9,
   "metadata": {},
   "outputs": [
    {
     "data": {
      "image/png": "[encoded data removed]",
      "text/plain": [
       "<Figure size 432x288 with 2 Axes>"
      ]
     },
     "metadata": {
      "needs_background": "light"
     },
     "output_type": "display_data"
    }
   ],
   "source": [
    "real = true_casual_effect(test_loader)\n",
    "unadjust = (test_loader.dataset.response[test_loader.dataset.treatment == 1].mean() - test_loader.dataset.response[test_loader.dataset.treatment == 0].mean()).item()\n",
    "show_result(train_loss_hist, test_loss_hist, est_effect, real, unadjust, epoch)"
   ]
  },
  {
   "cell_type": "code",
   "execution_count": null,
   "metadata": {},
   "outputs": [],
   "source": []
  }
 ],
 "metadata": {
  "kernelspec": {
   "display_name": "Python 3",
   "language": "python",
   "name": "python3"
  },
  "language_info": {
   "codemirror_mode": {
    "name": "ipython",
    "version": 3
   },
   "file_extension": ".py",
   "mimetype": "text/x-python",
   "name": "python",
   "nbconvert_exporter": "python",
   "pygments_lexer": "ipython3",
   "version": "3.7.6"
  }
 },
 "nbformat": 4,
 "nbformat_minor": 4
}
