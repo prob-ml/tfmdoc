{
 "cells": [
  {
   "cell_type": "code",
   "execution_count": 12,
   "metadata": {},
   "outputs": [],
   "source": [
    "import os\n",
    "import time\n",
    "import random\n",
    "import math\n",
    "\n",
    "import numpy as np\n",
    "import torch\n",
    "import pandas as pd\n",
    "import matplotlib.pyplot as plt\n",
    "import seaborn as sns\n",
    "\n",
    "import torch\n",
    "from torch.distributions.binomial import Binomial\n",
    "from torch.distributions.bernoulli import Bernoulli\n",
    "import torch.nn as nn\n",
    "from torch.utils.data import Dataset, DataLoader \n",
    "\n",
    "from transformers import DataCollatorForLanguageModeling, BertForMaskedLM\n",
    "from transformers import Trainer, TrainingArguments\n",
    "from transformers import get_linear_schedule_with_warmup, AdamW\n",
    "\n",
    "from tokens import WordLevelBertTokenizer\n",
    "from vocab import create_vocab\n",
    "from data import CausalBertDataset, MLMDataset\n",
    "from causal_bert import CausalBOW, CausalBert, load_data, true_casual_effect, est_casual_effect"
   ]
  },
  {
   "cell_type": "code",
   "execution_count": 13,
   "metadata": {},
   "outputs": [],
   "source": [
    "def true_casual_effect(data_loader, effect='ate', estimation='q'):\n",
    "    assert estimation == 'q', f'unallowed estimation: {estimation}'\n",
    "    \n",
    "    dataset = data_loader.dataset\n",
    "    \n",
    "    Q1 = dataset.treatment * dataset.response + (1 - dataset.treatment) * dataset.pseudo_response\n",
    "    Q1 = Q1.cpu().data.numpy().squeeze()\n",
    "\n",
    "    Q0 = dataset.treatment * dataset.pseudo_response + (1 - dataset.treatment) * dataset.response\n",
    "    Q0 = Q0.cpu().data.numpy().squeeze()\n",
    "\n",
    "    treatment = dataset.treatment.cpu().data.numpy().squeeze()\n",
    "    prop_scores = dataset.prop_scores.cpu().data.numpy().squeeze()\n",
    "    \n",
    "    if estimation == 'q':\n",
    "        if effect == 'att':\n",
    "            phi = (treatment * (Q1 - Q0))\n",
    "            return phi.sum() / treatment.sum()\n",
    "        elif effect == 'ate':\n",
    "            return (Q1 - Q0).mean()\n",
    "        \n",
    "    elif estimation == 'plugin':\n",
    "        phi = (prop_scores * (Q1 - Q0)).mean()\n",
    "        if effect == 'att':\n",
    "            return phi / treatment.mean()\n",
    "        elif effect == 'ate': \n",
    "            return phi"
   ]
  },
  {
   "cell_type": "code",
   "execution_count": 14,
   "metadata": {},
   "outputs": [],
   "source": [
    "trained = '/nfs/turbo/lsa-regier/bert-results/results/casualmodel/[{alpha}-{beta}]_C-{args,model,upper()}_{args,hidden_size}_{args,epoch}.pth'\n",
    "\n",
    "trained = '/nfs/turbo/lsa-regier/bert-results/results/casualmodel/[BEST]_[0,25-1,0]_C-BERT_64_22.pth'\n",
    "os.environ[\"CUDA_DEVICE_ORDER\"] = \"PCI_BUS_ID\"\n",
    "os.environ[\"CUDA_VISIBLE_DEVICES\"] = '6'\n",
    "device = torch.device('cuda' if torch.cuda.is_available() else 'cpu')"
   ]
  },
  {
   "cell_type": "code",
   "execution_count": 15,
   "metadata": {},
   "outputs": [],
   "source": [
    "model = torch.load(trained).to(device)"
   ]
  },
  {
   "cell_type": "code",
   "execution_count": 16,
   "metadata": {},
   "outputs": [
    {
     "name": "stdout",
     "output_type": "stream",
     "text": [
      "Load training set in 61.16 sec\n",
      "Training set: [treated: 0.2375], [prop scores counts: 0.0626]\n",
      "Load validation set in 61.15 sec\n",
      "Testing set: [treated: 0.2381], [prop scores counts: 0.0635]\n",
      "****************************************************************************************************\n"
     ]
    }
   ],
   "source": [
    "alpha = 0.25\n",
    "beta = 1.\n",
    "offset_t = 0\n",
    "offset_p = 0.2\n",
    "\n",
    "train, test = load_data(alpha, beta, offset_t, offset_p, 16, device=device)"
   ]
  },
  {
   "cell_type": "code",
   "execution_count": 17,
   "metadata": {},
   "outputs": [],
   "source": [
    "prop_scores = []\n",
    "\n",
    "treatments = []\n",
    "responses = []\n",
    "real_prop_scores = []\n",
    "\n",
    "tokens = []\n",
    "model.eval()\n",
    "for idx, (token, treatment, response, real_prop_score) in enumerate(test):\n",
    "    prop_score, _, _ = model(token)\n",
    "    if model.prop_is_logit:\n",
    "        sigmoid = nn.Sigmoid()\n",
    "        prop_score = sigmoid(prop_score)\n",
    "    prop_scores.append(prop_score.cpu().data.numpy().squeeze())\n",
    "    treatments.append(treatment.cpu().data.numpy().squeeze())\n",
    "    responses.append(response.cpu().data.numpy().squeeze())\n",
    "    real_prop_scores.append(real_prop_score.cpu().data.numpy().squeeze())\n",
    "    tokens.append(token.cpu().data.numpy().squeeze())\n",
    "    \n",
    "prop_scores = np.concatenate(prop_scores, axis=0)\n",
    "treatments = np.concatenate(treatments, axis=0)\n",
    "responses = np.concatenate(responses, axis=0)\n",
    "real_prop_scores = np.concatenate(real_prop_scores, axis=0)\n",
    "tokens = np.concatenate(tokens, axis=0)"
   ]
  },
  {
   "cell_type": "code",
   "execution_count": 18,
   "metadata": {},
   "outputs": [
    {
     "data": {
      "text/plain": [
       "Text(0, 0.5, 'Predicted propensity scores')"
      ]
     },
     "execution_count": 18,
     "metadata": {},
     "output_type": "execute_result"
    },
    {
     "data": {
      "image/png": "[encoded data removed]",
      "text/plain": [
       "<Figure size 432x288 with 1 Axes>"
      ]
     },
     "metadata": {
      "needs_background": "light"
     },
     "output_type": "display_data"
    },
    {
     "data": {
      "image/png": "[encoded data removed]",
      "text/plain": [
       "<Figure size 432x288 with 1 Axes>"
      ]
     },
     "metadata": {
      "needs_background": "light"
     },
     "output_type": "display_data"
    }
   ],
   "source": [
    "dat = np.array([real_prop_scores, prop_scores]).T\n",
    "dat = pd.DataFrame(dat, columns=['real_prop_scores', 'pred_prop_scores'])\n",
    "\n",
    "plt.cla()\n",
    "fig = plt.figure()\n",
    "ax = fig.add_subplot(111)\n",
    "_ = sns.boxplot(y='pred_prop_scores', x='real_prop_scores', data=dat, palette=\"colorblind\", )\n",
    "ax.set_xlabel('Real propensity scores')\n",
    "ax.set_ylabel('Predicted propensity scores')"
   ]
  },
  {
   "cell_type": "code",
   "execution_count": 19,
   "metadata": {},
   "outputs": [
    {
     "name": "stdout",
     "output_type": "stream",
     "text": [
      "real ATT: 0.0621\n"
     ]
    }
   ],
   "source": [
    "real_att_q = true_casual_effect(test, 'att')\n",
    "print(f'real ATT: {real_att_q:.4f}')"
   ]
  },
  {
   "cell_type": "code",
   "execution_count": 20,
   "metadata": {},
   "outputs": [
    {
     "data": {
      "text/plain": [
       "0.05373317"
      ]
     },
     "execution_count": 20,
     "metadata": {},
     "output_type": "execute_result"
    }
   ],
   "source": [
    "# real prop score\n",
    "t1 = responses[treatments == 1].mean()\n",
    "\n",
    "w = real_prop_scores / (1 - real_prop_scores)\n",
    "t0 = (w[treatments == 0] * responses[treatments == 0]).sum() / (w[treatments == 0]).sum()\n",
    "\n",
    "t1 - t0"
   ]
  },
  {
   "cell_type": "code",
   "execution_count": 21,
   "metadata": {},
   "outputs": [
    {
     "data": {
      "text/plain": [
       "0.0484733"
      ]
     },
     "execution_count": 21,
     "metadata": {},
     "output_type": "execute_result"
    }
   ],
   "source": [
    "# est prop score\n",
    "t1 = responses[treatments == 1].mean()\n",
    "\n",
    "w = prop_scores / (1 - prop_scores)\n",
    "t0 = (w[treatments == 0] * responses[treatments == 0]).sum() / (w[treatments == 0]).sum()\n",
    "\n",
    "t1 - t0"
   ]
  },
  {
   "cell_type": "code",
   "execution_count": null,
   "metadata": {},
   "outputs": [],
   "source": []
  },
  {
   "cell_type": "code",
   "execution_count": null,
   "metadata": {},
   "outputs": [],
   "source": []
  },
  {
   "cell_type": "code",
   "execution_count": null,
   "metadata": {},
   "outputs": [],
   "source": []
  },
  {
   "cell_type": "code",
   "execution_count": 32,
   "metadata": {},
   "outputs": [],
   "source": [
    "outliers = tokens[abs(prop_scores - real_prop_scores) > 0.3]"
   ]
  },
  {
   "cell_type": "code",
   "execution_count": 49,
   "metadata": {},
   "outputs": [],
   "source": [
    "dat_pred = np.concatenate([tokens, prop_scores[:, np.newaxis], real_prop_scores[:, np.newaxis]], axis=1)"
   ]
  },
  {
   "cell_type": "code",
   "execution_count": 38,
   "metadata": {},
   "outputs": [
    {
     "data": {
      "text/plain": [
       "(30, 512)"
      ]
     },
     "execution_count": 38,
     "metadata": {},
     "output_type": "execute_result"
    }
   ],
   "source": [
    "dat_pred = np.array(tokens, prop_scores, real_prop_scores)\n",
    "\n",
    "dat = np.array([real_prop_scores, prop_scores]).T\n",
    "dat = pd.DataFrame(dat, columns=['real_prop_scores', 'pred_prop_scores'])\n"
   ]
  },
  {
   "cell_type": "code",
   "execution_count": 7,
   "metadata": {},
   "outputs": [],
   "source": [
    "vocab = create_vocab(merged=True, uni_diag=True)\n",
    "tokenizer = WordLevelBertTokenizer(vocab)"
   ]
  },
  {
   "cell_type": "code",
   "execution_count": 27,
   "metadata": {},
   "outputs": [
    {
     "data": {
      "text/plain": [
       "<tokens.WordLevelBertTokenizer at 0x7fa9a47e2a50>"
      ]
     },
     "execution_count": 27,
     "metadata": {},
     "output_type": "execute_result"
    }
   ],
   "source": [
    "tokenizer"
   ]
  },
  {
   "cell_type": "code",
   "execution_count": 88,
   "metadata": {},
   "outputs": [],
   "source": [
    "bug_influent = 0\n",
    "for i in range(tokens.shape[0]):\n",
    "    raw_seq = tokenizer.decode(tokens[i])\n",
    "    if 'diag:J45' not in raw_seq:\n",
    "        if abs(real_prop_scores[i] - 0.8) < 0.1:\n",
    "            bug_influent += 1"
   ]
  },
  {
   "cell_type": "code",
   "execution_count": 90,
   "metadata": {},
   "outputs": [
    {
     "data": {
      "text/plain": [
       "16"
      ]
     },
     "execution_count": 90,
     "metadata": {},
     "output_type": "execute_result"
    }
   ],
   "source": [
    "bug_influent"
   ]
  },
  {
   "cell_type": "code",
   "execution_count": 87,
   "metadata": {},
   "outputs": [
    {
     "data": {
      "text/plain": [
       "191759"
      ]
     },
     "execution_count": 87,
     "metadata": {},
     "output_type": "execute_result"
    }
   ],
   "source": [
    "i"
   ]
  },
  {
   "cell_type": "code",
   "execution_count": 95,
   "metadata": {},
   "outputs": [
    {
     "data": {
      "text/plain": [
       "819"
      ]
     },
     "execution_count": 95,
     "metadata": {},
     "output_type": "execute_result"
    }
   ],
   "source": [
    "len(special)"
   ]
  },
  {
   "cell_type": "code",
   "execution_count": 96,
   "metadata": {},
   "outputs": [],
   "source": [
    "# special = []\n",
    "# real_p = []\n",
    "# p = []\n",
    "# for i in range(tokens.shape[0]):\n",
    "#     if abs(prop_scores[i] - real_prop_scores[i]) > 0.1:\n",
    "#         raw_seq = tokenizer.decode(tokens[i])\n",
    "        \n",
    "#         print(f'[real: {real_prop_scores[i]:.2f}] - [predict: {prop_scores[i]:.4f}]')\n",
    "#         print(raw_seq)\n",
    "#         if 'diag:J45' not in raw_seq and abs(real_prop_scores[i] - 0.8) < 0.1:\n",
    "#             print('find bug')\n",
    "# #             break\n",
    "#         print('-' * 300)\n",
    "        \n",
    "#         special.append(raw_seq)\n",
    "#         real_p.append(round(real_prop_scores[i], 2))\n",
    "#         p.append(round(prop_scores[i], 2))\n",
    "\n",
    "# print('finish')"
   ]
  },
  {
   "cell_type": "code",
   "execution_count": 98,
   "metadata": {},
   "outputs": [
    {
     "data": {
      "text/plain": [
       "0.122840226"
      ]
     },
     "execution_count": 98,
     "metadata": {},
     "output_type": "execute_result"
    }
   ],
   "source": [
    "r = responses[abs(prop_scores - real_prop_scores) < 0.1]\n",
    "t = treatments[abs(prop_scores - real_prop_scores) < 0.1]\n",
    "p = prop_scores[abs(prop_scores - real_prop_scores) < 0.1]\n",
    "\n",
    "t1 = r[t == 1].mean()\n",
    "\n",
    "w = p / (1 - p)\n",
    "t0 = (w[t == 0] * r[t == 0]).sum() / (w[t == 0]).sum()\n",
    "\n",
    "t1 - t0"
   ]
  },
  {
   "cell_type": "code",
   "execution_count": 102,
   "metadata": {},
   "outputs": [
    {
     "data": {
      "text/plain": [
       "0.12355143"
      ]
     },
     "execution_count": 102,
     "metadata": {},
     "output_type": "execute_result"
    }
   ],
   "source": [
    "r = np.concatenate([responses[abs(prop_scores - real_prop_scores) < 1], responses[abs(prop_scores - real_prop_scores) >= 1]], axis=0)\n",
    "t = np.concatenate([treatments[abs(prop_scores - real_prop_scores) < 1], treatments[abs(prop_scores - real_prop_scores) >= 1]], axis=0)\n",
    "p = np.concatenate([prop_scores[abs(prop_scores - real_prop_scores) < 1], real_prop_scores[abs(prop_scores - real_prop_scores) >= 1]], axis=0)\n",
    "\n",
    "t1 = r[t == 1].mean()\n",
    "\n",
    "w = p / (1 - p)\n",
    "t0 = (w[t == 0] * r[t == 0]).sum() / (w[t == 0]).sum()\n",
    "\n",
    "t1 - t0"
   ]
  },
  {
   "cell_type": "code",
   "execution_count": 106,
   "metadata": {},
   "outputs": [
    {
     "name": "stdout",
     "output_type": "stream",
     "text": [
      "Real: [0.8], Est: [0.8068(0.0307)]\n",
      "Real: [0.8], Est: [0.1870(0.0319)]\n"
     ]
    }
   ],
   "source": [
    "print(f'Real: [0.8], Est: [{prop_scores[real_prop_scores > 0.5].mean():.4f}({prop_scores[real_prop_scores > 0.5].std():.4f})]')\n",
    "print(f'Real: [0.2], Est: [{prop_scores[real_prop_scores < 0.5].mean():.4f}({prop_scores[real_prop_scores < 0.5].std():.4f})]')\n"
   ]
  },
  {
   "cell_type": "code",
   "execution_count": 14,
   "metadata": {},
   "outputs": [
    {
     "data": {
      "text/plain": [
       "0.13526529"
      ]
     },
     "execution_count": 14,
     "metadata": {},
     "output_type": "execute_result"
    }
   ],
   "source": []
  },
  {
   "cell_type": "code",
   "execution_count": 9,
   "metadata": {},
   "outputs": [
    {
     "data": {
      "text/plain": [
       "Text(0, 0.5, 'Predicted propensity scores')"
      ]
     },
     "execution_count": 9,
     "metadata": {},
     "output_type": "execute_result"
    },
    {
     "data": {
      "image/png": "[encoded data removed]",
      "text/plain": [
       "<Figure size 432x288 with 1 Axes>"
      ]
     },
     "metadata": {
      "needs_background": "light"
     },
     "output_type": "display_data"
    },
    {
     "data": {
      "image/png": "[encoded data removed]",
      "text/plain": [
       "<Figure size 432x288 with 1 Axes>"
      ]
     },
     "metadata": {
      "needs_background": "light"
     },
     "output_type": "display_data"
    }
   ],
   "source": [
    "dat = np.array([real_prop_scores, prop_scores]).T\n",
    "dat = pd.DataFrame(dat, columns=['real_prop_scores', 'pred_prop_scores'])\n",
    "\n",
    "plt.cla()\n",
    "fig = plt.figure()\n",
    "ax = fig.add_subplot(111)\n",
    "_ = sns.boxplot(y='pred_prop_scores', x='real_prop_scores', data=dat, palette=\"colorblind\", )\n",
    "ax.set_xlabel('Real propensity scores')\n",
    "ax.set_ylabel('Predicted propensity scores')"
   ]
  },
  {
   "cell_type": "code",
   "execution_count": 10,
   "metadata": {},
   "outputs": [],
   "source": [
    "# att_p = est_casual_effect(test, model, 'att', 'q', evaluate=False)[0]\n",
    "# print(att_p)"
   ]
  },
  {
   "cell_type": "code",
   "execution_count": 12,
   "metadata": {},
   "outputs": [
    {
     "ename": "KeyboardInterrupt",
     "evalue": "",
     "output_type": "error",
     "traceback": [
      "\u001b[0;31m---------------------------------------------------------------------------\u001b[0m",
      "\u001b[0;31mKeyboardInterrupt\u001b[0m                         Traceback (most recent call last)",
      "\u001b[0;32m<ipython-input-12-86786bc6bea2>\u001b[0m in \u001b[0;36m<module>\u001b[0;34m\u001b[0m\n\u001b[0;32m----> 1\u001b[0;31m \u001b[0matt_plugin\u001b[0m \u001b[0;34m=\u001b[0m \u001b[0mest_casual_effect\u001b[0m\u001b[0;34m(\u001b[0m\u001b[0mtest\u001b[0m\u001b[0;34m,\u001b[0m \u001b[0mmodel\u001b[0m\u001b[0;34m,\u001b[0m \u001b[0;34m'att'\u001b[0m\u001b[0;34m,\u001b[0m \u001b[0;34m'plugin'\u001b[0m\u001b[0;34m,\u001b[0m \u001b[0mevaluate\u001b[0m\u001b[0;34m=\u001b[0m\u001b[0;32mFalse\u001b[0m\u001b[0;34m)\u001b[0m\u001b[0;34m[\u001b[0m\u001b[0;36m0\u001b[0m\u001b[0;34m]\u001b[0m\u001b[0;34m\u001b[0m\u001b[0;34m\u001b[0m\u001b[0m\n\u001b[0m\u001b[1;32m      2\u001b[0m \u001b[0mprint\u001b[0m\u001b[0;34m(\u001b[0m\u001b[0matt_plugin\u001b[0m\u001b[0;34m)\u001b[0m\u001b[0;34m\u001b[0m\u001b[0;34m\u001b[0m\u001b[0m\n",
      "\u001b[0;32m~/emr/bert/causal_bert.py\u001b[0m in \u001b[0;36mest_casual_effect\u001b[0;34m(data_loader, model, effect, estimation, evaluate, **kwargs)\u001b[0m\n\u001b[1;32m    223\u001b[0m         \u001b[0;32mif\u001b[0m \u001b[0mmodel\u001b[0m\u001b[0;34m.\u001b[0m\u001b[0mprop_is_logit\u001b[0m\u001b[0;34m:\u001b[0m\u001b[0;34m\u001b[0m\u001b[0;34m\u001b[0m\u001b[0m\n\u001b[1;32m    224\u001b[0m             \u001b[0msigmoid\u001b[0m \u001b[0;34m=\u001b[0m \u001b[0mnn\u001b[0m\u001b[0;34m.\u001b[0m\u001b[0mSigmoid\u001b[0m\u001b[0;34m(\u001b[0m\u001b[0;34m)\u001b[0m\u001b[0;34m\u001b[0m\u001b[0;34m\u001b[0m\u001b[0m\n\u001b[0;32m--> 225\u001b[0;31m             \u001b[0mprop_scores\u001b[0m\u001b[0;34m.\u001b[0m\u001b[0mappend\u001b[0m\u001b[0;34m(\u001b[0m\u001b[0msigmoid\u001b[0m\u001b[0;34m(\u001b[0m\u001b[0mprop_score\u001b[0m\u001b[0;34m)\u001b[0m\u001b[0;34m.\u001b[0m\u001b[0mcpu\u001b[0m\u001b[0;34m(\u001b[0m\u001b[0;34m)\u001b[0m\u001b[0;34m.\u001b[0m\u001b[0mdata\u001b[0m\u001b[0;34m.\u001b[0m\u001b[0mnumpy\u001b[0m\u001b[0;34m(\u001b[0m\u001b[0;34m)\u001b[0m\u001b[0;34m.\u001b[0m\u001b[0msqueeze\u001b[0m\u001b[0;34m(\u001b[0m\u001b[0;34m)\u001b[0m\u001b[0;34m)\u001b[0m\u001b[0;34m\u001b[0m\u001b[0;34m\u001b[0m\u001b[0m\n\u001b[0m\u001b[1;32m    226\u001b[0m         \u001b[0;32melse\u001b[0m\u001b[0;34m:\u001b[0m\u001b[0;34m\u001b[0m\u001b[0;34m\u001b[0m\u001b[0m\n\u001b[1;32m    227\u001b[0m             \u001b[0mprop_scores\u001b[0m\u001b[0;34m.\u001b[0m\u001b[0mappend\u001b[0m\u001b[0;34m(\u001b[0m\u001b[0mprop_score\u001b[0m\u001b[0;34m.\u001b[0m\u001b[0mcpu\u001b[0m\u001b[0;34m(\u001b[0m\u001b[0;34m)\u001b[0m\u001b[0;34m.\u001b[0m\u001b[0mdata\u001b[0m\u001b[0;34m.\u001b[0m\u001b[0mnumpy\u001b[0m\u001b[0;34m(\u001b[0m\u001b[0;34m)\u001b[0m\u001b[0;34m.\u001b[0m\u001b[0msqueeze\u001b[0m\u001b[0;34m(\u001b[0m\u001b[0;34m)\u001b[0m\u001b[0;34m)\u001b[0m\u001b[0;34m\u001b[0m\u001b[0;34m\u001b[0m\u001b[0m\n",
      "\u001b[0;31mKeyboardInterrupt\u001b[0m: "
     ]
    }
   ],
   "source": [
    "att_plugin = est_casual_effect(test, model, 'att', 'plugin', evaluate=False)[0]\n",
    "print(att_plugin)"
   ]
  },
  {
   "cell_type": "code",
   "execution_count": 11,
   "metadata": {},
   "outputs": [
    {
     "name": "stdout",
     "output_type": "stream",
     "text": [
      "0.10595347\n"
     ]
    }
   ],
   "source": [
    "att_plugin = est_casual_effect(test, model, 'att', 'plugin', evaluate=False)[0]\n",
    "print(att_plugin)"
   ]
  },
  {
   "cell_type": "code",
   "execution_count": null,
   "metadata": {},
   "outputs": [],
   "source": [
    "\n",
    "t1 = responses[treatments == 1].mean()\n",
    "\n",
    "w = real_prop_scores / (1 - real_prop_scores)\n",
    "t0 = (w[treatments == 0] * responses[treatments == 0]).sum() / (w[treatments == 0]).sum()\n",
    "\n",
    "t1 - t0"
   ]
  },
  {
   "cell_type": "code",
   "execution_count": 115,
   "metadata": {},
   "outputs": [
    {
     "data": {
      "text/plain": [
       "tensor(0.1353, device='cuda:0')"
      ]
     },
     "execution_count": 115,
     "metadata": {},
     "output_type": "execute_result"
    }
   ],
   "source": [
    "rs = test.dataset.response\n",
    "ts = test.dataset.treatment\n",
    "ps = test.dataset.prop_scores\n",
    "\n",
    "t1 = rs[ts==1].mean()\n",
    "\n",
    "w = ps / (1 - ps)\n",
    "\n",
    "t0 = (w[ts == 0] * rs[ts == 0]).sum() / (w[ts == 0]).sum()\n",
    "t1 - t0"
   ]
  },
  {
   "cell_type": "code",
   "execution_count": null,
   "metadata": {},
   "outputs": [],
   "source": []
  }
 ],
 "metadata": {
  "kernelspec": {
   "display_name": "Python 3",
   "language": "python",
   "name": "python3"
  },
  "language_info": {
   "codemirror_mode": {
    "name": "ipython",
    "version": 3
   },
   "file_extension": ".py",
   "mimetype": "text/x-python",
   "name": "python",
   "nbconvert_exporter": "python",
   "pygments_lexer": "ipython3",
   "version": "3.7.7"
  }
 },
 "nbformat": 4,
 "nbformat_minor": 4
}
