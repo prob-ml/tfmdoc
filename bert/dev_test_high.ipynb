{
 "cells": [
  {
   "cell_type": "code",
   "execution_count": 2,
   "metadata": {},
   "outputs": [],
   "source": [
    "import os\n",
    "import time\n",
    "import random\n",
    "import math\n",
    "\n",
    "import numpy as np\n",
    "import torch\n",
    "import pandas as pd\n",
    "import matplotlib.pyplot as plt\n",
    "import seaborn as sns\n",
    "\n",
    "import torch\n",
    "from torch.distributions.binomial import Binomial\n",
    "from torch.distributions.bernoulli import Bernoulli\n",
    "import torch.nn as nn\n",
    "from torch.utils.data import Dataset, DataLoader \n",
    "\n",
    "from transformers import DataCollatorForLanguageModeling, BertForMaskedLM\n",
    "from transformers import Trainer, TrainingArguments\n",
    "from transformers import get_linear_schedule_with_warmup, AdamW\n",
    "\n",
    "from tokens import WordLevelBertTokenizer\n",
    "from vocab import create_vocab\n",
    "from data import CausalBertDataset, MLMDataset\n",
    "from causal_bert import CausalBOW, CausalBert, load_data, true_casual_effect, est_casual_effect"
   ]
  },
  {
   "cell_type": "code",
   "execution_count": 3,
   "metadata": {},
   "outputs": [],
   "source": [
    "def true_casual_effect(data_loader, effect='ate', estimation='q'):\n",
    "    assert estimation == 'q', f'unallowed estimation: {estimation}'\n",
    "    \n",
    "    dataset = data_loader.dataset\n",
    "    \n",
    "    Q1 = dataset.treatment * dataset.response + (1 - dataset.treatment) * dataset.pseudo_response\n",
    "    Q1 = Q1.cpu().data.numpy().squeeze()\n",
    "\n",
    "    Q0 = dataset.treatment * dataset.pseudo_response + (1 - dataset.treatment) * dataset.response\n",
    "    Q0 = Q0.cpu().data.numpy().squeeze()\n",
    "\n",
    "    treatment = dataset.treatment.cpu().data.numpy().squeeze()\n",
    "    prop_scores = dataset.prop_scores.cpu().data.numpy().squeeze()\n",
    "    \n",
    "    if estimation == 'q':\n",
    "        if effect == 'att':\n",
    "            phi = (treatment * (Q1 - Q0))\n",
    "            return phi.sum() / treatment.sum()\n",
    "        elif effect == 'ate':\n",
    "            return (Q1 - Q0).mean()\n",
    "        \n",
    "    elif estimation == 'plugin':\n",
    "        phi = (prop_scores * (Q1 - Q0)).mean()\n",
    "        if effect == 'att':\n",
    "            return phi / treatment.mean()\n",
    "        elif effect == 'ate': \n",
    "            return phi"
   ]
  },
  {
   "cell_type": "code",
   "execution_count": 4,
   "metadata": {},
   "outputs": [],
   "source": [
    "trained = '/nfs/turbo/lsa-regier/bert-results/results/casualmodel/[{alpha}-{beta}]_C-{args,model,upper()}_{args,hidden_size}_{args,epoch}.pth'\n",
    "trained = '/nfs/turbo/lsa-regier/bert-results/results/casualmodel/[BEST]_[0,25-1,0]_C-BERT_64_22.pth'\n",
    "trained = '/nfs/turbo/lsa-regier/bert-results/results/casualmodel/[BEST]_[0,5-5,0]_C-BERT_64_22.pth'\n",
    "trained = '/nfs/turbo/lsa-regier/bert-results/results/casualmodel/[BEST]_[0,75-25,0]_C-BERT_64_22.pth'\n",
    "\n",
    "os.environ[\"CUDA_DEVICE_ORDER\"] = \"PCI_BUS_ID\"\n",
    "os.environ[\"CUDA_VISIBLE_DEVICES\"] = '5'\n",
    "device = torch.device('cuda' if torch.cuda.is_available() else 'cpu')"
   ]
  },
  {
   "cell_type": "code",
   "execution_count": 5,
   "metadata": {},
   "outputs": [],
   "source": [
    "model = torch.load(trained).to(device)"
   ]
  },
  {
   "cell_type": "code",
   "execution_count": 6,
   "metadata": {},
   "outputs": [
    {
     "name": "stdout",
     "output_type": "stream",
     "text": [
      "Load training set in 61.75 sec\n",
      "Training set: [treated: 0.2375], [prop scores counts: 0.0626]\n",
      "Load validation set in 66.66 sec\n",
      "Testing set: [treated: 0.2381], [prop scores counts: 0.0635]\n",
      "****************************************************************************************************\n"
     ]
    }
   ],
   "source": [
    "alpha = 0.75\n",
    "beta = 25.\n",
    "offset_t = 0\n",
    "offset_p = 0.2\n",
    "\n",
    "train, test = load_data(alpha, beta, offset_t, offset_p, 16, device=device)"
   ]
  },
  {
   "cell_type": "code",
   "execution_count": 7,
   "metadata": {},
   "outputs": [],
   "source": [
    "prop_scores = []\n",
    "\n",
    "treatments = []\n",
    "responses = []\n",
    "real_prop_scores = []\n",
    "\n",
    "tokens = []\n",
    "model.eval()\n",
    "for idx, (token, treatment, response, real_prop_score) in enumerate(test):\n",
    "    prop_score, _, _ = model(token)\n",
    "    if model.prop_is_logit:\n",
    "        sigmoid = nn.Sigmoid()\n",
    "        prop_score = sigmoid(prop_score)\n",
    "    prop_scores.append(prop_score.cpu().data.numpy().squeeze())\n",
    "    treatments.append(treatment.cpu().data.numpy().squeeze())\n",
    "    responses.append(response.cpu().data.numpy().squeeze())\n",
    "    real_prop_scores.append(real_prop_score.cpu().data.numpy().squeeze())\n",
    "    tokens.append(token.cpu().data.numpy().squeeze())\n",
    "    \n",
    "prop_scores = np.concatenate(prop_scores, axis=0)\n",
    "treatments = np.concatenate(treatments, axis=0)\n",
    "responses = np.concatenate(responses, axis=0)\n",
    "real_prop_scores = np.concatenate(real_prop_scores, axis=0)\n",
    "tokens = np.concatenate(tokens, axis=0)"
   ]
  },
  {
   "cell_type": "code",
   "execution_count": 8,
   "metadata": {},
   "outputs": [
    {
     "data": {
      "text/plain": [
       "Text(0, 0.5, 'Predicted propensity scores')"
      ]
     },
     "execution_count": 8,
     "metadata": {},
     "output_type": "execute_result"
    },
    {
     "data": {
      "image/png": "[encoded data removed]",
      "text/plain": [
       "<Figure size 432x288 with 1 Axes>"
      ]
     },
     "metadata": {
      "needs_background": "light"
     },
     "output_type": "display_data"
    },
    {
     "data": {
      "image/png": "[encoded data removed]",
      "text/plain": [
       "<Figure size 432x288 with 1 Axes>"
      ]
     },
     "metadata": {
      "needs_background": "light"
     },
     "output_type": "display_data"
    }
   ],
   "source": [
    "dat = np.array([real_prop_scores, prop_scores]).T\n",
    "dat = pd.DataFrame(dat, columns=['real_prop_scores', 'pred_prop_scores'])\n",
    "\n",
    "plt.cla()\n",
    "fig = plt.figure()\n",
    "ax = fig.add_subplot(111)\n",
    "_ = sns.boxplot(y='pred_prop_scores', x='real_prop_scores', data=dat, palette=\"colorblind\", )\n",
    "ax.set_xlabel('Real propensity scores')\n",
    "ax.set_ylabel('Predicted propensity scores')"
   ]
  },
  {
   "cell_type": "code",
   "execution_count": 9,
   "metadata": {},
   "outputs": [
    {
     "name": "stdout",
     "output_type": "stream",
     "text": [
      "real ATT: 0.1401\n"
     ]
    }
   ],
   "source": [
    "real_att_q = true_casual_effect(test, 'att')\n",
    "print(f'real ATT: {real_att_q:.4f}')"
   ]
  },
  {
   "cell_type": "code",
   "execution_count": 10,
   "metadata": {},
   "outputs": [
    {
     "data": {
      "text/plain": [
       "0.13526529"
      ]
     },
     "execution_count": 10,
     "metadata": {},
     "output_type": "execute_result"
    }
   ],
   "source": [
    "# real prop score\n",
    "t1 = responses[treatments == 1].mean()\n",
    "\n",
    "w = real_prop_scores / (1 - real_prop_scores)\n",
    "t0 = (w[treatments == 0] * responses[treatments == 0]).sum() / (w[treatments == 0]).sum()\n",
    "\n",
    "t1 - t0"
   ]
  },
  {
   "cell_type": "code",
   "execution_count": 11,
   "metadata": {},
   "outputs": [
    {
     "data": {
      "text/plain": [
       "0.12448406"
      ]
     },
     "execution_count": 11,
     "metadata": {},
     "output_type": "execute_result"
    }
   ],
   "source": [
    "# est prop score\n",
    "t1 = responses[treatments == 1].mean()\n",
    "\n",
    "w = prop_scores / (1 - prop_scores)\n",
    "t0 = (w[treatments == 0] * responses[treatments == 0]).sum() / (w[treatments == 0]).sum()\n",
    "\n",
    "t1 - t0"
   ]
  },
  {
   "cell_type": "markdown",
   "metadata": {},
   "source": [
    "# High on med."
   ]
  },
  {
   "cell_type": "code",
   "execution_count": 5,
   "metadata": {},
   "outputs": [
    {
     "name": "stdout",
     "output_type": "stream",
     "text": [
      "Load training set in 57.51 sec\n",
      "Training set: [treated: 0.2375], [prop scores counts: 0.0626]\n",
      "Load validation set in 54.76 sec\n",
      "Testing set: [treated: 0.2381], [prop scores counts: 0.0635]\n",
      "****************************************************************************************************\n"
     ]
    }
   ],
   "source": [
    "alpha = 0.5\n",
    "beta = 5.\n",
    "offset_t = 0\n",
    "offset_p = 0.2\n",
    "\n",
    "train, test = load_data(alpha, beta, offset_t, offset_p, 16, device=device)"
   ]
  },
  {
   "cell_type": "code",
   "execution_count": 6,
   "metadata": {},
   "outputs": [],
   "source": [
    "prop_scores = []\n",
    "\n",
    "treatments = []\n",
    "responses = []\n",
    "real_prop_scores = []\n",
    "\n",
    "tokens = []\n",
    "model.eval()\n",
    "for idx, (token, treatment, response, real_prop_score) in enumerate(test):\n",
    "    prop_score, _, _ = model(token)\n",
    "    if model.prop_is_logit:\n",
    "        sigmoid = nn.Sigmoid()\n",
    "        prop_score = sigmoid(prop_score)\n",
    "    prop_scores.append(prop_score.cpu().data.numpy().squeeze())\n",
    "    treatments.append(treatment.cpu().data.numpy().squeeze())\n",
    "    responses.append(response.cpu().data.numpy().squeeze())\n",
    "    real_prop_scores.append(real_prop_score.cpu().data.numpy().squeeze())\n",
    "    tokens.append(token.cpu().data.numpy().squeeze())\n",
    "    \n",
    "prop_scores = np.concatenate(prop_scores, axis=0)\n",
    "treatments = np.concatenate(treatments, axis=0)\n",
    "responses = np.concatenate(responses, axis=0)\n",
    "real_prop_scores = np.concatenate(real_prop_scores, axis=0)\n",
    "tokens = np.concatenate(tokens, axis=0)"
   ]
  },
  {
   "cell_type": "code",
   "execution_count": 7,
   "metadata": {},
   "outputs": [
    {
     "data": {
      "text/plain": [
       "Text(0, 0.5, 'Predicted propensity scores')"
      ]
     },
     "execution_count": 7,
     "metadata": {},
     "output_type": "execute_result"
    },
    {
     "data": {
      "image/png": "[encoded data removed]",
      "text/plain": [
       "<Figure size 432x288 with 1 Axes>"
      ]
     },
     "metadata": {
      "needs_background": "light"
     },
     "output_type": "display_data"
    },
    {
     "data": {
      "image/png": "[encoded data removed]",
      "text/plain": [
       "<Figure size 432x288 with 1 Axes>"
      ]
     },
     "metadata": {
      "needs_background": "light"
     },
     "output_type": "display_data"
    }
   ],
   "source": [
    "dat = np.array([real_prop_scores, prop_scores]).T\n",
    "dat = pd.DataFrame(dat, columns=['real_prop_scores', 'pred_prop_scores'])\n",
    "\n",
    "plt.cla()\n",
    "fig = plt.figure()\n",
    "ax = fig.add_subplot(111)\n",
    "_ = sns.boxplot(y='pred_prop_scores', x='real_prop_scores', data=dat, palette=\"colorblind\", )\n",
    "ax.set_xlabel('Real propensity scores')\n",
    "ax.set_ylabel('Predicted propensity scores')"
   ]
  },
  {
   "cell_type": "code",
   "execution_count": 8,
   "metadata": {},
   "outputs": [
    {
     "name": "stdout",
     "output_type": "stream",
     "text": [
      "real ATT: 0.1030\n"
     ]
    }
   ],
   "source": [
    "real_att_q = true_casual_effect(test, 'att')\n",
    "print(f'real ATT: {real_att_q:.4f}')"
   ]
  },
  {
   "cell_type": "code",
   "execution_count": 9,
   "metadata": {},
   "outputs": [
    {
     "data": {
      "text/plain": [
       "0.100123465"
      ]
     },
     "execution_count": 9,
     "metadata": {},
     "output_type": "execute_result"
    }
   ],
   "source": [
    "# real prop score\n",
    "t1 = responses[treatments == 1].mean()\n",
    "\n",
    "w = real_prop_scores / (1 - real_prop_scores)\n",
    "t0 = (w[treatments == 0] * responses[treatments == 0]).sum() / (w[treatments == 0]).sum()\n",
    "\n",
    "t1 - t0"
   ]
  },
  {
   "cell_type": "code",
   "execution_count": 10,
   "metadata": {},
   "outputs": [
    {
     "data": {
      "text/plain": [
       "0.090524495"
      ]
     },
     "execution_count": 10,
     "metadata": {},
     "output_type": "execute_result"
    }
   ],
   "source": [
    "# est prop score\n",
    "t1 = responses[treatments == 1].mean()\n",
    "\n",
    "w = prop_scores / (1 - prop_scores)\n",
    "t0 = (w[treatments == 0] * responses[treatments == 0]).sum() / (w[treatments == 0]).sum()\n",
    "\n",
    "t1 - t0"
   ]
  },
  {
   "cell_type": "code",
   "execution_count": null,
   "metadata": {},
   "outputs": [],
   "source": []
  },
  {
   "cell_type": "code",
   "execution_count": null,
   "metadata": {},
   "outputs": [],
   "source": []
  },
  {
   "cell_type": "code",
   "execution_count": null,
   "metadata": {},
   "outputs": [],
   "source": [
    "outliers = tokens[abs(prop_scores - real_prop_scores) > 0.3]"
   ]
  },
  {
   "cell_type": "code",
   "execution_count": null,
   "metadata": {},
   "outputs": [],
   "source": [
    "dat_pred = np.concatenate([tokens, prop_scores[:, np.newaxis], real_prop_scores[:, np.newaxis]], axis=1)"
   ]
  },
  {
   "cell_type": "code",
   "execution_count": null,
   "metadata": {},
   "outputs": [],
   "source": [
    "dat_pred = np.array(tokens, prop_scores, real_prop_scores)\n",
    "\n",
    "dat = np.array([real_prop_scores, prop_scores]).T\n",
    "dat = pd.DataFrame(dat, columns=['real_prop_scores', 'pred_prop_scores'])\n"
   ]
  },
  {
   "cell_type": "code",
   "execution_count": null,
   "metadata": {},
   "outputs": [],
   "source": [
    "vocab = create_vocab(merged=True, uni_diag=True)\n",
    "tokenizer = WordLevelBertTokenizer(vocab)"
   ]
  },
  {
   "cell_type": "code",
   "execution_count": null,
   "metadata": {},
   "outputs": [],
   "source": [
    "tokenizer"
   ]
  },
  {
   "cell_type": "code",
   "execution_count": null,
   "metadata": {},
   "outputs": [],
   "source": [
    "bug_influent = 0\n",
    "for i in range(tokens.shape[0]):\n",
    "    raw_seq = tokenizer.decode(tokens[i])\n",
    "    if 'diag:J45' not in raw_seq:\n",
    "        if abs(real_prop_scores[i] - 0.8) < 0.1:\n",
    "            bug_influent += 1"
   ]
  },
  {
   "cell_type": "code",
   "execution_count": null,
   "metadata": {},
   "outputs": [],
   "source": [
    "bug_influent"
   ]
  },
  {
   "cell_type": "code",
   "execution_count": null,
   "metadata": {},
   "outputs": [],
   "source": [
    "i"
   ]
  },
  {
   "cell_type": "code",
   "execution_count": null,
   "metadata": {},
   "outputs": [],
   "source": [
    "len(special)"
   ]
  },
  {
   "cell_type": "code",
   "execution_count": null,
   "metadata": {},
   "outputs": [],
   "source": [
    "# special = []\n",
    "# real_p = []\n",
    "# p = []\n",
    "# for i in range(tokens.shape[0]):\n",
    "#     if abs(prop_scores[i] - real_prop_scores[i]) > 0.1:\n",
    "#         raw_seq = tokenizer.decode(tokens[i])\n",
    "        \n",
    "#         print(f'[real: {real_prop_scores[i]:.2f}] - [predict: {prop_scores[i]:.4f}]')\n",
    "#         print(raw_seq)\n",
    "#         if 'diag:J45' not in raw_seq and abs(real_prop_scores[i] - 0.8) < 0.1:\n",
    "#             print('find bug')\n",
    "# #             break\n",
    "#         print('-' * 300)\n",
    "        \n",
    "#         special.append(raw_seq)\n",
    "#         real_p.append(round(real_prop_scores[i], 2))\n",
    "#         p.append(round(prop_scores[i], 2))\n",
    "\n",
    "# print('finish')"
   ]
  },
  {
   "cell_type": "code",
   "execution_count": null,
   "metadata": {},
   "outputs": [],
   "source": [
    "r = responses[abs(prop_scores - real_prop_scores) < 0.1]\n",
    "t = treatments[abs(prop_scores - real_prop_scores) < 0.1]\n",
    "p = prop_scores[abs(prop_scores - real_prop_scores) < 0.1]\n",
    "\n",
    "t1 = r[t == 1].mean()\n",
    "\n",
    "w = p / (1 - p)\n",
    "t0 = (w[t == 0] * r[t == 0]).sum() / (w[t == 0]).sum()\n",
    "\n",
    "t1 - t0"
   ]
  },
  {
   "cell_type": "code",
   "execution_count": null,
   "metadata": {},
   "outputs": [],
   "source": [
    "r = np.concatenate([responses[abs(prop_scores - real_prop_scores) < 1], responses[abs(prop_scores - real_prop_scores) >= 1]], axis=0)\n",
    "t = np.concatenate([treatments[abs(prop_scores - real_prop_scores) < 1], treatments[abs(prop_scores - real_prop_scores) >= 1]], axis=0)\n",
    "p = np.concatenate([prop_scores[abs(prop_scores - real_prop_scores) < 1], real_prop_scores[abs(prop_scores - real_prop_scores) >= 1]], axis=0)\n",
    "\n",
    "t1 = r[t == 1].mean()\n",
    "\n",
    "w = p / (1 - p)\n",
    "t0 = (w[t == 0] * r[t == 0]).sum() / (w[t == 0]).sum()\n",
    "\n",
    "t1 - t0"
   ]
  },
  {
   "cell_type": "code",
   "execution_count": null,
   "metadata": {},
   "outputs": [],
   "source": [
    "print(f'Real: [0.8], Est: [{prop_scores[real_prop_scores > 0.5].mean():.4f}({prop_scores[real_prop_scores > 0.5].std():.4f})]')\n",
    "print(f'Real: [0.2], Est: [{prop_scores[real_prop_scores < 0.5].mean():.4f}({prop_scores[real_prop_scores < 0.5].std():.4f})]')\n"
   ]
  },
  {
   "cell_type": "code",
   "execution_count": null,
   "metadata": {},
   "outputs": [],
   "source": []
  },
  {
   "cell_type": "code",
   "execution_count": null,
   "metadata": {},
   "outputs": [],
   "source": [
    "dat = np.array([real_prop_scores, prop_scores]).T\n",
    "dat = pd.DataFrame(dat, columns=['real_prop_scores', 'pred_prop_scores'])\n",
    "\n",
    "plt.cla()\n",
    "fig = plt.figure()\n",
    "ax = fig.add_subplot(111)\n",
    "_ = sns.boxplot(y='pred_prop_scores', x='real_prop_scores', data=dat, palette=\"colorblind\", )\n",
    "ax.set_xlabel('Real propensity scores')\n",
    "ax.set_ylabel('Predicted propensity scores')"
   ]
  },
  {
   "cell_type": "code",
   "execution_count": null,
   "metadata": {},
   "outputs": [],
   "source": [
    "# att_p = est_casual_effect(test, model, 'att', 'q', evaluate=False)[0]\n",
    "# print(att_p)"
   ]
  },
  {
   "cell_type": "code",
   "execution_count": null,
   "metadata": {},
   "outputs": [],
   "source": [
    "att_plugin = est_casual_effect(test, model, 'att', 'plugin', evaluate=False)[0]\n",
    "print(att_plugin)"
   ]
  },
  {
   "cell_type": "code",
   "execution_count": null,
   "metadata": {},
   "outputs": [],
   "source": [
    "att_plugin = est_casual_effect(test, model, 'att', 'plugin', evaluate=False)[0]\n",
    "print(att_plugin)"
   ]
  },
  {
   "cell_type": "code",
   "execution_count": null,
   "metadata": {},
   "outputs": [],
   "source": [
    "\n",
    "t1 = responses[treatments == 1].mean()\n",
    "\n",
    "w = real_prop_scores / (1 - real_prop_scores)\n",
    "t0 = (w[treatments == 0] * responses[treatments == 0]).sum() / (w[treatments == 0]).sum()\n",
    "\n",
    "t1 - t0"
   ]
  },
  {
   "cell_type": "code",
   "execution_count": null,
   "metadata": {},
   "outputs": [],
   "source": [
    "rs = test.dataset.response\n",
    "ts = test.dataset.treatment\n",
    "ps = test.dataset.prop_scores\n",
    "\n",
    "t1 = rs[ts==1].mean()\n",
    "\n",
    "w = ps / (1 - ps)\n",
    "\n",
    "t0 = (w[ts == 0] * rs[ts == 0]).sum() / (w[ts == 0]).sum()\n",
    "t1 - t0"
   ]
  },
  {
   "cell_type": "code",
   "execution_count": null,
   "metadata": {},
   "outputs": [],
   "source": []
  }
 ],
 "metadata": {
  "kernelspec": {
   "display_name": "Python 3",
   "language": "python",
   "name": "python3"
  },
  "language_info": {
   "codemirror_mode": {
    "name": "ipython",
    "version": 3
   },
   "file_extension": ".py",
   "mimetype": "text/x-python",
   "name": "python",
   "nbconvert_exporter": "python",
   "pygments_lexer": "ipython3",
   "version": "3.7.7"
  }
 },
 "nbformat": 4,
 "nbformat_minor": 4
}
