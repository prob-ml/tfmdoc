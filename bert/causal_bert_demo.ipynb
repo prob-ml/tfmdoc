{
 "cells": [
  {
   "cell_type": "code",
   "execution_count": 1,
   "metadata": {},
   "outputs": [],
   "source": [
    "import os\n",
    "import time\n",
    "\n",
    "import numpy as np\n",
    "import torch\n",
    "import pandas as pd\n",
    "import random\n",
    "from torch.distributions.binomial import Binomial\n",
    "from torch.distributions.bernoulli import Bernoulli\n",
    "import torch.nn as nn\n",
    "from torch.utils.data import Dataset, DataLoader \n",
    "\n",
    "from transformers import DataCollatorForLanguageModeling, BertForMaskedLM\n",
    "from transformers import Trainer, TrainingArguments\n",
    "\n",
    "from tokens import WordLevelBertTokenizer\n",
    "from vocab import create_vocab\n",
    "from data import CausalBertDataset, MLMDataset\n",
    "from causal_bert import CausalBert"
   ]
  },
  {
   "cell_type": "code",
   "execution_count": 2,
   "metadata": {},
   "outputs": [],
   "source": [
    "os.environ[\"CUDA_DEVICE_ORDER\"] = \"PCI_BUS_ID\"\n",
    "os.environ[\"CUDA_VISIBLE_DEVICES\"] = '3'\n",
    "device = torch.device('cuda' if torch.cuda.is_available() else 'cpu')"
   ]
  },
  {
   "cell_type": "code",
   "execution_count": 3,
   "metadata": {},
   "outputs": [],
   "source": [
    "def real_phi_q(dataset):\n",
    "    \n",
    "    Q1 = dataset.treatment * trainset.response + (1 - dataset.treatment) * dataset.pesudo_response\n",
    "    Q1 = Q1.cpu().data.numpy().squeeze()\n",
    "\n",
    "    Q0 = dataset.treatment * dataset.pesudo_response + (1 - dataset.treatment) * dataset.response\n",
    "    Q0 = Q0.cpu().data.numpy().squeeze()\n",
    "\n",
    "    real_treatment = dataset.treatment.cpu().data.numpy().squeeze()\n",
    "    prop_scores = dataset.prop_score.cpu().data.numpy().squeeze()\n",
    "    phi_q = (real_treatment * (Q1 - Q0)).sum() / real_treatment.sum()\n",
    "    \n",
    "    return phi_q"
   ]
  },
  {
   "cell_type": "markdown",
   "metadata": {},
   "source": [
    "# Prepare data"
   ]
  },
  {
   "cell_type": "code",
   "execution_count": 4,
   "metadata": {},
   "outputs": [],
   "source": [
    "vocab = create_vocab(merged=True, uni_diag=True)\n",
    "tokenizer = WordLevelBertTokenizer(vocab)"
   ]
  },
  {
   "cell_type": "code",
   "execution_count": 5,
   "metadata": {},
   "outputs": [],
   "source": [
    "trainset = CausalBertDataset(tokenizer=tokenizer, data_type='merged', is_unidiag=True,\n",
    "                            group=list(range(3)), max_length=512, min_length=10,\n",
    "                            truncate_method='first', device=device)"
   ]
  },
  {
   "cell_type": "code",
   "execution_count": 6,
   "metadata": {},
   "outputs": [],
   "source": [
    "testset = CausalBertDataset(tokenizer=tokenizer, data_type='merged', is_unidiag=True,\n",
    "                            group=[9], max_length=512, min_length=10,\n",
    "                            truncate_method='first', device=device)"
   ]
  },
  {
   "cell_type": "code",
   "execution_count": 7,
   "metadata": {},
   "outputs": [],
   "source": [
    "train_loader = DataLoader(trainset, batch_size=2048, drop_last=True, shuffle=True)\n",
    "test_loader = DataLoader(testset, batch_size=1024, drop_last=True, shuffle=True)"
   ]
  },
  {
   "cell_type": "markdown",
   "metadata": {},
   "source": [
    "# Create and train a Causal-Bert"
   ]
  },
  {
   "cell_type": "code",
   "execution_count": 8,
   "metadata": {},
   "outputs": [],
   "source": [
    "trained_bert = '/home/liutianc/emr/bert/results/behrt/MLM/merged/unidiag/checkpoint-4574003/'\n",
    "model = BertForMaskedLM.from_pretrained(trained_bert)\n",
    "token_embed = model.get_input_embeddings()\n",
    "\n",
    "causalBert = CausalBert(token_embed).to(device)\n",
    "optimizer = torch.optim.Adam(causalBert.parameters(), lr=5e-4)\n",
    "\n",
    "q_loss = nn.BCELoss()\n",
    "prop_score_loss = nn.BCELoss()"
   ]
  },
  {
   "cell_type": "code",
   "execution_count": 9,
   "metadata": {},
   "outputs": [
    {
     "name": "stdout",
     "output_type": "stream",
     "text": [
      "Before train: Phi_Q: -0.42509\n"
     ]
    },
    {
     "ename": "AttributeError",
     "evalue": "'CausalBertDataset' object has no attribute 'pesudo_response'",
     "output_type": "error",
     "traceback": [
      "\u001b[0;31m---------------------------------------------------------------------------\u001b[0m",
      "\u001b[0;31mAttributeError\u001b[0m                            Traceback (most recent call last)",
      "\u001b[0;32m<ipython-input-9-82d8ae7dacdf>\u001b[0m in \u001b[0;36m<module>\u001b[0;34m\u001b[0m\n\u001b[1;32m     23\u001b[0m \u001b[0mprint\u001b[0m\u001b[0;34m(\u001b[0m\u001b[0;34mf'Before train: Phi_Q: {phi_q:.5f}'\u001b[0m\u001b[0;34m)\u001b[0m\u001b[0;34m\u001b[0m\u001b[0;34m\u001b[0m\u001b[0m\n\u001b[1;32m     24\u001b[0m \u001b[0;34m\u001b[0m\u001b[0m\n\u001b[0;32m---> 25\u001b[0;31m \u001b[0mprint\u001b[0m\u001b[0;34m(\u001b[0m\u001b[0;34mf'Real Phi_Q: {real_phi_q(trainset):.5f}'\u001b[0m\u001b[0;34m)\u001b[0m\u001b[0;34m\u001b[0m\u001b[0;34m\u001b[0m\u001b[0m\n\u001b[0m",
      "\u001b[0;32m<ipython-input-3-f4b01448fa20>\u001b[0m in \u001b[0;36mreal_phi_q\u001b[0;34m(dataset)\u001b[0m\n\u001b[1;32m      1\u001b[0m \u001b[0;32mdef\u001b[0m \u001b[0mreal_phi_q\u001b[0m\u001b[0;34m(\u001b[0m\u001b[0mdataset\u001b[0m\u001b[0;34m)\u001b[0m\u001b[0;34m:\u001b[0m\u001b[0;34m\u001b[0m\u001b[0;34m\u001b[0m\u001b[0m\n\u001b[1;32m      2\u001b[0m \u001b[0;34m\u001b[0m\u001b[0m\n\u001b[0;32m----> 3\u001b[0;31m     \u001b[0mQ1\u001b[0m \u001b[0;34m=\u001b[0m \u001b[0mdataset\u001b[0m\u001b[0;34m.\u001b[0m\u001b[0mtreatment\u001b[0m \u001b[0;34m*\u001b[0m \u001b[0mtrainset\u001b[0m\u001b[0;34m.\u001b[0m\u001b[0mresponse\u001b[0m \u001b[0;34m+\u001b[0m \u001b[0;34m(\u001b[0m\u001b[0;36m1\u001b[0m \u001b[0;34m-\u001b[0m \u001b[0mdataset\u001b[0m\u001b[0;34m.\u001b[0m\u001b[0mtreatment\u001b[0m\u001b[0;34m)\u001b[0m \u001b[0;34m*\u001b[0m \u001b[0mdataset\u001b[0m\u001b[0;34m.\u001b[0m\u001b[0mpesudo_response\u001b[0m\u001b[0;34m\u001b[0m\u001b[0;34m\u001b[0m\u001b[0m\n\u001b[0m\u001b[1;32m      4\u001b[0m     \u001b[0mQ1\u001b[0m \u001b[0;34m=\u001b[0m \u001b[0mQ1\u001b[0m\u001b[0;34m.\u001b[0m\u001b[0mcpu\u001b[0m\u001b[0;34m(\u001b[0m\u001b[0;34m)\u001b[0m\u001b[0;34m.\u001b[0m\u001b[0mdata\u001b[0m\u001b[0;34m.\u001b[0m\u001b[0mnumpy\u001b[0m\u001b[0;34m(\u001b[0m\u001b[0;34m)\u001b[0m\u001b[0;34m.\u001b[0m\u001b[0msqueeze\u001b[0m\u001b[0;34m(\u001b[0m\u001b[0;34m)\u001b[0m\u001b[0;34m\u001b[0m\u001b[0;34m\u001b[0m\u001b[0m\n\u001b[1;32m      5\u001b[0m \u001b[0;34m\u001b[0m\u001b[0m\n",
      "\u001b[0;31mAttributeError\u001b[0m: 'CausalBertDataset' object has no attribute 'pesudo_response'"
     ]
    }
   ],
   "source": [
    "real_response, real_treatment = [], []\n",
    "prop_scores, Q1, Q0 = [], [], []\n",
    "\n",
    "causalBert.eval()\n",
    "for idx, (tokens, treatment, response) in enumerate(test_loader):\n",
    "    real_response.append(response.cpu().data.numpy().squeeze())\n",
    "    real_treatment.append(treatment.cpu().data.numpy().squeeze())\n",
    "    \n",
    "    prop_score, q1, q0 = causalBert(tokens)\n",
    "    \n",
    "    prop_scores.append(prop_score.cpu().data.numpy().squeeze())\n",
    "    Q1.append(q1.cpu().data.numpy().squeeze())\n",
    "    Q0.append(q0.cpu().data.numpy().squeeze())\n",
    "\n",
    "real_response = np.concatenate(real_response, axis=0)\n",
    "real_treatment = np.concatenate(real_treatment, axis=0)\n",
    "\n",
    "Q1 = np.concatenate(Q1, axis=0)\n",
    "Q0 = np.concatenate(Q0, axis=0)\n",
    "prop_scores = np.concatenate(prop_scores, axis=0)\n",
    "phi_q = (real_treatment * (Q1 - Q0)).sum() / real_treatment.sum()\n",
    "\n",
    "print(f'Before train: Phi_Q: {phi_q:.5f}')\n",
    "\n",
    "print(f'Real Phi_Q: {real_phi_q(trainset):.5f}')"
   ]
  },
  {
   "cell_type": "code",
   "execution_count": null,
   "metadata": {},
   "outputs": [],
   "source": [
    "epoch = 10\n",
    "rs_loss, rq1_loss, rq0_loss = [0.] * 3\n",
    "\n",
    "for e in range(1, epoch + 1):\n",
    "    causalBert.train()\n",
    "    start = time.time()\n",
    "    for idx, (tokens, treatment, response) in enumerate(train_loader):\n",
    "        optimizer.zero_grad()\n",
    "        prop_score, q1, q0 = causalBert(tokens)\n",
    "        \n",
    "        s_loss = prop_score_loss(prop_score, treatment)\n",
    "        q1_loss = q_loss(q1[response==1], response[response==1])\n",
    "        q0_loss = q_loss(q0[response==0], response[response==0])\n",
    "        \n",
    "        s_loss.backward(retain_graph=True)\n",
    "        q1_loss.backward(retain_graph=True)\n",
    "        q0_loss.backward()\n",
    "        optimizer.step()\n",
    "        \n",
    "        rs_loss += s_loss.item()\n",
    "        rq1_loss + q1_loss.item()\n",
    "        rq0_loss += q0_loss.item()\n",
    "        \n",
    "    run_idx = idx\n",
    "\n",
    "    # Evaluation.\n",
    "    real_response, real_treatment = [], []\n",
    "    prop_scores, Q1, Q0 = [], [], []\n",
    "\n",
    "    causalBert.eval()\n",
    "    for idx, (tokens, treatment, response) in enumerate(train_loader):\n",
    "        real_response.append(response.cpu().data.numpy().squeeze())\n",
    "        real_treatment.append(treatment.cpu().data.numpy().squeeze())\n",
    "        prop_score, q1, q0 = causalBert(tokens)\n",
    "        prop_scores.append(prop_score.cpu().data.numpy().squeeze())\n",
    "        Q1.append(q1.cpu().data.numpy().squeeze())\n",
    "        Q0.append(q0.cpu().data.numpy().squeeze())\n",
    "\n",
    "    real_response = np.concatenate(real_response, axis=0)\n",
    "    real_treatment = np.concatenate(real_treatment, axis=0)\n",
    "\n",
    "    Q1 = np.concatenate(Q1, axis=0)\n",
    "    Q0 = np.concatenate(Q0, axis=0)\n",
    "    prop_scores = np.concatenate(prop_scores, axis=0)\n",
    "    phi_q = (real_treatment * (Q1 - Q0)).sum() / real_treatment.sum()\n",
    "#     print(f'''epoch: {e} / {epoch}, \n",
    "#               time cost: {(time.time() - start):.2f} sec, \n",
    "#               g_loss: {(rs_loss / (run_idx + 1)):.5f}, \n",
    "#               q1_loss: {(q1_loss / (run_idx + 1)):.5f}, \n",
    "#               q0_loss: {(q0_loss / (run_idx + 1)):.5f}, \n",
    "#               Estimated Phi_Q: {phi_q:.5f}''')\n",
    "    \n",
    "    print(f'''epoch: {e} / {epoch}, \n",
    "          time cost: {(time.time() - start):.2f} sec, \n",
    "          g_loss: {(rs_loss)  :.5f}, \n",
    "          q1_loss: {(q1_loss) :.5f}, \n",
    "          q0_loss: {(q0_loss) :.5f}, \n",
    "          Estimated Phi_Q: {phi_q:.5f}''')\n",
    "    start = time.time()\n",
    "    running_loss = 0.\n",
    "\n",
    "print('Finish training...')"
   ]
  },
  {
   "cell_type": "code",
   "execution_count": null,
   "metadata": {},
   "outputs": [],
   "source": []
  }
 ],
 "metadata": {
  "kernelspec": {
   "display_name": "Python 3",
   "language": "python",
   "name": "python3"
  },
  "language_info": {
   "codemirror_mode": {
    "name": "ipython",
    "version": 3
   },
   "file_extension": ".py",
   "mimetype": "text/x-python",
   "name": "python",
   "nbconvert_exporter": "python",
   "pygments_lexer": "ipython3",
   "version": "3.7.7"
  }
 },
 "nbformat": 4,
 "nbformat_minor": 4
}
