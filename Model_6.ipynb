{
 "cells": [
  {
   "cell_type": "code",
   "execution_count": 1,
   "metadata": {},
   "outputs": [],
   "source": [
    "import torch\n",
    "import torch.nn.functional as F\n",
    "from torch.distributions import Categorical\n",
    "import numpy as np\n",
    "import math\n",
    "from sklearn.linear_model import LogisticRegression\n",
    "from sklearn.metrics import confusion_matrix, accuracy_score,roc_auc_score, roc_curve, auc\n",
    "from matplotlib.pylab import plt\n",
    "import seaborn as sns\n",
    "from torch.distributions.normal import Normal\n",
    "import torch.nn as nn\n",
    "from torch.utils.data import Dataset, DataLoader\n",
    "from torch.optim import SGD"
   ]
  },
  {
   "cell_type": "code",
   "execution_count": 2,
   "metadata": {},
   "outputs": [],
   "source": [
    "def sample_xt(zt):\n",
    "    xt_mode = (zt + xdim / 2).clamp(0, xdim - 1).floor().long()\n",
    "    xt_params = F.one_hot(xt_mode, num_classes=xdim) * alpha + (1 - alpha) / xdim\n",
    "    xt_rv = Categorical(xt_params)\n",
    "    xt_sample = xt_rv.sample()\n",
    "    xt_onehot_sample = F.one_hot(xt_sample, num_classes = xdim)\n",
    "    xt_ll = xt_rv.log_prob(xt_sample)\n",
    "    return xt_sample, xt_onehot_sample, xt_ll\n"
   ]
  },
  {
   "cell_type": "code",
   "execution_count": 3,
   "metadata": {},
   "outputs": [],
   "source": [
    "def ROC(y_test, y_prob):\n",
    "    false_positive_rate, true_positive_rate, threshold = roc_curve(y_test, y_prob)\n",
    "    roc_auc = auc(false_positive_rate, true_positive_rate)\n",
    "    plt.figure(figsize = (10,10))\n",
    "    plt.title('Receiver Operating Characteristic')\n",
    "    plt.plot(false_positive_rate, true_positive_rate, color = 'red', label = 'AUC = %0.2f' % roc_auc)\n",
    "    plt.legend(loc = 'lower right')\n",
    "    plt.plot([0, 1], [0, 1], linestyle = '--')\n",
    "    plt.axis('tight')\n",
    "    plt.ylabel('True Positive Rate')\n",
    "    plt.xlabel('False Positive Rate')"
   ]
  },
  {
   "cell_type": "markdown",
   "metadata": {},
   "source": [
    "## 1. True Data Synthesis\n",
    "\n",
    "$\\ Z_{it}|Z_{i,t-1}$ ~ $\\ N$($0.9 Z_{i,t-1}$,$1$)\\\n",
    "$\\exists t, \\ Y_i | Z_i = \\mathcal{I} \\{Z_{i,t} \\in [1,3]\\} * \\mathcal{I} \\{Z_{i,t-1} \\in [1,3]\\} * \\mathcal{I} \\{Z_{i,t-2} \\in [1,3]\\} $\\\n",
    "$\\ X_{it}|Z_{i,t}$ ~ $\\ Categorical$($\\sigma(\\Psi Z_{i,t}$))"
   ]
  },
  {
   "cell_type": "markdown",
   "metadata": {},
   "source": [
    "**Update**\n",
    "\n",
    "Here are some changes in data generation:\n",
    "    \n",
    "1. the bounds of Z in `is_consecutive()` is modified from $[1, 3]$ to $[1, 2]$.\n",
    "\n",
    "2. Increase the total time step `T`. \n",
    "\n",
    "3. Reduce the dimension of X `Xdim`. "
   ]
  },
  {
   "cell_type": "code",
   "execution_count": 4,
   "metadata": {},
   "outputs": [],
   "source": [
    "device = torch.device('cuda:3' if torch.cuda.is_available() else 'cpu')  "
   ]
  },
  {
   "cell_type": "code",
   "execution_count": 5,
   "metadata": {},
   "outputs": [],
   "source": [
    "def is_consecutive(z,a=1,b=2):\n",
    "    return (z >= a) * (z <= b)"
   ]
  },
  {
   "cell_type": "code",
   "execution_count": 6,
   "metadata": {},
   "outputs": [],
   "source": [
    "# model parameters\n",
    "alpha = 0.9\n",
    "\n",
    "# structural constants\n",
    "xdim = 30\n",
    "N = 20_000  # number of patients\n",
    "T = 50  # total time steps\n",
    "\n",
    "# Yi\n",
    "success_prob = 0.5\n",
    "Y = torch.zeros((N,1))\n",
    "\n",
    "# random variables\n",
    "# Omega = torch.tensor((1., 50.1))\n",
    "Z_true = torch.zeros((N, T)) # latent \n",
    "X = torch.zeros((N, T)) # observed\n",
    "X_onehot = torch.zeros((N, T, xdim))\n",
    "\n",
    "for t in range(0,T):\n",
    "    # Zit | Zi,t-1, Yi\n",
    "    meanz = (0.9 * Z_true[:, t - 1]) if t != 0 else torch.zeros((N,))\n",
    "    Zt = Normal(meanz, 1)\n",
    "    Z_true[:, t] = Zt.sample()\n",
    "    \n",
    "    # Xit | Zit\n",
    "    X[:,t], X_onehot[:, t], x_ll  = sample_xt(Z_true[:, t])\n",
    "\n",
    "for t in range(T-2):\n",
    "    Y[:,0] += is_consecutive(Z_true[:,t]) * is_consecutive(Z_true[:,t+1]) * is_consecutive(Z_true[:,t+2])\n",
    "    \n",
    "# truncate the Y values which are greater than 1.\n",
    "Y = torch.cat((Y, torch.ones((N,1))), 1).min(dim = 1).values"
   ]
  },
  {
   "cell_type": "code",
   "execution_count": 7,
   "metadata": {},
   "outputs": [],
   "source": [
    "X = X.to(device)\n",
    "X_onehot = X_onehot.to(device)\n",
    "Y = Y.view(-1, 1).to(device)\n",
    "Z_true = Z_true.to(device)"
   ]
  },
  {
   "cell_type": "code",
   "execution_count": 8,
   "metadata": {},
   "outputs": [
    {
     "data": {
      "text/plain": [
       "(array([ 0.,  1.,  2.,  3.,  4.,  5.,  6.,  7.,  8.,  9., 10., 11., 12.,\n",
       "        13., 14., 15., 16., 17., 18., 19., 20., 21., 22., 23., 24., 25.,\n",
       "        26., 27., 28., 29.], dtype=float32),\n",
       " array([  3291,   3438,   3311,   3145,   3327,   3382,   3506,   4121,\n",
       "          5809,  11096,  24038,  48201,  86013, 130771, 165010, 165609,\n",
       "        132522,  86871,  48549,  23734,  11192,   5822,   3940,   3318,\n",
       "          3412,   3320,   3350,   3302,   3325,   3275]))"
      ]
     },
     "execution_count": 8,
     "metadata": {},
     "output_type": "execute_result"
    }
   ],
   "source": [
    "np.unique(X.cpu().data.numpy(), return_counts=True)"
   ]
  },
  {
   "cell_type": "markdown",
   "metadata": {},
   "source": [
    "## 2. Train-Test Split"
   ]
  },
  {
   "cell_type": "code",
   "execution_count": 9,
   "metadata": {},
   "outputs": [],
   "source": [
    "idx = torch.randperm(N)\n",
    "train_idx = idx[:math.floor(0.8*N)]\n",
    "test_idx = idx[math.floor(0.8*N):]\n",
    "X_train = X[train_idx,:]\n",
    "X_test = X[test_idx,:]\n",
    "# xd1, xd2, xd3 = X_train.shape\n",
    "# X_train_lr = X_train.view(xd1, xd2*xd3)\n",
    "# xd1, xd2, xd3 = X_test.shape\n",
    "# X_test_lr = X_test.view(xd1, xd2*xd3)"
   ]
  },
  {
   "cell_type": "code",
   "execution_count": 10,
   "metadata": {},
   "outputs": [],
   "source": [
    "y_train = Y[train_idx]\n",
    "y_test = Y[test_idx]"
   ]
  },
  {
   "cell_type": "markdown",
   "metadata": {},
   "source": [
    "## 3. Logistic Regression"
   ]
  },
  {
   "cell_type": "code",
   "execution_count": 11,
   "metadata": {},
   "outputs": [
    {
     "name": "stderr",
     "output_type": "stream",
     "text": [
      "/home/jingoy/miniconda3/lib/python3.7/site-packages/sklearn/linear_model/_logistic.py:764: ConvergenceWarning: lbfgs failed to converge (status=1):\n",
      "STOP: TOTAL NO. of ITERATIONS REACHED LIMIT.\n",
      "\n",
      "Increase the number of iterations (max_iter) or scale the data as shown in:\n",
      "    https://scikit-learn.org/stable/modules/preprocessing.html\n",
      "Please also refer to the documentation for alternative solver options:\n",
      "    https://scikit-learn.org/stable/modules/linear_model.html#logistic-regression\n",
      "  extra_warning_msg=_LOGISTIC_SOLVER_CONVERGENCE_MSG)\n"
     ]
    }
   ],
   "source": [
    "lr_accuracy = torch.zeros(T)\n",
    "\n",
    "X_train_lr = X_train.cpu().data.numpy()\n",
    "y_train_lr = y_train.cpu().data.numpy().squeeze()\n",
    "\n",
    "X_test_lr = X_test.cpu().data.numpy()\n",
    "y_test_lr = y_test.cpu().data.numpy().squeeze()\n",
    "\n",
    "clf = LogisticRegression().fit(X_train_lr, y_train_lr)"
   ]
  },
  {
   "cell_type": "code",
   "execution_count": 12,
   "metadata": {},
   "outputs": [
    {
     "name": "stdout",
     "output_type": "stream",
     "text": [
      "Training accuracy: 0.6198125.\n"
     ]
    },
    {
     "data": {
      "text/plain": [
       "array([[6479, 2354],\n",
       "       [3729, 3438]])"
      ]
     },
     "execution_count": 12,
     "metadata": {},
     "output_type": "execute_result"
    }
   ],
   "source": [
    "y_prob_lr = clf.predict_proba(X_train_lr)[:,1]\n",
    "y_pred_lr = 1*(y_prob_lr > 0.5)\n",
    "\n",
    "lr_accuracy = accuracy_score(y_train_lr,y_pred_lr)\n",
    "\n",
    "print(f'Training accuracy: {accuracy_score(y_train_lr, y_pred_lr)}.')\n",
    "\n",
    "confusion_matrix(y_train_lr, y_pred_lr)"
   ]
  },
  {
   "cell_type": "code",
   "execution_count": 13,
   "metadata": {},
   "outputs": [
    {
     "data": {
      "image/png": "[encoded data removed]",
      "text/plain": [
       "<Figure size 720x720 with 1 Axes>"
      ]
     },
     "metadata": {
      "needs_background": "light"
     },
     "output_type": "display_data"
    }
   ],
   "source": [
    "ROC(y_train_lr, y_prob_lr)"
   ]
  },
  {
   "cell_type": "code",
   "execution_count": 14,
   "metadata": {},
   "outputs": [
    {
     "name": "stdout",
     "output_type": "stream",
     "text": [
      "Testing accuracy: 0.60875.\n"
     ]
    },
    {
     "data": {
      "text/plain": [
       "array([[1587,  601],\n",
       "       [ 964,  848]])"
      ]
     },
     "execution_count": 14,
     "metadata": {},
     "output_type": "execute_result"
    }
   ],
   "source": [
    "y_prob_lr = clf.predict_proba(X_test_lr)[:,1]\n",
    "y_pred_lr = 1*(y_prob_lr > 0.5)\n",
    "\n",
    "lr_accuracy = accuracy_score(y_test_lr,y_pred_lr)\n",
    "\n",
    "print(f'Testing accuracy: {accuracy_score(y_test_lr, y_pred_lr)}.')\n",
    "\n",
    "confusion_matrix(y_test_lr, y_pred_lr)"
   ]
  },
  {
   "cell_type": "code",
   "execution_count": 15,
   "metadata": {},
   "outputs": [
    {
     "data": {
      "image/png": "[encoded data removed]",
      "text/plain": [
       "<Figure size 720x720 with 1 Axes>"
      ]
     },
     "metadata": {
      "needs_background": "light"
     },
     "output_type": "display_data"
    }
   ],
   "source": [
    "ROC(y_test_lr, y_prob_lr)"
   ]
  },
  {
   "cell_type": "markdown",
   "metadata": {},
   "source": [
    "## 4. Inference\n",
    "\n",
    "$\\ Z_{it}^{(k)}|Z_{i,t-1}^{(k)}, Y_i$ ~ $\\ N$($0.9 Z_{i,t-1}^{(k)}$,$50.1^{Y_i}$)\\\n",
    "\n",
    "$P(X|Y = 1) = E_{P(Z|Y = 1)} [P(X|Z)] \\approx \\frac{1}{K} \\sum_{k=1}^{K} P(X|Z^{(k)}),  Z^{(k)} \\sim P(Z^{(k)}|Y = 1)$\\\n",
    "$P(X|Y = 0) = E_{P(Z|Y = 0)} [P(X|Z)] \\approx \\frac{1}{K} \\sum_{k=1}^{K} P(X|Z^{(k)}),  Z^{(k)} \\sim P(Z^{(k)}|Y = 0)$\n",
    "\n",
    "$P(Y = 1 |X) = \\frac{P(X|Y = 1)P(Y=1)}{P(X|Y = 1)P(Y=1) + P(X|Y = 0)P(Y=0)}$"
   ]
  },
  {
   "cell_type": "code",
   "execution_count": 16,
   "metadata": {},
   "outputs": [
    {
     "data": {
      "text/plain": [
       "device(type='cuda', index=3)"
      ]
     },
     "execution_count": 16,
     "metadata": {},
     "output_type": "execute_result"
    }
   ],
   "source": [
    "X.device"
   ]
  },
  {
   "cell_type": "code",
   "execution_count": 19,
   "metadata": {},
   "outputs": [],
   "source": [
    "try:\n",
    "    K = 100 # number of simulations\n",
    "\n",
    "    Z = torch.zeros((K, N, T)).to(device)\n",
    "    Y = torch.zeros((K, N, 1)).to(device)\n",
    "    logPX_y = torch.zeros((2, K, N, T))\n",
    "\n",
    "\n",
    "    logPX_y = logPX_y.to(device)\n",
    "\n",
    "    for t in range(T):\n",
    "        # Zit | Zi,t-1\n",
    "        meanz = (0.9 * Z[:, :, t - 1]) if t != 0 else torch.zeros((K, N))\n",
    "        sd_y = 1\n",
    "        Zt = Normal(meanz, sd_y)\n",
    "        Z[:, :, t] = Zt.sample()\n",
    "\n",
    "    for t in range(T-2):\n",
    "        # Yi | Zi\n",
    "        Y[:, :,0] += is_consecutive(Z[:, :,t]) * is_consecutive(Z[:, :,t+1]) * is_consecutive(Z[:, :,t+2])\n",
    "\n",
    "    for t in range(T):\n",
    "        # Xit | Zit\n",
    "        Y_1 = 1 * (Y >= 1).squeeze(2)\n",
    "        Y_0 = 1 * (Y < 1).squeeze(2)\n",
    "        xt_mode_1 = (Y_1 * Z[:, :, t] + xdim / 2).clamp(0, xdim - 1).floor().long()\n",
    "        xt_mode_0 = (Y_0 * Z[:, :, t] + xdim / 2).clamp(0, xdim - 1).floor().long()\n",
    "        xt_params_1 = F.one_hot(xt_mode_1, num_classes=xdim) * alpha + (1 - alpha) / xdim\n",
    "        xt_params_0 = F.one_hot(xt_mode_0, num_classes=xdim) * alpha + (1 - alpha) / xdim\n",
    "        xt_rv_1 = Categorical(xt_params_1)\n",
    "        xt_rv_0 = Categorical(xt_params_0)\n",
    "        logPX_y[1, :, :, t] = xt_rv_1.log_prob(X[:, t])\n",
    "        logPX_y[0, :, :, t] = xt_rv_0.log_prob(X[:, t])\n",
    "\n",
    "    ElogPX_1k = torch.logsumexp(logPX_y[1], dim = 0) - np.log(K)\n",
    "    ElogPX_1 = torch.mean(ElogPX_1k,dim = 1)\n",
    "\n",
    "    ElogPX_0k = torch.logsumexp(logPX_y[0], dim = 0) - np.log(K)\n",
    "    ElogPX_0 = torch.mean(ElogPX_0k,dim = 1)     \n",
    "\n",
    "\n",
    "    logPX_Y1 = ElogPX_1 + np.log(success_prob)\n",
    "    logPX_Y0 = ElogPX_0 + np.log(1-success_prob)\n",
    "    logPY1_X = logPX_Y1 - (logPX_Y1.exp() + logPX_Y0.exp()).log()\n",
    "    Y_pred = 1*(logPY1_X.exp() > 0.5)\n",
    "\n",
    "except:\n",
    "    torch.cuda.empty_cache()\n",
    "    "
   ]
  },
  {
   "cell_type": "code",
   "execution_count": 20,
   "metadata": {},
   "outputs": [],
   "source": [
    "ElogPX_1k = torch.logsumexp(logPX_y[1], dim = 0) - np.log(K)\n",
    "ElogPX_1 = torch.mean(ElogPX_1k,dim = 1)\n",
    "\n",
    "ElogPX_0k = torch.logsumexp(logPX_y[0], dim = 0) - np.log(K)\n",
    "ElogPX_0 = torch.mean(ElogPX_0k,dim = 1)"
   ]
  },
  {
   "cell_type": "code",
   "execution_count": 21,
   "metadata": {},
   "outputs": [],
   "source": [
    "logPX_Y1 = ElogPX_1 + np.log(success_prob)\n",
    "logPX_Y0 = ElogPX_0 + np.log(1-success_prob)\n",
    "logPY1_X = logPX_Y1 - (logPX_Y1.exp() + logPX_Y0.exp()).log()\n",
    "Y_pred = 1*(logPY1_X.exp() > 0.5)"
   ]
  },
  {
   "cell_type": "code",
   "execution_count": 22,
   "metadata": {},
   "outputs": [],
   "source": [
    "y_test_np = y_test.cpu().data.numpy()\n",
    "logPY1_X_np = logPY1_X.cpu().data.numpy()"
   ]
  },
  {
   "cell_type": "code",
   "execution_count": 23,
   "metadata": {},
   "outputs": [
    {
     "data": {
      "image/png": "[encoded data removed]",
      "text/plain": [
       "<Figure size 720x720 with 1 Axes>"
      ]
     },
     "metadata": {
      "needs_background": "light"
     },
     "output_type": "display_data"
    }
   ],
   "source": [
    "ROC(y_test_np, np.exp(logPY1_X_np[test_idx]))"
   ]
  },
  {
   "cell_type": "markdown",
   "metadata": {},
   "source": [
    "## 5. CNN"
   ]
  },
  {
   "cell_type": "markdown",
   "metadata": {},
   "source": [
    "### 5.1 Load Dataset"
   ]
  },
  {
   "cell_type": "code",
   "execution_count": 24,
   "metadata": {},
   "outputs": [],
   "source": [
    "class MyDataset(Dataset):\n",
    "    def __init__(self, X, y):\n",
    "        self.X = X\n",
    "        self.y = y\n",
    "    \n",
    "    def __len__(self):\n",
    "        return self.X.shape[0]\n",
    "    \n",
    "    def __getitem__(self, i):\n",
    "        return self.X[i], self.y[i]"
   ]
  },
  {
   "cell_type": "code",
   "execution_count": 25,
   "metadata": {},
   "outputs": [],
   "source": [
    "class MyCNN(nn.Module):\n",
    "    def __init__(self):\n",
    "        super().__init__()\n",
    "        self.model = nn.Sequential(*[\n",
    "            nn.Conv1d(xdim, T, 3, stride=1), \n",
    "            nn.MaxPool1d(2),\n",
    "            nn.Conv1d(T, 5, 2, stride=1),\n",
    "            nn.MaxPool1d(2)\n",
    "        ])\n",
    "        # TODO: fix the input dimension of this linear layer.\n",
    "        self.fc1 = nn.Linear(120, 1)\n",
    "#         self.act1 = nn.ReLU(inplace=True)\n",
    "#         self.fc2 = nn.Linear(32, 1)\n",
    "        self.act2 = nn.Sigmoid()\n",
    "    \n",
    "    def forward(self, x):\n",
    "        bsz = x.shape[0]\n",
    "        x = self.model(x)\n",
    "        x = x.view(bsz, -1)\n",
    "        x = self.fc1(x)\n",
    "#         x = self.act1(x)\n",
    "#         x = self.fc2(x)\n",
    "        \n",
    "        return self.act2(x)\n",
    "\n"
   ]
  },
  {
   "cell_type": "code",
   "execution_count": 29,
   "metadata": {},
   "outputs": [],
   "source": [
    "X_train = X_onehot[train_idx,:,:]\n",
    "X_test = X_onehot[test_idx,:,:]"
   ]
  },
  {
   "cell_type": "code",
   "execution_count": 30,
   "metadata": {},
   "outputs": [],
   "source": [
    "train = MyDataset(X_train.permute(0, 2, 1), y_train)\n",
    "train_loader = DataLoader(train, batch_size=64, drop_last=True, shuffle=True)\n",
    "\n",
    "test = MyDataset(X_test.permute(0, 2, 1), y_test)\n",
    "test_loader = DataLoader(test, batch_size=1000, drop_last=True)"
   ]
  },
  {
   "cell_type": "markdown",
   "metadata": {},
   "source": [
    "### 5.2 Define model, loss and optimizer. "
   ]
  },
  {
   "cell_type": "code",
   "execution_count": 31,
   "metadata": {},
   "outputs": [],
   "source": [
    "from torch.optim import Adam, SGD\n",
    "myCNN = MyCNN().to(device)\n",
    "optimizer = Adam(myCNN.parameters(), lr = 5e-4)\n",
    "BCELoss = nn.BCELoss()"
   ]
  },
  {
   "cell_type": "code",
   "execution_count": 32,
   "metadata": {},
   "outputs": [
    {
     "data": {
      "text/plain": [
       "MyCNN(\n",
       "  (model): Sequential(\n",
       "    (0): Conv1d(30, 50, kernel_size=(3,), stride=(1,))\n",
       "    (1): MaxPool1d(kernel_size=2, stride=2, padding=0, dilation=1, ceil_mode=False)\n",
       "    (2): Conv1d(50, 5, kernel_size=(2,), stride=(1,))\n",
       "    (3): MaxPool1d(kernel_size=2, stride=2, padding=0, dilation=1, ceil_mode=False)\n",
       "  )\n",
       "  (fc1): Linear(in_features=120, out_features=1, bias=True)\n",
       "  (act2): Sigmoid()\n",
       ")"
      ]
     },
     "execution_count": 32,
     "metadata": {},
     "output_type": "execute_result"
    }
   ],
   "source": [
    "myCNN"
   ]
  },
  {
   "cell_type": "markdown",
   "metadata": {},
   "source": [
    "### 5.3 Train"
   ]
  },
  {
   "cell_type": "code",
   "execution_count": 33,
   "metadata": {},
   "outputs": [
    {
     "ename": "RuntimeError",
     "evalue": "size mismatch, m1: [64 x 55], m2: [120 x 1] at /pytorch/aten/src/THC/generic/THCTensorMathBlas.cu:283",
     "output_type": "error",
     "traceback": [
      "\u001b[0;31m---------------------------------------------------------------------------\u001b[0m",
      "\u001b[0;31mRuntimeError\u001b[0m                              Traceback (most recent call last)",
      "\u001b[0;32m<ipython-input-33-4cfe0e3d4912>\u001b[0m in \u001b[0;36m<module>\u001b[0;34m\u001b[0m\n\u001b[1;32m      6\u001b[0m \u001b[0;34m\u001b[0m\u001b[0m\n\u001b[1;32m      7\u001b[0m         \u001b[0moptimizer\u001b[0m\u001b[0;34m.\u001b[0m\u001b[0mzero_grad\u001b[0m\u001b[0;34m(\u001b[0m\u001b[0;34m)\u001b[0m\u001b[0;34m\u001b[0m\u001b[0;34m\u001b[0m\u001b[0m\n\u001b[0;32m----> 8\u001b[0;31m         \u001b[0my_hat\u001b[0m \u001b[0;34m=\u001b[0m \u001b[0mmyCNN\u001b[0m\u001b[0;34m(\u001b[0m\u001b[0mbatch_X\u001b[0m\u001b[0;34m)\u001b[0m\u001b[0;34m\u001b[0m\u001b[0;34m\u001b[0m\u001b[0m\n\u001b[0m\u001b[1;32m      9\u001b[0m         \u001b[0mloss\u001b[0m \u001b[0;34m=\u001b[0m \u001b[0mBCELoss\u001b[0m\u001b[0;34m(\u001b[0m\u001b[0my_hat\u001b[0m\u001b[0;34m,\u001b[0m \u001b[0mbatch_y\u001b[0m\u001b[0;34m)\u001b[0m\u001b[0;34m\u001b[0m\u001b[0;34m\u001b[0m\u001b[0m\n\u001b[1;32m     10\u001b[0m         \u001b[0mloss\u001b[0m\u001b[0;34m.\u001b[0m\u001b[0mbackward\u001b[0m\u001b[0;34m(\u001b[0m\u001b[0;34m)\u001b[0m\u001b[0;34m\u001b[0m\u001b[0;34m\u001b[0m\u001b[0m\n",
      "\u001b[0;32m~/miniconda3/lib/python3.7/site-packages/torch/nn/modules/module.py\u001b[0m in \u001b[0;36m__call__\u001b[0;34m(self, *input, **kwargs)\u001b[0m\n\u001b[1;32m    548\u001b[0m             \u001b[0mresult\u001b[0m \u001b[0;34m=\u001b[0m \u001b[0mself\u001b[0m\u001b[0;34m.\u001b[0m\u001b[0m_slow_forward\u001b[0m\u001b[0;34m(\u001b[0m\u001b[0;34m*\u001b[0m\u001b[0minput\u001b[0m\u001b[0;34m,\u001b[0m \u001b[0;34m**\u001b[0m\u001b[0mkwargs\u001b[0m\u001b[0;34m)\u001b[0m\u001b[0;34m\u001b[0m\u001b[0;34m\u001b[0m\u001b[0m\n\u001b[1;32m    549\u001b[0m         \u001b[0;32melse\u001b[0m\u001b[0;34m:\u001b[0m\u001b[0;34m\u001b[0m\u001b[0;34m\u001b[0m\u001b[0m\n\u001b[0;32m--> 550\u001b[0;31m             \u001b[0mresult\u001b[0m \u001b[0;34m=\u001b[0m \u001b[0mself\u001b[0m\u001b[0;34m.\u001b[0m\u001b[0mforward\u001b[0m\u001b[0;34m(\u001b[0m\u001b[0;34m*\u001b[0m\u001b[0minput\u001b[0m\u001b[0;34m,\u001b[0m \u001b[0;34m**\u001b[0m\u001b[0mkwargs\u001b[0m\u001b[0;34m)\u001b[0m\u001b[0;34m\u001b[0m\u001b[0;34m\u001b[0m\u001b[0m\n\u001b[0m\u001b[1;32m    551\u001b[0m         \u001b[0;32mfor\u001b[0m \u001b[0mhook\u001b[0m \u001b[0;32min\u001b[0m \u001b[0mself\u001b[0m\u001b[0;34m.\u001b[0m\u001b[0m_forward_hooks\u001b[0m\u001b[0;34m.\u001b[0m\u001b[0mvalues\u001b[0m\u001b[0;34m(\u001b[0m\u001b[0;34m)\u001b[0m\u001b[0;34m:\u001b[0m\u001b[0;34m\u001b[0m\u001b[0;34m\u001b[0m\u001b[0m\n\u001b[1;32m    552\u001b[0m             \u001b[0mhook_result\u001b[0m \u001b[0;34m=\u001b[0m \u001b[0mhook\u001b[0m\u001b[0;34m(\u001b[0m\u001b[0mself\u001b[0m\u001b[0;34m,\u001b[0m \u001b[0minput\u001b[0m\u001b[0;34m,\u001b[0m \u001b[0mresult\u001b[0m\u001b[0;34m)\u001b[0m\u001b[0;34m\u001b[0m\u001b[0;34m\u001b[0m\u001b[0m\n",
      "\u001b[0;32m<ipython-input-25-d983cb0ec465>\u001b[0m in \u001b[0;36mforward\u001b[0;34m(self, x)\u001b[0m\n\u001b[1;32m     18\u001b[0m         \u001b[0mx\u001b[0m \u001b[0;34m=\u001b[0m \u001b[0mself\u001b[0m\u001b[0;34m.\u001b[0m\u001b[0mmodel\u001b[0m\u001b[0;34m(\u001b[0m\u001b[0mx\u001b[0m\u001b[0;34m)\u001b[0m\u001b[0;34m\u001b[0m\u001b[0;34m\u001b[0m\u001b[0m\n\u001b[1;32m     19\u001b[0m         \u001b[0mx\u001b[0m \u001b[0;34m=\u001b[0m \u001b[0mx\u001b[0m\u001b[0;34m.\u001b[0m\u001b[0mview\u001b[0m\u001b[0;34m(\u001b[0m\u001b[0mbsz\u001b[0m\u001b[0;34m,\u001b[0m \u001b[0;34m-\u001b[0m\u001b[0;36m1\u001b[0m\u001b[0;34m)\u001b[0m\u001b[0;34m\u001b[0m\u001b[0;34m\u001b[0m\u001b[0m\n\u001b[0;32m---> 20\u001b[0;31m         \u001b[0mx\u001b[0m \u001b[0;34m=\u001b[0m \u001b[0mself\u001b[0m\u001b[0;34m.\u001b[0m\u001b[0mfc1\u001b[0m\u001b[0;34m(\u001b[0m\u001b[0mx\u001b[0m\u001b[0;34m)\u001b[0m\u001b[0;34m\u001b[0m\u001b[0;34m\u001b[0m\u001b[0m\n\u001b[0m\u001b[1;32m     21\u001b[0m \u001b[0;31m#         x = self.act1(x)\u001b[0m\u001b[0;34m\u001b[0m\u001b[0;34m\u001b[0m\u001b[0;34m\u001b[0m\u001b[0m\n\u001b[1;32m     22\u001b[0m \u001b[0;31m#         x = self.fc2(x)\u001b[0m\u001b[0;34m\u001b[0m\u001b[0;34m\u001b[0m\u001b[0;34m\u001b[0m\u001b[0m\n",
      "\u001b[0;32m~/miniconda3/lib/python3.7/site-packages/torch/nn/modules/module.py\u001b[0m in \u001b[0;36m__call__\u001b[0;34m(self, *input, **kwargs)\u001b[0m\n\u001b[1;32m    548\u001b[0m             \u001b[0mresult\u001b[0m \u001b[0;34m=\u001b[0m \u001b[0mself\u001b[0m\u001b[0;34m.\u001b[0m\u001b[0m_slow_forward\u001b[0m\u001b[0;34m(\u001b[0m\u001b[0;34m*\u001b[0m\u001b[0minput\u001b[0m\u001b[0;34m,\u001b[0m \u001b[0;34m**\u001b[0m\u001b[0mkwargs\u001b[0m\u001b[0;34m)\u001b[0m\u001b[0;34m\u001b[0m\u001b[0;34m\u001b[0m\u001b[0m\n\u001b[1;32m    549\u001b[0m         \u001b[0;32melse\u001b[0m\u001b[0;34m:\u001b[0m\u001b[0;34m\u001b[0m\u001b[0;34m\u001b[0m\u001b[0m\n\u001b[0;32m--> 550\u001b[0;31m             \u001b[0mresult\u001b[0m \u001b[0;34m=\u001b[0m \u001b[0mself\u001b[0m\u001b[0;34m.\u001b[0m\u001b[0mforward\u001b[0m\u001b[0;34m(\u001b[0m\u001b[0;34m*\u001b[0m\u001b[0minput\u001b[0m\u001b[0;34m,\u001b[0m \u001b[0;34m**\u001b[0m\u001b[0mkwargs\u001b[0m\u001b[0;34m)\u001b[0m\u001b[0;34m\u001b[0m\u001b[0;34m\u001b[0m\u001b[0m\n\u001b[0m\u001b[1;32m    551\u001b[0m         \u001b[0;32mfor\u001b[0m \u001b[0mhook\u001b[0m \u001b[0;32min\u001b[0m \u001b[0mself\u001b[0m\u001b[0;34m.\u001b[0m\u001b[0m_forward_hooks\u001b[0m\u001b[0;34m.\u001b[0m\u001b[0mvalues\u001b[0m\u001b[0;34m(\u001b[0m\u001b[0;34m)\u001b[0m\u001b[0;34m:\u001b[0m\u001b[0;34m\u001b[0m\u001b[0;34m\u001b[0m\u001b[0m\n\u001b[1;32m    552\u001b[0m             \u001b[0mhook_result\u001b[0m \u001b[0;34m=\u001b[0m \u001b[0mhook\u001b[0m\u001b[0;34m(\u001b[0m\u001b[0mself\u001b[0m\u001b[0;34m,\u001b[0m \u001b[0minput\u001b[0m\u001b[0;34m,\u001b[0m \u001b[0mresult\u001b[0m\u001b[0;34m)\u001b[0m\u001b[0;34m\u001b[0m\u001b[0;34m\u001b[0m\u001b[0m\n",
      "\u001b[0;32m~/miniconda3/lib/python3.7/site-packages/torch/nn/modules/linear.py\u001b[0m in \u001b[0;36mforward\u001b[0;34m(self, input)\u001b[0m\n\u001b[1;32m     85\u001b[0m \u001b[0;34m\u001b[0m\u001b[0m\n\u001b[1;32m     86\u001b[0m     \u001b[0;32mdef\u001b[0m \u001b[0mforward\u001b[0m\u001b[0;34m(\u001b[0m\u001b[0mself\u001b[0m\u001b[0;34m,\u001b[0m \u001b[0minput\u001b[0m\u001b[0;34m)\u001b[0m\u001b[0;34m:\u001b[0m\u001b[0;34m\u001b[0m\u001b[0;34m\u001b[0m\u001b[0m\n\u001b[0;32m---> 87\u001b[0;31m         \u001b[0;32mreturn\u001b[0m \u001b[0mF\u001b[0m\u001b[0;34m.\u001b[0m\u001b[0mlinear\u001b[0m\u001b[0;34m(\u001b[0m\u001b[0minput\u001b[0m\u001b[0;34m,\u001b[0m \u001b[0mself\u001b[0m\u001b[0;34m.\u001b[0m\u001b[0mweight\u001b[0m\u001b[0;34m,\u001b[0m \u001b[0mself\u001b[0m\u001b[0;34m.\u001b[0m\u001b[0mbias\u001b[0m\u001b[0;34m)\u001b[0m\u001b[0;34m\u001b[0m\u001b[0;34m\u001b[0m\u001b[0m\n\u001b[0m\u001b[1;32m     88\u001b[0m \u001b[0;34m\u001b[0m\u001b[0m\n\u001b[1;32m     89\u001b[0m     \u001b[0;32mdef\u001b[0m \u001b[0mextra_repr\u001b[0m\u001b[0;34m(\u001b[0m\u001b[0mself\u001b[0m\u001b[0;34m)\u001b[0m\u001b[0;34m:\u001b[0m\u001b[0;34m\u001b[0m\u001b[0;34m\u001b[0m\u001b[0m\n",
      "\u001b[0;32m~/miniconda3/lib/python3.7/site-packages/torch/nn/functional.py\u001b[0m in \u001b[0;36mlinear\u001b[0;34m(input, weight, bias)\u001b[0m\n\u001b[1;32m   1608\u001b[0m     \u001b[0;32mif\u001b[0m \u001b[0minput\u001b[0m\u001b[0;34m.\u001b[0m\u001b[0mdim\u001b[0m\u001b[0;34m(\u001b[0m\u001b[0;34m)\u001b[0m \u001b[0;34m==\u001b[0m \u001b[0;36m2\u001b[0m \u001b[0;32mand\u001b[0m \u001b[0mbias\u001b[0m \u001b[0;32mis\u001b[0m \u001b[0;32mnot\u001b[0m \u001b[0;32mNone\u001b[0m\u001b[0;34m:\u001b[0m\u001b[0;34m\u001b[0m\u001b[0;34m\u001b[0m\u001b[0m\n\u001b[1;32m   1609\u001b[0m         \u001b[0;31m# fused op is marginally faster\u001b[0m\u001b[0;34m\u001b[0m\u001b[0;34m\u001b[0m\u001b[0;34m\u001b[0m\u001b[0m\n\u001b[0;32m-> 1610\u001b[0;31m         \u001b[0mret\u001b[0m \u001b[0;34m=\u001b[0m \u001b[0mtorch\u001b[0m\u001b[0;34m.\u001b[0m\u001b[0maddmm\u001b[0m\u001b[0;34m(\u001b[0m\u001b[0mbias\u001b[0m\u001b[0;34m,\u001b[0m \u001b[0minput\u001b[0m\u001b[0;34m,\u001b[0m \u001b[0mweight\u001b[0m\u001b[0;34m.\u001b[0m\u001b[0mt\u001b[0m\u001b[0;34m(\u001b[0m\u001b[0;34m)\u001b[0m\u001b[0;34m)\u001b[0m\u001b[0;34m\u001b[0m\u001b[0;34m\u001b[0m\u001b[0m\n\u001b[0m\u001b[1;32m   1611\u001b[0m     \u001b[0;32melse\u001b[0m\u001b[0;34m:\u001b[0m\u001b[0;34m\u001b[0m\u001b[0;34m\u001b[0m\u001b[0m\n\u001b[1;32m   1612\u001b[0m         \u001b[0moutput\u001b[0m \u001b[0;34m=\u001b[0m \u001b[0minput\u001b[0m\u001b[0;34m.\u001b[0m\u001b[0mmatmul\u001b[0m\u001b[0;34m(\u001b[0m\u001b[0mweight\u001b[0m\u001b[0;34m.\u001b[0m\u001b[0mt\u001b[0m\u001b[0;34m(\u001b[0m\u001b[0;34m)\u001b[0m\u001b[0;34m)\u001b[0m\u001b[0;34m\u001b[0m\u001b[0;34m\u001b[0m\u001b[0m\n",
      "\u001b[0;31mRuntimeError\u001b[0m: size mismatch, m1: [64 x 55], m2: [120 x 1] at /pytorch/aten/src/THC/generic/THCTensorMathBlas.cu:283"
     ]
    }
   ],
   "source": [
    "epoch = 10\n",
    "loss_value = 0\n",
    "\n",
    "for e in range(epoch):\n",
    "    for idx, (batch_X, batch_y) in enumerate(train_loader):\n",
    "\n",
    "        optimizer.zero_grad()\n",
    "        y_hat = myCNN(batch_X)\n",
    "        loss = BCELoss(y_hat, batch_y)\n",
    "        loss.backward()\n",
    "        optimizer.step()\n",
    "\n",
    "        loss_value += loss.item()\n",
    "        if idx > 0 and not idx % 500:\n",
    "            print(f'epoch: {e}/{epoch}, steps: {idx}, current_loss: {loss.item()}, loss: {loss_value / 500}.')\n",
    "            loss_value = 0\n",
    "    \n",
    "    loss_value = 0\n",
    "\n",
    "print('Finish training.')"
   ]
  },
  {
   "cell_type": "code",
   "execution_count": null,
   "metadata": {},
   "outputs": [],
   "source": [
    "pred_prob = []\n",
    "labels = []\n",
    "\n",
    "myCNN.eval()\n",
    "with torch.no_grad():\n",
    "    for input_id, label in train_loader:\n",
    "        # True labels\n",
    "        labels.append(label.squeeze())\n",
    "        # Predict probability\n",
    "        y_prob = myCNN(input_id)\n",
    "        pred_prob.append(y_prob)\n",
    "        \n",
    "labels = torch.cat(labels)\n",
    "pred_prob = torch.cat(pred_prob)\n",
    "pred_labels = 1 * (pred_prob > 0.5)\n",
    "\n",
    "labels = labels.cpu().data.numpy()\n",
    "pred_labels = pred_labels.cpu().data.numpy()\n",
    "pred_prob = pred_prob.cpu().data.numpy()"
   ]
  },
  {
   "cell_type": "code",
   "execution_count": null,
   "metadata": {},
   "outputs": [],
   "source": [
    "print(f'Training accuracy: {accuracy_score(labels, pred_labels)}.')\n",
    "\n",
    "confusion_matrix(labels, pred_labels)"
   ]
  },
  {
   "cell_type": "code",
   "execution_count": null,
   "metadata": {},
   "outputs": [],
   "source": [
    "ROC(labels, pred_prob)"
   ]
  },
  {
   "cell_type": "code",
   "execution_count": null,
   "metadata": {},
   "outputs": [],
   "source": [
    "pred_prob = []\n",
    "labels = []\n",
    "\n",
    "myCNN.eval()\n",
    "with torch.no_grad():\n",
    "    for input_id, label in test_loader:\n",
    "        # True labels\n",
    "        labels.append(label.squeeze())\n",
    "        # Predict probability\n",
    "        y_prob = myCNN(input_id)\n",
    "        pred_prob.append(y_prob)\n",
    "        \n",
    "labels = torch.cat(labels)\n",
    "pred_prob = torch.cat(pred_prob)\n",
    "pred_labels = 1 * (pred_prob > 0.5)\n",
    "\n",
    "labels = labels.cpu().data.numpy()\n",
    "pred_labels = pred_labels.cpu().data.numpy()\n",
    "pred_prob = pred_prob.cpu().data.numpy()\n"
   ]
  },
  {
   "cell_type": "code",
   "execution_count": null,
   "metadata": {},
   "outputs": [],
   "source": [
    "print(f'Training accuracy: {accuracy_score(labels, pred_labels)}.')\n",
    "\n",
    "confusion_matrix(labels, pred_labels)"
   ]
  },
  {
   "cell_type": "code",
   "execution_count": null,
   "metadata": {},
   "outputs": [],
   "source": [
    "ROC(labels, pred_prob)"
   ]
  },
  {
   "cell_type": "code",
   "execution_count": null,
   "metadata": {},
   "outputs": [],
   "source": []
  },
  {
   "cell_type": "markdown",
   "metadata": {},
   "source": [
    "## 6. Sequential Monte Carlo"
   ]
  },
  {
   "cell_type": "code",
   "execution_count": null,
   "metadata": {},
   "outputs": [],
   "source": []
  }
 ],
 "metadata": {
  "kernelspec": {
   "display_name": "Python 3",
   "language": "python",
   "name": "python3"
  },
  "language_info": {
   "codemirror_mode": {
    "name": "ipython",
    "version": 3
   },
   "file_extension": ".py",
   "mimetype": "text/x-python",
   "name": "python",
   "nbconvert_exporter": "python",
   "pygments_lexer": "ipython3",
   "version": "3.7.6"
  }
 },
 "nbformat": 4,
 "nbformat_minor": 4
}
