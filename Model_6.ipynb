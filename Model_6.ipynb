{
 "cells": [
  {
   "cell_type": "code",
   "execution_count": 1,
   "metadata": {},
   "outputs": [],
   "source": [
    "import torch\n",
    "import torch.nn.functional as F\n",
    "from torch.distributions import Categorical\n",
    "import numpy as np\n",
    "import math\n",
    "from sklearn.linear_model import LogisticRegression\n",
    "from sklearn.metrics import accuracy_score, roc_auc_score, roc_curve, auc\n",
    "from matplotlib.pylab import plt\n",
    "from torch.distributions.normal import Normal\n"
   ]
  },
  {
   "cell_type": "code",
   "execution_count": 2,
   "metadata": {},
   "outputs": [],
   "source": [
    "def sample_xt(zt):\n",
    "    xt_mode = (zt + xdim / 2).clamp(0, xdim - 1).floor().long()\n",
    "    xt_params = F.one_hot(xt_mode, num_classes=xdim) * alpha + (1 - alpha) / xdim\n",
    "    xt_rv = Categorical(xt_params)\n",
    "    xt_sample = xt_rv.sample()\n",
    "    xt_onehot_sample = F.one_hot(xt_sample, num_classes = xdim)\n",
    "    xt_ll = xt_rv.log_prob(xt_sample)\n",
    "    return xt_sample, xt_onehot_sample, xt_ll\n"
   ]
  },
  {
   "cell_type": "code",
   "execution_count": 3,
   "metadata": {},
   "outputs": [],
   "source": [
    "def ROC(y_test, y_prob):\n",
    "    false_positive_rate, true_positive_rate, threshold = roc_curve(y_test, y_prob)\n",
    "    roc_auc = auc(false_positive_rate, true_positive_rate)\n",
    "    plt.figure(figsize = (10,10))\n",
    "    plt.title('Receiver Operating Characteristic')\n",
    "    plt.plot(false_positive_rate, true_positive_rate, color = 'red', label = 'AUC = %0.2f' % roc_auc)\n",
    "    plt.legend(loc = 'lower right')\n",
    "    plt.plot([0, 1], [0, 1], linestyle = '--')\n",
    "    plt.axis('tight')\n",
    "    plt.ylabel('True Positive Rate')\n",
    "    plt.xlabel('False Positive Rate')"
   ]
  },
  {
   "cell_type": "markdown",
   "metadata": {},
   "source": [
    "## 1. True Data Synthesis\n",
    "\n",
    "$\\ Y_i $ ~ $Bernoulli(1/2)$\\\n",
    "$\\ Z_{it}|Z_{i,t-1}, Y_i$ ~ $\\ N$($0.9 Z_{i,t-1}$,$50.1^{Y_i}$)"
   ]
  },
  {
   "cell_type": "code",
   "execution_count": 4,
   "metadata": {},
   "outputs": [],
   "source": [
    "#if torch.cuda.is_available():  \n",
    "#    dev = \"cuda:3\" \n",
    "#else:  \n",
    "#    dev = \"cpu\" \n",
    "    \n",
    "#device = torch.device(dev)  "
   ]
  },
  {
   "cell_type": "code",
   "execution_count": 5,
   "metadata": {},
   "outputs": [
    {
     "name": "stdout",
     "output_type": "stream",
     "text": [
      "Here is a sample of x_t:  tensor([62, 52, 36,  ..., 56, 43, 52])\n",
      "Here is a onehot sample of x_t:  tensor([[0, 0, 0,  ..., 0, 0, 0],\n",
      "        [0, 0, 0,  ..., 0, 0, 0],\n",
      "        [0, 0, 0,  ..., 0, 0, 0],\n",
      "        ...,\n",
      "        [0, 0, 0,  ..., 0, 0, 0],\n",
      "        [0, 0, 0,  ..., 0, 0, 0],\n",
      "        [0, 0, 0,  ..., 0, 0, 0]])\n"
     ]
    }
   ],
   "source": [
    "# model parameters\n",
    "alpha = 0.99\n",
    "\n",
    "# structural constants\n",
    "xdim = 100\n",
    "\n",
    "if __name__ == \"__main__\":\n",
    "    # sample z_t ~ Normal(0, 10)\n",
    "    zt = torch.randn(2000) * 10\n",
    "\n",
    "    # sample x_t | z_t\n",
    "    xt_sample, xt_onehot_sample, xt_ll = sample_xt(zt)\n",
    "\n",
    "    # report the result\n",
    "    print(\"Here is a sample of x_t: \", xt_sample)\n",
    "    print(\"Here is a onehot sample of x_t: \", xt_onehot_sample)"
   ]
  },
  {
   "cell_type": "code",
   "execution_count": 6,
   "metadata": {},
   "outputs": [],
   "source": [
    "# model parameters\n",
    "alpha = 0.99\n",
    "\n",
    "# structural constants\n",
    "xdim = 100\n",
    "N = 2000  # number of patients\n",
    "T = 10  # total time steps\n",
    "\n",
    "# Yi\n",
    "success_prob = 0.5\n",
    "Y = torch.distributions.Bernoulli(success_prob).sample((N,))\n",
    "\n",
    "# random variables\n",
    "Omega = torch.tensor((1., 50.1))\n",
    "Z_true = torch.zeros((N, T)) # latent \n",
    "X = torch.zeros((N, T)) # observed\n",
    "X_onehot = torch.zeros((N, T, xdim))\n",
    "\n",
    "for t in range(0,T):\n",
    "    # Zit | Zi,t-1, Yi\n",
    "    meanz = (0.9 * Z_true[:, t - 1]) if t != 0 else torch.zeros((N,))\n",
    "    zvar_true = Omega[0] * (1 - Y) + Omega[1] * Y\n",
    "    Zt = Normal(meanz, zvar_true.sqrt())\n",
    "    Z_true[:, t] = Zt.sample()\n",
    "    \n",
    "    # Xit | Zit\n",
    "    X[:,t], X_onehot[:, t], x_ll  = sample_xt(Z_true[:, t])\n"
   ]
  },
  {
   "cell_type": "code",
   "execution_count": 7,
   "metadata": {},
   "outputs": [
    {
     "data": {
      "text/plain": [
       "torch.Size([2000, 1])"
      ]
     },
     "execution_count": 7,
     "metadata": {},
     "output_type": "execute_result"
    }
   ],
   "source": [
    "Z_true[:,1].reshape(-1,1).shape"
   ]
  },
  {
   "cell_type": "markdown",
   "metadata": {},
   "source": [
    "## 2. Train-Test Split"
   ]
  },
  {
   "cell_type": "code",
   "execution_count": 8,
   "metadata": {},
   "outputs": [],
   "source": [
    "idx = torch.randperm(N)\n",
    "train_idx = idx[:math.floor(0.8*N)]\n",
    "test_idx = idx[math.floor(0.8*N):]\n",
    "X_train = X_onehot[train_idx,:,:]\n",
    "X_test = X_onehot[test_idx,:,:]\n",
    "xd1, xd2, xd3 = X_train.shape\n",
    "X_train_lr = X_train.view(xd1, xd2*xd3)\n",
    "xd1, xd2, xd3 = X_test.shape\n",
    "X_test_lr = X_test.view(xd1, xd2*xd3)"
   ]
  },
  {
   "cell_type": "code",
   "execution_count": 9,
   "metadata": {},
   "outputs": [],
   "source": [
    "y_train = Y[train_idx]\n",
    "y_test = Y[test_idx]"
   ]
  },
  {
   "cell_type": "markdown",
   "metadata": {},
   "source": [
    "## 3. Logistic Regression"
   ]
  },
  {
   "cell_type": "code",
   "execution_count": 10,
   "metadata": {},
   "outputs": [],
   "source": [
    "lr_accuracy = torch.zeros(T)\n",
    "\n",
    "clf = LogisticRegression().fit(X_train_lr, y_train)\n",
    "y_prob_lr = clf.predict_proba(X_test_lr)[:,1]\n",
    "y_pred_lr = 1*(y_prob_lr > 0.5)\n",
    "\n",
    "lr_accuracy = accuracy_score(y_test,y_pred_lr)"
   ]
  },
  {
   "cell_type": "code",
   "execution_count": 11,
   "metadata": {},
   "outputs": [
    {
     "data": {
      "image/png": "[encoded data removed]",
      "text/plain": [
       "<Figure size 720x720 with 1 Axes>"
      ]
     },
     "metadata": {
      "needs_background": "light"
     },
     "output_type": "display_data"
    }
   ],
   "source": [
    "ROC(y_test, y_prob_lr)"
   ]
  },
  {
   "cell_type": "markdown",
   "metadata": {},
   "source": [
    "## 4. Inference\n",
    "\n",
    "$\\ Z_{it}^{(k)}|Z_{i,t-1}^{(k)}, Y_i$ ~ $\\ N$($0.9 Z_{i,t-1}^{(k)}$,$50.1^{Y_i}$)\\\n",
    "\n",
    "$P(X|Y = 1) = E_{P(Z|Y = 1)} [P(X|Z)] \\approx \\frac{1}{K} \\sum_{k=1}^{K} P(X|Z^{(k)}),  Z^{(k)} \\sim P(Z^{(k)}|Y = 1)$\\\n",
    "$P(X|Y = 0) = E_{P(Z|Y = 0)} [P(X|Z)] \\approx \\frac{1}{K} \\sum_{k=1}^{K} P(X|Z^{(k)}),  Z^{(k)} \\sim P(Z^{(k)}|Y = 0)$\n",
    "\n",
    "$P(Y = 1 |X) = \\frac{P(X|Y = 1)P(Y=1)}{P(X|Y = 1)P(Y=1) + P(X|Y = 0)P(Y=0)}$"
   ]
  },
  {
   "cell_type": "code",
   "execution_count": 12,
   "metadata": {},
   "outputs": [
    {
     "ename": "IndentationError",
     "evalue": "unexpected indent (<ipython-input-12-9b3ddbf531e6>, line 18)",
     "output_type": "error",
     "traceback": [
      "\u001b[0;36m  File \u001b[0;32m\"<ipython-input-12-9b3ddbf531e6>\"\u001b[0;36m, line \u001b[0;32m18\u001b[0m\n\u001b[0;31m    Psi_z = Z[:, :, t].view(K, N, 1) * Psi.view(1, 1, xdim)\u001b[0m\n\u001b[0m    ^\u001b[0m\n\u001b[0;31mIndentationError\u001b[0m\u001b[0;31m:\u001b[0m unexpected indent\n"
     ]
    }
   ],
   "source": [
    "K = 1000 # number of simulations\n",
    "\n",
    "Z = torch.zeros((K, N, T)) \n",
    "logPX_Z = torch.zeros((2, K, N, T))\n",
    "\n",
    "logPX_y = torch.zeros((2, K, N, T))\n",
    "\n",
    "for t in range(0, T):\n",
    "    for y in range(2):\n",
    "        # Zit | Zi,t-1, y\n",
    "        meanz = (0.9 * Z[:, :, t - 1]) if t != 0 else torch.zeros((K, N))\n",
    "        var_y = Omega[y]\n",
    "        Zt = Normal(meanz, var_y.sqrt())\n",
    "        Z[:, :, t] = Zt.sample()\n",
    "\n",
    "        # Xit | Zit\n",
    "        xt_mode = (Z[:, :, t] + xdim / 2).clamp(0, xdim - 1).floor().long()\n",
    "        xt_params = F.one_hot(xt_mode, num_classes=xdim) * alpha + (1 - alpha) / xdim\n",
    "        xt_rv = Categorical(xt_params)\n",
    "        logPX_y[y, :, :, t] = xt_rv.log_prob(X[:, t])"
   ]
  },
  {
   "cell_type": "code",
   "execution_count": null,
   "metadata": {},
   "outputs": [],
   "source": [
    "ElogPX_1k = torch.logsumexp(logPX_y[1], dim = 0) - np.log(K)\n",
    "ElogPX_1 = torch.mean(ElogPX_1k,dim = 1)\n",
    "\n",
    "ElogPX_0k = torch.logsumexp(logPX_y[0], dim = 0) - np.log(K)\n",
    "ElogPX_0 = torch.mean(ElogPX_0k,dim = 1)"
   ]
  },
  {
   "cell_type": "code",
   "execution_count": null,
   "metadata": {},
   "outputs": [],
   "source": [
    "logPX_Y1 = ElogPX_1 + np.log(success_prob)\n",
    "logPX_Y0 = ElogPX_0 + np.log(1-success_prob)\n",
    "logPY1_X = logPX_Y1 - (logPX_Y1.exp() + logPX_Y0.exp()).log()\n",
    "logPY1_X.exp()\n",
    "Y_pred = 1*(logPY1_X.exp() > 0.5)"
   ]
  },
  {
   "cell_type": "code",
   "execution_count": null,
   "metadata": {},
   "outputs": [],
   "source": [
    "ROC(y_test, logPY1_X.exp()[[test_idx]])"
   ]
  },
  {
   "cell_type": "code",
   "execution_count": null,
   "metadata": {},
   "outputs": [],
   "source": []
  },
  {
   "cell_type": "code",
   "execution_count": null,
   "metadata": {},
   "outputs": [],
   "source": []
  },
  {
   "cell_type": "code",
   "execution_count": null,
   "metadata": {},
   "outputs": [],
   "source": []
  },
  {
   "cell_type": "markdown",
   "metadata": {},
   "source": [
    "## 5. CNN"
   ]
  },
  {
   "cell_type": "code",
   "execution_count": null,
   "metadata": {},
   "outputs": [],
   "source": []
  },
  {
   "cell_type": "code",
   "execution_count": null,
   "metadata": {},
   "outputs": [],
   "source": []
  }
 ],
 "metadata": {
  "kernelspec": {
   "display_name": "Python 3",
   "language": "python",
   "name": "python3"
  },
  "language_info": {
   "codemirror_mode": {
    "name": "ipython",
    "version": 3
   },
   "file_extension": ".py",
   "mimetype": "text/x-python",
   "name": "python",
   "nbconvert_exporter": "python",
   "pygments_lexer": "ipython3",
   "version": "3.7.6"
  }
 },
 "nbformat": 4,
 "nbformat_minor": 4
}
