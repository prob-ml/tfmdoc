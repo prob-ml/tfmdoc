{
 "cells": [
  {
   "cell_type": "code",
   "execution_count": 1,
   "metadata": {},
   "outputs": [],
   "source": [
    "import os\n",
    "import time\n",
    "\n",
    "import numpy as np\n",
    "import torch\n",
    "import pandas as pd\n",
    "import random\n",
    "from torch.distributions.binomial import Binomial\n",
    "from torch.distributions.bernoulli import Bernoulli\n",
    "import torch.nn as nn\n",
    "from torch.utils.data import Dataset, DataLoader \n",
    "from torch.nn.utils import clip_grad_norm_\n",
    "\n",
    "from transformers import DataCollatorForLanguageModeling, BertModel\n",
    "from transformers import Trainer, TrainingArguments\n",
    "from transformers import get_linear_schedule_with_warmup, AdamW\n",
    "\n",
    "from tokens import WordLevelBertTokenizer\n",
    "from vocab import create_vocab\n",
    "from data import CausalBertDataset, MLMDataset\n",
    "from causal_bert import CausalBert"
   ]
  },
  {
   "cell_type": "code",
   "execution_count": 2,
   "metadata": {},
   "outputs": [],
   "source": [
    "os.environ[\"CUDA_DEVICE_ORDER\"] = \"PCI_BUS_ID\"\n",
    "os.environ[\"CUDA_VISIBLE_DEVICES\"] = '7'\n",
    "device = torch.device('cuda' if torch.cuda.is_available() else 'cpu')"
   ]
  },
  {
   "cell_type": "code",
   "execution_count": 3,
   "metadata": {},
   "outputs": [],
   "source": [
    "def true_casual_effect(data_loader, effect='ate', estimation='Q'):\n",
    "    dataset = data_loader.dataset\n",
    "    \n",
    "    Q1 = dataset.treatment * dataset.response + (1 - dataset.treatment) * dataset.pseudo_response\n",
    "    Q1 = Q1.cpu().data.numpy().squeeze()\n",
    "\n",
    "    Q0 = dataset.treatment * dataset.pseudo_response + (1 - dataset.treatment) * dataset.response\n",
    "    Q0 = Q0.cpu().data.numpy().squeeze()\n",
    "\n",
    "    treatment = dataset.treatment.cpu().data.numpy().squeeze()\n",
    "    prop_scores = dataset.prop_score.cpu().data.numpy().squeeze()\n",
    "    \n",
    "    if estimation == 'q':\n",
    "        if effect == 'att':\n",
    "            phi = (treatment * (Q1 - Q0))\n",
    "            return phi.sum() / treatment.sum()\n",
    "        elif effect == 'ate':\n",
    "            return (Q1 - Q0).mean()\n",
    "        \n",
    "    elif estimation == 'plugin':\n",
    "        phi = (prop_scores * (Q1 - Q0)).mean()\n",
    "        if effect == 'att':\n",
    "            return phi / treatment.mean()\n",
    "        elif effect == 'ate': \n",
    "            return phi\n",
    "\n",
    "def est_casual_effect(data_loader, causal_bert, effect='ate', estimation='Q'):\n",
    "    # We use `real_treatment` here to emphasize the estimations use real instead of estimated treatment.\n",
    "    real_response, real_treatment = [], []\n",
    "    prop_scores, Q1, Q0 = [], [], []\n",
    "\n",
    "    causal_bert.eval()\n",
    "    with torch.no_grad():\n",
    "        for idx, (tokens, treatment, response) in enumerate(data_loader):\n",
    "            real_response.append(response.cpu().data.numpy().squeeze())\n",
    "            real_treatment.append(treatment.cpu().data.numpy().squeeze())\n",
    "\n",
    "            prop_score, q1, q0 = causal_bert(tokens)\n",
    "\n",
    "            prop_scores.append(prop_score.cpu().data.numpy().squeeze())\n",
    "            Q1.append(q1.cpu().data.numpy().squeeze())\n",
    "            Q0.append(q0.cpu().data.numpy().squeeze())\n",
    "\n",
    "        real_response = np.concatenate(real_response, axis=0)\n",
    "        real_treatment = np.concatenate(real_treatment, axis=0)\n",
    "\n",
    "        Q1 = np.concatenate(Q1, axis=0)\n",
    "        Q0 = np.concatenate(Q0, axis=0)\n",
    "        prop_scores = np.concatenate(prop_scores, axis=0)\n",
    "    \n",
    "    causal_bert.train()\n",
    "    \n",
    "    if estimation == 'q':\n",
    "        if effect == 'att':\n",
    "            phi = (real_treatment * (Q1 - Q0))\n",
    "            return phi.sum() / real_treatment.sum()            \n",
    "        elif effect == 'ate':\n",
    "            return (Q1 - Q0).mean()\n",
    "        \n",
    "    elif estimation == 'plugin':\n",
    "        phi = (prop_scores * (Q1 - Q0)).mean()\n",
    "        if effect == 'att':\n",
    "            return phi / real_treatment.mean()\n",
    "        elif effect == 'ate':\n",
    "            return phi"
   ]
  },
  {
   "cell_type": "markdown",
   "metadata": {},
   "source": [
    "# Prepare data"
   ]
  },
  {
   "cell_type": "code",
   "execution_count": 4,
   "metadata": {},
   "outputs": [],
   "source": [
    "vocab = create_vocab(merged=True, uni_diag=True)\n",
    "\n",
    "tokenizer = WordLevelBertTokenizer(vocab)\n",
    "\n",
    "alpha = 0.25\n",
    "beta = 5.\n",
    "c = 0.2\n",
    "i = 0."
   ]
  },
  {
   "cell_type": "code",
   "execution_count": 5,
   "metadata": {},
   "outputs": [
    {
     "name": "stdout",
     "output_type": "stream",
     "text": [
      "Load training set in 69.59 sec\n"
     ]
    }
   ],
   "source": [
    "start = time.time()\n",
    "trainset = CausalBertDataset(tokenizer=tokenizer, data_type='merged', is_unidiag=True,\n",
    "                             alpha=alpha, beta=beta, c=c, i=i, \n",
    "                             group=list(range(1)), max_length=512, min_length=10,\n",
    "                             truncate_method='first', device=device)\n",
    "\n",
    "print(f'Load training set in {(time.time() - start):.2f} sec')"
   ]
  },
  {
   "cell_type": "code",
   "execution_count": 6,
   "metadata": {},
   "outputs": [
    {
     "name": "stdout",
     "output_type": "stream",
     "text": [
      "Load training set in 65.34 sec\n"
     ]
    }
   ],
   "source": [
    "start = time.time()\n",
    "testset = CausalBertDataset(tokenizer=tokenizer, data_type='merged', is_unidiag=True,\n",
    "                            alpha=alpha, beta=beta, c=c, i=i, \n",
    "                            group=[9], max_length=512, min_length=10,\n",
    "                            truncate_method='first', device=device)\n",
    "\n",
    "print(f'Load training set in {(time.time() - start):.2f} sec')"
   ]
  },
  {
   "cell_type": "code",
   "execution_count": 7,
   "metadata": {},
   "outputs": [],
   "source": [
    "train_loader = DataLoader(trainset, batch_size=20, drop_last=True, shuffle=True)\n",
    "test_loader = DataLoader(testset, batch_size=20, drop_last=True, shuffle=True)"
   ]
  },
  {
   "cell_type": "markdown",
   "metadata": {},
   "source": [
    "# Create and train a Causal-Bert"
   ]
  },
  {
   "cell_type": "code",
   "execution_count": 8,
   "metadata": {},
   "outputs": [],
   "source": [
    "# trained_bert = '/nfs/turbo/lsa-regier/bert-results/results/behrt/MLM/merged/unidiag/checkpoint-4574003/'\n",
    "trained_bert = '/home/liutianc/emr/bert/results/behrt/MLM/merged/unidiag/checkpoint-6018425/'\n",
    "bert = BertModel.from_pretrained(trained_bert).to(device)\n",
    "causal_bert = CausalBert(bert, learnable_docu_embed=False, hidden_size=64).to(device)\n",
    "\n",
    "epoch = 4\n",
    "epoch_iter = len(train_loader)\n",
    "total_steps = epoch * epoch_iter\n",
    "optimizer = AdamW(causal_bert.parameters(),\n",
    "                  lr = 2e-5, # args.learning_rate - default is 5e-5, our notebook had 2e-5\n",
    "                  eps = 1e-8 # args.adam_epsilon  - default is 1e-8.\n",
    "                )\n",
    "\n",
    "scheduler = get_linear_schedule_with_warmup(optimizer, \n",
    "                                            num_warmup_steps = 0, # Default value in run_glue.py\n",
    "                                            num_training_steps = total_steps)\n",
    "\n",
    "# optimizer = torch.optim.Adam(causal_bert.parameters(), lr=5e-5)\n",
    "\n",
    "q_loss = nn.BCELoss()\n",
    "prop_score_loss = nn.BCELoss()\n",
    "\n",
    "# Please specify the effect and estimation we want to use here.\n",
    "effect = 'ate'\n",
    "estimation = 'Q'\n",
    "\n",
    "effect = effect.lower()\n",
    "estimation = estimation.lower()\n",
    "assert effect in ['att', 'ate'], f'Wrong effect: {effect}...'\n",
    "assert estimation in ['q', 'plugin'], f'Wrong estimation: {estimation}...'"
   ]
  },
  {
   "cell_type": "code",
   "execution_count": 9,
   "metadata": {},
   "outputs": [
    {
     "name": "stdout",
     "output_type": "stream",
     "text": [
      "Real: [effect: ate], [estimation: q], [value: 0.05781]\n",
      "unadjusted: 0.1403\n"
     ]
    }
   ],
   "source": [
    "real_att_q = true_casual_effect(test_loader, effect, estimation)\n",
    "\n",
    "print(f'Real: [effect: {effect}], [estimation: {estimation}], [value: {real_att_q:.5f}]')\n",
    "print(f'unadjusted: {(testset.response[testset.treatment == 1].mean() - testset.response[testset.treatment == 0].mean()).item():.4f}')"
   ]
  },
  {
   "cell_type": "code",
   "execution_count": 10,
   "metadata": {},
   "outputs": [
    {
     "name": "stdout",
     "output_type": "stream",
     "text": [
      "epoch: 1/4, iteration: 2001/9645, time: 620.87 sec, \n",
      "                  g_loss: 23.74402, q1_loss: 1.26039/1996, q0_loss: 2.13843/2001, \n",
      "                  \n",
      "epoch: 1/4, iteration: 4001/9645, time: 1241.92 sec, \n",
      "                  g_loss: 23.43464, q1_loss: 0.65647/1992, q0_loss: 0.71527/2000, \n",
      "                  \n",
      "epoch: 1/4, iteration: 6001/9645, time: 1863.47 sec, \n",
      "                  g_loss: 24.28000, q1_loss: 0.63975/1995, q0_loss: 0.70862/2000, \n",
      "                  \n",
      "epoch: 1/4, iteration: 8001/9645, time: 2484.43 sec, \n",
      "                  g_loss: 23.89250, q1_loss: 0.60803/1997, q0_loss: 0.70035/2000, \n",
      "                  \n",
      "epoch: 1 / 4, \n",
      "          time cost: 3419.90 sec, \n",
      "          Testing set effect: [effect: ate], [estimation: q], [value: 0.00244]\n",
      "epoch: 2/4, iteration: 2001/9645, time: 617.43 sec, \n",
      "                  g_loss: 23.60570, q1_loss: 0.58812/1987, q0_loss: 0.69746/2001, \n",
      "                  \n",
      "epoch: 2/4, iteration: 4001/9645, time: 1237.75 sec, \n",
      "                  g_loss: 23.79250, q1_loss: 0.58115/1989, q0_loss: 0.69462/2000, \n",
      "                  \n",
      "epoch: 2/4, iteration: 6001/9645, time: 1858.27 sec, \n",
      "                  g_loss: 23.90500, q1_loss: 0.58082/1990, q0_loss: 0.69419/2000, \n",
      "                  \n",
      "epoch: 2/4, iteration: 8001/9645, time: 2478.77 sec, \n",
      "                  g_loss: 23.81500, q1_loss: 0.58169/1991, q0_loss: 0.69191/2000, \n",
      "                  \n",
      "epoch: 2 / 4, \n",
      "          time cost: 3413.96 sec, \n",
      "          Testing set effect: [effect: ate], [estimation: q], [value: -0.12307]\n",
      "epoch: 3/4, iteration: 2001/9645, time: 610.59 sec, \n",
      "                  g_loss: 23.77311, q1_loss: 0.57888/1989, q0_loss: 0.68872/2001, \n",
      "                  \n",
      "epoch: 3/4, iteration: 4001/9645, time: 1223.01 sec, \n",
      "                  g_loss: 23.66000, q1_loss: 0.57494/1989, q0_loss: 0.68933/2000, \n",
      "                  \n",
      "epoch: 3/4, iteration: 6001/9645, time: 1843.50 sec, \n",
      "                  g_loss: 23.53250, q1_loss: 0.58101/1991, q0_loss: 0.68782/2000, \n",
      "                  \n",
      "epoch: 3/4, iteration: 8001/9645, time: 2464.13 sec, \n",
      "                  g_loss: 23.76500, q1_loss: 0.57667/1995, q0_loss: 0.68716/2000, \n",
      "                  \n",
      "epoch: 3 / 4, \n",
      "          time cost: 3403.02 sec, \n",
      "          Testing set effect: [effect: ate], [estimation: q], [value: 0.09638]\n",
      "epoch: 4/4, iteration: 2001/9645, time: 610.62 sec, \n",
      "                  g_loss: 23.53823, q1_loss: 0.57535/1992, q0_loss: 0.68521/2001, \n",
      "                  \n",
      "epoch: 4/4, iteration: 4001/9645, time: 1220.55 sec, \n",
      "                  g_loss: 23.98500, q1_loss: 0.57097/1990, q0_loss: 0.68423/2000, \n",
      "                  \n",
      "epoch: 4/4, iteration: 6001/9645, time: 1830.75 sec, \n",
      "                  g_loss: 23.71750, q1_loss: 0.57223/1994, q0_loss: 0.68526/2000, \n",
      "                  \n",
      "epoch: 4/4, iteration: 8001/9645, time: 2441.07 sec, \n",
      "                  g_loss: 23.90750, q1_loss: 0.56474/1996, q0_loss: 0.68178/2000, \n",
      "                  \n",
      "epoch: 4 / 4, \n",
      "          time cost: 3375.35 sec, \n",
      "          Testing set effect: [effect: ate], [estimation: q], [value: 0.04116]\n",
      "Finish training...\n"
     ]
    }
   ],
   "source": [
    "for e in range(1, epoch + 1):\n",
    "    causal_bert.train()\n",
    "    start = time.time()\n",
    "    \n",
    "    rg_loss, rq1_loss, rq0_loss = [], [], []\n",
    "    for idx, (tokens, treatment, response) in enumerate(train_loader):\n",
    "        optimizer.zero_grad()\n",
    "        prop_score, q1, q0 = causal_bert(tokens)\n",
    "        \n",
    "        g_loss  = prop_score_loss(prop_score, treatment)\n",
    "        rg_loss.append(g_loss.item())\n",
    "\n",
    "        g_loss.backward(retain_graph=True)\n",
    "        \n",
    "        if len(response[treatment == 1]) > 0:\n",
    "            q1_loss = q_loss(q1[treatment==1], response[treatment==1])\n",
    "            rq1_loss.append(q1_loss.item())\n",
    "            \n",
    "            q1_loss.backward(retain_graph=True)\n",
    "\n",
    "        if len(response[treatment == 0]) > 0:\n",
    "            q0_loss = q_loss(q0[treatment==0], response[treatment==0])\n",
    "            rq0_loss.append(q0_loss.item())\n",
    "            \n",
    "            q0_loss.backward()\n",
    "        \n",
    "        torch.nn.utils.clip_grad_norm_(causal_bert.parameters(), 1.0)    \n",
    "            \n",
    "        optimizer.step()\n",
    "        scheduler.step()\n",
    "        \n",
    "        if not idx % 2000 and idx > 0: \n",
    "            rg_loss = np.array(rg_loss)\n",
    "            rq1_loss = np.array(rq1_loss)\n",
    "            rq0_loss = np.array(rq0_loss)\n",
    "\n",
    "            print(f'''epoch: {e}/{epoch}, iteration: {idx + 1}/{epoch_iter}, time: {(time.time() - start):.2f} sec, \n",
    "                  g_loss: {(rg_loss.mean()) :.5f}, q1_loss: {(rq1_loss.mean()):.5f}/{rq1_loss.shape[0]}, q0_loss: {(rq0_loss.mean()) :.5f}/{rq0_loss.shape[0]}, \n",
    "                  ''')\n",
    "            rg_loss, rq1_loss, rq0_loss = [], [], []\n",
    "\n",
    "    run_idx = idx\n",
    "    \n",
    "    # Evaluation.\n",
    "    test_est_att_q = est_casual_effect(test_loader, causal_bert, effect, estimation)\n",
    "    \n",
    "    print(f'''epoch: {e} / {epoch}, \n",
    "          time cost: {(time.time() - start):.2f} sec, \n",
    "          Testing set effect: [effect: {effect}], [estimation: {estimation}], [value: {test_est_att_q:.5f}]''')\n",
    "    start = time.time()\n",
    "\n",
    "print('Finish training...')\n",
    "\n",
    "# With only 3 groups to train."
   ]
  },
  {
   "cell_type": "code",
   "execution_count": 12,
   "metadata": {},
   "outputs": [
    {
     "name": "stdout",
     "output_type": "stream",
     "text": [
      "Real: [effect: att], [estimation: q], [value: 0.04828]\n",
      "unadjusted: 0.1403\n",
      "Estimated: [effect: att], [estimation: q], [value: 0.03937]\n"
     ]
    }
   ],
   "source": [
    "effect = 'att'\n",
    "real_att_q = true_casual_effect(test_loader, effect, estimation)\n",
    "est_att_q = est_casual_effect(test_loader, causal_bert, effect, estimation)\n",
    "\n",
    "print(f'Real: [effect: {effect}], [estimation: {estimation}], [value: {real_att_q:.5f}]')\n",
    "print(f'unadjusted: {(testset.response[testset.treatment == 1].mean() - testset.response[testset.treatment == 0].mean()).item():.4f}')\n",
    "print(f'Estimated: [effect: {effect}], [estimation: {estimation}], [value: {est_att_q:.5f}]')"
   ]
  },
  {
   "cell_type": "code",
   "execution_count": 13,
   "metadata": {},
   "outputs": [
    {
     "name": "stdout",
     "output_type": "stream",
     "text": [
      "Real: [effect: ate], [estimation: q], [value: 0.05781]\n",
      "unadjusted: 0.1403\n",
      "Estimated: [effect: ate], [estimation: q], [value: 0.04116]\n"
     ]
    }
   ],
   "source": [
    "effect = 'ate'\n",
    "real_att_q = true_casual_effect(test_loader, effect, estimation)\n",
    "est_att_q = est_casual_effect(test_loader, causal_bert, effect, estimation)\n",
    "\n",
    "print(f'Real: [effect: {effect}], [estimation: {estimation}], [value: {real_att_q:.5f}]')\n",
    "print(f'unadjusted: {(testset.response[testset.treatment == 1].mean() - testset.response[testset.treatment == 0].mean()).item():.4f}')\n",
    "print(f'Estimated: [effect: {effect}], [estimation: {estimation}], [value: {est_att_q:.5f}]')"
   ]
  },
  {
   "cell_type": "code",
   "execution_count": null,
   "metadata": {},
   "outputs": [],
   "source": []
  }
 ],
 "metadata": {
  "kernelspec": {
   "display_name": "Python 3",
   "language": "python",
   "name": "python3"
  },
  "language_info": {
   "codemirror_mode": {
    "name": "ipython",
    "version": 3
   },
   "file_extension": ".py",
   "mimetype": "text/x-python",
   "name": "python",
   "nbconvert_exporter": "python",
   "pygments_lexer": "ipython3",
   "version": "3.7.7"
  }
 },
 "nbformat": 4,
 "nbformat_minor": 4
}
