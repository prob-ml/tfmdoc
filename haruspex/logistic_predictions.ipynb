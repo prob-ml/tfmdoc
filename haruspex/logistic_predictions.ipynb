{
 "cells": [
  {
   "cell_type": "code",
   "execution_count": 16,
   "id": "a264069f",
   "metadata": {},
   "outputs": [],
   "source": [
    "import pandas as pd\n",
    "import numpy as np\n",
    "from sklearn.compose import ColumnTransformer\n",
    "from sklearn.linear_model import LogisticRegressionCV\n",
    "from sklearn.preprocessing import StandardScaler\n",
    "from sklearn.pipeline import make_pipeline\n",
    "from sklearn.utils import shuffle\n",
    "from sklearn.metrics import roc_auc_score, roc_curve\n",
    "from sklearn.metrics import confusion_matrix\n",
    "from sklearn.model_selection import train_test_split\n",
    "import matplotlib.pyplot as plt"
   ]
  },
  {
   "cell_type": "code",
   "execution_count": 3,
   "id": "0bf6462b",
   "metadata": {},
   "outputs": [],
   "source": [
    "SEED = 27"
   ]
  },
  {
   "cell_type": "code",
   "execution_count": 4,
   "id": "9d952876",
   "metadata": {},
   "outputs": [],
   "source": [
    "drop_cols = [\"Patid\", \"status\", \"ratio_last\", \"ratio_max\", \"ratio_min\", \"ratio_mean\", \"Gdr_Cd\"]\n",
    "np.random.seed(SEED)"
   ]
  },
  {
   "cell_type": "code",
   "execution_count": 10,
   "id": "b992a126",
   "metadata": {},
   "outputs": [],
   "source": [
    "def make_logistic_classifier(features):\n",
    "    # convert gender to a binary variable\n",
    "    features[\"is_fem\"] = (features[\"Gdr_Cd\"] ==\"b'F'\").astype(int)\n",
    "    features = shuffle(features)\n",
    "    y = features[\"status\"].to_numpy()\n",
    "    X = features.drop(columns=drop_cols)\n",
    "    categorical = [\"Diabetes\", \"is_fem\"]\n",
    "    # select columns for standard normalization\n",
    "    to_normalize = [e for e in X.columns if e not in categorical]\n",
    "\n",
    "    X_train, X_test, y_train, y_test = train_test_split(X, y, test_size = 0.2)\n",
    "\n",
    "    ct = ColumnTransformer(transformers=[(\"norm\", StandardScaler(), to_normalize),],\n",
    "                      remainder=\"passthrough\")\n",
    "    clf = make_pipeline(ct, LogisticRegressionCV(random_state=SEED, max_iter=300))\n",
    "    return clf, X_train, y_train, X_test, y_test"
   ]
  },
  {
   "cell_type": "markdown",
   "id": "fe4b2723",
   "metadata": {},
   "source": [
    "## I. ALD Prediction"
   ]
  },
  {
   "cell_type": "code",
   "execution_count": 11,
   "id": "7ec3baf4",
   "metadata": {},
   "outputs": [],
   "source": [
    "ald = pd.read_csv(\"/nfs/turbo/lsa-regier/OPTUM2/ald_features.csv\")\n",
    "clf, X_train, y_train, X_test, y_test = make_logistic_classifier(ald)"
   ]
  },
  {
   "cell_type": "code",
   "execution_count": 19,
   "id": "c8175560",
   "metadata": {},
   "outputs": [
    {
     "data": {
      "text/plain": [
       "0    33141\n",
       "1    32941\n",
       "Name: status, dtype: int64"
      ]
     },
     "execution_count": 19,
     "metadata": {},
     "output_type": "execute_result"
    }
   ],
   "source": [
    "ald[\"status\"].value_counts()"
   ]
  },
  {
   "cell_type": "code",
   "execution_count": 12,
   "id": "325a5aa4",
   "metadata": {},
   "outputs": [
    {
     "data": {
      "text/plain": [
       "Pipeline(steps=[('columntransformer',\n",
       "                 ColumnTransformer(remainder='passthrough',\n",
       "                                   transformers=[('norm', StandardScaler(),\n",
       "                                                  ['Yrdob', 'n_obs', 'alt_last',\n",
       "                                                   'alt_max', 'alt_min',\n",
       "                                                   'alt_mean', 'ast_last',\n",
       "                                                   'ast_max', 'ast_min',\n",
       "                                                   'ast_mean', 'plt_last',\n",
       "                                                   'plt_max', 'plt_min',\n",
       "                                                   'plt_mean', 'long_history',\n",
       "                                                   'latest_age'])])),\n",
       "                ('logisticregressioncv',\n",
       "                 LogisticRegressionCV(max_iter=300, random_state=27))])"
      ]
     },
     "execution_count": 12,
     "metadata": {},
     "output_type": "execute_result"
    }
   ],
   "source": [
    "clf.fit(X_train, y_train)"
   ]
  },
  {
   "cell_type": "code",
   "execution_count": 13,
   "id": "9e5cae44",
   "metadata": {},
   "outputs": [
    {
     "data": {
      "text/plain": [
       "(0.7736120306440935, 0.7770295831126579)"
      ]
     },
     "execution_count": 13,
     "metadata": {},
     "output_type": "execute_result"
    }
   ],
   "source": [
    "clf.score(X_train, y_train), clf.score(X_test, y_test)"
   ]
  },
  {
   "cell_type": "code",
   "execution_count": 14,
   "id": "5b4fd4d9",
   "metadata": {},
   "outputs": [
    {
     "name": "stdout",
     "output_type": "stream",
     "text": [
      "0.8521941509703226\n"
     ]
    }
   ],
   "source": [
    "y_hat = clf.predict_proba(X_test)\n",
    "auroc = roc_auc_score(y_test, y_hat[:, 1])\n",
    "print(auroc)"
   ]
  },
  {
   "cell_type": "code",
   "execution_count": 17,
   "id": "e312dae4",
   "metadata": {},
   "outputs": [
    {
     "name": "stdout",
     "output_type": "stream",
     "text": [
      "[[5620 1044]\n",
      " [1903 4650]]\n"
     ]
    }
   ],
   "source": [
    "cm = confusion_matrix(y_test, (y_hat[:, 1] > .5).astype(int), normalize=None)\n",
    "print(cm)"
   ]
  },
  {
   "cell_type": "code",
   "execution_count": 18,
   "id": "f7e66867",
   "metadata": {},
   "outputs": [
    {
     "data": {
      "image/png": "[encoded data removed]",
      "text/plain": [
       "<Figure size 432x288 with 1 Axes>"
      ]
     },
     "metadata": {
      "needs_background": "light"
     },
     "output_type": "display_data"
    }
   ],
   "source": [
    "fpr, tpr, _ = roc_curve(y_test, y_hat[:, 1])\n",
    "plt.plot(fpr, tpr, 'b', label=\"roc curve\")\n",
    "plt.plot([0, 1], [0, 1], 'r--')\n",
    "plt.xlabel(\"False Positive Rate\")\n",
    "plt.ylabel(\"True Positive Rate\")\n",
    "plt.title(f\"ALD Prediction ROC Curve Plot\")\n",
    "plt.show()"
   ]
  },
  {
   "cell_type": "markdown",
   "id": "9ff5a63f",
   "metadata": {},
   "source": [
    "## II. NALD Prediction"
   ]
  },
  {
   "cell_type": "code",
   "execution_count": 9,
   "id": "0c473c03",
   "metadata": {},
   "outputs": [],
   "source": [
    "nald = pd.read_csv(\"/nfs/turbo/lsa-regier/OPTUM2/nald_features.csv\")\n",
    "# extract healthy/cases only\n",
    "nald = nald[nald[\"status\"].isin((0, 1))]\n",
    "# convert gender to binary variable\n",
    "nald[\"is_fem\"] = (nald[\"Gdr_Cd\"] ==\"b'F'\").astype(int)\n",
    "nald = shuffle(nald)\n",
    "y = nald[\"status\"].to_numpy()\n",
    "X = nald.drop(columns=drop_cols)"
   ]
  },
  {
   "cell_type": "code",
   "execution_count": 39,
   "id": "12c52308",
   "metadata": {},
   "outputs": [],
   "source": [
    "categorical = [\"Diabetes\", \"is_fem\"]\n",
    "to_normalize = [e for e in X.columns if e not in categorical]\n",
    "\n",
    "X_train, X_test, y_train, y_test = train_test_split(X, y, test_size = 0.2)\n",
    "\n",
    "ct = ColumnTransformer(transformers=[(\"norm\", StandardScaler(), to_normalize),],\n",
    "                      remainder=\"passthrough\")\n",
    "clf = make_pipeline(ct, LogisticRegressionCV(random_state=SEED, max_iter=300))"
   ]
  },
  {
   "cell_type": "code",
   "execution_count": 40,
   "id": "95d72cc7",
   "metadata": {},
   "outputs": [
    {
     "name": "stderr",
     "output_type": "stream",
     "text": [
      "/home/pchatha/.cache/pypoetry/virtualenvs/tfmdoc-uxlquJcz-py3.8/lib/python3.8/site-packages/sklearn/linear_model/_logistic.py:763: ConvergenceWarning: lbfgs failed to converge (status=1):\n",
      "STOP: TOTAL NO. of ITERATIONS REACHED LIMIT.\n",
      "\n",
      "Increase the number of iterations (max_iter) or scale the data as shown in:\n",
      "    https://scikit-learn.org/stable/modules/preprocessing.html\n",
      "Please also refer to the documentation for alternative solver options:\n",
      "    https://scikit-learn.org/stable/modules/linear_model.html#logistic-regression\n",
      "  n_iter_i = _check_optimize_result(\n",
      "/home/pchatha/.cache/pypoetry/virtualenvs/tfmdoc-uxlquJcz-py3.8/lib/python3.8/site-packages/sklearn/linear_model/_logistic.py:763: ConvergenceWarning: lbfgs failed to converge (status=1):\n",
      "STOP: TOTAL NO. of ITERATIONS REACHED LIMIT.\n",
      "\n",
      "Increase the number of iterations (max_iter) or scale the data as shown in:\n",
      "    https://scikit-learn.org/stable/modules/preprocessing.html\n",
      "Please also refer to the documentation for alternative solver options:\n",
      "    https://scikit-learn.org/stable/modules/linear_model.html#logistic-regression\n",
      "  n_iter_i = _check_optimize_result(\n"
     ]
    },
    {
     "data": {
      "text/plain": [
       "Pipeline(steps=[('columntransformer',\n",
       "                 ColumnTransformer(remainder='passthrough',\n",
       "                                   transformers=[('norm', StandardScaler(),\n",
       "                                                  ['Yrdob', 'n_obs', 'alt_last',\n",
       "                                                   'alt_max', 'alt_min',\n",
       "                                                   'alt_mean', 'ast_last',\n",
       "                                                   'ast_max', 'ast_min',\n",
       "                                                   'ast_mean', 'plt_last',\n",
       "                                                   'plt_max', 'plt_min',\n",
       "                                                   'plt_mean', 'long_history',\n",
       "                                                   'latest_age'])])),\n",
       "                ('logisticregressioncv',\n",
       "                 LogisticRegressionCV(max_iter=300, random_state=27))])"
      ]
     },
     "execution_count": 40,
     "metadata": {},
     "output_type": "execute_result"
    }
   ],
   "source": [
    "clf.fit(X_train, y_train)"
   ]
  },
  {
   "cell_type": "code",
   "execution_count": 41,
   "id": "931526f0",
   "metadata": {},
   "outputs": [
    {
     "data": {
      "text/plain": [
       "(0.8116455696202531, 0.8108336145798177)"
      ]
     },
     "execution_count": 41,
     "metadata": {},
     "output_type": "execute_result"
    }
   ],
   "source": [
    "clf.score(X_train, y_train), clf.score(X_test, y_test)"
   ]
  },
  {
   "cell_type": "code",
   "execution_count": 42,
   "id": "bf1efab8",
   "metadata": {},
   "outputs": [],
   "source": [
    "y_hat = clf.predict_proba(X_test)\n",
    "auroc = roc_auc_score(y_test, y_hat[:, 1])"
   ]
  },
  {
   "cell_type": "code",
   "execution_count": 66,
   "id": "d7694d48",
   "metadata": {},
   "outputs": [],
   "source": [
    "cm = confusion_matrix(y_test, (y_hat[:, 1] > .5).astype(int), normalize=None)"
   ]
  },
  {
   "cell_type": "code",
   "execution_count": 67,
   "id": "7e4b0e79",
   "metadata": {},
   "outputs": [
    {
     "data": {
      "text/plain": [
       "array([[2447,  565],\n",
       "       [ 556, 2358]])"
      ]
     },
     "execution_count": 67,
     "metadata": {},
     "output_type": "execute_result"
    }
   ],
   "source": [
    "cm"
   ]
  },
  {
   "cell_type": "code",
   "execution_count": 43,
   "id": "0c1e98f2",
   "metadata": {},
   "outputs": [
    {
     "data": {
      "text/plain": [
       "0.8917467854502831"
      ]
     },
     "execution_count": 43,
     "metadata": {},
     "output_type": "execute_result"
    }
   ],
   "source": [
    "auroc"
   ]
  },
  {
   "cell_type": "code",
   "execution_count": 54,
   "id": "87af543b",
   "metadata": {},
   "outputs": [
    {
     "data": {
      "image/png": "[encoded data removed]",
      "text/plain": [
       "<Figure size 432x288 with 1 Axes>"
      ]
     },
     "metadata": {
      "needs_background": "light"
     },
     "output_type": "display_data"
    }
   ],
   "source": [
    "fpr, tpr, _ = roc_curve(y_test, y_hat[:, 1])\n",
    "plt.plot(fpr, tpr, 'b', label=\"roc curve\")\n",
    "plt.plot([0, 1], [0, 1], 'r--')\n",
    "plt.xlabel(\"False Positive Rate\")\n",
    "plt.ylabel(\"True Positive Rate\")\n",
    "plt.title(f\"NALD Prediction ROC Curve Plot\")\n",
    "plt.show()"
   ]
  },
  {
   "cell_type": "code",
   "execution_count": null,
   "id": "159ca69e",
   "metadata": {},
   "outputs": [],
   "source": []
  }
 ],
 "metadata": {
  "interpreter": {
   "hash": "04cfd2d9ed865e3c64da66d6cbf6d23077b563a5a50fa9b8efd61f9b2bf7905c"
  },
  "kernelspec": {
   "display_name": "Python 3",
   "language": "python",
   "name": "python3"
  },
  "language_info": {
   "codemirror_mode": {
    "name": "ipython",
    "version": 3
   },
   "file_extension": ".py",
   "mimetype": "text/x-python",
   "name": "python",
   "nbconvert_exporter": "python",
   "pygments_lexer": "ipython3",
   "version": "3.8.5"
  }
 },
 "nbformat": 4,
 "nbformat_minor": 5
}
